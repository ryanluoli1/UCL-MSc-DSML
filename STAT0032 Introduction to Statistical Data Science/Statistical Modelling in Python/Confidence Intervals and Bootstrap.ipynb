{
 "cells": [
  {
   "cell_type": "markdown",
   "metadata": {},
   "source": [
    "# Confidence Intervals and Bootstrap"
   ]
  },
  {
   "cell_type": "code",
   "execution_count": 79,
   "metadata": {},
   "outputs": [],
   "source": [
    "import numpy as np\n",
    "\n",
    "import seaborn as sns\n",
    "import matplotlib.pyplot as plt\n",
    "\n",
    "from scipy import stats"
   ]
  },
  {
   "cell_type": "markdown",
   "metadata": {},
   "source": [
    "## Question 2: Speed of Light\n",
    "\n",
    "Given the **measurements** of the speed of light over **3 days**, find the **confidence intervals** for the speed of light."
   ]
  },
  {
   "cell_type": "code",
   "execution_count": 7,
   "metadata": {},
   "outputs": [
    {
     "name": "stdout",
     "output_type": "stream",
     "text": [
      "There are 66 samples\n",
      "First 5 measurements:  [299811.9059, 299836.059, 299751.5403, 299860.2159, 299739.4701]\n",
      "The sample mean is: 299833.552530303\n",
      "\n",
      "The sample varaince of the observed data is:  16906.692\n",
      "The standard error of the observed data is:  16.005\n",
      "\n",
      "The 95% confidence interval is:  [299802.183, 299864.922]\n"
     ]
    }
   ],
   "source": [
    "data = np.genfromtxt('data/newcomb.dat', names=True, delimiter='', encoding='utf-8')\n",
    "measurements = []\n",
    "for item in data:\n",
    "    measurements.append(item[1])\n",
    "n = len(measurements)\n",
    "x_bar = np.mean(measurements)\n",
    "print(f'There are {n} samples')\n",
    "print('First 5 measurements: ', measurements[:5])\n",
    "print('The sample mean is:', x_bar)\n",
    "print('')\n",
    "\n",
    "squared_sum = 0\n",
    "for x in measurements:\n",
    "    squared_sum += (x-x_bar)**2\n",
    "var = squared_sum / (n-1)\n",
    "print('The sample varaince of the observed data is: ', round(var,3))\n",
    "\n",
    "se = np.sqrt(var/n)\n",
    "#se = stats.sem(measurements)\n",
    "print('The standard error of the observed data is: ', round(se,3))\n",
    "print('')\n",
    "\n",
    "alpha = 0.05\n",
    "z_score = stats.norm.ppf(1-alpha/2, loc=0, scale=1)\n",
    "ci = [x_bar-z_score*se, x_bar+z_score*se]\n",
    "print(f'The {round(100*(1-alpha))}% confidence interval is: ', [round(x,3) for x in ci])"
   ]
  },
  {
   "cell_type": "markdown",
   "metadata": {},
   "source": [
    "**Assumptions**:\n",
    "\n",
    "1. the sample mean is normally distributed\n",
    "2. the sample mean is an unbiased estimator of the population mean\n",
    "3. the population variance is approxied by the sample variance"
   ]
  },
  {
   "cell_type": "markdown",
   "metadata": {},
   "source": [
    "## Question 5: Negative Mean of a Normal"
   ]
  },
  {
   "cell_type": "code",
   "execution_count": 13,
   "metadata": {},
   "outputs": [
    {
     "name": "stdout",
     "output_type": "stream",
     "text": [
      "The sample mean is:  -0.9893\n",
      "The 95% confidence interval is:  [-0.062, 0.062]\n"
     ]
    }
   ],
   "source": [
    "n = 1000\n",
    "X = np.random.normal(loc=-1, scale=1, size=n)\n",
    "\n",
    "X_bar = np.mean(X)\n",
    "mu_hat = np.max([0, X_bar])\n",
    "print('The sample mean is: ', round(X_bar,4))\n",
    "\n",
    "alpha = 0.05\n",
    "z_score = stats.norm.ppf(1-alpha/2, loc=0, scale=1)\n",
    "ci = [mu_hat-z_score/np.sqrt(n), mu_hat+z_score/np.sqrt(n)]\n",
    "print(f'The {round(100*(1-alpha))}% confidence interval is: ', [round(x,3) for x in ci])"
   ]
  },
  {
   "cell_type": "markdown",
   "metadata": {},
   "source": [
    "## Question 6: Test, then Infer"
   ]
  },
  {
   "cell_type": "code",
   "execution_count": 24,
   "metadata": {},
   "outputs": [
    {
     "name": "stdout",
     "output_type": "stream",
     "text": [
      "The sample mean is -0.8704 and the 95% confidence interval is: [-0.932, -0.808]\n",
      "The sample mean is -0.3743 and the 95% confidence interval is: [-0.436, -0.312]\n",
      "The sample mean is -0.5264 and the 95% confidence interval is: [-0.588, -0.464]\n",
      "The sample mean is -0.3932 and the 95% confidence interval is: [-0.455, -0.331]\n",
      "The sample mean is -0.0019 and the 95% confidence interval is: [-0.064, 0.06]\n",
      "The sample mean is -0.7276 and the 95% confidence interval is: [-0.79, -0.666]\n",
      "The sample mean is -0.3359 and the 95% confidence interval is: [-0.398, -0.274]\n",
      "The sample mean is -0.6715 and the 95% confidence interval is: [-0.733, -0.609]\n",
      "The sample mean is -0.5423 and the 95% confidence interval is: [-0.604, -0.48]\n",
      "The sample mean is -0.2048 and the 95% confidence interval is: [-0.267, -0.143]\n",
      "The sample mean is -0.8353 and the 95% confidence interval is: [-0.897, -0.773]\n",
      "\n",
      "The fraction of passed test is:  0.51\n"
     ]
    }
   ],
   "source": [
    "mu_list = np.random.uniform(low=-1, high=1, size=100)\n",
    "\n",
    "n, alpha, count = 1000, 0.05, 0\n",
    "for mu in mu_list:\n",
    "    X = np.random.normal(loc=mu, scale=1, size=n)\n",
    "    X_bar = np.mean(X)\n",
    "    z_score = stats.norm.ppf(1-alpha/2, loc=0, scale=1)\n",
    "    if (X_bar-0)*np.sqrt(n) < z_score:\n",
    "        L = X_bar - z_score / np.sqrt(n)\n",
    "        U = X_bar + z_score / np.sqrt(n)\n",
    "        \n",
    "        if count <= 10:\n",
    "            print(f'The sample mean is {round(X_bar,4)} and the {round(100*(1-alpha))}% confidence interval is: {[round(L,3),round(U,3)]}')\n",
    "        count += 1\n",
    "\n",
    "print()\n",
    "print('The fraction of passed test is: ', round(count/100, 3))"
   ]
  },
  {
   "cell_type": "markdown",
   "metadata": {},
   "source": [
    "## Question 7: Bootstrap Pivotal / Percentile CI"
   ]
  },
  {
   "cell_type": "code",
   "execution_count": 75,
   "metadata": {},
   "outputs": [
    {
     "name": "stdout",
     "output_type": "stream",
     "text": [
      "The theta from the observed data is:  -0.073\n",
      "The bootstrap standard error is:  0.0871\n",
      "The 95% bootstrap normal-based confidence interval is:  [-0.2437, 0.0976]\n",
      "The 95% bootstrap pivotal confidence interval is:  [-1.9176, 0.5633]\n",
      "The 95% bootstrap percentile confidence interval is:  [-0.7094, 1.7715]\n"
     ]
    }
   ],
   "source": [
    "data_bio = np.genfromtxt('data/placebo.dat', names=True, delimiter='', encoding='utf-8')\n",
    "placebo, old_treatment, new_treatment = [], [], []\n",
    "for item in data_bio:\n",
    "    placebo.append(item[1])\n",
    "    old_treatment.append(item[2])\n",
    "    new_treatment.append(item[3])\n",
    "    \n",
    "E_Y = np.mean(new_treatment) - np.mean(old_treatment)\n",
    "E_Z = np.mean(old_treatment) - np.mean(placebo)\n",
    "theta_hat = E_Y / E_Z\n",
    "print('The theta from the observed data is: ', round(theta_hat, 4))\n",
    "\n",
    "B = 1000\n",
    "R, theta = [], []\n",
    "for _ in range(B):\n",
    "    placebo_resample = np.random.choice(placebo, size=len(placebo), replace=True)\n",
    "    old_resample = np.random.choice(old_treatment, size=len(old_treatment), replace=True)\n",
    "    new_resample = np.random.choice(new_treatment, size=len(new_treatment), replace=True)\n",
    "    Y_bar = np.mean(new_resample) - np.mean(old_resample)\n",
    "    Z_bar = np.mean(old_resample) - np.mean(placebo_resample)\n",
    "    theta_i = Y_bar / Z_bar\n",
    "    theta.append(theta_i)\n",
    "    R_i = theta_i - theta_hat\n",
    "    R.append(R_i)\n",
    "\n",
    "alpha = 0.05\n",
    "se = stats.sem(theta)\n",
    "print('The bootstrap standard error is: ', round(se, 4))\n",
    "z_score = stats.norm.ppf(1-alpha/2, loc=0, scale=1)\n",
    "ci_pivotal = [theta_hat-z_score*se, theta_hat+z_score*se]\n",
    "print(f'The {round(100*(1-alpha))}% bootstrap normal-based confidence interval is: ', [round(x,4) for x in ci_pivotal])\n",
    "\n",
    "R = sorted(R)\n",
    "L = theta_hat - R[int(B*(1-alpha/2))]\n",
    "U = theta_hat - R[int(B*(alpha/2))]\n",
    "print(f'The {round(100*(1-alpha))}% bootstrap pivotal confidence interval is: ', [round(L,4),round(U,4)])\n",
    "\n",
    "theta = sorted(theta)\n",
    "ci_percentile = [theta[int(B*(alpha/2))],theta[int(B*(1-alpha/2))]]\n",
    "print(f'The {round(100*(1-alpha))}% bootstrap percentile confidence interval is: ', [round(x,4) for x in ci_percentile])"
   ]
  },
  {
   "cell_type": "markdown",
   "metadata": {},
   "source": [
    "## Question 9: Parametric Bootstrap"
   ]
  },
  {
   "cell_type": "code",
   "execution_count": 106,
   "metadata": {
    "scrolled": false
   },
   "outputs": [
    {
     "name": "stdout",
     "output_type": "stream",
     "text": [
      "θ_hat form the observed data:  0.983798827834334\n",
      "\n",
      "Probability of having the bootstrap theta equal to theta hat: \n",
      "Parametric:  0.0\n",
      "Non-Parametric:  0.635\n"
     ]
    },
    {
     "data": {
      "image/png": "[encoded data removed]",
      "text/plain": [
       "<Figure size 1080x360 with 2 Axes>"
      ]
     },
     "metadata": {
      "needs_background": "light"
     },
     "output_type": "display_data"
    }
   ],
   "source": [
    "n, theta = 50, 1\n",
    "X = np.random.uniform(low=0, high=theta, size=n)\n",
    "theta_hat = np.max(X)\n",
    "print('θ_hat form the observed data: ', theta_hat)\n",
    "print()\n",
    "\n",
    "B = 1000\n",
    "theta_param, theta_nonparam = [], []\n",
    "for _ in range(B):\n",
    "    X_resample_nonparam = np.random.choice(X, size=n, replace=True)\n",
    "    X_resample_param = np.random.uniform(low=0, high=theta_hat, size=n)\n",
    "    theta_param.append(np.max(X_resample_param))\n",
    "    theta_nonparam.append(np.max(X_resample_nonparam))\n",
    "\n",
    "print('Probability of having the bootstrap theta equal to theta hat: ')\n",
    "print('Parametric: ', len([x for x in theta_param if x == theta_hat])/B)\n",
    "print('Non-Parametric: ', len([x for x in theta_nonparam if x == theta_hat])/B)\n",
    "\n",
    "fig, axes = plt.subplots(nrows=1, ncols=2, figsize=(15,5))\n",
    "axes[0].hist(theta_param, bins=50)\n",
    "axes[0].set_title('Parametric Bootstrap')\n",
    "axes[1].hist(theta_nonparam, bins=50)\n",
    "axes[1].set_title('Non-Parametric Bootstrap')\n",
    "plt.show()"
   ]
  },
  {
   "cell_type": "markdown",
   "metadata": {},
   "source": [
    "## Question 10: Studentised Pivotal Interval"
   ]
  },
  {
   "cell_type": "code",
   "execution_count": 121,
   "metadata": {},
   "outputs": [
    {
     "name": "stdout",
     "output_type": "stream",
     "text": [
      "The theta from the observed data is:  -0.073\n",
      "The 95% bootstrap normal-based confidence interval is:  [-0.4571, 0.311]\n",
      "The 95% bootstrap pivotal confidence interval is:  [-2.4081, 0.6107]\n",
      "The 95% bootstrap percentile confidence interval is:  [-0.7568, 2.262]\n",
      "The 95% bootstrap studentised pivotal interval is:  [-4.904, 16.1461]\n"
     ]
    }
   ],
   "source": [
    "data_bio = np.genfromtxt('data/placebo.dat', names=True, delimiter='', encoding='utf-8')\n",
    "placebo, old_treatment, new_treatment = [], [], []\n",
    "for item in data_bio:\n",
    "    placebo.append(item[1])\n",
    "    old_treatment.append(item[2])\n",
    "    new_treatment.append(item[3])\n",
    "    \n",
    "E_Y = np.mean(new_treatment) - np.mean(old_treatment)\n",
    "E_Z = np.mean(old_treatment) - np.mean(placebo)\n",
    "theta_hat = E_Y / E_Z\n",
    "print('The theta from the observed data is: ', round(theta_hat, 4))\n",
    "\n",
    "B = 1000\n",
    "Z_stars, theta_stars = [], []\n",
    "for _ in range(B):\n",
    "    placebo_resample = np.random.choice(placebo, size=len(placebo), replace=True)\n",
    "    old_resample = np.random.choice(old_treatment, size=len(old_treatment), replace=True)\n",
    "    new_resample = np.random.choice(new_treatment, size=len(new_treatment), replace=True)\n",
    "    Y_bar = np.mean(new_resample) - np.mean(old_resample)\n",
    "    Z_bar = np.mean(old_resample) - np.mean(placebo_resample)\n",
    "    if Z_bar == 0:\n",
    "        theta_i = 0\n",
    "    else:\n",
    "        theta_i = Y_bar / Z_bar\n",
    "    theta_stars.append(theta_i)\n",
    "    \n",
    "    T = []\n",
    "    for _ in range(B):\n",
    "        placebo_resample_2 = np.random.choice(placebo_resample, size=len(placebo), replace=True)\n",
    "        old_resample_2 = np.random.choice(old_resample, size=len(old_treatment), replace=True)\n",
    "        new_resample_2 = np.random.choice(new_resample, size=len(new_treatment), replace=True)\n",
    "        Y_bar_2 = np.mean(new_resample_2) - np.mean(old_resample_2)\n",
    "        Z_bar_2 = np.mean(old_resample_2) - np.mean(placebo_resample_2)\n",
    "        if Z_bar_2 == 0:\n",
    "            T_i = 0\n",
    "        else:\n",
    "            T_i = Y_bar_2 / Z_bar_2\n",
    "        T.append(T_i)\n",
    "    se_i = stats.sem(T)\n",
    "\n",
    "    Z_star = (theta_i - theta_hat) / se_i\n",
    "    Z_stars.append(Z_star)\n",
    "\n",
    "Z_stars = sorted(Z_stars)\n",
    "se_boot = stats.sem(theta_stars)\n",
    "ci_studentised = [theta_hat-se_boot*Z_stars[int(B*(1-alpha/2))], theta_hat-se_boot*Z_stars[int(B*(alpha/2))]]\n",
    "\n",
    "print(f'The {round(100*(1-alpha))}% bootstrap normal-based confidence interval is: ', [round(x,4) for x in ci_pivotal])\n",
    "print(f'The {round(100*(1-alpha))}% bootstrap pivotal confidence interval is: ', [round(L,4),round(U,4)])\n",
    "print(f'The {round(100*(1-alpha))}% bootstrap percentile confidence interval is: ', [round(x,4) for x in ci_percentile])\n",
    "print(f'The {round(100*(1-alpha))}% bootstrap studentised pivotal interval is: ', [round(x,4) for x in ci_studentised])"
   ]
  }
 ],
 "metadata": {
  "kernelspec": {
   "display_name": "Python 3",
   "language": "python",
   "name": "python3"
  },
  "language_info": {
   "codemirror_mode": {
    "name": "ipython",
    "version": 3
   },
   "file_extension": ".py",
   "mimetype": "text/x-python",
   "name": "python",
   "nbconvert_exporter": "python",
   "pygments_lexer": "ipython3",
   "version": "3.8.5"
  }
 },
 "nbformat": 4,
 "nbformat_minor": 4
}
