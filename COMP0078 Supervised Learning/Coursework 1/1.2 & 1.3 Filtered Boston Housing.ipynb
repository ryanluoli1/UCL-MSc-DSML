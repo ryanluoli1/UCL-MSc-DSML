{
 "cells": [
  {
   "cell_type": "markdown",
   "metadata": {},
   "source": [
    "# Filtered Boston Housing"
   ]
  },
  {
   "cell_type": "code",
   "execution_count": 26,
   "metadata": {},
   "outputs": [],
   "source": [
    "import numpy as np\n",
    "import pandas as pd\n",
    "from tqdm import tqdm\n",
    "from tabulate import tabulate\n",
    "import matplotlib.pyplot as plt\n",
    "from mpl_toolkits import mplot3d"
   ]
  },
  {
   "cell_type": "code",
   "execution_count": 27,
   "metadata": {},
   "outputs": [],
   "source": [
    "import warnings\n",
    "def ignore_warn(*args, **kwargs):\n",
    "    pass\n",
    "warnings.warn = ignore_warn            #ignore annoying warning"
   ]
  },
  {
   "cell_type": "markdown",
   "metadata": {},
   "source": [
    "## Question 4"
   ]
  },
  {
   "cell_type": "code",
   "execution_count": 28,
   "metadata": {
    "scrolled": true
   },
   "outputs": [
    {
     "data": {
      "text/html": [
       "<div>\n",
       "<style scoped>\n",
       "    .dataframe tbody tr th:only-of-type {\n",
       "        vertical-align: middle;\n",
       "    }\n",
       "\n",
       "    .dataframe tbody tr th {\n",
       "        vertical-align: top;\n",
       "    }\n",
       "\n",
       "    .dataframe thead th {\n",
       "        text-align: right;\n",
       "    }\n",
       "</style>\n",
       "<table border=\"1\" class=\"dataframe\">\n",
       "  <thead>\n",
       "    <tr style=\"text-align: right;\">\n",
       "      <th></th>\n",
       "      <th>CRIM</th>\n",
       "      <th>ZN</th>\n",
       "      <th>INDUS</th>\n",
       "      <th>CHAS</th>\n",
       "      <th>NOX</th>\n",
       "      <th>RM</th>\n",
       "      <th>AGE</th>\n",
       "      <th>DIS</th>\n",
       "      <th>RAD</th>\n",
       "      <th>TAX</th>\n",
       "      <th>PTRATIO</th>\n",
       "      <th>LSTAT</th>\n",
       "      <th>MEDV</th>\n",
       "    </tr>\n",
       "  </thead>\n",
       "  <tbody>\n",
       "    <tr>\n",
       "      <th>0</th>\n",
       "      <td>0.00632</td>\n",
       "      <td>18.0</td>\n",
       "      <td>2.31</td>\n",
       "      <td>0</td>\n",
       "      <td>0.538</td>\n",
       "      <td>6.575</td>\n",
       "      <td>65.2</td>\n",
       "      <td>4.0900</td>\n",
       "      <td>1</td>\n",
       "      <td>296</td>\n",
       "      <td>15.3</td>\n",
       "      <td>4.98</td>\n",
       "      <td>24.0</td>\n",
       "    </tr>\n",
       "    <tr>\n",
       "      <th>1</th>\n",
       "      <td>0.02731</td>\n",
       "      <td>0.0</td>\n",
       "      <td>7.07</td>\n",
       "      <td>0</td>\n",
       "      <td>0.469</td>\n",
       "      <td>6.421</td>\n",
       "      <td>78.9</td>\n",
       "      <td>4.9671</td>\n",
       "      <td>2</td>\n",
       "      <td>242</td>\n",
       "      <td>17.8</td>\n",
       "      <td>9.14</td>\n",
       "      <td>21.6</td>\n",
       "    </tr>\n",
       "    <tr>\n",
       "      <th>2</th>\n",
       "      <td>0.02729</td>\n",
       "      <td>0.0</td>\n",
       "      <td>7.07</td>\n",
       "      <td>0</td>\n",
       "      <td>0.469</td>\n",
       "      <td>7.185</td>\n",
       "      <td>61.1</td>\n",
       "      <td>4.9671</td>\n",
       "      <td>2</td>\n",
       "      <td>242</td>\n",
       "      <td>17.8</td>\n",
       "      <td>4.03</td>\n",
       "      <td>34.7</td>\n",
       "    </tr>\n",
       "    <tr>\n",
       "      <th>3</th>\n",
       "      <td>0.03237</td>\n",
       "      <td>0.0</td>\n",
       "      <td>2.18</td>\n",
       "      <td>0</td>\n",
       "      <td>0.458</td>\n",
       "      <td>6.998</td>\n",
       "      <td>45.8</td>\n",
       "      <td>6.0622</td>\n",
       "      <td>3</td>\n",
       "      <td>222</td>\n",
       "      <td>18.7</td>\n",
       "      <td>2.94</td>\n",
       "      <td>33.4</td>\n",
       "    </tr>\n",
       "    <tr>\n",
       "      <th>4</th>\n",
       "      <td>0.06905</td>\n",
       "      <td>0.0</td>\n",
       "      <td>2.18</td>\n",
       "      <td>0</td>\n",
       "      <td>0.458</td>\n",
       "      <td>7.147</td>\n",
       "      <td>54.2</td>\n",
       "      <td>6.0622</td>\n",
       "      <td>3</td>\n",
       "      <td>222</td>\n",
       "      <td>18.7</td>\n",
       "      <td>5.33</td>\n",
       "      <td>36.2</td>\n",
       "    </tr>\n",
       "  </tbody>\n",
       "</table>\n",
       "</div>"
      ],
      "text/plain": [
       "      CRIM   ZN   INDUS   CHAS    NOX     RM   AGE     DIS  RAD  TAX  PTRATIO  \\\n",
       "0  0.00632  18.0    2.31     0  0.538  6.575  65.2  4.0900    1  296     15.3   \n",
       "1  0.02731   0.0    7.07     0  0.469  6.421  78.9  4.9671    2  242     17.8   \n",
       "2  0.02729   0.0    7.07     0  0.469  7.185  61.1  4.9671    2  242     17.8   \n",
       "3  0.03237   0.0    2.18     0  0.458  6.998  45.8  6.0622    3  222     18.7   \n",
       "4  0.06905   0.0    2.18     0  0.458  7.147  54.2  6.0622    3  222     18.7   \n",
       "\n",
       "   LSTAT  MEDV  \n",
       "0   4.98  24.0  \n",
       "1   9.14  21.6  \n",
       "2   4.03  34.7  \n",
       "3   2.94  33.4  \n",
       "4   5.33  36.2  "
      ]
     },
     "execution_count": 28,
     "metadata": {},
     "output_type": "execute_result"
    }
   ],
   "source": [
    "#import the data\n",
    "df = pd.read_csv('http://www.cs.ucl.ac.uk/staff/M.Herbster/boston-filter/Boston-filtered.csv')\n",
    "df.head()"
   ]
  },
  {
   "cell_type": "markdown",
   "metadata": {},
   "source": [
    "## Computing Training and Test Errors"
   ]
  },
  {
   "cell_type": "code",
   "execution_count": 29,
   "metadata": {},
   "outputs": [],
   "source": [
    "#function to split the dataset into training and test sets\n",
    "def train_test_split(df, n_train):\n",
    "    values = df.values                        \n",
    "    np.random.shuffle(values)                 #shuffle the data to make it random\n",
    "    df_train = pd.DataFrame(values[:n_train], columns=df.columns)       #obtain the training set\n",
    "    df_test = pd.DataFrame(values[n_train:], columns=df.columns)        #obtain the test set\n",
    "    return df_train, df_test"
   ]
  },
  {
   "cell_type": "code",
   "execution_count": 30,
   "metadata": {},
   "outputs": [],
   "source": [
    "#function to evaluate models\n",
    "def evaluate_model(df, model, n):\n",
    "    '''\n",
    "    df: the data to be splited into training and test sets\n",
    "    model: the model used to make predictions\n",
    "    n: the number fo runs to perform\n",
    "    '''\n",
    "    MSE_train, MSE_test = [], []\n",
    "    n_train = int(len(df)*2/3)                                #define the number of training data\n",
    "    for i in range(n):\n",
    "        df_train, df_test = train_test_split(df, n_train)     #obtain the training and test sets\n",
    "        MSE = model(df_train, df_test)            \n",
    "        MSE_train.append(MSE[0])\n",
    "        MSE_test.append(MSE[1])\n",
    "    return [np.mean(MSE_train), np.mean(MSE_test)], [np.std(MSE_train), np.std(MSE_test)]"
   ]
  },
  {
   "cell_type": "code",
   "execution_count": 31,
   "metadata": {},
   "outputs": [],
   "source": [
    "np.random.seed(0)"
   ]
  },
  {
   "cell_type": "markdown",
   "metadata": {},
   "source": [
    "## Naive Regression: mean y-value"
   ]
  },
  {
   "cell_type": "code",
   "execution_count": 32,
   "metadata": {},
   "outputs": [],
   "source": [
    "def naive_regression(df_train, df_test):\n",
    "    y_train = df_train['MEDV']\n",
    "    y_test = df_test['MEDV']\n",
    "    feature = y_train.mean()                          #use the mean y-value of the training data as the only feature\n",
    "    ones_train = np.ones(shape=len(df_train))         #create a vector of ones with size equal to the training set\n",
    "    ones_test = np.ones(shape=len(df_test))           #create a vector of ones with size equal to the test set\n",
    "    y_pred_train = feature*ones_train                 #make predictions using on the training data\n",
    "    y_pred_test = feature*ones_test                   #make predictions using on the test data           \n",
    "    MSE_train = np.mean((y_pred_train - y_train)**2)  #compute the training error\n",
    "    MSE_test = np.mean((y_pred_test - y_test)**2)     #compute the test error\n",
    "    return [MSE_train, MSE_test]"
   ]
  },
  {
   "cell_type": "code",
   "execution_count": 33,
   "metadata": {},
   "outputs": [
    {
     "data": {
      "text/plain": [
       "([84.11766709225228, 85.28986264279239],\n",
       " [5.515235279630651, 10.858148273396658])"
      ]
     },
     "execution_count": 33,
     "metadata": {},
     "output_type": "execute_result"
    }
   ],
   "source": [
    "evaluate_model(df, naive_regression, 20)"
   ]
  },
  {
   "cell_type": "markdown",
   "metadata": {},
   "source": [
    "## Linear Regression: a single feature + a bias term"
   ]
  },
  {
   "cell_type": "code",
   "execution_count": 34,
   "metadata": {},
   "outputs": [],
   "source": [
    "def linear_regression(df_train, df_test):\n",
    "    #add the bias term to the training and test datasets\n",
    "    df_train['bias'] = np.ones(shape=len(df_train))\n",
    "    df_test['bias'] = np.ones(shape=len(df_test))\n",
    "    #obtain the features including the bias term\n",
    "    features = list(df_train.columns)\n",
    "    features.remove('MEDV')\n",
    "    #obtain the training and test values\n",
    "    X_train, y_train = df_train[features].values, df_train[['MEDV']].values\n",
    "    X_test, y_test = df_test[features].values, df_test[['MEDV']].values\n",
    "    #use the normal equation to compute the weights\n",
    "    w = np.linalg.inv(np.dot(X_train.T, X_train)).dot(X_train.T).dot(y_train)\n",
    "    #make predictions\n",
    "    y_pred_train = np.dot(X_train, w)\n",
    "    y_pred_test = np.dot(X_test, w)\n",
    "    #compute the training and test errors\n",
    "    MSE_train = np.mean((y_pred_train - y_train)**2) \n",
    "    MSE_test = np.mean((y_pred_test - y_test)**2)   \n",
    "    return [MSE_train, MSE_test]"
   ]
  },
  {
   "cell_type": "code",
   "execution_count": 35,
   "metadata": {},
   "outputs": [
    {
     "name": "stdout",
     "output_type": "stream",
     "text": [
      "CRIM :  ([70.82027902616657, 74.36368660841327], [4.427283890948871, 8.995907189079073])\n",
      " ZN  :  ([71.96865254462622, 76.75674063659756], [4.044654490529215, 8.051132557810549])\n",
      "INDUS  :  ([65.31261027502433, 63.76977822527001], [4.653609573725449, 9.396461903448756])\n",
      "CHAS :  ([81.35576658057428, 83.20066514059664], [5.666918262784081, 11.411260321582336])\n",
      "NOX :  ([69.26961562530538, 68.79068878313225], [4.757373417623581, 9.49668282131437])\n",
      "RM :  ([44.16678789334372, 43.020520623943426], [4.041815231298285, 8.101302174706092])\n",
      "AGE :  ([71.0996583967973, 75.54005034536699], [4.950714268329612, 10.039824267993795])\n",
      "DIS :  ([79.76834758290087, 78.23432408517081], [4.2172390940454525, 8.328675436505186])\n",
      "RAD :  ([72.9422072428918, 71.0397702306088], [5.181108174907842, 10.42572127366888])\n",
      "TAX :  ([66.057081530256, 65.95092087817666], [3.3503877111562654, 6.768674063070069])\n",
      "PTRATIO :  ([62.053597223300265, 64.30679321418303], [4.69524807314924, 9.495581294874345])\n",
      "LSTAT :  ([37.9839745988158, 39.84628179210066], [2.5431898647876077, 5.224783356782173])\n"
     ]
    }
   ],
   "source": [
    "for feature in df.columns[:-1]:\n",
    "    df_sub = df[[feature,'MEDV']].copy()\n",
    "    MSE = evaluate_model(df_sub, linear_regression, 20)\n",
    "    print(feature, ': ', MSE)"
   ]
  },
  {
   "cell_type": "markdown",
   "metadata": {},
   "source": [
    "## Linear Regression: all features + a bias term"
   ]
  },
  {
   "cell_type": "code",
   "execution_count": 36,
   "metadata": {},
   "outputs": [
    {
     "data": {
      "text/plain": [
       "([21.663333135195224, 25.503010768141547],\n",
       " [2.4990010221168166, 5.4032158094502325])"
      ]
     },
     "execution_count": 36,
     "metadata": {},
     "output_type": "execute_result"
    }
   ],
   "source": [
    "evaluate_model(df, linear_regression, 20)"
   ]
  },
  {
   "cell_type": "markdown",
   "metadata": {},
   "source": [
    "## Kernelised Ridge Regression"
   ]
  },
  {
   "cell_type": "code",
   "execution_count": 37,
   "metadata": {},
   "outputs": [],
   "source": [
    "#function to perform gaussian kernelisation\n",
    "def gaussian_kernel(x_i, x_j, sigma):\n",
    "    return np.exp(-np.linalg.norm(x_i - x_j)**2/(2*sigma**2))\n",
    "\n",
    "#function to compute the K matrix\n",
    "def compute_K(X_train, sigma):\n",
    "    l = len(X_train)                                                    #size of the input data\n",
    "    K = np.zeros(shape=(l,l))                                           #initialize the K matrix\n",
    "    for i in range(l):\n",
    "        for j in range(l):\n",
    "            K[i][j] = gaussian_kernel(X_train[i], X_train[j], sigma)    #compute the elements of the K matrix\n",
    "    return K\n",
    "\n",
    "#function to compute the optimal alpha\n",
    "def compute_alpha(X_train, sigma, gamma, y_train):\n",
    "    l = len(X_train)                                      #size of the input data\n",
    "    K = compute_K(X_train, sigma)                         #kernalise the input data \n",
    "    I = np.identity(l)                                    #obtain the identity matrix\n",
    "    alpha = np.linalg.inv(K + gamma*l*I).dot(y_train)     #solve the dual optimisation problem\n",
    "    return alpha\n",
    "\n",
    "#function to make predictions based on the given sigma and gamma values\n",
    "def predict(X_train, X_test, sigma, gamma, y_train):\n",
    "    alpha = compute_alpha(X_train, sigma, gamma, y_train)    \n",
    "    y_pred = []\n",
    "    for j in range(len(X_test)):\n",
    "        y_pred_j = 0\n",
    "        for i in range(len(X_train)):\n",
    "            y_pred_j += alpha[i] * gaussian_kernel(X_train[i], X_test[j], sigma)\n",
    "        y_pred.append(y_pred_j)\n",
    "    return np.array(y_pred)\n",
    "\n",
    "#function to compute the MSE\n",
    "def compute_MSE(X_train, X_test, y_train, y_test, sigma, gamma):\n",
    "    y_pred = predict(X_train, X_test, sigma, gamma, y_train)\n",
    "    return np.mean((y_pred - y_test)**2)\n",
    "\n",
    "#function to find the best sigma and gamma values with cross-validation\n",
    "def cv_tunning(sigma_list, gamma_list, df_train, k=5):\n",
    "    n_train = int(len(df_train)*2/3)                                #define the number of training data\n",
    "    features = list(df_train.columns)\n",
    "    features.remove('MEDV')\n",
    "    MSE_list, sigma_best, gamma_best = [], 0, 0\n",
    "    for sigma in tqdm(sigma_list):\n",
    "        for gamma in gamma_list:\n",
    "            MSE_cv = []\n",
    "            for _ in range(k):    #k-fold cross-validation\n",
    "                #split the data\n",
    "                df_train_cv, df_test_cv = train_test_split(df_train, n_train)\n",
    "                X_train_cv, y_train_cv = df_train_cv[features].values, df_train_cv[['MEDV']].values\n",
    "                X_test_cv, y_test_cv = df_test_cv[features].values, df_test_cv[['MEDV']].values\n",
    "                #compute the MSE\n",
    "                MSE = compute_MSE(X_train_cv, X_test_cv, y_train_cv, y_test_cv, sigma, gamma)\n",
    "                MSE_cv.append(MSE)\n",
    "            #print('sigma =', sigma, ', gamma =', gamma, ', MSE =', np.mean(MSE_cv))\n",
    "            MSE_min = min(MSE_list) if MSE_list else np.mean(MSE_cv)  #the minimum MSE of the previous combinations\n",
    "            if np.mean(MSE_cv) <= MSE_min:          #if the current sigma and gamma values give a lower averaged test MSE\n",
    "                sigma_best, gamma_best = sigma, gamma\n",
    "            MSE_list.append(np.mean(MSE_cv))\n",
    "    return sigma_best, gamma_best, MSE_list\n",
    "\n",
    "#function to implement the kernelised ridge regression model\n",
    "def kernelised_ridge_regression(df_train, df_test):\n",
    "    #create the vectors gamma and sigma\n",
    "    gamma_list = np.array([2**(-i) for i in range(26,41)][::-1])\n",
    "    sigma_list = np.array([2**(i) for i in np.arange(7,13.5,0.5)])\n",
    "    #obtain the training and test sets\n",
    "    features = list(df_train.columns)\n",
    "    features.remove('MEDV')\n",
    "    X_train, y_train = df_train[features].values, df_train[['MEDV']].values\n",
    "    X_test, y_test = df_test[features].values, df_test[['MEDV']].values\n",
    "    #compute the best sigma and gamma value\n",
    "    sigma_best, gamma_best, _ = cv_tunning(sigma_list, gamma_list, df_train, k=5)\n",
    "    #compute the training and test errors\n",
    "    MSE_train = compute_MSE(X_train, X_train, y_train, y_train, sigma_best, gamma_best)\n",
    "    MSE_test = compute_MSE(X_train, X_test, y_train, y_test, sigma_best, gamma_best)\n",
    "    return [MSE_train, MSE_test]"
   ]
  },
  {
   "cell_type": "markdown",
   "metadata": {},
   "source": [
    "### Question 5.a"
   ]
  },
  {
   "cell_type": "code",
   "execution_count": 38,
   "metadata": {},
   "outputs": [],
   "source": [
    "#generate the training and test sets for question 5.a and 5.b\n",
    "n_train = int(len(df)*2/3) \n",
    "df_train, df_test = train_test_split(df, n_train)"
   ]
  },
  {
   "cell_type": "code",
   "execution_count": 39,
   "metadata": {
    "scrolled": true
   },
   "outputs": [
    {
     "name": "stderr",
     "output_type": "stream",
     "text": [
      "\r",
      "  0%|                                                                                           | 0/13 [00:00<?, ?it/s]"
     ]
    },
    {
     "name": "stdout",
     "output_type": "stream",
     "text": [
      "sigma =  128.0 gamma =  9.094947017729282e-13 MSE =  2778.103727760737\n",
      "sigma =  128.0 gamma =  1.8189894035458565e-12 MSE =  1923.547611510839\n",
      "sigma =  128.0 gamma =  3.637978807091713e-12 MSE =  1382.8585158867331\n",
      "sigma =  128.0 gamma =  7.275957614183426e-12 MSE =  2559.3115774268726\n",
      "sigma =  128.0 gamma =  1.4551915228366852e-11 MSE =  1369.8285668186097\n",
      "sigma =  128.0 gamma =  2.9103830456733704e-11 MSE =  616.3585586741225\n",
      "sigma =  128.0 gamma =  5.820766091346741e-11 MSE =  251.7089827258203\n",
      "sigma =  128.0 gamma =  1.1641532182693481e-10 MSE =  182.4947192983767\n",
      "sigma =  128.0 gamma =  2.3283064365386963e-10 MSE =  218.8090840264353\n",
      "sigma =  128.0 gamma =  4.656612873077393e-10 MSE =  287.0407690307899\n",
      "sigma =  128.0 gamma =  9.313225746154785e-10 MSE =  47.400393562475934\n",
      "sigma =  128.0 gamma =  1.862645149230957e-09 MSE =  79.60236715185425\n",
      "sigma =  128.0 gamma =  3.725290298461914e-09 MSE =  79.15896220944038\n",
      "sigma =  128.0 gamma =  7.450580596923828e-09 MSE =  93.95626519976078\n"
     ]
    },
    {
     "name": "stderr",
     "output_type": "stream",
     "text": [
      "\r",
      "  8%|██████▍                                                                            | 1/13 [00:56<11:18, 56.56s/it]"
     ]
    },
    {
     "name": "stdout",
     "output_type": "stream",
     "text": [
      "sigma =  128.0 gamma =  1.4901161193847656e-08 MSE =  27.370247565850473\n",
      "sigma =  181.01933598375618 gamma =  9.094947017729282e-13 MSE =  1197.9823556542683\n",
      "sigma =  181.01933598375618 gamma =  1.8189894035458565e-12 MSE =  561.2359342565552\n",
      "sigma =  181.01933598375618 gamma =  3.637978807091713e-12 MSE =  1126.8077767851948\n",
      "sigma =  181.01933598375618 gamma =  7.275957614183426e-12 MSE =  680.5129766945646\n",
      "sigma =  181.01933598375618 gamma =  1.4551915228366852e-11 MSE =  872.3002486306489\n",
      "sigma =  181.01933598375618 gamma =  2.9103830456733704e-11 MSE =  265.7770347115709\n",
      "sigma =  181.01933598375618 gamma =  5.820766091346741e-11 MSE =  406.5193159893678\n",
      "sigma =  181.01933598375618 gamma =  1.1641532182693481e-10 MSE =  234.11814415437925\n",
      "sigma =  181.01933598375618 gamma =  2.3283064365386963e-10 MSE =  188.2691507620395\n",
      "sigma =  181.01933598375618 gamma =  4.656612873077393e-10 MSE =  50.68255376487211\n",
      "sigma =  181.01933598375618 gamma =  9.313225746154785e-10 MSE =  59.82840787676223\n",
      "sigma =  181.01933598375618 gamma =  1.862645149230957e-09 MSE =  29.240839689442918\n",
      "sigma =  181.01933598375618 gamma =  3.725290298461914e-09 MSE =  22.549387075417023\n",
      "sigma =  181.01933598375618 gamma =  7.450580596923828e-09 MSE =  24.848521078482793\n"
     ]
    },
    {
     "name": "stderr",
     "output_type": "stream",
     "text": [
      "\r",
      " 15%|████████████▊                                                                      | 2/13 [01:56<10:41, 58.34s/it]"
     ]
    },
    {
     "name": "stdout",
     "output_type": "stream",
     "text": [
      "sigma =  181.01933598375618 gamma =  1.4901161193847656e-08 MSE =  17.13668404337188\n",
      "sigma =  256.0 gamma =  9.094947017729282e-13 MSE =  13673.507806636271\n",
      "sigma =  256.0 gamma =  1.8189894035458565e-12 MSE =  527.0267200142762\n",
      "sigma =  256.0 gamma =  3.637978807091713e-12 MSE =  2854.0235053139672\n",
      "sigma =  256.0 gamma =  7.275957614183426e-12 MSE =  2179.760172690616\n",
      "sigma =  256.0 gamma =  1.4551915228366852e-11 MSE =  978.756854208832\n",
      "sigma =  256.0 gamma =  2.9103830456733704e-11 MSE =  34.655817678902466\n",
      "sigma =  256.0 gamma =  5.820766091346741e-11 MSE =  261.4625411622119\n",
      "sigma =  256.0 gamma =  1.1641532182693481e-10 MSE =  47.40043700596327\n",
      "sigma =  256.0 gamma =  2.3283064365386963e-10 MSE =  50.449136695037865\n",
      "sigma =  256.0 gamma =  4.656612873077393e-10 MSE =  45.72934440158808\n",
      "sigma =  256.0 gamma =  9.313225746154785e-10 MSE =  42.41931100977704\n",
      "sigma =  256.0 gamma =  1.862645149230957e-09 MSE =  39.37066776306129\n",
      "sigma =  256.0 gamma =  3.725290298461914e-09 MSE =  14.645680515632304\n",
      "sigma =  256.0 gamma =  7.450580596923828e-09 MSE =  24.142811844571874\n"
     ]
    },
    {
     "name": "stderr",
     "output_type": "stream",
     "text": [
      "\r",
      " 23%|███████████████████▏                                                               | 3/13 [02:56<09:53, 59.40s/it]"
     ]
    },
    {
     "name": "stdout",
     "output_type": "stream",
     "text": [
      "sigma =  256.0 gamma =  1.4901161193847656e-08 MSE =  21.159605813895844\n",
      "sigma =  362.03867196751236 gamma =  9.094947017729282e-13 MSE =  3310.4288882655737\n",
      "sigma =  362.03867196751236 gamma =  1.8189894035458565e-12 MSE =  155.54813478499509\n",
      "sigma =  362.03867196751236 gamma =  3.637978807091713e-12 MSE =  476.7063019766024\n",
      "sigma =  362.03867196751236 gamma =  7.275957614183426e-12 MSE =  1931.689522984685\n",
      "sigma =  362.03867196751236 gamma =  1.4551915228366852e-11 MSE =  446.4265171082599\n",
      "sigma =  362.03867196751236 gamma =  2.9103830456733704e-11 MSE =  310.41060939203925\n",
      "sigma =  362.03867196751236 gamma =  5.820766091346741e-11 MSE =  77.88732278532798\n",
      "sigma =  362.03867196751236 gamma =  1.1641532182693481e-10 MSE =  25.099219461499786\n",
      "sigma =  362.03867196751236 gamma =  2.3283064365386963e-10 MSE =  46.09073989591942\n",
      "sigma =  362.03867196751236 gamma =  4.656612873077393e-10 MSE =  28.069054902739584\n",
      "sigma =  362.03867196751236 gamma =  9.313225746154785e-10 MSE =  20.843532412198076\n",
      "sigma =  362.03867196751236 gamma =  1.862645149230957e-09 MSE =  25.091064297476084\n",
      "sigma =  362.03867196751236 gamma =  3.725290298461914e-09 MSE =  19.454036045146943\n",
      "sigma =  362.03867196751236 gamma =  7.450580596923828e-09 MSE =  21.753135750651033\n"
     ]
    },
    {
     "name": "stderr",
     "output_type": "stream",
     "text": [
      "\r",
      " 31%|█████████████████████████▌                                                         | 4/13 [03:53<08:46, 58.50s/it]"
     ]
    },
    {
     "name": "stdout",
     "output_type": "stream",
     "text": [
      "sigma =  362.03867196751236 gamma =  1.4901161193847656e-08 MSE =  20.463011794673044\n",
      "sigma =  512.0 gamma =  9.094947017729282e-13 MSE =  64.06846819195842\n",
      "sigma =  512.0 gamma =  1.8189894035458565e-12 MSE =  1559.6196462822722\n",
      "sigma =  512.0 gamma =  3.637978807091713e-12 MSE =  155.64865109855623\n",
      "sigma =  512.0 gamma =  7.275957614183426e-12 MSE =  242.28824702441244\n",
      "sigma =  512.0 gamma =  1.4551915228366852e-11 MSE =  62.968066693028405\n",
      "sigma =  512.0 gamma =  2.9103830456733704e-11 MSE =  113.66674192440821\n",
      "sigma =  512.0 gamma =  5.820766091346741e-11 MSE =  33.062128746922916\n",
      "sigma =  512.0 gamma =  1.1641532182693481e-10 MSE =  34.810459552362055\n",
      "sigma =  512.0 gamma =  2.3283064365386963e-10 MSE =  16.83568833217308\n",
      "sigma =  512.0 gamma =  4.656612873077393e-10 MSE =  20.40418176396195\n",
      "sigma =  512.0 gamma =  9.313225746154785e-10 MSE =  16.088172781594682\n",
      "sigma =  512.0 gamma =  1.862645149230957e-09 MSE =  22.883856880114944\n",
      "sigma =  512.0 gamma =  3.725290298461914e-09 MSE =  13.936841478521263\n",
      "sigma =  512.0 gamma =  7.450580596923828e-09 MSE =  17.089718610259524\n"
     ]
    },
    {
     "name": "stderr",
     "output_type": "stream",
     "text": [
      "\r",
      " 38%|███████████████████████████████▉                                                   | 5/13 [04:54<07:55, 59.38s/it]"
     ]
    },
    {
     "name": "stdout",
     "output_type": "stream",
     "text": [
      "sigma =  512.0 gamma =  1.4901161193847656e-08 MSE =  13.92921881302073\n",
      "sigma =  724.0773439350247 gamma =  9.094947017729282e-13 MSE =  27.857732902611225\n",
      "sigma =  724.0773439350247 gamma =  1.8189894035458565e-12 MSE =  329.6421566537385\n",
      "sigma =  724.0773439350247 gamma =  3.637978807091713e-12 MSE =  82.87295732110269\n",
      "sigma =  724.0773439350247 gamma =  7.275957614183426e-12 MSE =  24.8246028860513\n",
      "sigma =  724.0773439350247 gamma =  1.4551915228366852e-11 MSE =  12.38331015442031\n",
      "sigma =  724.0773439350247 gamma =  2.9103830456733704e-11 MSE =  17.533671214038172\n",
      "sigma =  724.0773439350247 gamma =  5.820766091346741e-11 MSE =  16.508315500770532\n",
      "sigma =  724.0773439350247 gamma =  1.1641532182693481e-10 MSE =  23.21122305108296\n",
      "sigma =  724.0773439350247 gamma =  2.3283064365386963e-10 MSE =  54.429374326646645\n",
      "sigma =  724.0773439350247 gamma =  4.656612873077393e-10 MSE =  32.75828738803101\n",
      "sigma =  724.0773439350247 gamma =  9.313225746154785e-10 MSE =  21.03580323495754\n",
      "sigma =  724.0773439350247 gamma =  1.862645149230957e-09 MSE =  11.682172970730505\n",
      "sigma =  724.0773439350247 gamma =  3.725290298461914e-09 MSE =  15.24051364400203\n",
      "sigma =  724.0773439350247 gamma =  7.450580596923828e-09 MSE =  17.65038953200398\n"
     ]
    },
    {
     "name": "stderr",
     "output_type": "stream",
     "text": [
      "\r",
      " 46%|██████████████████████████████████████▎                                            | 6/13 [05:55<06:57, 59.65s/it]"
     ]
    },
    {
     "name": "stdout",
     "output_type": "stream",
     "text": [
      "sigma =  724.0773439350247 gamma =  1.4901161193847656e-08 MSE =  16.475920051710638\n",
      "sigma =  1024.0 gamma =  9.094947017729282e-13 MSE =  66.95697907788185\n",
      "sigma =  1024.0 gamma =  1.8189894035458565e-12 MSE =  17.68305789989944\n",
      "sigma =  1024.0 gamma =  3.637978807091713e-12 MSE =  23.713765574842174\n",
      "sigma =  1024.0 gamma =  7.275957614183426e-12 MSE =  27.874523144116814\n",
      "sigma =  1024.0 gamma =  1.4551915228366852e-11 MSE =  14.10241871262564\n",
      "sigma =  1024.0 gamma =  2.9103830456733704e-11 MSE =  50.06864636010597\n",
      "sigma =  1024.0 gamma =  5.820766091346741e-11 MSE =  14.44296287253537\n",
      "sigma =  1024.0 gamma =  1.1641532182693481e-10 MSE =  12.684130501570333\n",
      "sigma =  1024.0 gamma =  2.3283064365386963e-10 MSE =  17.693349124611405\n",
      "sigma =  1024.0 gamma =  4.656612873077393e-10 MSE =  17.29680568907486\n",
      "sigma =  1024.0 gamma =  9.313225746154785e-10 MSE =  20.251078281887896\n",
      "sigma =  1024.0 gamma =  1.862645149230957e-09 MSE =  23.637702888057653\n",
      "sigma =  1024.0 gamma =  3.725290298461914e-09 MSE =  17.655615248269662\n",
      "sigma =  1024.0 gamma =  7.450580596923828e-09 MSE =  21.548112432372648\n"
     ]
    },
    {
     "name": "stderr",
     "output_type": "stream",
     "text": [
      "\r",
      " 54%|████████████████████████████████████████████▋                                      | 7/13 [06:49<05:47, 57.89s/it]"
     ]
    },
    {
     "name": "stdout",
     "output_type": "stream",
     "text": [
      "sigma =  1024.0 gamma =  1.4901161193847656e-08 MSE =  22.60270520259599\n",
      "sigma =  1448.1546878700494 gamma =  9.094947017729282e-13 MSE =  55.26485595043549\n",
      "sigma =  1448.1546878700494 gamma =  1.8189894035458565e-12 MSE =  30.55879347839715\n",
      "sigma =  1448.1546878700494 gamma =  3.637978807091713e-12 MSE =  39.71068441804803\n",
      "sigma =  1448.1546878700494 gamma =  7.275957614183426e-12 MSE =  53.79666550150356\n",
      "sigma =  1448.1546878700494 gamma =  1.4551915228366852e-11 MSE =  21.220130824386374\n",
      "sigma =  1448.1546878700494 gamma =  2.9103830456733704e-11 MSE =  26.789320483142838\n",
      "sigma =  1448.1546878700494 gamma =  5.820766091346741e-11 MSE =  21.064808881143193\n",
      "sigma =  1448.1546878700494 gamma =  1.1641532182693481e-10 MSE =  23.032001911540082\n",
      "sigma =  1448.1546878700494 gamma =  2.3283064365386963e-10 MSE =  18.66197494860827\n",
      "sigma =  1448.1546878700494 gamma =  4.656612873077393e-10 MSE =  17.5201249457471\n",
      "sigma =  1448.1546878700494 gamma =  9.313225746154785e-10 MSE =  25.491514299362276\n",
      "sigma =  1448.1546878700494 gamma =  1.862645149230957e-09 MSE =  15.447004512514258\n",
      "sigma =  1448.1546878700494 gamma =  3.725290298461914e-09 MSE =  26.679201928878776\n",
      "sigma =  1448.1546878700494 gamma =  7.450580596923828e-09 MSE =  20.735336294527784\n"
     ]
    },
    {
     "name": "stderr",
     "output_type": "stream",
     "text": [
      "\r",
      " 62%|███████████████████████████████████████████████████                                | 8/13 [07:44<04:45, 57.04s/it]"
     ]
    },
    {
     "name": "stdout",
     "output_type": "stream",
     "text": [
      "sigma =  1448.1546878700494 gamma =  1.4901161193847656e-08 MSE =  26.01574373092088\n",
      "sigma =  2048.0 gamma =  9.094947017729282e-13 MSE =  22.928617180720227\n",
      "sigma =  2048.0 gamma =  1.8189894035458565e-12 MSE =  52.210014228199114\n",
      "sigma =  2048.0 gamma =  3.637978807091713e-12 MSE =  14.81010465968987\n",
      "sigma =  2048.0 gamma =  7.275957614183426e-12 MSE =  19.22163027373633\n",
      "sigma =  2048.0 gamma =  1.4551915228366852e-11 MSE =  42.055861298335536\n",
      "sigma =  2048.0 gamma =  2.9103830456733704e-11 MSE =  13.37056149807977\n",
      "sigma =  2048.0 gamma =  5.820766091346741e-11 MSE =  18.55160059152703\n",
      "sigma =  2048.0 gamma =  1.1641532182693481e-10 MSE =  16.902134030784723\n",
      "sigma =  2048.0 gamma =  2.3283064365386963e-10 MSE =  14.736324632092598\n",
      "sigma =  2048.0 gamma =  4.656612873077393e-10 MSE =  21.729059899984584\n",
      "sigma =  2048.0 gamma =  9.313225746154785e-10 MSE =  20.97852792020087\n",
      "sigma =  2048.0 gamma =  1.862645149230957e-09 MSE =  21.375818508685143\n",
      "sigma =  2048.0 gamma =  3.725290298461914e-09 MSE =  27.37911882953322\n",
      "sigma =  2048.0 gamma =  7.450580596923828e-09 MSE =  24.38824927970753\n"
     ]
    },
    {
     "name": "stderr",
     "output_type": "stream",
     "text": [
      "\r",
      " 69%|█████████████████████████████████████████████████████████▍                         | 9/13 [08:39<03:45, 56.28s/it]"
     ]
    },
    {
     "name": "stdout",
     "output_type": "stream",
     "text": [
      "sigma =  2048.0 gamma =  1.4901161193847656e-08 MSE =  27.34886877748325\n",
      "sigma =  2896.309375740099 gamma =  9.094947017729282e-13 MSE =  33.85323297480575\n",
      "sigma =  2896.309375740099 gamma =  1.8189894035458565e-12 MSE =  14.050773445298688\n",
      "sigma =  2896.309375740099 gamma =  3.637978807091713e-12 MSE =  14.290571138689227\n",
      "sigma =  2896.309375740099 gamma =  7.275957614183426e-12 MSE =  20.257932805064105\n",
      "sigma =  2896.309375740099 gamma =  1.4551915228366852e-11 MSE =  13.847472308275346\n",
      "sigma =  2896.309375740099 gamma =  2.9103830456733704e-11 MSE =  15.90277419576758\n",
      "sigma =  2896.309375740099 gamma =  5.820766091346741e-11 MSE =  16.281102767322853\n",
      "sigma =  2896.309375740099 gamma =  1.1641532182693481e-10 MSE =  14.777469394336297\n",
      "sigma =  2896.309375740099 gamma =  2.3283064365386963e-10 MSE =  18.766906637008752\n",
      "sigma =  2896.309375740099 gamma =  4.656612873077393e-10 MSE =  18.98690055372498\n",
      "sigma =  2896.309375740099 gamma =  9.313225746154785e-10 MSE =  27.875869961127854\n",
      "sigma =  2896.309375740099 gamma =  1.862645149230957e-09 MSE =  26.93078579946914\n",
      "sigma =  2896.309375740099 gamma =  3.725290298461914e-09 MSE =  25.80587920725494\n",
      "sigma =  2896.309375740099 gamma =  7.450580596923828e-09 MSE =  27.908621487204613\n"
     ]
    },
    {
     "name": "stderr",
     "output_type": "stream",
     "text": [
      "\r",
      " 77%|███████████████████████████████████████████████████████████████                   | 10/13 [09:34<02:48, 56.06s/it]"
     ]
    },
    {
     "name": "stdout",
     "output_type": "stream",
     "text": [
      "sigma =  2896.309375740099 gamma =  1.4901161193847656e-08 MSE =  29.99432702942199\n",
      "sigma =  4096.0 gamma =  9.094947017729282e-13 MSE =  22.00669522267264\n",
      "sigma =  4096.0 gamma =  1.8189894035458565e-12 MSE =  13.763077652328786\n",
      "sigma =  4096.0 gamma =  3.637978807091713e-12 MSE =  16.279887737958894\n",
      "sigma =  4096.0 gamma =  7.275957614183426e-12 MSE =  15.345249377167494\n",
      "sigma =  4096.0 gamma =  1.4551915228366852e-11 MSE =  16.20167348474258\n",
      "sigma =  4096.0 gamma =  2.9103830456733704e-11 MSE =  15.928874286966913\n",
      "sigma =  4096.0 gamma =  5.820766091346741e-11 MSE =  20.0100139997627\n",
      "sigma =  4096.0 gamma =  1.1641532182693481e-10 MSE =  21.946378393363688\n",
      "sigma =  4096.0 gamma =  2.3283064365386963e-10 MSE =  28.093019175232985\n",
      "sigma =  4096.0 gamma =  4.656612873077393e-10 MSE =  25.582391142391725\n",
      "sigma =  4096.0 gamma =  9.313225746154785e-10 MSE =  26.44325129755465\n",
      "sigma =  4096.0 gamma =  1.862645149230957e-09 MSE =  30.14429290448201\n",
      "sigma =  4096.0 gamma =  3.725290298461914e-09 MSE =  29.726420476371487\n",
      "sigma =  4096.0 gamma =  7.450580596923828e-09 MSE =  26.205650585686527\n"
     ]
    },
    {
     "name": "stderr",
     "output_type": "stream",
     "text": [
      "\r",
      " 85%|█████████████████████████████████████████████████████████████████████▍            | 11/13 [10:31<01:52, 56.25s/it]"
     ]
    },
    {
     "name": "stdout",
     "output_type": "stream",
     "text": [
      "sigma =  4096.0 gamma =  1.4901161193847656e-08 MSE =  24.608390068317807\n",
      "sigma =  5792.618751480198 gamma =  9.094947017729282e-13 MSE =  15.3672496577321\n",
      "sigma =  5792.618751480198 gamma =  1.8189894035458565e-12 MSE =  14.341089875430114\n",
      "sigma =  5792.618751480198 gamma =  3.637978807091713e-12 MSE =  13.894770169136342\n",
      "sigma =  5792.618751480198 gamma =  7.275957614183426e-12 MSE =  18.858843326141702\n",
      "sigma =  5792.618751480198 gamma =  1.4551915228366852e-11 MSE =  24.781438408373965\n",
      "sigma =  5792.618751480198 gamma =  2.9103830456733704e-11 MSE =  18.19631783545575\n",
      "sigma =  5792.618751480198 gamma =  5.820766091346741e-11 MSE =  25.594203432894727\n",
      "sigma =  5792.618751480198 gamma =  1.1641532182693481e-10 MSE =  22.203344259842453\n",
      "sigma =  5792.618751480198 gamma =  2.3283064365386963e-10 MSE =  26.10771536560888\n",
      "sigma =  5792.618751480198 gamma =  4.656612873077393e-10 MSE =  23.725868310398578\n",
      "sigma =  5792.618751480198 gamma =  9.313225746154785e-10 MSE =  26.94747581822612\n",
      "sigma =  5792.618751480198 gamma =  1.862645149230957e-09 MSE =  29.557498826715594\n",
      "sigma =  5792.618751480198 gamma =  3.725290298461914e-09 MSE =  25.57687766669604\n",
      "sigma =  5792.618751480198 gamma =  7.450580596923828e-09 MSE =  29.594363774979108\n"
     ]
    },
    {
     "name": "stderr",
     "output_type": "stream",
     "text": [
      "\r",
      " 92%|███████████████████████████████████████████████████████████████████████████▋      | 12/13 [11:26<00:55, 55.87s/it]"
     ]
    },
    {
     "name": "stdout",
     "output_type": "stream",
     "text": [
      "sigma =  5792.618751480198 gamma =  1.4901161193847656e-08 MSE =  27.558344867532504\n",
      "sigma =  8192.0 gamma =  9.094947017729282e-13 MSE =  18.44647632897294\n",
      "sigma =  8192.0 gamma =  1.8189894035458565e-12 MSE =  19.703106465619268\n",
      "sigma =  8192.0 gamma =  3.637978807091713e-12 MSE =  20.304266124647278\n",
      "sigma =  8192.0 gamma =  7.275957614183426e-12 MSE =  25.648611621152167\n",
      "sigma =  8192.0 gamma =  1.4551915228366852e-11 MSE =  25.76689084649948\n",
      "sigma =  8192.0 gamma =  2.9103830456733704e-11 MSE =  24.12579331539049\n",
      "sigma =  8192.0 gamma =  5.820766091346741e-11 MSE =  25.4315777534268\n",
      "sigma =  8192.0 gamma =  1.1641532182693481e-10 MSE =  27.39723221225853\n",
      "sigma =  8192.0 gamma =  2.3283064365386963e-10 MSE =  29.51877992130028\n",
      "sigma =  8192.0 gamma =  4.656612873077393e-10 MSE =  27.427654393697367\n",
      "sigma =  8192.0 gamma =  9.313225746154785e-10 MSE =  31.73461491184309\n",
      "sigma =  8192.0 gamma =  1.862645149230957e-09 MSE =  27.511490319685862\n",
      "sigma =  8192.0 gamma =  3.725290298461914e-09 MSE =  31.26029065555729\n",
      "sigma =  8192.0 gamma =  7.450580596923828e-09 MSE =  28.605673878538845\n"
     ]
    },
    {
     "name": "stderr",
     "output_type": "stream",
     "text": [
      "100%|██████████████████████████████████████████████████████████████████████████████████| 13/13 [12:20<00:00, 56.98s/it]"
     ]
    },
    {
     "name": "stdout",
     "output_type": "stream",
     "text": [
      "sigma =  8192.0 gamma =  1.4901161193847656e-08 MSE =  30.362510761208462\n"
     ]
    },
    {
     "name": "stderr",
     "output_type": "stream",
     "text": [
      "\n"
     ]
    }
   ],
   "source": [
    "#visualize the tuning process\n",
    "#to do so, the print line in the cv_tunning function need to be uncommented\n",
    "gamma_list = np.array([2**(-i) for i in range(26,41)][::-1])\n",
    "sigma_list = np.array([2**(i) for i in np.arange(7,13.5,0.5)])\n",
    "sigma_best, gamma_best, MSE_list = cv_tunning(sigma_list, gamma_list, df_train, k=5)"
   ]
  },
  {
   "cell_type": "code",
   "execution_count": 40,
   "metadata": {},
   "outputs": [
    {
     "data": {
      "text/plain": [
       "(724.0773439350247, 1.862645149230957e-09)"
      ]
     },
     "execution_count": 40,
     "metadata": {},
     "output_type": "execute_result"
    }
   ],
   "source": [
    "sigma_best, gamma_best"
   ]
  },
  {
   "cell_type": "markdown",
   "metadata": {},
   "source": [
    "### Question 5.b"
   ]
  },
  {
   "cell_type": "code",
   "execution_count": 58,
   "metadata": {},
   "outputs": [],
   "source": [
    "#generate the x, y, and z values for the 3D plot\n",
    "x_sigma, y_gamma = [], np.array([])\n",
    "for i in range(len(sigma_list)):\n",
    "    x_sigma += len(gamma_list) * [sigma_list[i]]      #each sigma value was used with len(gamma_list) different gamma values\n",
    "    y_gamma = np.hstack([y_gamma, gamma_list])        #the len(gamma_list) gamma values were used len(sigma_list) times\n",
    "x_sigma = np.array(x_sigma)\n",
    "z_MSE = np.array(MSE_list)"
   ]
  },
  {
   "cell_type": "code",
   "execution_count": 59,
   "metadata": {
    "scrolled": true
   },
   "outputs": [
    {
     "data": {
      "application/javascript": [
       "/* Put everything inside the global mpl namespace */\n",
       "/* global mpl */\n",
       "window.mpl = {};\n",
       "\n",
       "mpl.get_websocket_type = function () {\n",
       "    if (typeof WebSocket !== 'undefined') {\n",
       "        return WebSocket;\n",
       "    } else if (typeof MozWebSocket !== 'undefined') {\n",
       "        return MozWebSocket;\n",
       "    } else {\n",
       "        alert(\n",
       "            'Your browser does not have WebSocket support. ' +\n",
       "                'Please try Chrome, Safari or Firefox ≥ 6. ' +\n",
       "                'Firefox 4 and 5 are also supported but you ' +\n",
       "                'have to enable WebSockets in about:config.'\n",
       "        );\n",
       "    }\n",
       "};\n",
       "\n",
       "mpl.figure = function (figure_id, websocket, ondownload, parent_element) {\n",
       "    this.id = figure_id;\n",
       "\n",
       "    this.ws = websocket;\n",
       "\n",
       "    this.supports_binary = this.ws.binaryType !== undefined;\n",
       "\n",
       "    if (!this.supports_binary) {\n",
       "        var warnings = document.getElementById('mpl-warnings');\n",
       "        if (warnings) {\n",
       "            warnings.style.display = 'block';\n",
       "            warnings.textContent =\n",
       "                'This browser does not support binary websocket messages. ' +\n",
       "                'Performance may be slow.';\n",
       "        }\n",
       "    }\n",
       "\n",
       "    this.imageObj = new Image();\n",
       "\n",
       "    this.context = undefined;\n",
       "    this.message = undefined;\n",
       "    this.canvas = undefined;\n",
       "    this.rubberband_canvas = undefined;\n",
       "    this.rubberband_context = undefined;\n",
       "    this.format_dropdown = undefined;\n",
       "\n",
       "    this.image_mode = 'full';\n",
       "\n",
       "    this.root = document.createElement('div');\n",
       "    this.root.setAttribute('style', 'display: inline-block');\n",
       "    this._root_extra_style(this.root);\n",
       "\n",
       "    parent_element.appendChild(this.root);\n",
       "\n",
       "    this._init_header(this);\n",
       "    this._init_canvas(this);\n",
       "    this._init_toolbar(this);\n",
       "\n",
       "    var fig = this;\n",
       "\n",
       "    this.waiting = false;\n",
       "\n",
       "    this.ws.onopen = function () {\n",
       "        fig.send_message('supports_binary', { value: fig.supports_binary });\n",
       "        fig.send_message('send_image_mode', {});\n",
       "        if (fig.ratio !== 1) {\n",
       "            fig.send_message('set_dpi_ratio', { dpi_ratio: fig.ratio });\n",
       "        }\n",
       "        fig.send_message('refresh', {});\n",
       "    };\n",
       "\n",
       "    this.imageObj.onload = function () {\n",
       "        if (fig.image_mode === 'full') {\n",
       "            // Full images could contain transparency (where diff images\n",
       "            // almost always do), so we need to clear the canvas so that\n",
       "            // there is no ghosting.\n",
       "            fig.context.clearRect(0, 0, fig.canvas.width, fig.canvas.height);\n",
       "        }\n",
       "        fig.context.drawImage(fig.imageObj, 0, 0);\n",
       "    };\n",
       "\n",
       "    this.imageObj.onunload = function () {\n",
       "        fig.ws.close();\n",
       "    };\n",
       "\n",
       "    this.ws.onmessage = this._make_on_message_function(this);\n",
       "\n",
       "    this.ondownload = ondownload;\n",
       "};\n",
       "\n",
       "mpl.figure.prototype._init_header = function () {\n",
       "    var titlebar = document.createElement('div');\n",
       "    titlebar.classList =\n",
       "        'ui-dialog-titlebar ui-widget-header ui-corner-all ui-helper-clearfix';\n",
       "    var titletext = document.createElement('div');\n",
       "    titletext.classList = 'ui-dialog-title';\n",
       "    titletext.setAttribute(\n",
       "        'style',\n",
       "        'width: 100%; text-align: center; padding: 3px;'\n",
       "    );\n",
       "    titlebar.appendChild(titletext);\n",
       "    this.root.appendChild(titlebar);\n",
       "    this.header = titletext;\n",
       "};\n",
       "\n",
       "mpl.figure.prototype._canvas_extra_style = function (_canvas_div) {};\n",
       "\n",
       "mpl.figure.prototype._root_extra_style = function (_canvas_div) {};\n",
       "\n",
       "mpl.figure.prototype._init_canvas = function () {\n",
       "    var fig = this;\n",
       "\n",
       "    var canvas_div = (this.canvas_div = document.createElement('div'));\n",
       "    canvas_div.setAttribute(\n",
       "        'style',\n",
       "        'border: 1px solid #ddd;' +\n",
       "            'box-sizing: content-box;' +\n",
       "            'clear: both;' +\n",
       "            'min-height: 1px;' +\n",
       "            'min-width: 1px;' +\n",
       "            'outline: 0;' +\n",
       "            'overflow: hidden;' +\n",
       "            'position: relative;' +\n",
       "            'resize: both;'\n",
       "    );\n",
       "\n",
       "    function on_keyboard_event_closure(name) {\n",
       "        return function (event) {\n",
       "            return fig.key_event(event, name);\n",
       "        };\n",
       "    }\n",
       "\n",
       "    canvas_div.addEventListener(\n",
       "        'keydown',\n",
       "        on_keyboard_event_closure('key_press')\n",
       "    );\n",
       "    canvas_div.addEventListener(\n",
       "        'keyup',\n",
       "        on_keyboard_event_closure('key_release')\n",
       "    );\n",
       "\n",
       "    this._canvas_extra_style(canvas_div);\n",
       "    this.root.appendChild(canvas_div);\n",
       "\n",
       "    var canvas = (this.canvas = document.createElement('canvas'));\n",
       "    canvas.classList.add('mpl-canvas');\n",
       "    canvas.setAttribute('style', 'box-sizing: content-box;');\n",
       "\n",
       "    this.context = canvas.getContext('2d');\n",
       "\n",
       "    var backingStore =\n",
       "        this.context.backingStorePixelRatio ||\n",
       "        this.context.webkitBackingStorePixelRatio ||\n",
       "        this.context.mozBackingStorePixelRatio ||\n",
       "        this.context.msBackingStorePixelRatio ||\n",
       "        this.context.oBackingStorePixelRatio ||\n",
       "        this.context.backingStorePixelRatio ||\n",
       "        1;\n",
       "\n",
       "    this.ratio = (window.devicePixelRatio || 1) / backingStore;\n",
       "    if (this.ratio !== 1) {\n",
       "        fig.send_message('set_dpi_ratio', { dpi_ratio: this.ratio });\n",
       "    }\n",
       "\n",
       "    var rubberband_canvas = (this.rubberband_canvas = document.createElement(\n",
       "        'canvas'\n",
       "    ));\n",
       "    rubberband_canvas.setAttribute(\n",
       "        'style',\n",
       "        'box-sizing: content-box; position: absolute; left: 0; top: 0; z-index: 1;'\n",
       "    );\n",
       "\n",
       "    var resizeObserver = new ResizeObserver(function (entries) {\n",
       "        var nentries = entries.length;\n",
       "        for (var i = 0; i < nentries; i++) {\n",
       "            var entry = entries[i];\n",
       "            var width, height;\n",
       "            if (entry.contentBoxSize) {\n",
       "                if (entry.contentBoxSize instanceof Array) {\n",
       "                    // Chrome 84 implements new version of spec.\n",
       "                    width = entry.contentBoxSize[0].inlineSize;\n",
       "                    height = entry.contentBoxSize[0].blockSize;\n",
       "                } else {\n",
       "                    // Firefox implements old version of spec.\n",
       "                    width = entry.contentBoxSize.inlineSize;\n",
       "                    height = entry.contentBoxSize.blockSize;\n",
       "                }\n",
       "            } else {\n",
       "                // Chrome <84 implements even older version of spec.\n",
       "                width = entry.contentRect.width;\n",
       "                height = entry.contentRect.height;\n",
       "            }\n",
       "\n",
       "            // Keep the size of the canvas and rubber band canvas in sync with\n",
       "            // the canvas container.\n",
       "            if (entry.devicePixelContentBoxSize) {\n",
       "                // Chrome 84 implements new version of spec.\n",
       "                canvas.setAttribute(\n",
       "                    'width',\n",
       "                    entry.devicePixelContentBoxSize[0].inlineSize\n",
       "                );\n",
       "                canvas.setAttribute(\n",
       "                    'height',\n",
       "                    entry.devicePixelContentBoxSize[0].blockSize\n",
       "                );\n",
       "            } else {\n",
       "                canvas.setAttribute('width', width * fig.ratio);\n",
       "                canvas.setAttribute('height', height * fig.ratio);\n",
       "            }\n",
       "            canvas.setAttribute(\n",
       "                'style',\n",
       "                'width: ' + width + 'px; height: ' + height + 'px;'\n",
       "            );\n",
       "\n",
       "            rubberband_canvas.setAttribute('width', width);\n",
       "            rubberband_canvas.setAttribute('height', height);\n",
       "\n",
       "            // And update the size in Python. We ignore the initial 0/0 size\n",
       "            // that occurs as the element is placed into the DOM, which should\n",
       "            // otherwise not happen due to the minimum size styling.\n",
       "            if (width != 0 && height != 0) {\n",
       "                fig.request_resize(width, height);\n",
       "            }\n",
       "        }\n",
       "    });\n",
       "    resizeObserver.observe(canvas_div);\n",
       "\n",
       "    function on_mouse_event_closure(name) {\n",
       "        return function (event) {\n",
       "            return fig.mouse_event(event, name);\n",
       "        };\n",
       "    }\n",
       "\n",
       "    rubberband_canvas.addEventListener(\n",
       "        'mousedown',\n",
       "        on_mouse_event_closure('button_press')\n",
       "    );\n",
       "    rubberband_canvas.addEventListener(\n",
       "        'mouseup',\n",
       "        on_mouse_event_closure('button_release')\n",
       "    );\n",
       "    // Throttle sequential mouse events to 1 every 20ms.\n",
       "    rubberband_canvas.addEventListener(\n",
       "        'mousemove',\n",
       "        on_mouse_event_closure('motion_notify')\n",
       "    );\n",
       "\n",
       "    rubberband_canvas.addEventListener(\n",
       "        'mouseenter',\n",
       "        on_mouse_event_closure('figure_enter')\n",
       "    );\n",
       "    rubberband_canvas.addEventListener(\n",
       "        'mouseleave',\n",
       "        on_mouse_event_closure('figure_leave')\n",
       "    );\n",
       "\n",
       "    canvas_div.addEventListener('wheel', function (event) {\n",
       "        if (event.deltaY < 0) {\n",
       "            event.step = 1;\n",
       "        } else {\n",
       "            event.step = -1;\n",
       "        }\n",
       "        on_mouse_event_closure('scroll')(event);\n",
       "    });\n",
       "\n",
       "    canvas_div.appendChild(canvas);\n",
       "    canvas_div.appendChild(rubberband_canvas);\n",
       "\n",
       "    this.rubberband_context = rubberband_canvas.getContext('2d');\n",
       "    this.rubberband_context.strokeStyle = '#000000';\n",
       "\n",
       "    this._resize_canvas = function (width, height, forward) {\n",
       "        if (forward) {\n",
       "            canvas_div.style.width = width + 'px';\n",
       "            canvas_div.style.height = height + 'px';\n",
       "        }\n",
       "    };\n",
       "\n",
       "    // Disable right mouse context menu.\n",
       "    this.rubberband_canvas.addEventListener('contextmenu', function (_e) {\n",
       "        event.preventDefault();\n",
       "        return false;\n",
       "    });\n",
       "\n",
       "    function set_focus() {\n",
       "        canvas.focus();\n",
       "        canvas_div.focus();\n",
       "    }\n",
       "\n",
       "    window.setTimeout(set_focus, 100);\n",
       "};\n",
       "\n",
       "mpl.figure.prototype._init_toolbar = function () {\n",
       "    var fig = this;\n",
       "\n",
       "    var toolbar = document.createElement('div');\n",
       "    toolbar.classList = 'mpl-toolbar';\n",
       "    this.root.appendChild(toolbar);\n",
       "\n",
       "    function on_click_closure(name) {\n",
       "        return function (_event) {\n",
       "            return fig.toolbar_button_onclick(name);\n",
       "        };\n",
       "    }\n",
       "\n",
       "    function on_mouseover_closure(tooltip) {\n",
       "        return function (event) {\n",
       "            if (!event.currentTarget.disabled) {\n",
       "                return fig.toolbar_button_onmouseover(tooltip);\n",
       "            }\n",
       "        };\n",
       "    }\n",
       "\n",
       "    fig.buttons = {};\n",
       "    var buttonGroup = document.createElement('div');\n",
       "    buttonGroup.classList = 'mpl-button-group';\n",
       "    for (var toolbar_ind in mpl.toolbar_items) {\n",
       "        var name = mpl.toolbar_items[toolbar_ind][0];\n",
       "        var tooltip = mpl.toolbar_items[toolbar_ind][1];\n",
       "        var image = mpl.toolbar_items[toolbar_ind][2];\n",
       "        var method_name = mpl.toolbar_items[toolbar_ind][3];\n",
       "\n",
       "        if (!name) {\n",
       "            /* Instead of a spacer, we start a new button group. */\n",
       "            if (buttonGroup.hasChildNodes()) {\n",
       "                toolbar.appendChild(buttonGroup);\n",
       "            }\n",
       "            buttonGroup = document.createElement('div');\n",
       "            buttonGroup.classList = 'mpl-button-group';\n",
       "            continue;\n",
       "        }\n",
       "\n",
       "        var button = (fig.buttons[name] = document.createElement('button'));\n",
       "        button.classList = 'mpl-widget';\n",
       "        button.setAttribute('role', 'button');\n",
       "        button.setAttribute('aria-disabled', 'false');\n",
       "        button.addEventListener('click', on_click_closure(method_name));\n",
       "        button.addEventListener('mouseover', on_mouseover_closure(tooltip));\n",
       "\n",
       "        var icon_img = document.createElement('img');\n",
       "        icon_img.src = '_images/' + image + '.png';\n",
       "        icon_img.srcset = '_images/' + image + '_large.png 2x';\n",
       "        icon_img.alt = tooltip;\n",
       "        button.appendChild(icon_img);\n",
       "\n",
       "        buttonGroup.appendChild(button);\n",
       "    }\n",
       "\n",
       "    if (buttonGroup.hasChildNodes()) {\n",
       "        toolbar.appendChild(buttonGroup);\n",
       "    }\n",
       "\n",
       "    var fmt_picker = document.createElement('select');\n",
       "    fmt_picker.classList = 'mpl-widget';\n",
       "    toolbar.appendChild(fmt_picker);\n",
       "    this.format_dropdown = fmt_picker;\n",
       "\n",
       "    for (var ind in mpl.extensions) {\n",
       "        var fmt = mpl.extensions[ind];\n",
       "        var option = document.createElement('option');\n",
       "        option.selected = fmt === mpl.default_extension;\n",
       "        option.innerHTML = fmt;\n",
       "        fmt_picker.appendChild(option);\n",
       "    }\n",
       "\n",
       "    var status_bar = document.createElement('span');\n",
       "    status_bar.classList = 'mpl-message';\n",
       "    toolbar.appendChild(status_bar);\n",
       "    this.message = status_bar;\n",
       "};\n",
       "\n",
       "mpl.figure.prototype.request_resize = function (x_pixels, y_pixels) {\n",
       "    // Request matplotlib to resize the figure. Matplotlib will then trigger a resize in the client,\n",
       "    // which will in turn request a refresh of the image.\n",
       "    this.send_message('resize', { width: x_pixels, height: y_pixels });\n",
       "};\n",
       "\n",
       "mpl.figure.prototype.send_message = function (type, properties) {\n",
       "    properties['type'] = type;\n",
       "    properties['figure_id'] = this.id;\n",
       "    this.ws.send(JSON.stringify(properties));\n",
       "};\n",
       "\n",
       "mpl.figure.prototype.send_draw_message = function () {\n",
       "    if (!this.waiting) {\n",
       "        this.waiting = true;\n",
       "        this.ws.send(JSON.stringify({ type: 'draw', figure_id: this.id }));\n",
       "    }\n",
       "};\n",
       "\n",
       "mpl.figure.prototype.handle_save = function (fig, _msg) {\n",
       "    var format_dropdown = fig.format_dropdown;\n",
       "    var format = format_dropdown.options[format_dropdown.selectedIndex].value;\n",
       "    fig.ondownload(fig, format);\n",
       "};\n",
       "\n",
       "mpl.figure.prototype.handle_resize = function (fig, msg) {\n",
       "    var size = msg['size'];\n",
       "    if (size[0] !== fig.canvas.width || size[1] !== fig.canvas.height) {\n",
       "        fig._resize_canvas(size[0], size[1], msg['forward']);\n",
       "        fig.send_message('refresh', {});\n",
       "    }\n",
       "};\n",
       "\n",
       "mpl.figure.prototype.handle_rubberband = function (fig, msg) {\n",
       "    var x0 = msg['x0'] / fig.ratio;\n",
       "    var y0 = (fig.canvas.height - msg['y0']) / fig.ratio;\n",
       "    var x1 = msg['x1'] / fig.ratio;\n",
       "    var y1 = (fig.canvas.height - msg['y1']) / fig.ratio;\n",
       "    x0 = Math.floor(x0) + 0.5;\n",
       "    y0 = Math.floor(y0) + 0.5;\n",
       "    x1 = Math.floor(x1) + 0.5;\n",
       "    y1 = Math.floor(y1) + 0.5;\n",
       "    var min_x = Math.min(x0, x1);\n",
       "    var min_y = Math.min(y0, y1);\n",
       "    var width = Math.abs(x1 - x0);\n",
       "    var height = Math.abs(y1 - y0);\n",
       "\n",
       "    fig.rubberband_context.clearRect(\n",
       "        0,\n",
       "        0,\n",
       "        fig.canvas.width / fig.ratio,\n",
       "        fig.canvas.height / fig.ratio\n",
       "    );\n",
       "\n",
       "    fig.rubberband_context.strokeRect(min_x, min_y, width, height);\n",
       "};\n",
       "\n",
       "mpl.figure.prototype.handle_figure_label = function (fig, msg) {\n",
       "    // Updates the figure title.\n",
       "    fig.header.textContent = msg['label'];\n",
       "};\n",
       "\n",
       "mpl.figure.prototype.handle_cursor = function (fig, msg) {\n",
       "    var cursor = msg['cursor'];\n",
       "    switch (cursor) {\n",
       "        case 0:\n",
       "            cursor = 'pointer';\n",
       "            break;\n",
       "        case 1:\n",
       "            cursor = 'default';\n",
       "            break;\n",
       "        case 2:\n",
       "            cursor = 'crosshair';\n",
       "            break;\n",
       "        case 3:\n",
       "            cursor = 'move';\n",
       "            break;\n",
       "    }\n",
       "    fig.rubberband_canvas.style.cursor = cursor;\n",
       "};\n",
       "\n",
       "mpl.figure.prototype.handle_message = function (fig, msg) {\n",
       "    fig.message.textContent = msg['message'];\n",
       "};\n",
       "\n",
       "mpl.figure.prototype.handle_draw = function (fig, _msg) {\n",
       "    // Request the server to send over a new figure.\n",
       "    fig.send_draw_message();\n",
       "};\n",
       "\n",
       "mpl.figure.prototype.handle_image_mode = function (fig, msg) {\n",
       "    fig.image_mode = msg['mode'];\n",
       "};\n",
       "\n",
       "mpl.figure.prototype.handle_history_buttons = function (fig, msg) {\n",
       "    for (var key in msg) {\n",
       "        if (!(key in fig.buttons)) {\n",
       "            continue;\n",
       "        }\n",
       "        fig.buttons[key].disabled = !msg[key];\n",
       "        fig.buttons[key].setAttribute('aria-disabled', !msg[key]);\n",
       "    }\n",
       "};\n",
       "\n",
       "mpl.figure.prototype.handle_navigate_mode = function (fig, msg) {\n",
       "    if (msg['mode'] === 'PAN') {\n",
       "        fig.buttons['Pan'].classList.add('active');\n",
       "        fig.buttons['Zoom'].classList.remove('active');\n",
       "    } else if (msg['mode'] === 'ZOOM') {\n",
       "        fig.buttons['Pan'].classList.remove('active');\n",
       "        fig.buttons['Zoom'].classList.add('active');\n",
       "    } else {\n",
       "        fig.buttons['Pan'].classList.remove('active');\n",
       "        fig.buttons['Zoom'].classList.remove('active');\n",
       "    }\n",
       "};\n",
       "\n",
       "mpl.figure.prototype.updated_canvas_event = function () {\n",
       "    // Called whenever the canvas gets updated.\n",
       "    this.send_message('ack', {});\n",
       "};\n",
       "\n",
       "// A function to construct a web socket function for onmessage handling.\n",
       "// Called in the figure constructor.\n",
       "mpl.figure.prototype._make_on_message_function = function (fig) {\n",
       "    return function socket_on_message(evt) {\n",
       "        if (evt.data instanceof Blob) {\n",
       "            /* FIXME: We get \"Resource interpreted as Image but\n",
       "             * transferred with MIME type text/plain:\" errors on\n",
       "             * Chrome.  But how to set the MIME type?  It doesn't seem\n",
       "             * to be part of the websocket stream */\n",
       "            evt.data.type = 'image/png';\n",
       "\n",
       "            /* Free the memory for the previous frames */\n",
       "            if (fig.imageObj.src) {\n",
       "                (window.URL || window.webkitURL).revokeObjectURL(\n",
       "                    fig.imageObj.src\n",
       "                );\n",
       "            }\n",
       "\n",
       "            fig.imageObj.src = (window.URL || window.webkitURL).createObjectURL(\n",
       "                evt.data\n",
       "            );\n",
       "            fig.updated_canvas_event();\n",
       "            fig.waiting = false;\n",
       "            return;\n",
       "        } else if (\n",
       "            typeof evt.data === 'string' &&\n",
       "            evt.data.slice(0, 21) === 'data:image/png;base64'\n",
       "        ) {\n",
       "            fig.imageObj.src = evt.data;\n",
       "            fig.updated_canvas_event();\n",
       "            fig.waiting = false;\n",
       "            return;\n",
       "        }\n",
       "\n",
       "        var msg = JSON.parse(evt.data);\n",
       "        var msg_type = msg['type'];\n",
       "\n",
       "        // Call the  \"handle_{type}\" callback, which takes\n",
       "        // the figure and JSON message as its only arguments.\n",
       "        try {\n",
       "            var callback = fig['handle_' + msg_type];\n",
       "        } catch (e) {\n",
       "            console.log(\n",
       "                \"No handler for the '\" + msg_type + \"' message type: \",\n",
       "                msg\n",
       "            );\n",
       "            return;\n",
       "        }\n",
       "\n",
       "        if (callback) {\n",
       "            try {\n",
       "                // console.log(\"Handling '\" + msg_type + \"' message: \", msg);\n",
       "                callback(fig, msg);\n",
       "            } catch (e) {\n",
       "                console.log(\n",
       "                    \"Exception inside the 'handler_\" + msg_type + \"' callback:\",\n",
       "                    e,\n",
       "                    e.stack,\n",
       "                    msg\n",
       "                );\n",
       "            }\n",
       "        }\n",
       "    };\n",
       "};\n",
       "\n",
       "// from http://stackoverflow.com/questions/1114465/getting-mouse-location-in-canvas\n",
       "mpl.findpos = function (e) {\n",
       "    //this section is from http://www.quirksmode.org/js/events_properties.html\n",
       "    var targ;\n",
       "    if (!e) {\n",
       "        e = window.event;\n",
       "    }\n",
       "    if (e.target) {\n",
       "        targ = e.target;\n",
       "    } else if (e.srcElement) {\n",
       "        targ = e.srcElement;\n",
       "    }\n",
       "    if (targ.nodeType === 3) {\n",
       "        // defeat Safari bug\n",
       "        targ = targ.parentNode;\n",
       "    }\n",
       "\n",
       "    // pageX,Y are the mouse positions relative to the document\n",
       "    var boundingRect = targ.getBoundingClientRect();\n",
       "    var x = e.pageX - (boundingRect.left + document.body.scrollLeft);\n",
       "    var y = e.pageY - (boundingRect.top + document.body.scrollTop);\n",
       "\n",
       "    return { x: x, y: y };\n",
       "};\n",
       "\n",
       "/*\n",
       " * return a copy of an object with only non-object keys\n",
       " * we need this to avoid circular references\n",
       " * http://stackoverflow.com/a/24161582/3208463\n",
       " */\n",
       "function simpleKeys(original) {\n",
       "    return Object.keys(original).reduce(function (obj, key) {\n",
       "        if (typeof original[key] !== 'object') {\n",
       "            obj[key] = original[key];\n",
       "        }\n",
       "        return obj;\n",
       "    }, {});\n",
       "}\n",
       "\n",
       "mpl.figure.prototype.mouse_event = function (event, name) {\n",
       "    var canvas_pos = mpl.findpos(event);\n",
       "\n",
       "    if (name === 'button_press') {\n",
       "        this.canvas.focus();\n",
       "        this.canvas_div.focus();\n",
       "    }\n",
       "\n",
       "    var x = canvas_pos.x * this.ratio;\n",
       "    var y = canvas_pos.y * this.ratio;\n",
       "\n",
       "    this.send_message(name, {\n",
       "        x: x,\n",
       "        y: y,\n",
       "        button: event.button,\n",
       "        step: event.step,\n",
       "        guiEvent: simpleKeys(event),\n",
       "    });\n",
       "\n",
       "    /* This prevents the web browser from automatically changing to\n",
       "     * the text insertion cursor when the button is pressed.  We want\n",
       "     * to control all of the cursor setting manually through the\n",
       "     * 'cursor' event from matplotlib */\n",
       "    event.preventDefault();\n",
       "    return false;\n",
       "};\n",
       "\n",
       "mpl.figure.prototype._key_event_extra = function (_event, _name) {\n",
       "    // Handle any extra behaviour associated with a key event\n",
       "};\n",
       "\n",
       "mpl.figure.prototype.key_event = function (event, name) {\n",
       "    // Prevent repeat events\n",
       "    if (name === 'key_press') {\n",
       "        if (event.which === this._key) {\n",
       "            return;\n",
       "        } else {\n",
       "            this._key = event.which;\n",
       "        }\n",
       "    }\n",
       "    if (name === 'key_release') {\n",
       "        this._key = null;\n",
       "    }\n",
       "\n",
       "    var value = '';\n",
       "    if (event.ctrlKey && event.which !== 17) {\n",
       "        value += 'ctrl+';\n",
       "    }\n",
       "    if (event.altKey && event.which !== 18) {\n",
       "        value += 'alt+';\n",
       "    }\n",
       "    if (event.shiftKey && event.which !== 16) {\n",
       "        value += 'shift+';\n",
       "    }\n",
       "\n",
       "    value += 'k';\n",
       "    value += event.which.toString();\n",
       "\n",
       "    this._key_event_extra(event, name);\n",
       "\n",
       "    this.send_message(name, { key: value, guiEvent: simpleKeys(event) });\n",
       "    return false;\n",
       "};\n",
       "\n",
       "mpl.figure.prototype.toolbar_button_onclick = function (name) {\n",
       "    if (name === 'download') {\n",
       "        this.handle_save(this, null);\n",
       "    } else {\n",
       "        this.send_message('toolbar_button', { name: name });\n",
       "    }\n",
       "};\n",
       "\n",
       "mpl.figure.prototype.toolbar_button_onmouseover = function (tooltip) {\n",
       "    this.message.textContent = tooltip;\n",
       "};\n",
       "mpl.toolbar_items = [[\"Home\", \"Reset original view\", \"fa fa-home icon-home\", \"home\"], [\"Back\", \"Back to previous view\", \"fa fa-arrow-left icon-arrow-left\", \"back\"], [\"Forward\", \"Forward to next view\", \"fa fa-arrow-right icon-arrow-right\", \"forward\"], [\"\", \"\", \"\", \"\"], [\"Pan\", \"Left button pans, Right button zooms\\nx/y fixes axis, CTRL fixes aspect\", \"fa fa-arrows icon-move\", \"pan\"], [\"Zoom\", \"Zoom to rectangle\\nx/y fixes axis, CTRL fixes aspect\", \"fa fa-square-o icon-check-empty\", \"zoom\"], [\"\", \"\", \"\", \"\"], [\"Download\", \"Download plot\", \"fa fa-floppy-o icon-save\", \"download\"]];\n",
       "\n",
       "mpl.extensions = [\"eps\", \"jpeg\", \"pdf\", \"png\", \"ps\", \"raw\", \"svg\", \"tif\"];\n",
       "\n",
       "mpl.default_extension = \"png\";/* global mpl */\n",
       "\n",
       "var comm_websocket_adapter = function (comm) {\n",
       "    // Create a \"websocket\"-like object which calls the given IPython comm\n",
       "    // object with the appropriate methods. Currently this is a non binary\n",
       "    // socket, so there is still some room for performance tuning.\n",
       "    var ws = {};\n",
       "\n",
       "    ws.close = function () {\n",
       "        comm.close();\n",
       "    };\n",
       "    ws.send = function (m) {\n",
       "        //console.log('sending', m);\n",
       "        comm.send(m);\n",
       "    };\n",
       "    // Register the callback with on_msg.\n",
       "    comm.on_msg(function (msg) {\n",
       "        //console.log('receiving', msg['content']['data'], msg);\n",
       "        // Pass the mpl event to the overridden (by mpl) onmessage function.\n",
       "        ws.onmessage(msg['content']['data']);\n",
       "    });\n",
       "    return ws;\n",
       "};\n",
       "\n",
       "mpl.mpl_figure_comm = function (comm, msg) {\n",
       "    // This is the function which gets called when the mpl process\n",
       "    // starts-up an IPython Comm through the \"matplotlib\" channel.\n",
       "\n",
       "    var id = msg.content.data.id;\n",
       "    // Get hold of the div created by the display call when the Comm\n",
       "    // socket was opened in Python.\n",
       "    var element = document.getElementById(id);\n",
       "    var ws_proxy = comm_websocket_adapter(comm);\n",
       "\n",
       "    function ondownload(figure, _format) {\n",
       "        window.open(figure.canvas.toDataURL());\n",
       "    }\n",
       "\n",
       "    var fig = new mpl.figure(id, ws_proxy, ondownload, element);\n",
       "\n",
       "    // Call onopen now - mpl needs it, as it is assuming we've passed it a real\n",
       "    // web socket which is closed, not our websocket->open comm proxy.\n",
       "    ws_proxy.onopen();\n",
       "\n",
       "    fig.parent_element = element;\n",
       "    fig.cell_info = mpl.find_output_cell(\"<div id='\" + id + \"'></div>\");\n",
       "    if (!fig.cell_info) {\n",
       "        console.error('Failed to find cell for figure', id, fig);\n",
       "        return;\n",
       "    }\n",
       "    fig.cell_info[0].output_area.element.one(\n",
       "        'cleared',\n",
       "        { fig: fig },\n",
       "        fig._remove_fig_handler\n",
       "    );\n",
       "};\n",
       "\n",
       "mpl.figure.prototype.handle_close = function (fig, msg) {\n",
       "    var width = fig.canvas.width / fig.ratio;\n",
       "    fig.cell_info[0].output_area.element.off(\n",
       "        'cleared',\n",
       "        fig._remove_fig_handler\n",
       "    );\n",
       "\n",
       "    // Update the output cell to use the data from the current canvas.\n",
       "    fig.push_to_output();\n",
       "    var dataURL = fig.canvas.toDataURL();\n",
       "    // Re-enable the keyboard manager in IPython - without this line, in FF,\n",
       "    // the notebook keyboard shortcuts fail.\n",
       "    IPython.keyboard_manager.enable();\n",
       "    fig.parent_element.innerHTML =\n",
       "        '<img src=\"' + dataURL + '\" width=\"' + width + '\">';\n",
       "    fig.close_ws(fig, msg);\n",
       "};\n",
       "\n",
       "mpl.figure.prototype.close_ws = function (fig, msg) {\n",
       "    fig.send_message('closing', msg);\n",
       "    // fig.ws.close()\n",
       "};\n",
       "\n",
       "mpl.figure.prototype.push_to_output = function (_remove_interactive) {\n",
       "    // Turn the data on the canvas into data in the output cell.\n",
       "    var width = this.canvas.width / this.ratio;\n",
       "    var dataURL = this.canvas.toDataURL();\n",
       "    this.cell_info[1]['text/html'] =\n",
       "        '<img src=\"' + dataURL + '\" width=\"' + width + '\">';\n",
       "};\n",
       "\n",
       "mpl.figure.prototype.updated_canvas_event = function () {\n",
       "    // Tell IPython that the notebook contents must change.\n",
       "    IPython.notebook.set_dirty(true);\n",
       "    this.send_message('ack', {});\n",
       "    var fig = this;\n",
       "    // Wait a second, then push the new image to the DOM so\n",
       "    // that it is saved nicely (might be nice to debounce this).\n",
       "    setTimeout(function () {\n",
       "        fig.push_to_output();\n",
       "    }, 1000);\n",
       "};\n",
       "\n",
       "mpl.figure.prototype._init_toolbar = function () {\n",
       "    var fig = this;\n",
       "\n",
       "    var toolbar = document.createElement('div');\n",
       "    toolbar.classList = 'btn-toolbar';\n",
       "    this.root.appendChild(toolbar);\n",
       "\n",
       "    function on_click_closure(name) {\n",
       "        return function (_event) {\n",
       "            return fig.toolbar_button_onclick(name);\n",
       "        };\n",
       "    }\n",
       "\n",
       "    function on_mouseover_closure(tooltip) {\n",
       "        return function (event) {\n",
       "            if (!event.currentTarget.disabled) {\n",
       "                return fig.toolbar_button_onmouseover(tooltip);\n",
       "            }\n",
       "        };\n",
       "    }\n",
       "\n",
       "    fig.buttons = {};\n",
       "    var buttonGroup = document.createElement('div');\n",
       "    buttonGroup.classList = 'btn-group';\n",
       "    var button;\n",
       "    for (var toolbar_ind in mpl.toolbar_items) {\n",
       "        var name = mpl.toolbar_items[toolbar_ind][0];\n",
       "        var tooltip = mpl.toolbar_items[toolbar_ind][1];\n",
       "        var image = mpl.toolbar_items[toolbar_ind][2];\n",
       "        var method_name = mpl.toolbar_items[toolbar_ind][3];\n",
       "\n",
       "        if (!name) {\n",
       "            /* Instead of a spacer, we start a new button group. */\n",
       "            if (buttonGroup.hasChildNodes()) {\n",
       "                toolbar.appendChild(buttonGroup);\n",
       "            }\n",
       "            buttonGroup = document.createElement('div');\n",
       "            buttonGroup.classList = 'btn-group';\n",
       "            continue;\n",
       "        }\n",
       "\n",
       "        button = fig.buttons[name] = document.createElement('button');\n",
       "        button.classList = 'btn btn-default';\n",
       "        button.href = '#';\n",
       "        button.title = name;\n",
       "        button.innerHTML = '<i class=\"fa ' + image + ' fa-lg\"></i>';\n",
       "        button.addEventListener('click', on_click_closure(method_name));\n",
       "        button.addEventListener('mouseover', on_mouseover_closure(tooltip));\n",
       "        buttonGroup.appendChild(button);\n",
       "    }\n",
       "\n",
       "    if (buttonGroup.hasChildNodes()) {\n",
       "        toolbar.appendChild(buttonGroup);\n",
       "    }\n",
       "\n",
       "    // Add the status bar.\n",
       "    var status_bar = document.createElement('span');\n",
       "    status_bar.classList = 'mpl-message pull-right';\n",
       "    toolbar.appendChild(status_bar);\n",
       "    this.message = status_bar;\n",
       "\n",
       "    // Add the close button to the window.\n",
       "    var buttongrp = document.createElement('div');\n",
       "    buttongrp.classList = 'btn-group inline pull-right';\n",
       "    button = document.createElement('button');\n",
       "    button.classList = 'btn btn-mini btn-primary';\n",
       "    button.href = '#';\n",
       "    button.title = 'Stop Interaction';\n",
       "    button.innerHTML = '<i class=\"fa fa-power-off icon-remove icon-large\"></i>';\n",
       "    button.addEventListener('click', function (_evt) {\n",
       "        fig.handle_close(fig, {});\n",
       "    });\n",
       "    button.addEventListener(\n",
       "        'mouseover',\n",
       "        on_mouseover_closure('Stop Interaction')\n",
       "    );\n",
       "    buttongrp.appendChild(button);\n",
       "    var titlebar = this.root.querySelector('.ui-dialog-titlebar');\n",
       "    titlebar.insertBefore(buttongrp, titlebar.firstChild);\n",
       "};\n",
       "\n",
       "mpl.figure.prototype._remove_fig_handler = function (event) {\n",
       "    var fig = event.data.fig;\n",
       "    fig.close_ws(fig, {});\n",
       "};\n",
       "\n",
       "mpl.figure.prototype._root_extra_style = function (el) {\n",
       "    el.style.boxSizing = 'content-box'; // override notebook setting of border-box.\n",
       "};\n",
       "\n",
       "mpl.figure.prototype._canvas_extra_style = function (el) {\n",
       "    // this is important to make the div 'focusable\n",
       "    el.setAttribute('tabindex', 0);\n",
       "    // reach out to IPython and tell the keyboard manager to turn it's self\n",
       "    // off when our div gets focus\n",
       "\n",
       "    // location in version 3\n",
       "    if (IPython.notebook.keyboard_manager) {\n",
       "        IPython.notebook.keyboard_manager.register_events(el);\n",
       "    } else {\n",
       "        // location in version 2\n",
       "        IPython.keyboard_manager.register_events(el);\n",
       "    }\n",
       "};\n",
       "\n",
       "mpl.figure.prototype._key_event_extra = function (event, _name) {\n",
       "    var manager = IPython.notebook.keyboard_manager;\n",
       "    if (!manager) {\n",
       "        manager = IPython.keyboard_manager;\n",
       "    }\n",
       "\n",
       "    // Check for shift+enter\n",
       "    if (event.shiftKey && event.which === 13) {\n",
       "        this.canvas_div.blur();\n",
       "        // select the cell after this one\n",
       "        var index = IPython.notebook.find_cell_index(this.cell_info[0]);\n",
       "        IPython.notebook.select(index + 1);\n",
       "    }\n",
       "};\n",
       "\n",
       "mpl.figure.prototype.handle_save = function (fig, _msg) {\n",
       "    fig.ondownload(fig, null);\n",
       "};\n",
       "\n",
       "mpl.find_output_cell = function (html_output) {\n",
       "    // Return the cell and output element which can be found *uniquely* in the notebook.\n",
       "    // Note - this is a bit hacky, but it is done because the \"notebook_saving.Notebook\"\n",
       "    // IPython event is triggered only after the cells have been serialised, which for\n",
       "    // our purposes (turning an active figure into a static one), is too late.\n",
       "    var cells = IPython.notebook.get_cells();\n",
       "    var ncells = cells.length;\n",
       "    for (var i = 0; i < ncells; i++) {\n",
       "        var cell = cells[i];\n",
       "        if (cell.cell_type === 'code') {\n",
       "            for (var j = 0; j < cell.output_area.outputs.length; j++) {\n",
       "                var data = cell.output_area.outputs[j];\n",
       "                if (data.data) {\n",
       "                    // IPython >= 3 moved mimebundle to data attribute of output\n",
       "                    data = data.data;\n",
       "                }\n",
       "                if (data['text/html'] === html_output) {\n",
       "                    return [cell, data, j];\n",
       "                }\n",
       "            }\n",
       "        }\n",
       "    }\n",
       "};\n",
       "\n",
       "// Register the function which deals with the matplotlib target/channel.\n",
       "// The kernel may be null if the page has been refreshed.\n",
       "if (IPython.notebook.kernel !== null) {\n",
       "    IPython.notebook.kernel.comm_manager.register_target(\n",
       "        'matplotlib',\n",
       "        mpl.mpl_figure_comm\n",
       "    );\n",
       "}\n"
      ],
      "text/plain": [
       "<IPython.core.display.Javascript object>"
      ]
     },
     "metadata": {},
     "output_type": "display_data"
    },
    {
     "data": {
      "text/html": [
       "<img src=\"data:image/png;base64,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\" width=\"800\">"
      ],
      "text/plain": [
       "<IPython.core.display.HTML object>"
      ]
     },
     "metadata": {},
     "output_type": "display_data"
    }
   ],
   "source": [
    "#make the 3D plot\n",
    "%matplotlib notebook\n",
    "fig = plt.figure(figsize=(8,8))\n",
    "ax = plt.axes(projection='3d')\n",
    "surf = ax.plot_trisurf(x_sigma, y_gamma, z_MSE)\n",
    "ax.set_xlabel('sigma')\n",
    "ax.set_ylabel('gamma')\n",
    "ax.set_zlabel('cross-validation MSE')\n",
    "plt.show()"
   ]
  },
  {
   "cell_type": "markdown",
   "metadata": {},
   "source": [
    "### Question 5.c"
   ]
  },
  {
   "cell_type": "code",
   "execution_count": 43,
   "metadata": {},
   "outputs": [
    {
     "name": "stdout",
     "output_type": "stream",
     "text": [
      "8.87473376060806 11.502322641276866\n"
     ]
    }
   ],
   "source": [
    "features = list(df_train.columns)\n",
    "features.remove('MEDV')\n",
    "\n",
    "X_train, y_train = df_train[features].values, df_train[['MEDV']].values\n",
    "X_test, y_test = df_test[features].values, df_test[['MEDV']].values\n",
    "\n",
    "MSE_train = compute_MSE(X_train, X_train, y_train, y_train, sigma_best, gamma_best)\n",
    "MSE_test = compute_MSE(X_train, X_test, y_train, y_test, sigma_best, gamma_best)\n",
    "print(MSE_train, MSE_test)"
   ]
  },
  {
   "cell_type": "markdown",
   "metadata": {},
   "source": [
    "### Question 5.d"
   ]
  },
  {
   "cell_type": "code",
   "execution_count": 39,
   "metadata": {},
   "outputs": [],
   "source": [
    "#the tuning function for kernel ridge regression with progress visualization\n",
    "def cv_tunning(sigma_list, gamma_list, df_train, k=5):\n",
    "    n_train = int(len(df_train)*2/3)                                #define the number of training data\n",
    "    features = list(df_train.columns)\n",
    "    features.remove('MEDV')\n",
    "    MSE_list, sigma_best, gamma_best = [], 0, 0\n",
    "    for sigma in tqdm(sigma_list):\n",
    "        for gamma in gamma_list:\n",
    "            MSE_cv = []\n",
    "            for _ in range(k):    #k-fold cross-validation\n",
    "                #split the data\n",
    "                df_train_cv, df_test_cv = train_test_split(df_train, n_train)\n",
    "                X_train_cv, y_train_cv = df_train_cv[features].values, df_train_cv[['MEDV']].values\n",
    "                X_test_cv, y_test_cv = df_test_cv[features].values, df_test_cv[['MEDV']].values\n",
    "                #compute the MSE\n",
    "                MSE = compute_MSE(X_train_cv, X_test_cv, y_train_cv, y_test_cv, sigma, gamma)\n",
    "                MSE_cv.append(MSE)\n",
    "            print('sigma =', sigma, ', gamma =', gamma, ', MSE =', np.mean(MSE_cv))\n",
    "            MSE_min = min(MSE_list) if MSE_list else np.mean(MSE_cv)  #the minimum MSE of the previous combinations\n",
    "            if np.mean(MSE_cv) <= MSE_min:          #if the current sigma and gamma values give a lower averaged test MSE\n",
    "                sigma_best, gamma_best = sigma, gamma\n",
    "            MSE_list.append(np.mean(MSE_cv))\n",
    "    return sigma_best, gamma_best, MSE_list"
   ]
  },
  {
   "cell_type": "code",
   "execution_count": 43,
   "metadata": {},
   "outputs": [],
   "source": [
    "#function to evaluate models\n",
    "def evaluate_model(df, model, n):\n",
    "    '''\n",
    "    df: the data to be splited into training and test sets\n",
    "    model: the model used to make predictions\n",
    "    n: the number fo runs to perform\n",
    "    '''\n",
    "    MSE_train, MSE_test = [], []\n",
    "    n_train = int(len(df)*2/3)                                #define the number of training data\n",
    "    for i in tqdm(range(n)):\n",
    "        df_train, df_test = train_test_split(df, n_train)     #obtain the training and test sets\n",
    "        MSE = model(df_train, df_test)            \n",
    "        MSE_train.append(MSE[0])\n",
    "        MSE_test.append(MSE[1])\n",
    "        if model == kernelised_ridge_regression:\n",
    "            print(MSE)\n",
    "    return [np.mean(MSE_train), np.mean(MSE_test)], [np.std(MSE_train), np.std(MSE_test)]"
   ]
  },
  {
   "cell_type": "code",
   "execution_count": 44,
   "metadata": {
    "scrolled": true
   },
   "outputs": [
    {
     "name": "stderr",
     "output_type": "stream",
     "text": [
      "100%|█████████████████████████████████████████████████████████████████████████████████| 20/20 [00:00<00:00, 526.36it/s]\n",
      "100%|█████████████████████████████████████████████████████████████████████████████████| 20/20 [00:00<00:00, 246.90it/s]\n",
      "100%|█████████████████████████████████████████████████████████████████████████████████| 20/20 [00:00<00:00, 256.39it/s]\n",
      "100%|█████████████████████████████████████████████████████████████████████████████████| 20/20 [00:00<00:00, 253.16it/s]\n",
      "100%|█████████████████████████████████████████████████████████████████████████████████| 20/20 [00:00<00:00, 256.41it/s]\n",
      "100%|█████████████████████████████████████████████████████████████████████████████████| 20/20 [00:00<00:00, 256.41it/s]\n",
      "100%|█████████████████████████████████████████████████████████████████████████████████| 20/20 [00:00<00:00, 256.35it/s]\n",
      "100%|█████████████████████████████████████████████████████████████████████████████████| 20/20 [00:00<00:00, 212.80it/s]\n",
      "100%|█████████████████████████████████████████████████████████████████████████████████| 20/20 [00:00<00:00, 208.33it/s]\n",
      "100%|█████████████████████████████████████████████████████████████████████████████████| 20/20 [00:00<00:00, 214.99it/s]\n",
      "100%|█████████████████████████████████████████████████████████████████████████████████| 20/20 [00:00<00:00, 259.74it/s]\n",
      "100%|█████████████████████████████████████████████████████████████████████████████████| 20/20 [00:00<00:00, 194.23it/s]\n",
      "100%|█████████████████████████████████████████████████████████████████████████████████| 20/20 [00:00<00:00, 224.73it/s]\n",
      "100%|█████████████████████████████████████████████████████████████████████████████████| 20/20 [00:00<00:00, 159.68it/s]\n",
      "  0%|                                                                                           | 0/20 [00:00<?, ?it/s]\n",
      "  0%|                                                                                           | 0/13 [00:00<?, ?it/s]\u001b[A"
     ]
    },
    {
     "name": "stdout",
     "output_type": "stream",
     "text": [
      "sigma = 128.0 , gamma = 9.094947017729282e-13 , MSE = 2778.103727760737\n",
      "sigma = 128.0 , gamma = 1.8189894035458565e-12 , MSE = 1923.547611510839\n",
      "sigma = 128.0 , gamma = 3.637978807091713e-12 , MSE = 1382.8585158867331\n",
      "sigma = 128.0 , gamma = 7.275957614183426e-12 , MSE = 2559.3115774268726\n",
      "sigma = 128.0 , gamma = 1.4551915228366852e-11 , MSE = 1369.8285668186097\n",
      "sigma = 128.0 , gamma = 2.9103830456733704e-11 , MSE = 616.3585586741225\n",
      "sigma = 128.0 , gamma = 5.820766091346741e-11 , MSE = 251.7089827258203\n",
      "sigma = 128.0 , gamma = 1.1641532182693481e-10 , MSE = 182.4947192983767\n",
      "sigma = 128.0 , gamma = 2.3283064365386963e-10 , MSE = 218.8090840264353\n",
      "sigma = 128.0 , gamma = 4.656612873077393e-10 , MSE = 287.0407690307899\n",
      "sigma = 128.0 , gamma = 9.313225746154785e-10 , MSE = 47.400393562475934\n",
      "sigma = 128.0 , gamma = 1.862645149230957e-09 , MSE = 79.60236715185425\n",
      "sigma = 128.0 , gamma = 3.725290298461914e-09 , MSE = 79.15896220944038\n",
      "sigma = 128.0 , gamma = 7.450580596923828e-09 , MSE = 93.95626519976078\n"
     ]
    },
    {
     "name": "stderr",
     "output_type": "stream",
     "text": [
      "\n",
      "  8%|██████▍                                                                            | 1/13 [00:59<11:59, 59.94s/it]\u001b[A"
     ]
    },
    {
     "name": "stdout",
     "output_type": "stream",
     "text": [
      "sigma = 128.0 , gamma = 1.4901161193847656e-08 , MSE = 27.370247565850473\n",
      "sigma = 181.01933598375618 , gamma = 9.094947017729282e-13 , MSE = 1197.9823556542683\n",
      "sigma = 181.01933598375618 , gamma = 1.8189894035458565e-12 , MSE = 561.2359342565552\n",
      "sigma = 181.01933598375618 , gamma = 3.637978807091713e-12 , MSE = 1126.8077767851948\n",
      "sigma = 181.01933598375618 , gamma = 7.275957614183426e-12 , MSE = 680.5129766945646\n",
      "sigma = 181.01933598375618 , gamma = 1.4551915228366852e-11 , MSE = 872.3002486306489\n",
      "sigma = 181.01933598375618 , gamma = 2.9103830456733704e-11 , MSE = 265.7770347115709\n",
      "sigma = 181.01933598375618 , gamma = 5.820766091346741e-11 , MSE = 406.5193159893678\n",
      "sigma = 181.01933598375618 , gamma = 1.1641532182693481e-10 , MSE = 234.11814415437925\n",
      "sigma = 181.01933598375618 , gamma = 2.3283064365386963e-10 , MSE = 188.2691507620395\n",
      "sigma = 181.01933598375618 , gamma = 4.656612873077393e-10 , MSE = 50.68255376487211\n",
      "sigma = 181.01933598375618 , gamma = 9.313225746154785e-10 , MSE = 59.82840787676223\n",
      "sigma = 181.01933598375618 , gamma = 1.862645149230957e-09 , MSE = 29.240839689442918\n",
      "sigma = 181.01933598375618 , gamma = 3.725290298461914e-09 , MSE = 22.549387075417023\n",
      "sigma = 181.01933598375618 , gamma = 7.450580596923828e-09 , MSE = 24.848521078482793\n"
     ]
    },
    {
     "name": "stderr",
     "output_type": "stream",
     "text": [
      "\n",
      " 15%|████████████▊                                                                      | 2/13 [01:56<10:36, 57.86s/it]\u001b[A"
     ]
    },
    {
     "name": "stdout",
     "output_type": "stream",
     "text": [
      "sigma = 181.01933598375618 , gamma = 1.4901161193847656e-08 , MSE = 17.13668404337188\n",
      "sigma = 256.0 , gamma = 9.094947017729282e-13 , MSE = 13673.507806636271\n",
      "sigma = 256.0 , gamma = 1.8189894035458565e-12 , MSE = 527.0267200142762\n",
      "sigma = 256.0 , gamma = 3.637978807091713e-12 , MSE = 2854.0235053139672\n",
      "sigma = 256.0 , gamma = 7.275957614183426e-12 , MSE = 2179.760172690616\n",
      "sigma = 256.0 , gamma = 1.4551915228366852e-11 , MSE = 978.756854208832\n",
      "sigma = 256.0 , gamma = 2.9103830456733704e-11 , MSE = 34.655817678902466\n",
      "sigma = 256.0 , gamma = 5.820766091346741e-11 , MSE = 261.4625411622119\n",
      "sigma = 256.0 , gamma = 1.1641532182693481e-10 , MSE = 47.40043700596327\n",
      "sigma = 256.0 , gamma = 2.3283064365386963e-10 , MSE = 50.449136695037865\n",
      "sigma = 256.0 , gamma = 4.656612873077393e-10 , MSE = 45.72934440158808\n",
      "sigma = 256.0 , gamma = 9.313225746154785e-10 , MSE = 42.41931100977704\n",
      "sigma = 256.0 , gamma = 1.862645149230957e-09 , MSE = 39.37066776306129\n",
      "sigma = 256.0 , gamma = 3.725290298461914e-09 , MSE = 14.645680515632304\n",
      "sigma = 256.0 , gamma = 7.450580596923828e-09 , MSE = 24.142811844571874\n"
     ]
    },
    {
     "name": "stderr",
     "output_type": "stream",
     "text": [
      "\n",
      " 23%|███████████████████▏                                                               | 3/13 [02:51<09:24, 56.43s/it]\u001b[A"
     ]
    },
    {
     "name": "stdout",
     "output_type": "stream",
     "text": [
      "sigma = 256.0 , gamma = 1.4901161193847656e-08 , MSE = 21.159605813895844\n",
      "sigma = 362.03867196751236 , gamma = 9.094947017729282e-13 , MSE = 3310.4288882655737\n",
      "sigma = 362.03867196751236 , gamma = 1.8189894035458565e-12 , MSE = 155.54813478499509\n",
      "sigma = 362.03867196751236 , gamma = 3.637978807091713e-12 , MSE = 476.7063019766024\n",
      "sigma = 362.03867196751236 , gamma = 7.275957614183426e-12 , MSE = 1931.689522984685\n",
      "sigma = 362.03867196751236 , gamma = 1.4551915228366852e-11 , MSE = 446.4265171082599\n",
      "sigma = 362.03867196751236 , gamma = 2.9103830456733704e-11 , MSE = 310.41060939203925\n",
      "sigma = 362.03867196751236 , gamma = 5.820766091346741e-11 , MSE = 77.88732278532798\n",
      "sigma = 362.03867196751236 , gamma = 1.1641532182693481e-10 , MSE = 25.099219461499786\n",
      "sigma = 362.03867196751236 , gamma = 2.3283064365386963e-10 , MSE = 46.09073989591942\n",
      "sigma = 362.03867196751236 , gamma = 4.656612873077393e-10 , MSE = 28.069054902739584\n",
      "sigma = 362.03867196751236 , gamma = 9.313225746154785e-10 , MSE = 20.843532412198076\n",
      "sigma = 362.03867196751236 , gamma = 1.862645149230957e-09 , MSE = 25.091064297476084\n",
      "sigma = 362.03867196751236 , gamma = 3.725290298461914e-09 , MSE = 19.454036045146943\n",
      "sigma = 362.03867196751236 , gamma = 7.450580596923828e-09 , MSE = 21.753135750651033\n"
     ]
    },
    {
     "name": "stderr",
     "output_type": "stream",
     "text": [
      "\n",
      " 31%|█████████████████████████▌                                                         | 4/13 [03:46<08:23, 55.97s/it]\u001b[A"
     ]
    },
    {
     "name": "stdout",
     "output_type": "stream",
     "text": [
      "sigma = 362.03867196751236 , gamma = 1.4901161193847656e-08 , MSE = 20.463011794673044\n",
      "sigma = 512.0 , gamma = 9.094947017729282e-13 , MSE = 64.06846819195842\n",
      "sigma = 512.0 , gamma = 1.8189894035458565e-12 , MSE = 1559.6196462822722\n",
      "sigma = 512.0 , gamma = 3.637978807091713e-12 , MSE = 155.64865109855623\n",
      "sigma = 512.0 , gamma = 7.275957614183426e-12 , MSE = 242.28824702441244\n",
      "sigma = 512.0 , gamma = 1.4551915228366852e-11 , MSE = 62.968066693028405\n",
      "sigma = 512.0 , gamma = 2.9103830456733704e-11 , MSE = 113.66674192440821\n",
      "sigma = 512.0 , gamma = 5.820766091346741e-11 , MSE = 33.062128746922916\n",
      "sigma = 512.0 , gamma = 1.1641532182693481e-10 , MSE = 34.810459552362055\n",
      "sigma = 512.0 , gamma = 2.3283064365386963e-10 , MSE = 16.83568833217308\n",
      "sigma = 512.0 , gamma = 4.656612873077393e-10 , MSE = 20.40418176396195\n",
      "sigma = 512.0 , gamma = 9.313225746154785e-10 , MSE = 16.088172781594682\n",
      "sigma = 512.0 , gamma = 1.862645149230957e-09 , MSE = 22.883856880114944\n",
      "sigma = 512.0 , gamma = 3.725290298461914e-09 , MSE = 13.936841478521263\n",
      "sigma = 512.0 , gamma = 7.450580596923828e-09 , MSE = 17.089718610259524\n"
     ]
    },
    {
     "name": "stderr",
     "output_type": "stream",
     "text": [
      "\n",
      " 38%|███████████████████████████████▉                                                   | 5/13 [04:46<07:41, 57.66s/it]\u001b[A"
     ]
    },
    {
     "name": "stdout",
     "output_type": "stream",
     "text": [
      "sigma = 512.0 , gamma = 1.4901161193847656e-08 , MSE = 13.92921881302073\n",
      "sigma = 724.0773439350247 , gamma = 9.094947017729282e-13 , MSE = 27.857732902611225\n",
      "sigma = 724.0773439350247 , gamma = 1.8189894035458565e-12 , MSE = 329.6421566537385\n",
      "sigma = 724.0773439350247 , gamma = 3.637978807091713e-12 , MSE = 82.87295732110269\n",
      "sigma = 724.0773439350247 , gamma = 7.275957614183426e-12 , MSE = 24.8246028860513\n",
      "sigma = 724.0773439350247 , gamma = 1.4551915228366852e-11 , MSE = 12.38331015442031\n",
      "sigma = 724.0773439350247 , gamma = 2.9103830456733704e-11 , MSE = 17.533671214038172\n",
      "sigma = 724.0773439350247 , gamma = 5.820766091346741e-11 , MSE = 16.508315500770532\n",
      "sigma = 724.0773439350247 , gamma = 1.1641532182693481e-10 , MSE = 23.21122305108296\n",
      "sigma = 724.0773439350247 , gamma = 2.3283064365386963e-10 , MSE = 54.429374326646645\n",
      "sigma = 724.0773439350247 , gamma = 4.656612873077393e-10 , MSE = 32.75828738803101\n",
      "sigma = 724.0773439350247 , gamma = 9.313225746154785e-10 , MSE = 21.03580323495754\n",
      "sigma = 724.0773439350247 , gamma = 1.862645149230957e-09 , MSE = 11.682172970730505\n",
      "sigma = 724.0773439350247 , gamma = 3.725290298461914e-09 , MSE = 15.24051364400203\n",
      "sigma = 724.0773439350247 , gamma = 7.450580596923828e-09 , MSE = 17.65038953200398\n"
     ]
    },
    {
     "name": "stderr",
     "output_type": "stream",
     "text": [
      "\n",
      " 46%|██████████████████████████████████████▎                                            | 6/13 [05:51<06:59, 59.92s/it]\u001b[A"
     ]
    },
    {
     "name": "stdout",
     "output_type": "stream",
     "text": [
      "sigma = 724.0773439350247 , gamma = 1.4901161193847656e-08 , MSE = 16.475920051710638\n",
      "sigma = 1024.0 , gamma = 9.094947017729282e-13 , MSE = 66.95697907788185\n",
      "sigma = 1024.0 , gamma = 1.8189894035458565e-12 , MSE = 17.68305789989944\n",
      "sigma = 1024.0 , gamma = 3.637978807091713e-12 , MSE = 23.713765574842174\n",
      "sigma = 1024.0 , gamma = 7.275957614183426e-12 , MSE = 27.874523144116814\n",
      "sigma = 1024.0 , gamma = 1.4551915228366852e-11 , MSE = 14.10241871262564\n",
      "sigma = 1024.0 , gamma = 2.9103830456733704e-11 , MSE = 50.06864636010597\n",
      "sigma = 1024.0 , gamma = 5.820766091346741e-11 , MSE = 14.44296287253537\n",
      "sigma = 1024.0 , gamma = 1.1641532182693481e-10 , MSE = 12.684130501570333\n",
      "sigma = 1024.0 , gamma = 2.3283064365386963e-10 , MSE = 17.693349124611405\n",
      "sigma = 1024.0 , gamma = 4.656612873077393e-10 , MSE = 17.29680568907486\n",
      "sigma = 1024.0 , gamma = 9.313225746154785e-10 , MSE = 20.251078281887896\n",
      "sigma = 1024.0 , gamma = 1.862645149230957e-09 , MSE = 23.637702888057653\n",
      "sigma = 1024.0 , gamma = 3.725290298461914e-09 , MSE = 17.655615248269662\n",
      "sigma = 1024.0 , gamma = 7.450580596923828e-09 , MSE = 21.548112432372648\n"
     ]
    },
    {
     "name": "stderr",
     "output_type": "stream",
     "text": [
      "\n",
      " 54%|████████████████████████████████████████████▋                                      | 7/13 [06:47<05:53, 58.87s/it]\u001b[A"
     ]
    },
    {
     "name": "stdout",
     "output_type": "stream",
     "text": [
      "sigma = 1024.0 , gamma = 1.4901161193847656e-08 , MSE = 22.60270520259599\n",
      "sigma = 1448.1546878700494 , gamma = 9.094947017729282e-13 , MSE = 55.26485595043549\n",
      "sigma = 1448.1546878700494 , gamma = 1.8189894035458565e-12 , MSE = 30.55879347839715\n",
      "sigma = 1448.1546878700494 , gamma = 3.637978807091713e-12 , MSE = 39.71068441804803\n",
      "sigma = 1448.1546878700494 , gamma = 7.275957614183426e-12 , MSE = 53.79666550150356\n",
      "sigma = 1448.1546878700494 , gamma = 1.4551915228366852e-11 , MSE = 21.220130824386374\n",
      "sigma = 1448.1546878700494 , gamma = 2.9103830456733704e-11 , MSE = 26.789320483142838\n",
      "sigma = 1448.1546878700494 , gamma = 5.820766091346741e-11 , MSE = 21.064808881143193\n",
      "sigma = 1448.1546878700494 , gamma = 1.1641532182693481e-10 , MSE = 23.032001911540082\n",
      "sigma = 1448.1546878700494 , gamma = 2.3283064365386963e-10 , MSE = 18.66197494860827\n",
      "sigma = 1448.1546878700494 , gamma = 4.656612873077393e-10 , MSE = 17.5201249457471\n",
      "sigma = 1448.1546878700494 , gamma = 9.313225746154785e-10 , MSE = 25.491514299362276\n",
      "sigma = 1448.1546878700494 , gamma = 1.862645149230957e-09 , MSE = 15.447004512514258\n",
      "sigma = 1448.1546878700494 , gamma = 3.725290298461914e-09 , MSE = 26.679201928878776\n",
      "sigma = 1448.1546878700494 , gamma = 7.450580596923828e-09 , MSE = 20.735336294527784\n"
     ]
    },
    {
     "name": "stderr",
     "output_type": "stream",
     "text": [
      "\n",
      " 62%|███████████████████████████████████████████████████                                | 8/13 [07:45<04:52, 58.45s/it]\u001b[A"
     ]
    },
    {
     "name": "stdout",
     "output_type": "stream",
     "text": [
      "sigma = 1448.1546878700494 , gamma = 1.4901161193847656e-08 , MSE = 26.01574373092088\n",
      "sigma = 2048.0 , gamma = 9.094947017729282e-13 , MSE = 22.928617180720227\n",
      "sigma = 2048.0 , gamma = 1.8189894035458565e-12 , MSE = 52.210014228199114\n",
      "sigma = 2048.0 , gamma = 3.637978807091713e-12 , MSE = 14.81010465968987\n",
      "sigma = 2048.0 , gamma = 7.275957614183426e-12 , MSE = 19.22163027373633\n",
      "sigma = 2048.0 , gamma = 1.4551915228366852e-11 , MSE = 42.055861298335536\n",
      "sigma = 2048.0 , gamma = 2.9103830456733704e-11 , MSE = 13.37056149807977\n",
      "sigma = 2048.0 , gamma = 5.820766091346741e-11 , MSE = 18.55160059152703\n",
      "sigma = 2048.0 , gamma = 1.1641532182693481e-10 , MSE = 16.902134030784723\n",
      "sigma = 2048.0 , gamma = 2.3283064365386963e-10 , MSE = 14.736324632092598\n",
      "sigma = 2048.0 , gamma = 4.656612873077393e-10 , MSE = 21.729059899984584\n",
      "sigma = 2048.0 , gamma = 9.313225746154785e-10 , MSE = 20.97852792020087\n",
      "sigma = 2048.0 , gamma = 1.862645149230957e-09 , MSE = 21.375818508685143\n",
      "sigma = 2048.0 , gamma = 3.725290298461914e-09 , MSE = 27.37911882953322\n",
      "sigma = 2048.0 , gamma = 7.450580596923828e-09 , MSE = 24.38824927970753\n"
     ]
    },
    {
     "name": "stderr",
     "output_type": "stream",
     "text": [
      "\n",
      " 69%|█████████████████████████████████████████████████████████▍                         | 9/13 [08:47<03:58, 59.68s/it]\u001b[A"
     ]
    },
    {
     "name": "stdout",
     "output_type": "stream",
     "text": [
      "sigma = 2048.0 , gamma = 1.4901161193847656e-08 , MSE = 27.34886877748325\n",
      "sigma = 2896.309375740099 , gamma = 9.094947017729282e-13 , MSE = 33.85323297480575\n",
      "sigma = 2896.309375740099 , gamma = 1.8189894035458565e-12 , MSE = 14.050773445298688\n",
      "sigma = 2896.309375740099 , gamma = 3.637978807091713e-12 , MSE = 14.290571138689227\n",
      "sigma = 2896.309375740099 , gamma = 7.275957614183426e-12 , MSE = 20.257932805064105\n",
      "sigma = 2896.309375740099 , gamma = 1.4551915228366852e-11 , MSE = 13.847472308275346\n",
      "sigma = 2896.309375740099 , gamma = 2.9103830456733704e-11 , MSE = 15.90277419576758\n",
      "sigma = 2896.309375740099 , gamma = 5.820766091346741e-11 , MSE = 16.281102767322853\n",
      "sigma = 2896.309375740099 , gamma = 1.1641532182693481e-10 , MSE = 14.777469394336297\n",
      "sigma = 2896.309375740099 , gamma = 2.3283064365386963e-10 , MSE = 18.766906637008752\n",
      "sigma = 2896.309375740099 , gamma = 4.656612873077393e-10 , MSE = 18.98690055372498\n",
      "sigma = 2896.309375740099 , gamma = 9.313225746154785e-10 , MSE = 27.875869961127854\n",
      "sigma = 2896.309375740099 , gamma = 1.862645149230957e-09 , MSE = 26.93078579946914\n",
      "sigma = 2896.309375740099 , gamma = 3.725290298461914e-09 , MSE = 25.80587920725494\n",
      "sigma = 2896.309375740099 , gamma = 7.450580596923828e-09 , MSE = 27.908621487204613\n"
     ]
    },
    {
     "name": "stderr",
     "output_type": "stream",
     "text": [
      "\n",
      " 77%|███████████████████████████████████████████████████████████████                   | 10/13 [09:48<03:00, 60.05s/it]\u001b[A"
     ]
    },
    {
     "name": "stdout",
     "output_type": "stream",
     "text": [
      "sigma = 2896.309375740099 , gamma = 1.4901161193847656e-08 , MSE = 29.99432702942199\n",
      "sigma = 4096.0 , gamma = 9.094947017729282e-13 , MSE = 22.00669522267264\n",
      "sigma = 4096.0 , gamma = 1.8189894035458565e-12 , MSE = 13.763077652328786\n",
      "sigma = 4096.0 , gamma = 3.637978807091713e-12 , MSE = 16.279887737958894\n",
      "sigma = 4096.0 , gamma = 7.275957614183426e-12 , MSE = 15.345249377167494\n",
      "sigma = 4096.0 , gamma = 1.4551915228366852e-11 , MSE = 16.20167348474258\n",
      "sigma = 4096.0 , gamma = 2.9103830456733704e-11 , MSE = 15.928874286966913\n",
      "sigma = 4096.0 , gamma = 5.820766091346741e-11 , MSE = 20.0100139997627\n",
      "sigma = 4096.0 , gamma = 1.1641532182693481e-10 , MSE = 21.946378393363688\n",
      "sigma = 4096.0 , gamma = 2.3283064365386963e-10 , MSE = 28.093019175232985\n",
      "sigma = 4096.0 , gamma = 4.656612873077393e-10 , MSE = 25.582391142391725\n",
      "sigma = 4096.0 , gamma = 9.313225746154785e-10 , MSE = 26.44325129755465\n",
      "sigma = 4096.0 , gamma = 1.862645149230957e-09 , MSE = 30.14429290448201\n",
      "sigma = 4096.0 , gamma = 3.725290298461914e-09 , MSE = 29.726420476371487\n",
      "sigma = 4096.0 , gamma = 7.450580596923828e-09 , MSE = 26.205650585686527\n"
     ]
    },
    {
     "name": "stderr",
     "output_type": "stream",
     "text": [
      "\n",
      " 85%|█████████████████████████████████████████████████████████████████████▍            | 11/13 [10:56<02:04, 62.27s/it]\u001b[A"
     ]
    },
    {
     "name": "stdout",
     "output_type": "stream",
     "text": [
      "sigma = 4096.0 , gamma = 1.4901161193847656e-08 , MSE = 24.608390068317807\n",
      "sigma = 5792.618751480198 , gamma = 9.094947017729282e-13 , MSE = 15.3672496577321\n",
      "sigma = 5792.618751480198 , gamma = 1.8189894035458565e-12 , MSE = 14.341089875430114\n",
      "sigma = 5792.618751480198 , gamma = 3.637978807091713e-12 , MSE = 13.894770169136342\n",
      "sigma = 5792.618751480198 , gamma = 7.275957614183426e-12 , MSE = 18.858843326141702\n",
      "sigma = 5792.618751480198 , gamma = 1.4551915228366852e-11 , MSE = 24.781438408373965\n",
      "sigma = 5792.618751480198 , gamma = 2.9103830456733704e-11 , MSE = 18.19631783545575\n",
      "sigma = 5792.618751480198 , gamma = 5.820766091346741e-11 , MSE = 25.594203432894727\n",
      "sigma = 5792.618751480198 , gamma = 1.1641532182693481e-10 , MSE = 22.203344259842453\n",
      "sigma = 5792.618751480198 , gamma = 2.3283064365386963e-10 , MSE = 26.10771536560888\n",
      "sigma = 5792.618751480198 , gamma = 4.656612873077393e-10 , MSE = 23.725868310398578\n",
      "sigma = 5792.618751480198 , gamma = 9.313225746154785e-10 , MSE = 26.94747581822612\n",
      "sigma = 5792.618751480198 , gamma = 1.862645149230957e-09 , MSE = 29.557498826715594\n",
      "sigma = 5792.618751480198 , gamma = 3.725290298461914e-09 , MSE = 25.57687766669604\n",
      "sigma = 5792.618751480198 , gamma = 7.450580596923828e-09 , MSE = 29.594363774979108\n"
     ]
    },
    {
     "name": "stderr",
     "output_type": "stream",
     "text": [
      "\n",
      " 92%|███████████████████████████████████████████████████████████████████████████▋      | 12/13 [11:53<01:00, 60.66s/it]\u001b[A"
     ]
    },
    {
     "name": "stdout",
     "output_type": "stream",
     "text": [
      "sigma = 5792.618751480198 , gamma = 1.4901161193847656e-08 , MSE = 27.558344867532504\n",
      "sigma = 8192.0 , gamma = 9.094947017729282e-13 , MSE = 18.44647632897294\n",
      "sigma = 8192.0 , gamma = 1.8189894035458565e-12 , MSE = 19.703106465619268\n",
      "sigma = 8192.0 , gamma = 3.637978807091713e-12 , MSE = 20.304266124647278\n",
      "sigma = 8192.0 , gamma = 7.275957614183426e-12 , MSE = 25.648611621152167\n",
      "sigma = 8192.0 , gamma = 1.4551915228366852e-11 , MSE = 25.76689084649948\n",
      "sigma = 8192.0 , gamma = 2.9103830456733704e-11 , MSE = 24.12579331539049\n",
      "sigma = 8192.0 , gamma = 5.820766091346741e-11 , MSE = 25.4315777534268\n",
      "sigma = 8192.0 , gamma = 1.1641532182693481e-10 , MSE = 27.39723221225853\n",
      "sigma = 8192.0 , gamma = 2.3283064365386963e-10 , MSE = 29.51877992130028\n",
      "sigma = 8192.0 , gamma = 4.656612873077393e-10 , MSE = 27.427654393697367\n",
      "sigma = 8192.0 , gamma = 9.313225746154785e-10 , MSE = 31.73461491184309\n",
      "sigma = 8192.0 , gamma = 1.862645149230957e-09 , MSE = 27.511490319685862\n",
      "sigma = 8192.0 , gamma = 3.725290298461914e-09 , MSE = 31.26029065555729\n",
      "sigma = 8192.0 , gamma = 7.450580596923828e-09 , MSE = 28.605673878538845\n"
     ]
    },
    {
     "name": "stderr",
     "output_type": "stream",
     "text": [
      "\n",
      "100%|██████████████████████████████████████████████████████████████████████████████████| 13/13 [12:49<00:00, 59.15s/it]\u001b[A"
     ]
    },
    {
     "name": "stdout",
     "output_type": "stream",
     "text": [
      "sigma = 8192.0 , gamma = 1.4901161193847656e-08 , MSE = 30.362510761208462\n"
     ]
    },
    {
     "name": "stderr",
     "output_type": "stream",
     "text": [
      "\n",
      "  5%|████                                                                            | 1/20 [12:52<4:04:45, 772.90s/it]\n",
      "  0%|                                                                                           | 0/13 [00:00<?, ?it/s]\u001b[A"
     ]
    },
    {
     "name": "stdout",
     "output_type": "stream",
     "text": [
      "[8.874733740882727, 11.502322494682922]\n",
      "sigma = 128.0 , gamma = 9.094947017729282e-13 , MSE = 957.1783024551384\n",
      "sigma = 128.0 , gamma = 1.8189894035458565e-12 , MSE = 1343.6517541709977\n",
      "sigma = 128.0 , gamma = 3.637978807091713e-12 , MSE = 742.3731883120248\n",
      "sigma = 128.0 , gamma = 7.275957614183426e-12 , MSE = 1449.936791006508\n",
      "sigma = 128.0 , gamma = 1.4551915228366852e-11 , MSE = 791.4268064022756\n",
      "sigma = 128.0 , gamma = 2.9103830456733704e-11 , MSE = 319.15012959092934\n",
      "sigma = 128.0 , gamma = 5.820766091346741e-11 , MSE = 174.7456538370884\n",
      "sigma = 128.0 , gamma = 1.1641532182693481e-10 , MSE = 91.72189873661668\n",
      "sigma = 128.0 , gamma = 2.3283064365386963e-10 , MSE = 113.11900865229882\n",
      "sigma = 128.0 , gamma = 4.656612873077393e-10 , MSE = 51.17969384027242\n",
      "sigma = 128.0 , gamma = 9.313225746154785e-10 , MSE = 33.196018709226344\n",
      "sigma = 128.0 , gamma = 1.862645149230957e-09 , MSE = 32.94306884513333\n",
      "sigma = 128.0 , gamma = 3.725290298461914e-09 , MSE = 27.563720068809317\n",
      "sigma = 128.0 , gamma = 7.450580596923828e-09 , MSE = 45.55396388023295\n"
     ]
    },
    {
     "name": "stderr",
     "output_type": "stream",
     "text": [
      "\n",
      "  8%|██████▍                                                                            | 1/13 [00:54<10:55, 54.64s/it]\u001b[A"
     ]
    },
    {
     "name": "stdout",
     "output_type": "stream",
     "text": [
      "sigma = 128.0 , gamma = 1.4901161193847656e-08 , MSE = 19.316287880708504\n",
      "sigma = 181.01933598375618 , gamma = 9.094947017729282e-13 , MSE = 508.1554970095247\n",
      "sigma = 181.01933598375618 , gamma = 1.8189894035458565e-12 , MSE = 323.6910467930202\n",
      "sigma = 181.01933598375618 , gamma = 3.637978807091713e-12 , MSE = 485.4647165286011\n",
      "sigma = 181.01933598375618 , gamma = 7.275957614183426e-12 , MSE = 140.5970265948128\n",
      "sigma = 181.01933598375618 , gamma = 1.4551915228366852e-11 , MSE = 295.9167703201164\n",
      "sigma = 181.01933598375618 , gamma = 2.9103830456733704e-11 , MSE = 450.1675947880195\n",
      "sigma = 181.01933598375618 , gamma = 5.820766091346741e-11 , MSE = 45.646941234309686\n",
      "sigma = 181.01933598375618 , gamma = 1.1641532182693481e-10 , MSE = 75.80934741321867\n",
      "sigma = 181.01933598375618 , gamma = 2.3283064365386963e-10 , MSE = 44.824661453117955\n",
      "sigma = 181.01933598375618 , gamma = 4.656612873077393e-10 , MSE = 50.3379516990698\n",
      "sigma = 181.01933598375618 , gamma = 9.313225746154785e-10 , MSE = 39.98647950240389\n",
      "sigma = 181.01933598375618 , gamma = 1.862645149230957e-09 , MSE = 28.876967783560634\n",
      "sigma = 181.01933598375618 , gamma = 3.725290298461914e-09 , MSE = 24.047415913478215\n",
      "sigma = 181.01933598375618 , gamma = 7.450580596923828e-09 , MSE = 32.957249046957145\n"
     ]
    },
    {
     "name": "stderr",
     "output_type": "stream",
     "text": [
      "\n",
      " 15%|████████████▊                                                                      | 2/13 [01:51<10:15, 55.96s/it]\u001b[A"
     ]
    },
    {
     "name": "stdout",
     "output_type": "stream",
     "text": [
      "sigma = 181.01933598375618 , gamma = 1.4901161193847656e-08 , MSE = 13.483507181477218\n",
      "sigma = 256.0 , gamma = 9.094947017729282e-13 , MSE = 648.0134190841029\n",
      "sigma = 256.0 , gamma = 1.8189894035458565e-12 , MSE = 165.72658099709594\n",
      "sigma = 256.0 , gamma = 3.637978807091713e-12 , MSE = 154.1482764382665\n",
      "sigma = 256.0 , gamma = 7.275957614183426e-12 , MSE = 100.64407319376983\n",
      "sigma = 256.0 , gamma = 1.4551915228366852e-11 , MSE = 65.56017182598826\n",
      "sigma = 256.0 , gamma = 2.9103830456733704e-11 , MSE = 136.62459833693265\n",
      "sigma = 256.0 , gamma = 5.820766091346741e-11 , MSE = 27.9789296550994\n",
      "sigma = 256.0 , gamma = 1.1641532182693481e-10 , MSE = 57.985519736754874\n",
      "sigma = 256.0 , gamma = 2.3283064365386963e-10 , MSE = 21.59039888376759\n",
      "sigma = 256.0 , gamma = 4.656612873077393e-10 , MSE = 34.289113547482415\n",
      "sigma = 256.0 , gamma = 9.313225746154785e-10 , MSE = 16.271208769460095\n",
      "sigma = 256.0 , gamma = 1.862645149230957e-09 , MSE = 17.816622201439245\n",
      "sigma = 256.0 , gamma = 3.725290298461914e-09 , MSE = 16.101065618418083\n",
      "sigma = 256.0 , gamma = 7.450580596923828e-09 , MSE = 18.18908837367306\n"
     ]
    },
    {
     "name": "stderr",
     "output_type": "stream",
     "text": [
      "\n",
      " 23%|███████████████████▏                                                               | 3/13 [02:46<09:13, 55.33s/it]\u001b[A"
     ]
    },
    {
     "name": "stdout",
     "output_type": "stream",
     "text": [
      "sigma = 256.0 , gamma = 1.4901161193847656e-08 , MSE = 20.949503075195334\n",
      "sigma = 362.03867196751236 , gamma = 9.094947017729282e-13 , MSE = 85.71766524678733\n",
      "sigma = 362.03867196751236 , gamma = 1.8189894035458565e-12 , MSE = 64.36230006634102\n",
      "sigma = 362.03867196751236 , gamma = 3.637978807091713e-12 , MSE = 71.26904349732328\n",
      "sigma = 362.03867196751236 , gamma = 7.275957614183426e-12 , MSE = 34.53985023102116\n",
      "sigma = 362.03867196751236 , gamma = 1.4551915228366852e-11 , MSE = 23.06624186875008\n",
      "sigma = 362.03867196751236 , gamma = 2.9103830456733704e-11 , MSE = 24.98772109197686\n",
      "sigma = 362.03867196751236 , gamma = 5.820766091346741e-11 , MSE = 34.727043694289634\n",
      "sigma = 362.03867196751236 , gamma = 1.1641532182693481e-10 , MSE = 29.779532246244333\n",
      "sigma = 362.03867196751236 , gamma = 2.3283064365386963e-10 , MSE = 21.159023906727946\n",
      "sigma = 362.03867196751236 , gamma = 4.656612873077393e-10 , MSE = 16.81073897059934\n",
      "sigma = 362.03867196751236 , gamma = 9.313225746154785e-10 , MSE = 17.55814079291423\n",
      "sigma = 362.03867196751236 , gamma = 1.862645149230957e-09 , MSE = 16.762211084969643\n",
      "sigma = 362.03867196751236 , gamma = 3.725290298461914e-09 , MSE = 13.502915714559531\n",
      "sigma = 362.03867196751236 , gamma = 7.450580596923828e-09 , MSE = 14.813750529404976\n"
     ]
    },
    {
     "name": "stderr",
     "output_type": "stream",
     "text": [
      "\n",
      " 31%|█████████████████████████▌                                                         | 4/13 [03:40<08:15, 55.03s/it]\u001b[A"
     ]
    },
    {
     "name": "stdout",
     "output_type": "stream",
     "text": [
      "sigma = 362.03867196751236 , gamma = 1.4901161193847656e-08 , MSE = 11.81170353545451\n",
      "sigma = 512.0 , gamma = 9.094947017729282e-13 , MSE = 28.46143869713469\n",
      "sigma = 512.0 , gamma = 1.8189894035458565e-12 , MSE = 39.35437790920351\n",
      "sigma = 512.0 , gamma = 3.637978807091713e-12 , MSE = 25.564979840077577\n",
      "sigma = 512.0 , gamma = 7.275957614183426e-12 , MSE = 272.3010737081008\n",
      "sigma = 512.0 , gamma = 1.4551915228366852e-11 , MSE = 18.185678964590846\n",
      "sigma = 512.0 , gamma = 2.9103830456733704e-11 , MSE = 15.069705542252407\n",
      "sigma = 512.0 , gamma = 5.820766091346741e-11 , MSE = 19.199817993124057\n",
      "sigma = 512.0 , gamma = 1.1641532182693481e-10 , MSE = 15.992919730830954\n",
      "sigma = 512.0 , gamma = 2.3283064365386963e-10 , MSE = 15.283754784122868\n",
      "sigma = 512.0 , gamma = 4.656612873077393e-10 , MSE = 16.47633449485596\n",
      "sigma = 512.0 , gamma = 9.313225746154785e-10 , MSE = 14.685223411222484\n",
      "sigma = 512.0 , gamma = 1.862645149230957e-09 , MSE = 15.824808108381125\n",
      "sigma = 512.0 , gamma = 3.725290298461914e-09 , MSE = 13.290912802208334\n",
      "sigma = 512.0 , gamma = 7.450580596923828e-09 , MSE = 12.765485925706225\n"
     ]
    },
    {
     "name": "stderr",
     "output_type": "stream",
     "text": [
      "\n",
      " 38%|███████████████████████████████▉                                                   | 5/13 [04:38<07:27, 55.92s/it]\u001b[A"
     ]
    },
    {
     "name": "stdout",
     "output_type": "stream",
     "text": [
      "sigma = 512.0 , gamma = 1.4901161193847656e-08 , MSE = 14.138270065088907\n",
      "sigma = 724.0773439350247 , gamma = 9.094947017729282e-13 , MSE = 22.030380738080417\n",
      "sigma = 724.0773439350247 , gamma = 1.8189894035458565e-12 , MSE = 19.824288184537515\n",
      "sigma = 724.0773439350247 , gamma = 3.637978807091713e-12 , MSE = 19.99180012056008\n",
      "sigma = 724.0773439350247 , gamma = 7.275957614183426e-12 , MSE = 27.708178532542348\n",
      "sigma = 724.0773439350247 , gamma = 1.4551915228366852e-11 , MSE = 14.704257560332929\n",
      "sigma = 724.0773439350247 , gamma = 2.9103830456733704e-11 , MSE = 15.301864587303546\n",
      "sigma = 724.0773439350247 , gamma = 5.820766091346741e-11 , MSE = 13.467633826157376\n",
      "sigma = 724.0773439350247 , gamma = 1.1641532182693481e-10 , MSE = 12.295632348983304\n",
      "sigma = 724.0773439350247 , gamma = 2.3283064365386963e-10 , MSE = 17.52902267842408\n",
      "sigma = 724.0773439350247 , gamma = 4.656612873077393e-10 , MSE = 11.556852116555905\n",
      "sigma = 724.0773439350247 , gamma = 9.313225746154785e-10 , MSE = 11.839658189994008\n",
      "sigma = 724.0773439350247 , gamma = 1.862645149230957e-09 , MSE = 14.277815762288208\n",
      "sigma = 724.0773439350247 , gamma = 3.725290298461914e-09 , MSE = 13.816725781579612\n",
      "sigma = 724.0773439350247 , gamma = 7.450580596923828e-09 , MSE = 14.98960598480571\n"
     ]
    },
    {
     "name": "stderr",
     "output_type": "stream",
     "text": [
      "\n",
      " 46%|██████████████████████████████████████▎                                            | 6/13 [05:40<06:46, 58.10s/it]\u001b[A"
     ]
    },
    {
     "name": "stdout",
     "output_type": "stream",
     "text": [
      "sigma = 724.0773439350247 , gamma = 1.4901161193847656e-08 , MSE = 12.848581751107698\n",
      "sigma = 1024.0 , gamma = 9.094947017729282e-13 , MSE = 16.424510431569175\n",
      "sigma = 1024.0 , gamma = 1.8189894035458565e-12 , MSE = 14.492612160906935\n",
      "sigma = 1024.0 , gamma = 3.637978807091713e-12 , MSE = 19.755973936857604\n",
      "sigma = 1024.0 , gamma = 7.275957614183426e-12 , MSE = 14.775213375981497\n",
      "sigma = 1024.0 , gamma = 1.4551915228366852e-11 , MSE = 12.880064803342359\n",
      "sigma = 1024.0 , gamma = 2.9103830456733704e-11 , MSE = 13.06875940301526\n",
      "sigma = 1024.0 , gamma = 5.820766091346741e-11 , MSE = 11.853942929778972\n",
      "sigma = 1024.0 , gamma = 1.1641532182693481e-10 , MSE = 13.724075607831121\n",
      "sigma = 1024.0 , gamma = 2.3283064365386963e-10 , MSE = 10.782573880365216\n",
      "sigma = 1024.0 , gamma = 4.656612873077393e-10 , MSE = 11.9369593487589\n",
      "sigma = 1024.0 , gamma = 9.313225746154785e-10 , MSE = 13.93282028264127\n",
      "sigma = 1024.0 , gamma = 1.862645149230957e-09 , MSE = 13.38382047129233\n",
      "sigma = 1024.0 , gamma = 3.725290298461914e-09 , MSE = 16.238811267056647\n",
      "sigma = 1024.0 , gamma = 7.450580596923828e-09 , MSE = 17.721475339420504\n"
     ]
    },
    {
     "name": "stderr",
     "output_type": "stream",
     "text": [
      "\n",
      " 54%|████████████████████████████████████████████▋                                      | 7/13 [06:36<05:44, 57.36s/it]\u001b[A"
     ]
    },
    {
     "name": "stdout",
     "output_type": "stream",
     "text": [
      "sigma = 1024.0 , gamma = 1.4901161193847656e-08 , MSE = 21.186720528132845\n",
      "sigma = 1448.1546878700494 , gamma = 9.094947017729282e-13 , MSE = 15.889090357646278\n",
      "sigma = 1448.1546878700494 , gamma = 1.8189894035458565e-12 , MSE = 13.939647338607562\n",
      "sigma = 1448.1546878700494 , gamma = 3.637978807091713e-12 , MSE = 20.059434445899296\n",
      "sigma = 1448.1546878700494 , gamma = 7.275957614183426e-12 , MSE = 12.95137078039971\n",
      "sigma = 1448.1546878700494 , gamma = 1.4551915228366852e-11 , MSE = 14.031237153793816\n",
      "sigma = 1448.1546878700494 , gamma = 2.9103830456733704e-11 , MSE = 14.295882077126924\n",
      "sigma = 1448.1546878700494 , gamma = 5.820766091346741e-11 , MSE = 14.993574348644724\n",
      "sigma = 1448.1546878700494 , gamma = 1.1641532182693481e-10 , MSE = 12.570236955994712\n",
      "sigma = 1448.1546878700494 , gamma = 2.3283064365386963e-10 , MSE = 14.418384257645366\n",
      "sigma = 1448.1546878700494 , gamma = 4.656612873077393e-10 , MSE = 12.518446757909693\n",
      "sigma = 1448.1546878700494 , gamma = 9.313225746154785e-10 , MSE = 17.11506511405941\n",
      "sigma = 1448.1546878700494 , gamma = 1.862645149230957e-09 , MSE = 16.845696574700103\n",
      "sigma = 1448.1546878700494 , gamma = 3.725290298461914e-09 , MSE = 20.122542708554782\n",
      "sigma = 1448.1546878700494 , gamma = 7.450580596923828e-09 , MSE = 19.391979465059613\n"
     ]
    },
    {
     "name": "stderr",
     "output_type": "stream",
     "text": [
      "\n",
      " 62%|███████████████████████████████████████████████████                                | 8/13 [07:31<04:43, 56.77s/it]\u001b[A"
     ]
    },
    {
     "name": "stdout",
     "output_type": "stream",
     "text": [
      "sigma = 1448.1546878700494 , gamma = 1.4901161193847656e-08 , MSE = 22.07047238734989\n",
      "sigma = 2048.0 , gamma = 9.094947017729282e-13 , MSE = 15.29142575720428\n",
      "sigma = 2048.0 , gamma = 1.8189894035458565e-12 , MSE = 39.44324071055752\n",
      "sigma = 2048.0 , gamma = 3.637978807091713e-12 , MSE = 12.72509235493605\n",
      "sigma = 2048.0 , gamma = 7.275957614183426e-12 , MSE = 64.40845495985205\n",
      "sigma = 2048.0 , gamma = 1.4551915228366852e-11 , MSE = 11.765813633001278\n",
      "sigma = 2048.0 , gamma = 2.9103830456733704e-11 , MSE = 15.7598134580283\n",
      "sigma = 2048.0 , gamma = 5.820766091346741e-11 , MSE = 13.60799596541222\n",
      "sigma = 2048.0 , gamma = 1.1641532182693481e-10 , MSE = 16.23742395075933\n",
      "sigma = 2048.0 , gamma = 2.3283064365386963e-10 , MSE = 14.994710031759627\n",
      "sigma = 2048.0 , gamma = 4.656612873077393e-10 , MSE = 21.786138573841235\n",
      "sigma = 2048.0 , gamma = 9.313225746154785e-10 , MSE = 19.153272330730676\n",
      "sigma = 2048.0 , gamma = 1.862645149230957e-09 , MSE = 19.82507617138112\n",
      "sigma = 2048.0 , gamma = 3.725290298461914e-09 , MSE = 18.89480090208554\n",
      "sigma = 2048.0 , gamma = 7.450580596923828e-09 , MSE = 30.013496784908664\n"
     ]
    },
    {
     "name": "stderr",
     "output_type": "stream",
     "text": [
      "\n",
      " 69%|█████████████████████████████████████████████████████████▍                         | 9/13 [08:25<03:43, 55.92s/it]\u001b[A"
     ]
    },
    {
     "name": "stdout",
     "output_type": "stream",
     "text": [
      "sigma = 2048.0 , gamma = 1.4901161193847656e-08 , MSE = 22.3455794322635\n",
      "sigma = 2896.309375740099 , gamma = 9.094947017729282e-13 , MSE = 16.18042851869526\n",
      "sigma = 2896.309375740099 , gamma = 1.8189894035458565e-12 , MSE = 12.125834818303488\n",
      "sigma = 2896.309375740099 , gamma = 3.637978807091713e-12 , MSE = 42.550839083956404\n",
      "sigma = 2896.309375740099 , gamma = 7.275957614183426e-12 , MSE = 11.57677543894297\n",
      "sigma = 2896.309375740099 , gamma = 1.4551915228366852e-11 , MSE = 14.681538342031217\n",
      "sigma = 2896.309375740099 , gamma = 2.9103830456733704e-11 , MSE = 16.482052161015854\n",
      "sigma = 2896.309375740099 , gamma = 5.820766091346741e-11 , MSE = 14.34532824713087\n",
      "sigma = 2896.309375740099 , gamma = 1.1641532182693481e-10 , MSE = 16.968594994284775\n",
      "sigma = 2896.309375740099 , gamma = 2.3283064365386963e-10 , MSE = 22.276543212003574\n",
      "sigma = 2896.309375740099 , gamma = 4.656612873077393e-10 , MSE = 21.68745274665263\n",
      "sigma = 2896.309375740099 , gamma = 9.313225746154785e-10 , MSE = 24.58771719966355\n",
      "sigma = 2896.309375740099 , gamma = 1.862645149230957e-09 , MSE = 22.176733571180698\n",
      "sigma = 2896.309375740099 , gamma = 3.725290298461914e-09 , MSE = 31.254970187523668\n",
      "sigma = 2896.309375740099 , gamma = 7.450580596923828e-09 , MSE = 27.84253034647461\n"
     ]
    },
    {
     "name": "stderr",
     "output_type": "stream",
     "text": [
      "\n",
      " 77%|███████████████████████████████████████████████████████████████                   | 10/13 [09:21<02:47, 55.80s/it]\u001b[A"
     ]
    },
    {
     "name": "stdout",
     "output_type": "stream",
     "text": [
      "sigma = 2896.309375740099 , gamma = 1.4901161193847656e-08 , MSE = 22.18967471872896\n",
      "sigma = 4096.0 , gamma = 9.094947017729282e-13 , MSE = 12.708990637442474\n",
      "sigma = 4096.0 , gamma = 1.8189894035458565e-12 , MSE = 14.995995731825298\n",
      "sigma = 4096.0 , gamma = 3.637978807091713e-12 , MSE = 15.179412418916527\n",
      "sigma = 4096.0 , gamma = 7.275957614183426e-12 , MSE = 15.798569032394784\n",
      "sigma = 4096.0 , gamma = 1.4551915228366852e-11 , MSE = 16.06417259641762\n",
      "sigma = 4096.0 , gamma = 2.9103830456733704e-11 , MSE = 19.85377368793483\n",
      "sigma = 4096.0 , gamma = 5.820766091346741e-11 , MSE = 19.313350920704202\n",
      "sigma = 4096.0 , gamma = 1.1641532182693481e-10 , MSE = 25.79416392924535\n",
      "sigma = 4096.0 , gamma = 2.3283064365386963e-10 , MSE = 26.33390603139721\n",
      "sigma = 4096.0 , gamma = 4.656612873077393e-10 , MSE = 23.99361031413565\n",
      "sigma = 4096.0 , gamma = 9.313225746154785e-10 , MSE = 24.61093199061704\n",
      "sigma = 4096.0 , gamma = 1.862645149230957e-09 , MSE = 24.200977686855737\n",
      "sigma = 4096.0 , gamma = 3.725290298461914e-09 , MSE = 29.028808684194132\n",
      "sigma = 4096.0 , gamma = 7.450580596923828e-09 , MSE = 26.091187202516647\n"
     ]
    },
    {
     "name": "stderr",
     "output_type": "stream",
     "text": [
      "\n",
      " 85%|█████████████████████████████████████████████████████████████████████▍            | 11/13 [10:18<01:52, 56.30s/it]\u001b[A"
     ]
    },
    {
     "name": "stdout",
     "output_type": "stream",
     "text": [
      "sigma = 4096.0 , gamma = 1.4901161193847656e-08 , MSE = 26.364831888326904\n",
      "sigma = 5792.618751480198 , gamma = 9.094947017729282e-13 , MSE = 19.01594023746432\n",
      "sigma = 5792.618751480198 , gamma = 1.8189894035458565e-12 , MSE = 14.610917708277901\n",
      "sigma = 5792.618751480198 , gamma = 3.637978807091713e-12 , MSE = 14.380752659353934\n",
      "sigma = 5792.618751480198 , gamma = 7.275957614183426e-12 , MSE = 16.654965083948372\n",
      "sigma = 5792.618751480198 , gamma = 1.4551915228366852e-11 , MSE = 20.34294493101545\n",
      "sigma = 5792.618751480198 , gamma = 2.9103830456733704e-11 , MSE = 25.431208717594\n",
      "sigma = 5792.618751480198 , gamma = 5.820766091346741e-11 , MSE = 27.73868245377646\n",
      "sigma = 5792.618751480198 , gamma = 1.1641532182693481e-10 , MSE = 21.231939698575964\n",
      "sigma = 5792.618751480198 , gamma = 2.3283064365386963e-10 , MSE = 25.094417268662045\n",
      "sigma = 5792.618751480198 , gamma = 4.656612873077393e-10 , MSE = 24.646207838713604\n",
      "sigma = 5792.618751480198 , gamma = 9.313225746154785e-10 , MSE = 27.287151219396115\n",
      "sigma = 5792.618751480198 , gamma = 1.862645149230957e-09 , MSE = 20.451160140630456\n",
      "sigma = 5792.618751480198 , gamma = 3.725290298461914e-09 , MSE = 22.9197402175284\n",
      "sigma = 5792.618751480198 , gamma = 7.450580596923828e-09 , MSE = 24.66661411488832\n"
     ]
    },
    {
     "name": "stderr",
     "output_type": "stream",
     "text": [
      "\n",
      " 92%|███████████████████████████████████████████████████████████████████████████▋      | 12/13 [11:27<01:00, 60.05s/it]\u001b[A"
     ]
    },
    {
     "name": "stdout",
     "output_type": "stream",
     "text": [
      "sigma = 5792.618751480198 , gamma = 1.4901161193847656e-08 , MSE = 26.34214490593398\n",
      "sigma = 8192.0 , gamma = 9.094947017729282e-13 , MSE = 15.638351688582564\n",
      "sigma = 8192.0 , gamma = 1.8189894035458565e-12 , MSE = 17.846608200334543\n",
      "sigma = 8192.0 , gamma = 3.637978807091713e-12 , MSE = 19.7517828031105\n",
      "sigma = 8192.0 , gamma = 7.275957614183426e-12 , MSE = 19.386349608588496\n",
      "sigma = 8192.0 , gamma = 1.4551915228366852e-11 , MSE = 25.62745353276904\n",
      "sigma = 8192.0 , gamma = 2.9103830456733704e-11 , MSE = 24.085811410872157\n",
      "sigma = 8192.0 , gamma = 5.820766091346741e-11 , MSE = 23.348034805544863\n",
      "sigma = 8192.0 , gamma = 1.1641532182693481e-10 , MSE = 27.70800122631593\n",
      "sigma = 8192.0 , gamma = 2.3283064365386963e-10 , MSE = 27.651733079815536\n",
      "sigma = 8192.0 , gamma = 4.656612873077393e-10 , MSE = 26.41535073593972\n",
      "sigma = 8192.0 , gamma = 9.313225746154785e-10 , MSE = 27.401679661119033\n",
      "sigma = 8192.0 , gamma = 1.862645149230957e-09 , MSE = 26.09816466078281\n",
      "sigma = 8192.0 , gamma = 3.725290298461914e-09 , MSE = 25.301381491847934\n",
      "sigma = 8192.0 , gamma = 7.450580596923828e-09 , MSE = 31.567187749051023\n"
     ]
    },
    {
     "name": "stderr",
     "output_type": "stream",
     "text": [
      "\n",
      "100%|██████████████████████████████████████████████████████████████████████████████████| 13/13 [12:41<00:00, 58.56s/it]\u001b[A"
     ]
    },
    {
     "name": "stdout",
     "output_type": "stream",
     "text": [
      "sigma = 8192.0 , gamma = 1.4901161193847656e-08 , MSE = 26.88447561280223\n"
     ]
    },
    {
     "name": "stderr",
     "output_type": "stream",
     "text": [
      "\n",
      " 10%|████████                                                                        | 2/20 [25:38<3:50:36, 768.68s/it]\n",
      "  0%|                                                                                           | 0/13 [00:00<?, ?it/s]\u001b[A"
     ]
    },
    {
     "name": "stdout",
     "output_type": "stream",
     "text": [
      "[8.573514499507743, 12.42304270667119]\n",
      "sigma = 128.0 , gamma = 9.094947017729282e-13 , MSE = 3935.5032658618256\n",
      "sigma = 128.0 , gamma = 1.8189894035458565e-12 , MSE = 1439.1188486723247\n",
      "sigma = 128.0 , gamma = 3.637978807091713e-12 , MSE = 6002.387325192083\n",
      "sigma = 128.0 , gamma = 7.275957614183426e-12 , MSE = 10213.912876241267\n",
      "sigma = 128.0 , gamma = 1.4551915228366852e-11 , MSE = 4866.736477837864\n",
      "sigma = 128.0 , gamma = 2.9103830456733704e-11 , MSE = 268.5323462674238\n",
      "sigma = 128.0 , gamma = 5.820766091346741e-11 , MSE = 959.2485724678423\n",
      "sigma = 128.0 , gamma = 1.1641532182693481e-10 , MSE = 3247.2097974343515\n",
      "sigma = 128.0 , gamma = 2.3283064365386963e-10 , MSE = 106.94127333732266\n",
      "sigma = 128.0 , gamma = 4.656612873077393e-10 , MSE = 79.87391841188844\n",
      "sigma = 128.0 , gamma = 9.313225746154785e-10 , MSE = 176.24476237211675\n",
      "sigma = 128.0 , gamma = 1.862645149230957e-09 , MSE = 158.6894692709365\n",
      "sigma = 128.0 , gamma = 3.725290298461914e-09 , MSE = 29.526455010671764\n",
      "sigma = 128.0 , gamma = 7.450580596923828e-09 , MSE = 31.07094037799694\n"
     ]
    },
    {
     "name": "stderr",
     "output_type": "stream",
     "text": [
      "\n",
      "  8%|██████▍                                                                            | 1/13 [01:04<12:56, 64.75s/it]\u001b[A"
     ]
    },
    {
     "name": "stdout",
     "output_type": "stream",
     "text": [
      "sigma = 128.0 , gamma = 1.4901161193847656e-08 , MSE = 28.985857550501898\n",
      "sigma = 181.01933598375618 , gamma = 9.094947017729282e-13 , MSE = 1110.785342438363\n",
      "sigma = 181.01933598375618 , gamma = 1.8189894035458565e-12 , MSE = 1587.5761543223014\n",
      "sigma = 181.01933598375618 , gamma = 3.637978807091713e-12 , MSE = 3797.6643912749723\n",
      "sigma = 181.01933598375618 , gamma = 7.275957614183426e-12 , MSE = 1435.5103766181828\n",
      "sigma = 181.01933598375618 , gamma = 1.4551915228366852e-11 , MSE = 369.758386589601\n",
      "sigma = 181.01933598375618 , gamma = 2.9103830456733704e-11 , MSE = 172.01783183941032\n",
      "sigma = 181.01933598375618 , gamma = 5.820766091346741e-11 , MSE = 114.17584569608539\n",
      "sigma = 181.01933598375618 , gamma = 1.1641532182693481e-10 , MSE = 27.879316471632468\n",
      "sigma = 181.01933598375618 , gamma = 2.3283064365386963e-10 , MSE = 40.35723573725613\n",
      "sigma = 181.01933598375618 , gamma = 4.656612873077393e-10 , MSE = 79.7143388805594\n",
      "sigma = 181.01933598375618 , gamma = 9.313225746154785e-10 , MSE = 100.85759107947658\n",
      "sigma = 181.01933598375618 , gamma = 1.862645149230957e-09 , MSE = 31.06221097367818\n",
      "sigma = 181.01933598375618 , gamma = 3.725290298461914e-09 , MSE = 35.99053515908149\n",
      "sigma = 181.01933598375618 , gamma = 7.450580596923828e-09 , MSE = 17.468888530552178\n"
     ]
    },
    {
     "name": "stderr",
     "output_type": "stream",
     "text": [
      "\n",
      " 15%|████████████▊                                                                      | 2/13 [02:30<14:11, 77.39s/it]\u001b[A"
     ]
    },
    {
     "name": "stdout",
     "output_type": "stream",
     "text": [
      "sigma = 181.01933598375618 , gamma = 1.4901161193847656e-08 , MSE = 32.80952049778745\n",
      "sigma = 256.0 , gamma = 9.094947017729282e-13 , MSE = 238.37560370973415\n",
      "sigma = 256.0 , gamma = 1.8189894035458565e-12 , MSE = 389.6596170624231\n",
      "sigma = 256.0 , gamma = 3.637978807091713e-12 , MSE = 135.08167757413065\n",
      "sigma = 256.0 , gamma = 7.275957614183426e-12 , MSE = 264.99559613188626\n",
      "sigma = 256.0 , gamma = 1.4551915228366852e-11 , MSE = 84.53652613487624\n",
      "sigma = 256.0 , gamma = 2.9103830456733704e-11 , MSE = 56.41321170724674\n",
      "sigma = 256.0 , gamma = 5.820766091346741e-11 , MSE = 129.91529834988202\n",
      "sigma = 256.0 , gamma = 1.1641532182693481e-10 , MSE = 44.50415405004851\n",
      "sigma = 256.0 , gamma = 2.3283064365386963e-10 , MSE = 28.927046819418944\n",
      "sigma = 256.0 , gamma = 4.656612873077393e-10 , MSE = 43.170630171788154\n",
      "sigma = 256.0 , gamma = 9.313225746154785e-10 , MSE = 22.64432019303472\n",
      "sigma = 256.0 , gamma = 1.862645149230957e-09 , MSE = 62.02456412684991\n",
      "sigma = 256.0 , gamma = 3.725290298461914e-09 , MSE = 17.218401812548787\n",
      "sigma = 256.0 , gamma = 7.450580596923828e-09 , MSE = 15.870149889135229\n"
     ]
    },
    {
     "name": "stderr",
     "output_type": "stream",
     "text": [
      "\n",
      " 23%|███████████████████▏                                                               | 3/13 [03:54<13:20, 80.07s/it]\u001b[A"
     ]
    },
    {
     "name": "stdout",
     "output_type": "stream",
     "text": [
      "sigma = 256.0 , gamma = 1.4901161193847656e-08 , MSE = 15.793229458152206\n",
      "sigma = 362.03867196751236 , gamma = 9.094947017729282e-13 , MSE = 102.62628405886669\n",
      "sigma = 362.03867196751236 , gamma = 1.8189894035458565e-12 , MSE = 109.64480604215589\n",
      "sigma = 362.03867196751236 , gamma = 3.637978807091713e-12 , MSE = 71.61572354528178\n",
      "sigma = 362.03867196751236 , gamma = 7.275957614183426e-12 , MSE = 36.74616009954186\n",
      "sigma = 362.03867196751236 , gamma = 1.4551915228366852e-11 , MSE = 37.06823235809951\n",
      "sigma = 362.03867196751236 , gamma = 2.9103830456733704e-11 , MSE = 32.706536708123636\n",
      "sigma = 362.03867196751236 , gamma = 5.820766091346741e-11 , MSE = 29.711149391365176\n",
      "sigma = 362.03867196751236 , gamma = 1.1641532182693481e-10 , MSE = 17.585197695404872\n",
      "sigma = 362.03867196751236 , gamma = 2.3283064365386963e-10 , MSE = 18.536922366620495\n",
      "sigma = 362.03867196751236 , gamma = 4.656612873077393e-10 , MSE = 19.037571596174935\n",
      "sigma = 362.03867196751236 , gamma = 9.313225746154785e-10 , MSE = 24.027504538451506\n",
      "sigma = 362.03867196751236 , gamma = 1.862645149230957e-09 , MSE = 15.39032435179009\n",
      "sigma = 362.03867196751236 , gamma = 3.725290298461914e-09 , MSE = 15.25037353358833\n",
      "sigma = 362.03867196751236 , gamma = 7.450580596923828e-09 , MSE = 13.00079039102852\n"
     ]
    },
    {
     "name": "stderr",
     "output_type": "stream",
     "text": [
      "\n",
      " 31%|█████████████████████████▌                                                         | 4/13 [05:05<11:27, 76.43s/it]\u001b[A"
     ]
    },
    {
     "name": "stdout",
     "output_type": "stream",
     "text": [
      "sigma = 362.03867196751236 , gamma = 1.4901161193847656e-08 , MSE = 15.175177714016266\n",
      "sigma = 512.0 , gamma = 9.094947017729282e-13 , MSE = 40.6784493553394\n",
      "sigma = 512.0 , gamma = 1.8189894035458565e-12 , MSE = 54.48513585149391\n",
      "sigma = 512.0 , gamma = 3.637978807091713e-12 , MSE = 31.449559782281494\n",
      "sigma = 512.0 , gamma = 7.275957614183426e-12 , MSE = 22.475778473964247\n",
      "sigma = 512.0 , gamma = 1.4551915228366852e-11 , MSE = 22.183546254489766\n",
      "sigma = 512.0 , gamma = 2.9103830456733704e-11 , MSE = 15.204208501036637\n",
      "sigma = 512.0 , gamma = 5.820766091346741e-11 , MSE = 19.67137119770826\n",
      "sigma = 512.0 , gamma = 1.1641532182693481e-10 , MSE = 19.773697586803955\n",
      "sigma = 512.0 , gamma = 2.3283064365386963e-10 , MSE = 18.71926381987759\n",
      "sigma = 512.0 , gamma = 4.656612873077393e-10 , MSE = 22.221878583064743\n",
      "sigma = 512.0 , gamma = 9.313225746154785e-10 , MSE = 15.559013006577795\n",
      "sigma = 512.0 , gamma = 1.862645149230957e-09 , MSE = 14.264733144196565\n",
      "sigma = 512.0 , gamma = 3.725290298461914e-09 , MSE = 11.346885826555777\n",
      "sigma = 512.0 , gamma = 7.450580596923828e-09 , MSE = 12.991693074000082\n"
     ]
    },
    {
     "name": "stderr",
     "output_type": "stream",
     "text": [
      "\n",
      " 38%|███████████████████████████████▉                                                   | 5/13 [06:08<09:32, 71.60s/it]\u001b[A"
     ]
    },
    {
     "name": "stdout",
     "output_type": "stream",
     "text": [
      "sigma = 512.0 , gamma = 1.4901161193847656e-08 , MSE = 13.292837076243865\n",
      "sigma = 724.0773439350247 , gamma = 9.094947017729282e-13 , MSE = 29.985819726021894\n",
      "sigma = 724.0773439350247 , gamma = 1.8189894035458565e-12 , MSE = 26.971044318614595\n",
      "sigma = 724.0773439350247 , gamma = 3.637978807091713e-12 , MSE = 20.131823629748318\n",
      "sigma = 724.0773439350247 , gamma = 7.275957614183426e-12 , MSE = 29.845274723657575\n",
      "sigma = 724.0773439350247 , gamma = 1.4551915228366852e-11 , MSE = 15.413259030158457\n",
      "sigma = 724.0773439350247 , gamma = 2.9103830456733704e-11 , MSE = 16.434216900344154\n",
      "sigma = 724.0773439350247 , gamma = 5.820766091346741e-11 , MSE = 17.100118477927744\n",
      "sigma = 724.0773439350247 , gamma = 1.1641532182693481e-10 , MSE = 29.62717934547718\n",
      "sigma = 724.0773439350247 , gamma = 2.3283064365386963e-10 , MSE = 15.321722151523556\n",
      "sigma = 724.0773439350247 , gamma = 4.656612873077393e-10 , MSE = 12.50247422831566\n",
      "sigma = 724.0773439350247 , gamma = 9.313225746154785e-10 , MSE = 14.031593326375733\n",
      "sigma = 724.0773439350247 , gamma = 1.862645149230957e-09 , MSE = 18.306293232868917\n",
      "sigma = 724.0773439350247 , gamma = 3.725290298461914e-09 , MSE = 17.103203916111564\n",
      "sigma = 724.0773439350247 , gamma = 7.450580596923828e-09 , MSE = 14.580053981022754\n"
     ]
    },
    {
     "name": "stderr",
     "output_type": "stream",
     "text": [
      "\n",
      " 46%|██████████████████████████████████████▎                                            | 6/13 [07:11<08:00, 68.68s/it]\u001b[A"
     ]
    },
    {
     "name": "stdout",
     "output_type": "stream",
     "text": [
      "sigma = 724.0773439350247 , gamma = 1.4901161193847656e-08 , MSE = 13.539978176912323\n",
      "sigma = 1024.0 , gamma = 9.094947017729282e-13 , MSE = 21.291056712782776\n",
      "sigma = 1024.0 , gamma = 1.8189894035458565e-12 , MSE = 30.744586863187788\n",
      "sigma = 1024.0 , gamma = 3.637978807091713e-12 , MSE = 20.148482839832063\n",
      "sigma = 1024.0 , gamma = 7.275957614183426e-12 , MSE = 18.277644624292094\n",
      "sigma = 1024.0 , gamma = 1.4551915228366852e-11 , MSE = 15.030591564541476\n",
      "sigma = 1024.0 , gamma = 2.9103830456733704e-11 , MSE = 14.91339911289846\n",
      "sigma = 1024.0 , gamma = 5.820766091346741e-11 , MSE = 14.385883768309037\n",
      "sigma = 1024.0 , gamma = 1.1641532182693481e-10 , MSE = 12.177537740610159\n",
      "sigma = 1024.0 , gamma = 2.3283064365386963e-10 , MSE = 12.934293028201102\n",
      "sigma = 1024.0 , gamma = 4.656612873077393e-10 , MSE = 12.555158573967944\n",
      "sigma = 1024.0 , gamma = 9.313225746154785e-10 , MSE = 14.944355383601936\n",
      "sigma = 1024.0 , gamma = 1.862645149230957e-09 , MSE = 16.08344590773948\n",
      "sigma = 1024.0 , gamma = 3.725290298461914e-09 , MSE = 12.658415364379547\n",
      "sigma = 1024.0 , gamma = 7.450580596923828e-09 , MSE = 16.64608417766754\n"
     ]
    },
    {
     "name": "stderr",
     "output_type": "stream",
     "text": [
      "\n",
      " 54%|████████████████████████████████████████████▋                                      | 7/13 [08:20<06:52, 68.74s/it]\u001b[A"
     ]
    },
    {
     "name": "stdout",
     "output_type": "stream",
     "text": [
      "sigma = 1024.0 , gamma = 1.4901161193847656e-08 , MSE = 21.15202175317073\n",
      "sigma = 1448.1546878700494 , gamma = 9.094947017729282e-13 , MSE = 20.390392516654593\n",
      "sigma = 1448.1546878700494 , gamma = 1.8189894035458565e-12 , MSE = 14.117095916603656\n",
      "sigma = 1448.1546878700494 , gamma = 3.637978807091713e-12 , MSE = 17.220089802682143\n",
      "sigma = 1448.1546878700494 , gamma = 7.275957614183426e-12 , MSE = 16.430414583907037\n",
      "sigma = 1448.1546878700494 , gamma = 1.4551915228366852e-11 , MSE = 13.88761755524942\n",
      "sigma = 1448.1546878700494 , gamma = 2.9103830456733704e-11 , MSE = 17.205741629219993\n",
      "sigma = 1448.1546878700494 , gamma = 5.820766091346741e-11 , MSE = 15.883126162319911\n",
      "sigma = 1448.1546878700494 , gamma = 1.1641532182693481e-10 , MSE = 14.65986575613232\n",
      "sigma = 1448.1546878700494 , gamma = 2.3283064365386963e-10 , MSE = 14.116073930528643\n",
      "sigma = 1448.1546878700494 , gamma = 4.656612873077393e-10 , MSE = 20.483694227236555\n",
      "sigma = 1448.1546878700494 , gamma = 9.313225746154785e-10 , MSE = 18.68507535060997\n",
      "sigma = 1448.1546878700494 , gamma = 1.862645149230957e-09 , MSE = 19.372062092791246\n",
      "sigma = 1448.1546878700494 , gamma = 3.725290298461914e-09 , MSE = 23.172332357423123\n",
      "sigma = 1448.1546878700494 , gamma = 7.450580596923828e-09 , MSE = 23.24222978348272\n"
     ]
    },
    {
     "name": "stderr",
     "output_type": "stream",
     "text": [
      "\n",
      " 62%|███████████████████████████████████████████████████                                | 8/13 [09:40<06:01, 72.37s/it]\u001b[A"
     ]
    },
    {
     "name": "stdout",
     "output_type": "stream",
     "text": [
      "sigma = 1448.1546878700494 , gamma = 1.4901161193847656e-08 , MSE = 23.271940628111754\n",
      "sigma = 2048.0 , gamma = 9.094947017729282e-13 , MSE = 18.319313641071027\n",
      "sigma = 2048.0 , gamma = 1.8189894035458565e-12 , MSE = 18.60347543843658\n",
      "sigma = 2048.0 , gamma = 3.637978807091713e-12 , MSE = 14.368349351829934\n",
      "sigma = 2048.0 , gamma = 7.275957614183426e-12 , MSE = 20.538295215946032\n",
      "sigma = 2048.0 , gamma = 1.4551915228366852e-11 , MSE = 17.1702064116107\n",
      "sigma = 2048.0 , gamma = 2.9103830456733704e-11 , MSE = 13.417337391932074\n",
      "sigma = 2048.0 , gamma = 5.820766091346741e-11 , MSE = 13.4783948381294\n",
      "sigma = 2048.0 , gamma = 1.1641532182693481e-10 , MSE = 14.690086888337031\n",
      "sigma = 2048.0 , gamma = 2.3283064365386963e-10 , MSE = 14.763563156901537\n",
      "sigma = 2048.0 , gamma = 4.656612873077393e-10 , MSE = 16.48911951149823\n",
      "sigma = 2048.0 , gamma = 9.313225746154785e-10 , MSE = 19.258714311586598\n",
      "sigma = 2048.0 , gamma = 1.862645149230957e-09 , MSE = 25.914622615601758\n",
      "sigma = 2048.0 , gamma = 3.725290298461914e-09 , MSE = 25.04584366382848\n",
      "sigma = 2048.0 , gamma = 7.450580596923828e-09 , MSE = 21.980905352228376\n"
     ]
    },
    {
     "name": "stderr",
     "output_type": "stream",
     "text": [
      "\n",
      " 69%|█████████████████████████████████████████████████████████▍                         | 9/13 [10:47<04:42, 70.65s/it]\u001b[A"
     ]
    },
    {
     "name": "stdout",
     "output_type": "stream",
     "text": [
      "sigma = 2048.0 , gamma = 1.4901161193847656e-08 , MSE = 24.601858271558267\n",
      "sigma = 2896.309375740099 , gamma = 9.094947017729282e-13 , MSE = 18.714979040576445\n",
      "sigma = 2896.309375740099 , gamma = 1.8189894035458565e-12 , MSE = 13.663563974279715\n",
      "sigma = 2896.309375740099 , gamma = 3.637978807091713e-12 , MSE = 14.186036616518361\n",
      "sigma = 2896.309375740099 , gamma = 7.275957614183426e-12 , MSE = 15.107793877253584\n",
      "sigma = 2896.309375740099 , gamma = 1.4551915228366852e-11 , MSE = 13.315480972480879\n",
      "sigma = 2896.309375740099 , gamma = 2.9103830456733704e-11 , MSE = 15.777894916303637\n",
      "sigma = 2896.309375740099 , gamma = 5.820766091346741e-11 , MSE = 18.493818097392865\n",
      "sigma = 2896.309375740099 , gamma = 1.1641532182693481e-10 , MSE = 17.835612678403287\n",
      "sigma = 2896.309375740099 , gamma = 2.3283064365386963e-10 , MSE = 18.213253515690432\n",
      "sigma = 2896.309375740099 , gamma = 4.656612873077393e-10 , MSE = 23.330005958000452\n",
      "sigma = 2896.309375740099 , gamma = 9.313225746154785e-10 , MSE = 27.531872027731076\n",
      "sigma = 2896.309375740099 , gamma = 1.862645149230957e-09 , MSE = 22.52703869944926\n",
      "sigma = 2896.309375740099 , gamma = 3.725290298461914e-09 , MSE = 29.467342935861275\n",
      "sigma = 2896.309375740099 , gamma = 7.450580596923828e-09 , MSE = 23.66078223720122\n"
     ]
    },
    {
     "name": "stderr",
     "output_type": "stream",
     "text": [
      "\n",
      " 77%|███████████████████████████████████████████████████████████████                   | 10/13 [11:54<03:29, 69.67s/it]\u001b[A"
     ]
    },
    {
     "name": "stdout",
     "output_type": "stream",
     "text": [
      "sigma = 2896.309375740099 , gamma = 1.4901161193847656e-08 , MSE = 26.436511494149947\n",
      "sigma = 4096.0 , gamma = 9.094947017729282e-13 , MSE = 14.904353160642335\n",
      "sigma = 4096.0 , gamma = 1.8189894035458565e-12 , MSE = 18.137381448715303\n",
      "sigma = 4096.0 , gamma = 3.637978807091713e-12 , MSE = 12.826289929665808\n",
      "sigma = 4096.0 , gamma = 7.275957614183426e-12 , MSE = 17.318939588036645\n",
      "sigma = 4096.0 , gamma = 1.4551915228366852e-11 , MSE = 19.402394382138827\n",
      "sigma = 4096.0 , gamma = 2.9103830456733704e-11 , MSE = 19.21223596660135\n",
      "sigma = 4096.0 , gamma = 5.820766091346741e-11 , MSE = 19.21366683075038\n",
      "sigma = 4096.0 , gamma = 1.1641532182693481e-10 , MSE = 26.61075084714015\n",
      "sigma = 4096.0 , gamma = 2.3283064365386963e-10 , MSE = 23.63469795551546\n",
      "sigma = 4096.0 , gamma = 4.656612873077393e-10 , MSE = 25.909239255095507\n",
      "sigma = 4096.0 , gamma = 9.313225746154785e-10 , MSE = 32.520236234739286\n",
      "sigma = 4096.0 , gamma = 1.862645149230957e-09 , MSE = 26.065394110620353\n",
      "sigma = 4096.0 , gamma = 3.725290298461914e-09 , MSE = 25.06569931568599\n",
      "sigma = 4096.0 , gamma = 7.450580596923828e-09 , MSE = 25.61088271052485\n"
     ]
    },
    {
     "name": "stderr",
     "output_type": "stream",
     "text": [
      "\n",
      " 85%|█████████████████████████████████████████████████████████████████████▍            | 11/13 [13:05<02:20, 70.10s/it]\u001b[A"
     ]
    },
    {
     "name": "stdout",
     "output_type": "stream",
     "text": [
      "sigma = 4096.0 , gamma = 1.4901161193847656e-08 , MSE = 30.81012220323717\n",
      "sigma = 5792.618751480198 , gamma = 9.094947017729282e-13 , MSE = 11.162671369401872\n",
      "sigma = 5792.618751480198 , gamma = 1.8189894035458565e-12 , MSE = 16.172009685258494\n",
      "sigma = 5792.618751480198 , gamma = 3.637978807091713e-12 , MSE = 15.976590749704679\n",
      "sigma = 5792.618751480198 , gamma = 7.275957614183426e-12 , MSE = 17.265951844376886\n",
      "sigma = 5792.618751480198 , gamma = 1.4551915228366852e-11 , MSE = 20.76549038845795\n",
      "sigma = 5792.618751480198 , gamma = 2.9103830456733704e-11 , MSE = 21.600840831094196\n",
      "sigma = 5792.618751480198 , gamma = 5.820766091346741e-11 , MSE = 27.9366546397351\n",
      "sigma = 5792.618751480198 , gamma = 1.1641532182693481e-10 , MSE = 26.23335709547795\n",
      "sigma = 5792.618751480198 , gamma = 2.3283064365386963e-10 , MSE = 25.30259798210017\n",
      "sigma = 5792.618751480198 , gamma = 4.656612873077393e-10 , MSE = 25.609721726636558\n",
      "sigma = 5792.618751480198 , gamma = 9.313225746154785e-10 , MSE = 23.219629413672774\n",
      "sigma = 5792.618751480198 , gamma = 1.862645149230957e-09 , MSE = 23.69500475340361\n",
      "sigma = 5792.618751480198 , gamma = 3.725290298461914e-09 , MSE = 28.104417689118833\n",
      "sigma = 5792.618751480198 , gamma = 7.450580596923828e-09 , MSE = 25.553720953104325\n"
     ]
    },
    {
     "name": "stderr",
     "output_type": "stream",
     "text": [
      "\n",
      " 92%|███████████████████████████████████████████████████████████████████████████▋      | 12/13 [14:11<01:08, 68.84s/it]\u001b[A"
     ]
    },
    {
     "name": "stdout",
     "output_type": "stream",
     "text": [
      "sigma = 5792.618751480198 , gamma = 1.4901161193847656e-08 , MSE = 26.634680602030464\n",
      "sigma = 8192.0 , gamma = 9.094947017729282e-13 , MSE = 14.304772151775438\n",
      "sigma = 8192.0 , gamma = 1.8189894035458565e-12 , MSE = 20.28941633258993\n",
      "sigma = 8192.0 , gamma = 3.637978807091713e-12 , MSE = 22.104040732529917\n",
      "sigma = 8192.0 , gamma = 7.275957614183426e-12 , MSE = 25.373685741583834\n",
      "sigma = 8192.0 , gamma = 1.4551915228366852e-11 , MSE = 23.564752366169415\n",
      "sigma = 8192.0 , gamma = 2.9103830456733704e-11 , MSE = 26.248136442159552\n",
      "sigma = 8192.0 , gamma = 5.820766091346741e-11 , MSE = 24.00974160589682\n",
      "sigma = 8192.0 , gamma = 1.1641532182693481e-10 , MSE = 24.811076127005645\n",
      "sigma = 8192.0 , gamma = 2.3283064365386963e-10 , MSE = 25.85366010270555\n",
      "sigma = 8192.0 , gamma = 4.656612873077393e-10 , MSE = 26.2466236090064\n",
      "sigma = 8192.0 , gamma = 9.313225746154785e-10 , MSE = 29.86770218029677\n",
      "sigma = 8192.0 , gamma = 1.862645149230957e-09 , MSE = 27.120746716227217\n",
      "sigma = 8192.0 , gamma = 3.725290298461914e-09 , MSE = 24.699034973713943\n",
      "sigma = 8192.0 , gamma = 7.450580596923828e-09 , MSE = 29.203035957223097\n"
     ]
    },
    {
     "name": "stderr",
     "output_type": "stream",
     "text": [
      "\n",
      "100%|██████████████████████████████████████████████████████████████████████████████████| 13/13 [15:23<00:00, 71.02s/it]\u001b[A"
     ]
    },
    {
     "name": "stdout",
     "output_type": "stream",
     "text": [
      "sigma = 8192.0 , gamma = 1.4901161193847656e-08 , MSE = 25.13509710075263\n"
     ]
    },
    {
     "name": "stderr",
     "output_type": "stream",
     "text": [
      "\n",
      " 15%|████████████                                                                    | 3/20 [41:06<3:58:23, 841.36s/it]\n",
      "  0%|                                                                                           | 0/13 [00:00<?, ?it/s]\u001b[A"
     ]
    },
    {
     "name": "stdout",
     "output_type": "stream",
     "text": [
      "[10.587257934083086, 11.905035193555175]\n",
      "sigma = 128.0 , gamma = 9.094947017729282e-13 , MSE = 1326.62514098753\n",
      "sigma = 128.0 , gamma = 1.8189894035458565e-12 , MSE = 485.940174770873\n",
      "sigma = 128.0 , gamma = 3.637978807091713e-12 , MSE = 1430.259155740186\n",
      "sigma = 128.0 , gamma = 7.275957614183426e-12 , MSE = 290.39044613546764\n",
      "sigma = 128.0 , gamma = 1.4551915228366852e-11 , MSE = 1893.5467612299794\n",
      "sigma = 128.0 , gamma = 2.9103830456733704e-11 , MSE = 297.47034058129015\n",
      "sigma = 128.0 , gamma = 5.820766091346741e-11 , MSE = 306.76746012744894\n",
      "sigma = 128.0 , gamma = 1.1641532182693481e-10 , MSE = 198.2017095077735\n",
      "sigma = 128.0 , gamma = 2.3283064365386963e-10 , MSE = 97.65388994132024\n",
      "sigma = 128.0 , gamma = 4.656612873077393e-10 , MSE = 92.7484126826716\n",
      "sigma = 128.0 , gamma = 9.313225746154785e-10 , MSE = 226.64983777748995\n",
      "sigma = 128.0 , gamma = 1.862645149230957e-09 , MSE = 49.661573737290965\n",
      "sigma = 128.0 , gamma = 3.725290298461914e-09 , MSE = 37.91538183474275\n",
      "sigma = 128.0 , gamma = 7.450580596923828e-09 , MSE = 43.52026430483314\n"
     ]
    },
    {
     "name": "stderr",
     "output_type": "stream",
     "text": [
      "\n",
      "  8%|██████▍                                                                            | 1/13 [01:31<18:15, 91.31s/it]\u001b[A"
     ]
    },
    {
     "name": "stdout",
     "output_type": "stream",
     "text": [
      "sigma = 128.0 , gamma = 1.4901161193847656e-08 , MSE = 17.289619707183707\n",
      "sigma = 181.01933598375618 , gamma = 9.094947017729282e-13 , MSE = 623.7253578537354\n",
      "sigma = 181.01933598375618 , gamma = 1.8189894035458565e-12 , MSE = 558.4982843424775\n",
      "sigma = 181.01933598375618 , gamma = 3.637978807091713e-12 , MSE = 674.0373947404204\n",
      "sigma = 181.01933598375618 , gamma = 7.275957614183426e-12 , MSE = 154.71587834487121\n",
      "sigma = 181.01933598375618 , gamma = 1.4551915228366852e-11 , MSE = 128.69189184526493\n",
      "sigma = 181.01933598375618 , gamma = 2.9103830456733704e-11 , MSE = 303.10076540963877\n",
      "sigma = 181.01933598375618 , gamma = 5.820766091346741e-11 , MSE = 62.06644678297464\n",
      "sigma = 181.01933598375618 , gamma = 1.1641532182693481e-10 , MSE = 47.050464518854895\n",
      "sigma = 181.01933598375618 , gamma = 2.3283064365386963e-10 , MSE = 81.82143714927187\n",
      "sigma = 181.01933598375618 , gamma = 4.656612873077393e-10 , MSE = 37.343262786216734\n",
      "sigma = 181.01933598375618 , gamma = 9.313225746154785e-10 , MSE = 30.760141060254206\n",
      "sigma = 181.01933598375618 , gamma = 1.862645149230957e-09 , MSE = 118.03899475980063\n",
      "sigma = 181.01933598375618 , gamma = 3.725290298461914e-09 , MSE = 23.00556445507262\n",
      "sigma = 181.01933598375618 , gamma = 7.450580596923828e-09 , MSE = 19.190818950632266\n"
     ]
    },
    {
     "name": "stderr",
     "output_type": "stream",
     "text": [
      "\n",
      " 15%|████████████▊                                                                      | 2/13 [02:49<15:21, 83.73s/it]\u001b[A"
     ]
    },
    {
     "name": "stdout",
     "output_type": "stream",
     "text": [
      "sigma = 181.01933598375618 , gamma = 1.4901161193847656e-08 , MSE = 28.59313666760204\n",
      "sigma = 256.0 , gamma = 9.094947017729282e-13 , MSE = 8529.23588987309\n",
      "sigma = 256.0 , gamma = 1.8189894035458565e-12 , MSE = 1326.767876530171\n",
      "sigma = 256.0 , gamma = 3.637978807091713e-12 , MSE = 2335.7775346775425\n",
      "sigma = 256.0 , gamma = 7.275957614183426e-12 , MSE = 3026.300938696094\n",
      "sigma = 256.0 , gamma = 1.4551915228366852e-11 , MSE = 115.46925747819989\n",
      "sigma = 256.0 , gamma = 2.9103830456733704e-11 , MSE = 50.012271132534536\n",
      "sigma = 256.0 , gamma = 5.820766091346741e-11 , MSE = 110.89667887800917\n",
      "sigma = 256.0 , gamma = 1.1641532182693481e-10 , MSE = 535.7765298898582\n",
      "sigma = 256.0 , gamma = 2.3283064365386963e-10 , MSE = 286.4028350948919\n",
      "sigma = 256.0 , gamma = 4.656612873077393e-10 , MSE = 351.40798816270893\n",
      "sigma = 256.0 , gamma = 9.313225746154785e-10 , MSE = 424.3959931415511\n",
      "sigma = 256.0 , gamma = 1.862645149230957e-09 , MSE = 21.64670315710398\n",
      "sigma = 256.0 , gamma = 3.725290298461914e-09 , MSE = 14.265530197178347\n",
      "sigma = 256.0 , gamma = 7.450580596923828e-09 , MSE = 22.839386053471934\n"
     ]
    },
    {
     "name": "stderr",
     "output_type": "stream",
     "text": [
      "\n",
      " 23%|███████████████████▏                                                               | 3/13 [04:06<13:27, 80.77s/it]\u001b[A"
     ]
    },
    {
     "name": "stdout",
     "output_type": "stream",
     "text": [
      "sigma = 256.0 , gamma = 1.4901161193847656e-08 , MSE = 15.792227858199595\n",
      "sigma = 362.03867196751236 , gamma = 9.094947017729282e-13 , MSE = 110.83736335751053\n",
      "sigma = 362.03867196751236 , gamma = 1.8189894035458565e-12 , MSE = 40.2807786164435\n",
      "sigma = 362.03867196751236 , gamma = 3.637978807091713e-12 , MSE = 2010.4266901842354\n",
      "sigma = 362.03867196751236 , gamma = 7.275957614183426e-12 , MSE = 44.27528102350576\n",
      "sigma = 362.03867196751236 , gamma = 1.4551915228366852e-11 , MSE = 35.52870671579613\n",
      "sigma = 362.03867196751236 , gamma = 2.9103830456733704e-11 , MSE = 23.77754938742594\n",
      "sigma = 362.03867196751236 , gamma = 5.820766091346741e-11 , MSE = 83.60902926854973\n",
      "sigma = 362.03867196751236 , gamma = 1.1641532182693481e-10 , MSE = 18.71898712381262\n",
      "sigma = 362.03867196751236 , gamma = 2.3283064365386963e-10 , MSE = 38.02890716371135\n",
      "sigma = 362.03867196751236 , gamma = 4.656612873077393e-10 , MSE = 17.393754208203024\n",
      "sigma = 362.03867196751236 , gamma = 9.313225746154785e-10 , MSE = 43.95957700037417\n",
      "sigma = 362.03867196751236 , gamma = 1.862645149230957e-09 , MSE = 16.692433308948146\n",
      "sigma = 362.03867196751236 , gamma = 3.725290298461914e-09 , MSE = 17.741367787500245\n",
      "sigma = 362.03867196751236 , gamma = 7.450580596923828e-09 , MSE = 15.455509554292053\n"
     ]
    },
    {
     "name": "stderr",
     "output_type": "stream",
     "text": [
      "\n",
      " 31%|█████████████████████████▌                                                         | 4/13 [05:14<11:21, 75.70s/it]\u001b[A"
     ]
    },
    {
     "name": "stdout",
     "output_type": "stream",
     "text": [
      "sigma = 362.03867196751236 , gamma = 1.4901161193847656e-08 , MSE = 18.544028083471144\n",
      "sigma = 512.0 , gamma = 9.094947017729282e-13 , MSE = 45.17910077560403\n",
      "sigma = 512.0 , gamma = 1.8189894035458565e-12 , MSE = 717.1518927166578\n",
      "sigma = 512.0 , gamma = 3.637978807091713e-12 , MSE = 33.689684455097265\n",
      "sigma = 512.0 , gamma = 7.275957614183426e-12 , MSE = 596.2171983252719\n",
      "sigma = 512.0 , gamma = 1.4551915228366852e-11 , MSE = 366.1145099102544\n",
      "sigma = 512.0 , gamma = 2.9103830456733704e-11 , MSE = 369.4117345817502\n",
      "sigma = 512.0 , gamma = 5.820766091346741e-11 , MSE = 42.72957127823976\n",
      "sigma = 512.0 , gamma = 1.1641532182693481e-10 , MSE = 19.716531186810034\n",
      "sigma = 512.0 , gamma = 2.3283064365386963e-10 , MSE = 36.08748876703751\n",
      "sigma = 512.0 , gamma = 4.656612873077393e-10 , MSE = 14.936271747432324\n",
      "sigma = 512.0 , gamma = 9.313225746154785e-10 , MSE = 17.35919447077361\n",
      "sigma = 512.0 , gamma = 1.862645149230957e-09 , MSE = 17.215391325346282\n",
      "sigma = 512.0 , gamma = 3.725290298461914e-09 , MSE = 18.472748986232485\n",
      "sigma = 512.0 , gamma = 7.450580596923828e-09 , MSE = 13.383073313347339\n"
     ]
    },
    {
     "name": "stderr",
     "output_type": "stream",
     "text": [
      "\n",
      " 38%|███████████████████████████████▉                                                   | 5/13 [06:11<09:10, 68.80s/it]\u001b[A"
     ]
    },
    {
     "name": "stdout",
     "output_type": "stream",
     "text": [
      "sigma = 512.0 , gamma = 1.4901161193847656e-08 , MSE = 18.68044120327695\n",
      "sigma = 724.0773439350247 , gamma = 9.094947017729282e-13 , MSE = 637.5533551346573\n",
      "sigma = 724.0773439350247 , gamma = 1.8189894035458565e-12 , MSE = 21.99311855426858\n",
      "sigma = 724.0773439350247 , gamma = 3.637978807091713e-12 , MSE = 70.86804557159493\n",
      "sigma = 724.0773439350247 , gamma = 7.275957614183426e-12 , MSE = 17.777816625560966\n",
      "sigma = 724.0773439350247 , gamma = 1.4551915228366852e-11 , MSE = 13.482327790486332\n",
      "sigma = 724.0773439350247 , gamma = 2.9103830456733704e-11 , MSE = 13.134975023304445\n",
      "sigma = 724.0773439350247 , gamma = 5.820766091346741e-11 , MSE = 13.12766403418351\n",
      "sigma = 724.0773439350247 , gamma = 1.1641532182693481e-10 , MSE = 12.778525080308064\n",
      "sigma = 724.0773439350247 , gamma = 2.3283064365386963e-10 , MSE = 12.586288366649185\n",
      "sigma = 724.0773439350247 , gamma = 4.656612873077393e-10 , MSE = 14.635384619017595\n",
      "sigma = 724.0773439350247 , gamma = 9.313225746154785e-10 , MSE = 29.807178751967097\n",
      "sigma = 724.0773439350247 , gamma = 1.862645149230957e-09 , MSE = 14.829720106217113\n",
      "sigma = 724.0773439350247 , gamma = 3.725290298461914e-09 , MSE = 15.104428751033215\n",
      "sigma = 724.0773439350247 , gamma = 7.450580596923828e-09 , MSE = 15.001269543837816\n"
     ]
    },
    {
     "name": "stderr",
     "output_type": "stream",
     "text": [
      "\n",
      " 46%|██████████████████████████████████████▎                                            | 6/13 [07:13<07:44, 66.38s/it]\u001b[A"
     ]
    },
    {
     "name": "stdout",
     "output_type": "stream",
     "text": [
      "sigma = 724.0773439350247 , gamma = 1.4901161193847656e-08 , MSE = 21.658445975184737\n",
      "sigma = 1024.0 , gamma = 9.094947017729282e-13 , MSE = 22.053362763376544\n",
      "sigma = 1024.0 , gamma = 1.8189894035458565e-12 , MSE = 20.341054634194947\n",
      "sigma = 1024.0 , gamma = 3.637978807091713e-12 , MSE = 17.1103199897508\n",
      "sigma = 1024.0 , gamma = 7.275957614183426e-12 , MSE = 38.04843158783332\n",
      "sigma = 1024.0 , gamma = 1.4551915228366852e-11 , MSE = 17.078910333108897\n",
      "sigma = 1024.0 , gamma = 2.9103830456733704e-11 , MSE = 16.07851085727332\n",
      "sigma = 1024.0 , gamma = 5.820766091346741e-11 , MSE = 28.002617005053754\n",
      "sigma = 1024.0 , gamma = 1.1641532182693481e-10 , MSE = 32.3779479754863\n",
      "sigma = 1024.0 , gamma = 2.3283064365386963e-10 , MSE = 18.08016679158448\n",
      "sigma = 1024.0 , gamma = 4.656612873077393e-10 , MSE = 39.22913544276553\n",
      "sigma = 1024.0 , gamma = 9.313225746154785e-10 , MSE = 14.409389309538508\n",
      "sigma = 1024.0 , gamma = 1.862645149230957e-09 , MSE = 19.253318963600382\n",
      "sigma = 1024.0 , gamma = 3.725290298461914e-09 , MSE = 16.23800547563864\n",
      "sigma = 1024.0 , gamma = 7.450580596923828e-09 , MSE = 21.06705988310148\n"
     ]
    },
    {
     "name": "stderr",
     "output_type": "stream",
     "text": [
      "\n",
      " 54%|████████████████████████████████████████████▋                                      | 7/13 [08:09<06:19, 63.21s/it]\u001b[A"
     ]
    },
    {
     "name": "stdout",
     "output_type": "stream",
     "text": [
      "sigma = 1024.0 , gamma = 1.4901161193847656e-08 , MSE = 21.173349004018657\n",
      "sigma = 1448.1546878700494 , gamma = 9.094947017729282e-13 , MSE = 28.8465314504786\n",
      "sigma = 1448.1546878700494 , gamma = 1.8189894035458565e-12 , MSE = 16.8363683248202\n",
      "sigma = 1448.1546878700494 , gamma = 3.637978807091713e-12 , MSE = 83.32461613237385\n",
      "sigma = 1448.1546878700494 , gamma = 7.275957614183426e-12 , MSE = 15.961269526218228\n",
      "sigma = 1448.1546878700494 , gamma = 1.4551915228366852e-11 , MSE = 15.268685912117178\n",
      "sigma = 1448.1546878700494 , gamma = 2.9103830456733704e-11 , MSE = 31.71463367897103\n",
      "sigma = 1448.1546878700494 , gamma = 5.820766091346741e-11 , MSE = 11.187504503242604\n",
      "sigma = 1448.1546878700494 , gamma = 1.1641532182693481e-10 , MSE = 14.471376336099633\n",
      "sigma = 1448.1546878700494 , gamma = 2.3283064365386963e-10 , MSE = 14.784004330506386\n",
      "sigma = 1448.1546878700494 , gamma = 4.656612873077393e-10 , MSE = 14.322015135768202\n",
      "sigma = 1448.1546878700494 , gamma = 9.313225746154785e-10 , MSE = 20.112319208952435\n",
      "sigma = 1448.1546878700494 , gamma = 1.862645149230957e-09 , MSE = 17.13223006037256\n",
      "sigma = 1448.1546878700494 , gamma = 3.725290298461914e-09 , MSE = 19.293660578855945\n",
      "sigma = 1448.1546878700494 , gamma = 7.450580596923828e-09 , MSE = 23.086725567139343\n"
     ]
    },
    {
     "name": "stderr",
     "output_type": "stream",
     "text": [
      "\n",
      " 62%|███████████████████████████████████████████████████                                | 8/13 [09:07<05:07, 61.56s/it]\u001b[A"
     ]
    },
    {
     "name": "stdout",
     "output_type": "stream",
     "text": [
      "sigma = 1448.1546878700494 , gamma = 1.4901161193847656e-08 , MSE = 24.56155123102422\n",
      "sigma = 2048.0 , gamma = 9.094947017729282e-13 , MSE = 15.369785321428708\n",
      "sigma = 2048.0 , gamma = 1.8189894035458565e-12 , MSE = 13.343650266277681\n",
      "sigma = 2048.0 , gamma = 3.637978807091713e-12 , MSE = 14.90173411935022\n",
      "sigma = 2048.0 , gamma = 7.275957614183426e-12 , MSE = 39.63881054897338\n",
      "sigma = 2048.0 , gamma = 1.4551915228366852e-11 , MSE = 24.63288679229322\n",
      "sigma = 2048.0 , gamma = 2.9103830456733704e-11 , MSE = 28.806612533809705\n",
      "sigma = 2048.0 , gamma = 5.820766091346741e-11 , MSE = 12.928122615303403\n",
      "sigma = 2048.0 , gamma = 1.1641532182693481e-10 , MSE = 16.215269770824893\n",
      "sigma = 2048.0 , gamma = 2.3283064365386963e-10 , MSE = 16.321205102382997\n",
      "sigma = 2048.0 , gamma = 4.656612873077393e-10 , MSE = 17.63535251905062\n",
      "sigma = 2048.0 , gamma = 9.313225746154785e-10 , MSE = 22.231976857449883\n",
      "sigma = 2048.0 , gamma = 1.862645149230957e-09 , MSE = 17.70781148730752\n",
      "sigma = 2048.0 , gamma = 3.725290298461914e-09 , MSE = 23.599913899585253\n",
      "sigma = 2048.0 , gamma = 7.450580596923828e-09 , MSE = 22.072436563814943\n"
     ]
    },
    {
     "name": "stderr",
     "output_type": "stream",
     "text": [
      "\n",
      " 69%|█████████████████████████████████████████████████████████▍                         | 9/13 [10:03<03:58, 59.71s/it]\u001b[A"
     ]
    },
    {
     "name": "stdout",
     "output_type": "stream",
     "text": [
      "sigma = 2048.0 , gamma = 1.4901161193847656e-08 , MSE = 21.04036150144032\n",
      "sigma = 2896.309375740099 , gamma = 9.094947017729282e-13 , MSE = 59.1136716512745\n",
      "sigma = 2896.309375740099 , gamma = 1.8189894035458565e-12 , MSE = 13.994294764362621\n",
      "sigma = 2896.309375740099 , gamma = 3.637978807091713e-12 , MSE = 13.463763525239909\n",
      "sigma = 2896.309375740099 , gamma = 7.275957614183426e-12 , MSE = 14.51850126238745\n",
      "sigma = 2896.309375740099 , gamma = 1.4551915228366852e-11 , MSE = 21.24107186189009\n",
      "sigma = 2896.309375740099 , gamma = 2.9103830456733704e-11 , MSE = 20.458673793667586\n",
      "sigma = 2896.309375740099 , gamma = 5.820766091346741e-11 , MSE = 14.739500484843607\n",
      "sigma = 2896.309375740099 , gamma = 1.1641532182693481e-10 , MSE = 15.744977520484682\n",
      "sigma = 2896.309375740099 , gamma = 2.3283064365386963e-10 , MSE = 17.209581199935986\n",
      "sigma = 2896.309375740099 , gamma = 4.656612873077393e-10 , MSE = 19.50148796455978\n",
      "sigma = 2896.309375740099 , gamma = 9.313225746154785e-10 , MSE = 22.668843725806394\n",
      "sigma = 2896.309375740099 , gamma = 1.862645149230957e-09 , MSE = 20.219062774268394\n",
      "sigma = 2896.309375740099 , gamma = 3.725290298461914e-09 , MSE = 26.97787916494923\n",
      "sigma = 2896.309375740099 , gamma = 7.450580596923828e-09 , MSE = 26.54253743160917\n"
     ]
    },
    {
     "name": "stderr",
     "output_type": "stream",
     "text": [
      "\n",
      " 77%|███████████████████████████████████████████████████████████████                   | 10/13 [10:59<02:55, 58.45s/it]\u001b[A"
     ]
    },
    {
     "name": "stdout",
     "output_type": "stream",
     "text": [
      "sigma = 2896.309375740099 , gamma = 1.4901161193847656e-08 , MSE = 26.786618870402567\n",
      "sigma = 4096.0 , gamma = 9.094947017729282e-13 , MSE = 15.673586515325004\n",
      "sigma = 4096.0 , gamma = 1.8189894035458565e-12 , MSE = 17.862968327689863\n",
      "sigma = 4096.0 , gamma = 3.637978807091713e-12 , MSE = 20.469396904699334\n",
      "sigma = 4096.0 , gamma = 7.275957614183426e-12 , MSE = 12.42382318229468\n",
      "sigma = 4096.0 , gamma = 1.4551915228366852e-11 , MSE = 15.306467281475241\n",
      "sigma = 4096.0 , gamma = 2.9103830456733704e-11 , MSE = 18.16539168485534\n",
      "sigma = 4096.0 , gamma = 5.820766091346741e-11 , MSE = 20.41762012465925\n",
      "sigma = 4096.0 , gamma = 1.1641532182693481e-10 , MSE = 19.316639678960073\n",
      "sigma = 4096.0 , gamma = 2.3283064365386963e-10 , MSE = 19.85117993070964\n",
      "sigma = 4096.0 , gamma = 4.656612873077393e-10 , MSE = 24.92229284962066\n",
      "sigma = 4096.0 , gamma = 9.313225746154785e-10 , MSE = 23.308110641475935\n",
      "sigma = 4096.0 , gamma = 1.862645149230957e-09 , MSE = 26.218916123209926\n",
      "sigma = 4096.0 , gamma = 3.725290298461914e-09 , MSE = 22.841802094443054\n",
      "sigma = 4096.0 , gamma = 7.450580596923828e-09 , MSE = 24.31738337253417\n"
     ]
    },
    {
     "name": "stderr",
     "output_type": "stream",
     "text": [
      "\n",
      " 85%|█████████████████████████████████████████████████████████████████████▍            | 11/13 [11:55<01:55, 57.79s/it]\u001b[A"
     ]
    },
    {
     "name": "stdout",
     "output_type": "stream",
     "text": [
      "sigma = 4096.0 , gamma = 1.4901161193847656e-08 , MSE = 24.282422386117418\n",
      "sigma = 5792.618751480198 , gamma = 9.094947017729282e-13 , MSE = 14.321006909032965\n",
      "sigma = 5792.618751480198 , gamma = 1.8189894035458565e-12 , MSE = 16.339898300828796\n",
      "sigma = 5792.618751480198 , gamma = 3.637978807091713e-12 , MSE = 14.723252264035192\n",
      "sigma = 5792.618751480198 , gamma = 7.275957614183426e-12 , MSE = 16.524363130323266\n",
      "sigma = 5792.618751480198 , gamma = 1.4551915228366852e-11 , MSE = 19.001103042651756\n",
      "sigma = 5792.618751480198 , gamma = 2.9103830456733704e-11 , MSE = 20.009439188643288\n",
      "sigma = 5792.618751480198 , gamma = 5.820766091346741e-11 , MSE = 23.497640932486355\n",
      "sigma = 5792.618751480198 , gamma = 1.1641532182693481e-10 , MSE = 24.260240706874917\n",
      "sigma = 5792.618751480198 , gamma = 2.3283064365386963e-10 , MSE = 27.240937587921973\n",
      "sigma = 5792.618751480198 , gamma = 4.656612873077393e-10 , MSE = 29.404840682258815\n",
      "sigma = 5792.618751480198 , gamma = 9.313225746154785e-10 , MSE = 24.304000516455478\n",
      "sigma = 5792.618751480198 , gamma = 1.862645149230957e-09 , MSE = 23.76093967589664\n",
      "sigma = 5792.618751480198 , gamma = 3.725290298461914e-09 , MSE = 25.331974453291032\n",
      "sigma = 5792.618751480198 , gamma = 7.450580596923828e-09 , MSE = 25.7908730321897\n"
     ]
    },
    {
     "name": "stderr",
     "output_type": "stream",
     "text": [
      "\n",
      " 92%|███████████████████████████████████████████████████████████████████████████▋      | 12/13 [12:51<00:57, 57.15s/it]\u001b[A"
     ]
    },
    {
     "name": "stdout",
     "output_type": "stream",
     "text": [
      "sigma = 5792.618751480198 , gamma = 1.4901161193847656e-08 , MSE = 24.348893848880245\n",
      "sigma = 8192.0 , gamma = 9.094947017729282e-13 , MSE = 14.931154603422295\n",
      "sigma = 8192.0 , gamma = 1.8189894035458565e-12 , MSE = 17.06697640667591\n",
      "sigma = 8192.0 , gamma = 3.637978807091713e-12 , MSE = 24.236174863720386\n",
      "sigma = 8192.0 , gamma = 7.275957614183426e-12 , MSE = 23.67416737037845\n",
      "sigma = 8192.0 , gamma = 1.4551915228366852e-11 , MSE = 25.64017840292495\n",
      "sigma = 8192.0 , gamma = 2.9103830456733704e-11 , MSE = 22.696012355942166\n",
      "sigma = 8192.0 , gamma = 5.820766091346741e-11 , MSE = 21.650851377551554\n",
      "sigma = 8192.0 , gamma = 1.1641532182693481e-10 , MSE = 20.26313323971004\n",
      "sigma = 8192.0 , gamma = 2.3283064365386963e-10 , MSE = 25.145932370488204\n",
      "sigma = 8192.0 , gamma = 4.656612873077393e-10 , MSE = 25.887323395096093\n",
      "sigma = 8192.0 , gamma = 9.313225746154785e-10 , MSE = 26.1005641125946\n",
      "sigma = 8192.0 , gamma = 1.862645149230957e-09 , MSE = 25.358860795409207\n",
      "sigma = 8192.0 , gamma = 3.725290298461914e-09 , MSE = 23.930467066940142\n",
      "sigma = 8192.0 , gamma = 7.450580596923828e-09 , MSE = 25.062240466870776\n"
     ]
    },
    {
     "name": "stderr",
     "output_type": "stream",
     "text": [
      "\n",
      "100%|██████████████████████████████████████████████████████████████████████████████████| 13/13 [13:46<00:00, 63.56s/it]\u001b[A"
     ]
    },
    {
     "name": "stdout",
     "output_type": "stream",
     "text": [
      "sigma = 8192.0 , gamma = 1.4901161193847656e-08 , MSE = 30.83256286265897\n"
     ]
    },
    {
     "name": "stderr",
     "output_type": "stream",
     "text": [
      "\n",
      " 20%|████████████████                                                                | 4/20 [54:56<3:43:12, 837.05s/it]\n",
      "  0%|                                                                                           | 0/13 [00:00<?, ?it/s]\u001b[A"
     ]
    },
    {
     "name": "stdout",
     "output_type": "stream",
     "text": [
      "[8.591429901027949, 12.224161830637037]\n",
      "sigma = 128.0 , gamma = 9.094947017729282e-13 , MSE = 904.3345163742667\n",
      "sigma = 128.0 , gamma = 1.8189894035458565e-12 , MSE = 900.1967003546272\n",
      "sigma = 128.0 , gamma = 3.637978807091713e-12 , MSE = 608.1547679281904\n",
      "sigma = 128.0 , gamma = 7.275957614183426e-12 , MSE = 541.9516406695268\n",
      "sigma = 128.0 , gamma = 1.4551915228366852e-11 , MSE = 269.9185476066126\n",
      "sigma = 128.0 , gamma = 2.9103830456733704e-11 , MSE = 134.1968125710652\n",
      "sigma = 128.0 , gamma = 5.820766091346741e-11 , MSE = 185.97165159710204\n",
      "sigma = 128.0 , gamma = 1.1641532182693481e-10 , MSE = 85.27879113747186\n",
      "sigma = 128.0 , gamma = 2.3283064365386963e-10 , MSE = 135.1576244798593\n",
      "sigma = 128.0 , gamma = 4.656612873077393e-10 , MSE = 44.65622990240796\n",
      "sigma = 128.0 , gamma = 9.313225746154785e-10 , MSE = 101.03249895208441\n",
      "sigma = 128.0 , gamma = 1.862645149230957e-09 , MSE = 54.88010182187388\n",
      "sigma = 128.0 , gamma = 3.725290298461914e-09 , MSE = 37.4376951237046\n",
      "sigma = 128.0 , gamma = 7.450580596923828e-09 , MSE = 30.07996442094978\n"
     ]
    },
    {
     "name": "stderr",
     "output_type": "stream",
     "text": [
      "\n",
      "  8%|██████▍                                                                            | 1/13 [00:55<11:06, 55.56s/it]\u001b[A"
     ]
    },
    {
     "name": "stdout",
     "output_type": "stream",
     "text": [
      "sigma = 128.0 , gamma = 1.4901161193847656e-08 , MSE = 25.928849317306184\n",
      "sigma = 181.01933598375618 , gamma = 9.094947017729282e-13 , MSE = 310.3092804885432\n",
      "sigma = 181.01933598375618 , gamma = 1.8189894035458565e-12 , MSE = 949.2701278889377\n",
      "sigma = 181.01933598375618 , gamma = 3.637978807091713e-12 , MSE = 359.31588195498693\n",
      "sigma = 181.01933598375618 , gamma = 7.275957614183426e-12 , MSE = 537.6640774084824\n",
      "sigma = 181.01933598375618 , gamma = 1.4551915228366852e-11 , MSE = 128.89862512865346\n",
      "sigma = 181.01933598375618 , gamma = 2.9103830456733704e-11 , MSE = 156.86912217913732\n",
      "sigma = 181.01933598375618 , gamma = 5.820766091346741e-11 , MSE = 87.19922413424622\n",
      "sigma = 181.01933598375618 , gamma = 1.1641532182693481e-10 , MSE = 53.15464701437604\n",
      "sigma = 181.01933598375618 , gamma = 2.3283064365386963e-10 , MSE = 93.70869130922131\n",
      "sigma = 181.01933598375618 , gamma = 4.656612873077393e-10 , MSE = 35.15812120025673\n",
      "sigma = 181.01933598375618 , gamma = 9.313225746154785e-10 , MSE = 38.75918616494254\n",
      "sigma = 181.01933598375618 , gamma = 1.862645149230957e-09 , MSE = 23.125849820274844\n",
      "sigma = 181.01933598375618 , gamma = 3.725290298461914e-09 , MSE = 28.197119902273222\n",
      "sigma = 181.01933598375618 , gamma = 7.450580596923828e-09 , MSE = 20.191152026514004\n"
     ]
    },
    {
     "name": "stderr",
     "output_type": "stream",
     "text": [
      "\n",
      " 15%|████████████▊                                                                      | 2/13 [01:51<10:11, 55.56s/it]\u001b[A"
     ]
    },
    {
     "name": "stdout",
     "output_type": "stream",
     "text": [
      "sigma = 181.01933598375618 , gamma = 1.4901161193847656e-08 , MSE = 23.22152796486455\n",
      "sigma = 256.0 , gamma = 9.094947017729282e-13 , MSE = 136.09109339399345\n",
      "sigma = 256.0 , gamma = 1.8189894035458565e-12 , MSE = 145.62691909771124\n",
      "sigma = 256.0 , gamma = 3.637978807091713e-12 , MSE = 145.78911695609003\n",
      "sigma = 256.0 , gamma = 7.275957614183426e-12 , MSE = 72.85228792159867\n",
      "sigma = 256.0 , gamma = 1.4551915228366852e-11 , MSE = 135.99332246961254\n",
      "sigma = 256.0 , gamma = 2.9103830456733704e-11 , MSE = 59.80229408525821\n",
      "sigma = 256.0 , gamma = 5.820766091346741e-11 , MSE = 73.15430129408378\n",
      "sigma = 256.0 , gamma = 1.1641532182693481e-10 , MSE = 35.87252158428584\n",
      "sigma = 256.0 , gamma = 2.3283064365386963e-10 , MSE = 31.247900140769662\n",
      "sigma = 256.0 , gamma = 4.656612873077393e-10 , MSE = 23.651608575999685\n",
      "sigma = 256.0 , gamma = 9.313225746154785e-10 , MSE = 21.832091093840692\n",
      "sigma = 256.0 , gamma = 1.862645149230957e-09 , MSE = 33.65378981614631\n",
      "sigma = 256.0 , gamma = 3.725290298461914e-09 , MSE = 17.72227140830669\n",
      "sigma = 256.0 , gamma = 7.450580596923828e-09 , MSE = 17.57861896607613\n"
     ]
    },
    {
     "name": "stderr",
     "output_type": "stream",
     "text": [
      "\n",
      " 23%|███████████████████▏                                                               | 3/13 [02:49<09:27, 56.79s/it]\u001b[A"
     ]
    },
    {
     "name": "stdout",
     "output_type": "stream",
     "text": [
      "sigma = 256.0 , gamma = 1.4901161193847656e-08 , MSE = 16.24826684938973\n",
      "sigma = 362.03867196751236 , gamma = 9.094947017729282e-13 , MSE = 133.15275706086754\n",
      "sigma = 362.03867196751236 , gamma = 1.8189894035458565e-12 , MSE = 75.73441928856434\n",
      "sigma = 362.03867196751236 , gamma = 3.637978807091713e-12 , MSE = 44.812308092256565\n",
      "sigma = 362.03867196751236 , gamma = 7.275957614183426e-12 , MSE = 31.393830533075118\n",
      "sigma = 362.03867196751236 , gamma = 1.4551915228366852e-11 , MSE = 483.99026608911356\n",
      "sigma = 362.03867196751236 , gamma = 2.9103830456733704e-11 , MSE = 28.426818611107688\n",
      "sigma = 362.03867196751236 , gamma = 5.820766091346741e-11 , MSE = 21.146052020586886\n",
      "sigma = 362.03867196751236 , gamma = 1.1641532182693481e-10 , MSE = 32.07367678026891\n",
      "sigma = 362.03867196751236 , gamma = 2.3283064365386963e-10 , MSE = 18.40558041259954\n",
      "sigma = 362.03867196751236 , gamma = 4.656612873077393e-10 , MSE = 20.471546619695157\n",
      "sigma = 362.03867196751236 , gamma = 9.313225746154785e-10 , MSE = 23.198761714204483\n",
      "sigma = 362.03867196751236 , gamma = 1.862645149230957e-09 , MSE = 16.380440248087137\n",
      "sigma = 362.03867196751236 , gamma = 3.725290298461914e-09 , MSE = 14.909852944293174\n",
      "sigma = 362.03867196751236 , gamma = 7.450580596923828e-09 , MSE = 14.479856175191511\n"
     ]
    },
    {
     "name": "stderr",
     "output_type": "stream",
     "text": [
      "\n",
      " 31%|█████████████████████████▌                                                         | 4/13 [03:45<08:30, 56.71s/it]\u001b[A"
     ]
    },
    {
     "name": "stdout",
     "output_type": "stream",
     "text": [
      "sigma = 362.03867196751236 , gamma = 1.4901161193847656e-08 , MSE = 16.074633616700083\n",
      "sigma = 512.0 , gamma = 9.094947017729282e-13 , MSE = 38.03658478224973\n",
      "sigma = 512.0 , gamma = 1.8189894035458565e-12 , MSE = 34.2959209228231\n",
      "sigma = 512.0 , gamma = 3.637978807091713e-12 , MSE = 39.442495374060734\n",
      "sigma = 512.0 , gamma = 7.275957614183426e-12 , MSE = 32.528365503649674\n",
      "sigma = 512.0 , gamma = 1.4551915228366852e-11 , MSE = 29.61372118124744\n",
      "sigma = 512.0 , gamma = 2.9103830456733704e-11 , MSE = 21.00442599528098\n",
      "sigma = 512.0 , gamma = 5.820766091346741e-11 , MSE = 19.737594069127702\n",
      "sigma = 512.0 , gamma = 1.1641532182693481e-10 , MSE = 16.656476833429128\n",
      "sigma = 512.0 , gamma = 2.3283064365386963e-10 , MSE = 23.625861415707572\n",
      "sigma = 512.0 , gamma = 4.656612873077393e-10 , MSE = 20.569680868737628\n",
      "sigma = 512.0 , gamma = 9.313225746154785e-10 , MSE = 14.909658088058375\n",
      "sigma = 512.0 , gamma = 1.862645149230957e-09 , MSE = 14.329275682724695\n",
      "sigma = 512.0 , gamma = 3.725290298461914e-09 , MSE = 14.750816350963197\n",
      "sigma = 512.0 , gamma = 7.450580596923828e-09 , MSE = 16.59531822690294\n"
     ]
    },
    {
     "name": "stderr",
     "output_type": "stream",
     "text": [
      "\n",
      " 38%|███████████████████████████████▉                                                   | 5/13 [04:41<07:29, 56.25s/it]\u001b[A"
     ]
    },
    {
     "name": "stdout",
     "output_type": "stream",
     "text": [
      "sigma = 512.0 , gamma = 1.4901161193847656e-08 , MSE = 19.401317762673976\n",
      "sigma = 724.0773439350247 , gamma = 9.094947017729282e-13 , MSE = 43.639712983950915\n",
      "sigma = 724.0773439350247 , gamma = 1.8189894035458565e-12 , MSE = 23.500260135717372\n",
      "sigma = 724.0773439350247 , gamma = 3.637978807091713e-12 , MSE = 23.883626538319305\n",
      "sigma = 724.0773439350247 , gamma = 7.275957614183426e-12 , MSE = 18.691956049850788\n",
      "sigma = 724.0773439350247 , gamma = 1.4551915228366852e-11 , MSE = 17.14950317313404\n",
      "sigma = 724.0773439350247 , gamma = 2.9103830456733704e-11 , MSE = 14.617882331222907\n",
      "sigma = 724.0773439350247 , gamma = 5.820766091346741e-11 , MSE = 18.473997603161838\n",
      "sigma = 724.0773439350247 , gamma = 1.1641532182693481e-10 , MSE = 17.26244307125583\n",
      "sigma = 724.0773439350247 , gamma = 2.3283064365386963e-10 , MSE = 12.879653646477475\n",
      "sigma = 724.0773439350247 , gamma = 4.656612873077393e-10 , MSE = 18.767823046675165\n",
      "sigma = 724.0773439350247 , gamma = 9.313225746154785e-10 , MSE = 17.896036339502896\n",
      "sigma = 724.0773439350247 , gamma = 1.862645149230957e-09 , MSE = 16.496036964959384\n",
      "sigma = 724.0773439350247 , gamma = 3.725290298461914e-09 , MSE = 18.34176680936623\n",
      "sigma = 724.0773439350247 , gamma = 7.450580596923828e-09 , MSE = 16.588387471595475\n"
     ]
    },
    {
     "name": "stderr",
     "output_type": "stream",
     "text": [
      "\n",
      " 46%|██████████████████████████████████████▎                                            | 6/13 [05:36<06:31, 55.92s/it]\u001b[A"
     ]
    },
    {
     "name": "stdout",
     "output_type": "stream",
     "text": [
      "sigma = 724.0773439350247 , gamma = 1.4901161193847656e-08 , MSE = 17.136600162750238\n",
      "sigma = 1024.0 , gamma = 9.094947017729282e-13 , MSE = 21.448015705264122\n",
      "sigma = 1024.0 , gamma = 1.8189894035458565e-12 , MSE = 17.983968223597554\n",
      "sigma = 1024.0 , gamma = 3.637978807091713e-12 , MSE = 19.236104488834144\n",
      "sigma = 1024.0 , gamma = 7.275957614183426e-12 , MSE = 20.897665142353695\n",
      "sigma = 1024.0 , gamma = 1.4551915228366852e-11 , MSE = 14.401106917292584\n",
      "sigma = 1024.0 , gamma = 2.9103830456733704e-11 , MSE = 14.537428775428117\n",
      "sigma = 1024.0 , gamma = 5.820766091346741e-11 , MSE = 16.36610106190404\n",
      "sigma = 1024.0 , gamma = 1.1641532182693481e-10 , MSE = 15.043578634427666\n",
      "sigma = 1024.0 , gamma = 2.3283064365386963e-10 , MSE = 15.163676324521594\n",
      "sigma = 1024.0 , gamma = 4.656612873077393e-10 , MSE = 14.046765892983206\n",
      "sigma = 1024.0 , gamma = 9.313225746154785e-10 , MSE = 14.601724084494602\n",
      "sigma = 1024.0 , gamma = 1.862645149230957e-09 , MSE = 18.25412934476651\n",
      "sigma = 1024.0 , gamma = 3.725290298461914e-09 , MSE = 17.4301657410792\n",
      "sigma = 1024.0 , gamma = 7.450580596923828e-09 , MSE = 16.620879923796032\n"
     ]
    },
    {
     "name": "stderr",
     "output_type": "stream",
     "text": [
      "\n",
      " 54%|████████████████████████████████████████████▋                                      | 7/13 [06:37<05:44, 57.43s/it]\u001b[A"
     ]
    },
    {
     "name": "stdout",
     "output_type": "stream",
     "text": [
      "sigma = 1024.0 , gamma = 1.4901161193847656e-08 , MSE = 20.514079448054876\n",
      "sigma = 1448.1546878700494 , gamma = 9.094947017729282e-13 , MSE = 17.84956554851641\n",
      "sigma = 1448.1546878700494 , gamma = 1.8189894035458565e-12 , MSE = 16.50997344847682\n",
      "sigma = 1448.1546878700494 , gamma = 3.637978807091713e-12 , MSE = 17.78206730441748\n",
      "sigma = 1448.1546878700494 , gamma = 7.275957614183426e-12 , MSE = 19.32339657263736\n",
      "sigma = 1448.1546878700494 , gamma = 1.4551915228366852e-11 , MSE = 14.907494214620334\n",
      "sigma = 1448.1546878700494 , gamma = 2.9103830456733704e-11 , MSE = 17.78432089565906\n",
      "sigma = 1448.1546878700494 , gamma = 5.820766091346741e-11 , MSE = 13.86423760443079\n",
      "sigma = 1448.1546878700494 , gamma = 1.1641532182693481e-10 , MSE = 12.820906994984409\n",
      "sigma = 1448.1546878700494 , gamma = 2.3283064365386963e-10 , MSE = 17.764268057136157\n",
      "sigma = 1448.1546878700494 , gamma = 4.656612873077393e-10 , MSE = 19.65399382391042\n",
      "sigma = 1448.1546878700494 , gamma = 9.313225746154785e-10 , MSE = 19.78908057319108\n",
      "sigma = 1448.1546878700494 , gamma = 1.862645149230957e-09 , MSE = 18.272035581616876\n",
      "sigma = 1448.1546878700494 , gamma = 3.725290298461914e-09 , MSE = 19.07300750243589\n",
      "sigma = 1448.1546878700494 , gamma = 7.450580596923828e-09 , MSE = 19.168448539676113\n"
     ]
    },
    {
     "name": "stderr",
     "output_type": "stream",
     "text": [
      "\n",
      " 62%|███████████████████████████████████████████████████                                | 8/13 [07:34<04:46, 57.34s/it]\u001b[A"
     ]
    },
    {
     "name": "stdout",
     "output_type": "stream",
     "text": [
      "sigma = 1448.1546878700494 , gamma = 1.4901161193847656e-08 , MSE = 26.701426484399985\n",
      "sigma = 2048.0 , gamma = 9.094947017729282e-13 , MSE = 28.209052187669993\n",
      "sigma = 2048.0 , gamma = 1.8189894035458565e-12 , MSE = 15.489491085542213\n",
      "sigma = 2048.0 , gamma = 3.637978807091713e-12 , MSE = 17.149297522197813\n",
      "sigma = 2048.0 , gamma = 7.275957614183426e-12 , MSE = 16.392322118692768\n",
      "sigma = 2048.0 , gamma = 1.4551915228366852e-11 , MSE = 17.01085079614085\n",
      "sigma = 2048.0 , gamma = 2.9103830456733704e-11 , MSE = 12.26406897309727\n",
      "sigma = 2048.0 , gamma = 5.820766091346741e-11 , MSE = 14.759455161188637\n",
      "sigma = 2048.0 , gamma = 1.1641532182693481e-10 , MSE = 15.838357495407985\n",
      "sigma = 2048.0 , gamma = 2.3283064365386963e-10 , MSE = 18.411816864004443\n",
      "sigma = 2048.0 , gamma = 4.656612873077393e-10 , MSE = 17.18403917193723\n",
      "sigma = 2048.0 , gamma = 9.313225746154785e-10 , MSE = 24.19580699848874\n",
      "sigma = 2048.0 , gamma = 1.862645149230957e-09 , MSE = 22.336014763652297\n",
      "sigma = 2048.0 , gamma = 3.725290298461914e-09 , MSE = 22.861798079098634\n",
      "sigma = 2048.0 , gamma = 7.450580596923828e-09 , MSE = 24.092285731439283\n"
     ]
    },
    {
     "name": "stderr",
     "output_type": "stream",
     "text": [
      "\n",
      " 69%|█████████████████████████████████████████████████████████▍                         | 9/13 [08:33<03:51, 57.82s/it]\u001b[A"
     ]
    },
    {
     "name": "stdout",
     "output_type": "stream",
     "text": [
      "sigma = 2048.0 , gamma = 1.4901161193847656e-08 , MSE = 25.44788660228613\n",
      "sigma = 2896.309375740099 , gamma = 9.094947017729282e-13 , MSE = 19.688675389763414\n",
      "sigma = 2896.309375740099 , gamma = 1.8189894035458565e-12 , MSE = 16.71514154790639\n",
      "sigma = 2896.309375740099 , gamma = 3.637978807091713e-12 , MSE = 14.307368587281024\n",
      "sigma = 2896.309375740099 , gamma = 7.275957614183426e-12 , MSE = 15.690601187411769\n",
      "sigma = 2896.309375740099 , gamma = 1.4551915228366852e-11 , MSE = 17.449383632009628\n",
      "sigma = 2896.309375740099 , gamma = 2.9103830456733704e-11 , MSE = 18.88896431839961\n",
      "sigma = 2896.309375740099 , gamma = 5.820766091346741e-11 , MSE = 24.065593327798265\n",
      "sigma = 2896.309375740099 , gamma = 1.1641532182693481e-10 , MSE = 20.57049040956126\n",
      "sigma = 2896.309375740099 , gamma = 2.3283064365386963e-10 , MSE = 20.89098007167667\n",
      "sigma = 2896.309375740099 , gamma = 4.656612873077393e-10 , MSE = 18.836861436099515\n",
      "sigma = 2896.309375740099 , gamma = 9.313225746154785e-10 , MSE = 24.808998854253304\n",
      "sigma = 2896.309375740099 , gamma = 1.862645149230957e-09 , MSE = 29.415227974493444\n",
      "sigma = 2896.309375740099 , gamma = 3.725290298461914e-09 , MSE = 26.93221595073188\n",
      "sigma = 2896.309375740099 , gamma = 7.450580596923828e-09 , MSE = 24.83923000840573\n"
     ]
    },
    {
     "name": "stderr",
     "output_type": "stream",
     "text": [
      "\n",
      " 77%|███████████████████████████████████████████████████████████████                   | 10/13 [09:33<02:56, 58.73s/it]\u001b[A"
     ]
    },
    {
     "name": "stdout",
     "output_type": "stream",
     "text": [
      "sigma = 2896.309375740099 , gamma = 1.4901161193847656e-08 , MSE = 24.133510835391796\n",
      "sigma = 4096.0 , gamma = 9.094947017729282e-13 , MSE = 13.40929392501097\n",
      "sigma = 4096.0 , gamma = 1.8189894035458565e-12 , MSE = 12.449464558303315\n",
      "sigma = 4096.0 , gamma = 3.637978807091713e-12 , MSE = 16.408934506860884\n",
      "sigma = 4096.0 , gamma = 7.275957614183426e-12 , MSE = 13.410685684591247\n",
      "sigma = 4096.0 , gamma = 1.4551915228366852e-11 , MSE = 19.145746776989803\n",
      "sigma = 4096.0 , gamma = 2.9103830456733704e-11 , MSE = 18.3368436244153\n",
      "sigma = 4096.0 , gamma = 5.820766091346741e-11 , MSE = 18.29273918157415\n",
      "sigma = 4096.0 , gamma = 1.1641532182693481e-10 , MSE = 19.92027770662991\n",
      "sigma = 4096.0 , gamma = 2.3283064365386963e-10 , MSE = 20.07330811715583\n",
      "sigma = 4096.0 , gamma = 4.656612873077393e-10 , MSE = 29.41031534573802\n",
      "sigma = 4096.0 , gamma = 9.313225746154785e-10 , MSE = 23.144769102361185\n",
      "sigma = 4096.0 , gamma = 1.862645149230957e-09 , MSE = 21.52642069232557\n",
      "sigma = 4096.0 , gamma = 3.725290298461914e-09 , MSE = 24.134163673480515\n",
      "sigma = 4096.0 , gamma = 7.450580596923828e-09 , MSE = 26.01016129856119\n"
     ]
    },
    {
     "name": "stderr",
     "output_type": "stream",
     "text": [
      "\n",
      " 85%|█████████████████████████████████████████████████████████████████████▍            | 11/13 [10:36<01:59, 59.81s/it]\u001b[A"
     ]
    },
    {
     "name": "stdout",
     "output_type": "stream",
     "text": [
      "sigma = 4096.0 , gamma = 1.4901161193847656e-08 , MSE = 24.21957281675264\n",
      "sigma = 5792.618751480198 , gamma = 9.094947017729282e-13 , MSE = 14.230453737129256\n",
      "sigma = 5792.618751480198 , gamma = 1.8189894035458565e-12 , MSE = 16.319694380093456\n",
      "sigma = 5792.618751480198 , gamma = 3.637978807091713e-12 , MSE = 18.15089537965745\n",
      "sigma = 5792.618751480198 , gamma = 7.275957614183426e-12 , MSE = 17.527365215549196\n",
      "sigma = 5792.618751480198 , gamma = 1.4551915228366852e-11 , MSE = 17.321639422265505\n",
      "sigma = 5792.618751480198 , gamma = 2.9103830456733704e-11 , MSE = 24.181950926099272\n",
      "sigma = 5792.618751480198 , gamma = 5.820766091346741e-11 , MSE = 28.348801018292875\n",
      "sigma = 5792.618751480198 , gamma = 1.1641532182693481e-10 , MSE = 19.432095141480758\n",
      "sigma = 5792.618751480198 , gamma = 2.3283064365386963e-10 , MSE = 25.309612309547454\n",
      "sigma = 5792.618751480198 , gamma = 4.656612873077393e-10 , MSE = 24.456867126610135\n",
      "sigma = 5792.618751480198 , gamma = 9.313225746154785e-10 , MSE = 28.736083509053593\n",
      "sigma = 5792.618751480198 , gamma = 1.862645149230957e-09 , MSE = 23.872539559042316\n",
      "sigma = 5792.618751480198 , gamma = 3.725290298461914e-09 , MSE = 26.721869764851466\n",
      "sigma = 5792.618751480198 , gamma = 7.450580596923828e-09 , MSE = 26.93002255429841\n"
     ]
    },
    {
     "name": "stderr",
     "output_type": "stream",
     "text": [
      "\n",
      " 92%|███████████████████████████████████████████████████████████████████████████▋      | 12/13 [11:55<01:05, 65.64s/it]\u001b[A"
     ]
    },
    {
     "name": "stdout",
     "output_type": "stream",
     "text": [
      "sigma = 5792.618751480198 , gamma = 1.4901161193847656e-08 , MSE = 24.011279039095008\n",
      "sigma = 8192.0 , gamma = 9.094947017729282e-13 , MSE = 16.311720997752314\n",
      "sigma = 8192.0 , gamma = 1.8189894035458565e-12 , MSE = 18.769652504110137\n",
      "sigma = 8192.0 , gamma = 3.637978807091713e-12 , MSE = 19.767828687840233\n",
      "sigma = 8192.0 , gamma = 7.275957614183426e-12 , MSE = 25.92605467636961\n",
      "sigma = 8192.0 , gamma = 1.4551915228366852e-11 , MSE = 21.493406434745832\n",
      "sigma = 8192.0 , gamma = 2.9103830456733704e-11 , MSE = 23.23723931841667\n",
      "sigma = 8192.0 , gamma = 5.820766091346741e-11 , MSE = 29.90054848043364\n",
      "sigma = 8192.0 , gamma = 1.1641532182693481e-10 , MSE = 19.89088778902747\n",
      "sigma = 8192.0 , gamma = 2.3283064365386963e-10 , MSE = 22.63804822320318\n",
      "sigma = 8192.0 , gamma = 4.656612873077393e-10 , MSE = 25.905639494675864\n",
      "sigma = 8192.0 , gamma = 9.313225746154785e-10 , MSE = 25.780451225972694\n",
      "sigma = 8192.0 , gamma = 1.862645149230957e-09 , MSE = 23.101355416658684\n",
      "sigma = 8192.0 , gamma = 3.725290298461914e-09 , MSE = 26.39384250451129\n",
      "sigma = 8192.0 , gamma = 7.450580596923828e-09 , MSE = 23.629881745171126\n"
     ]
    },
    {
     "name": "stderr",
     "output_type": "stream",
     "text": [
      "\n",
      "100%|██████████████████████████████████████████████████████████████████████████████████| 13/13 [12:59<00:00, 59.93s/it]\u001b[A"
     ]
    },
    {
     "name": "stdout",
     "output_type": "stream",
     "text": [
      "sigma = 8192.0 , gamma = 1.4901161193847656e-08 , MSE = 28.128921409231403\n"
     ]
    },
    {
     "name": "stderr",
     "output_type": "stream",
     "text": [
      "\n",
      " 25%|███████████████████▌                                                          | 5/20 [1:08:00<3:24:27, 817.81s/it]\n",
      "  0%|                                                                                           | 0/13 [00:00<?, ?it/s]\u001b[A"
     ]
    },
    {
     "name": "stdout",
     "output_type": "stream",
     "text": [
      "[10.029698287820004, 10.972752587899825]\n",
      "sigma = 128.0 , gamma = 9.094947017729282e-13 , MSE = 777.6969200101468\n",
      "sigma = 128.0 , gamma = 1.8189894035458565e-12 , MSE = 347.22586350442475\n",
      "sigma = 128.0 , gamma = 3.637978807091713e-12 , MSE = 5426.751785834664\n",
      "sigma = 128.0 , gamma = 7.275957614183426e-12 , MSE = 362.46733327233284\n",
      "sigma = 128.0 , gamma = 1.4551915228366852e-11 , MSE = 6166.976296757561\n",
      "sigma = 128.0 , gamma = 2.9103830456733704e-11 , MSE = 1267.2042550684098\n",
      "sigma = 128.0 , gamma = 5.820766091346741e-11 , MSE = 200.27810801515923\n",
      "sigma = 128.0 , gamma = 1.1641532182693481e-10 , MSE = 190.4163134571867\n",
      "sigma = 128.0 , gamma = 2.3283064365386963e-10 , MSE = 110.69165965749012\n",
      "sigma = 128.0 , gamma = 4.656612873077393e-10 , MSE = 52.61429345189269\n",
      "sigma = 128.0 , gamma = 9.313225746154785e-10 , MSE = 77.00589064598962\n",
      "sigma = 128.0 , gamma = 1.862645149230957e-09 , MSE = 41.3550646925948\n",
      "sigma = 128.0 , gamma = 3.725290298461914e-09 , MSE = 26.622405100893673\n",
      "sigma = 128.0 , gamma = 7.450580596923828e-09 , MSE = 28.68334767096448\n"
     ]
    },
    {
     "name": "stderr",
     "output_type": "stream",
     "text": [
      "\n",
      "  8%|██████▍                                                                            | 1/13 [01:01<12:13, 61.15s/it]\u001b[A"
     ]
    },
    {
     "name": "stdout",
     "output_type": "stream",
     "text": [
      "sigma = 128.0 , gamma = 1.4901161193847656e-08 , MSE = 17.39923401488554\n",
      "sigma = 181.01933598375618 , gamma = 9.094947017729282e-13 , MSE = 3250.2891898647804\n",
      "sigma = 181.01933598375618 , gamma = 1.8189894035458565e-12 , MSE = 719.6874816775443\n",
      "sigma = 181.01933598375618 , gamma = 3.637978807091713e-12 , MSE = 177.37120184790328\n",
      "sigma = 181.01933598375618 , gamma = 7.275957614183426e-12 , MSE = 156.48181305476686\n",
      "sigma = 181.01933598375618 , gamma = 1.4551915228366852e-11 , MSE = 180.24943260230816\n",
      "sigma = 181.01933598375618 , gamma = 2.9103830456733704e-11 , MSE = 369.7118989467071\n",
      "sigma = 181.01933598375618 , gamma = 5.820766091346741e-11 , MSE = 443.88896708732136\n",
      "sigma = 181.01933598375618 , gamma = 1.1641532182693481e-10 , MSE = 97.02599303208858\n",
      "sigma = 181.01933598375618 , gamma = 2.3283064365386963e-10 , MSE = 100.81203408832285\n",
      "sigma = 181.01933598375618 , gamma = 4.656612873077393e-10 , MSE = 44.901244264028044\n",
      "sigma = 181.01933598375618 , gamma = 9.313225746154785e-10 , MSE = 21.826171045566305\n",
      "sigma = 181.01933598375618 , gamma = 1.862645149230957e-09 , MSE = 17.635072565432008\n",
      "sigma = 181.01933598375618 , gamma = 3.725290298461914e-09 , MSE = 23.586545847801588\n",
      "sigma = 181.01933598375618 , gamma = 7.450580596923828e-09 , MSE = 34.01617383975728\n"
     ]
    },
    {
     "name": "stderr",
     "output_type": "stream",
     "text": [
      "\n",
      " 15%|████████████▊                                                                      | 2/13 [01:58<10:50, 59.17s/it]\u001b[A"
     ]
    },
    {
     "name": "stdout",
     "output_type": "stream",
     "text": [
      "sigma = 181.01933598375618 , gamma = 1.4901161193847656e-08 , MSE = 23.99942482552579\n",
      "sigma = 256.0 , gamma = 9.094947017729282e-13 , MSE = 144.6261759081405\n",
      "sigma = 256.0 , gamma = 1.8189894035458565e-12 , MSE = 150.28489180228127\n",
      "sigma = 256.0 , gamma = 3.637978807091713e-12 , MSE = 110.62088982179439\n",
      "sigma = 256.0 , gamma = 7.275957614183426e-12 , MSE = 43.856683688517776\n",
      "sigma = 256.0 , gamma = 1.4551915228366852e-11 , MSE = 57.703301764517605\n",
      "sigma = 256.0 , gamma = 2.9103830456733704e-11 , MSE = 47.38862946289836\n",
      "sigma = 256.0 , gamma = 5.820766091346741e-11 , MSE = 22.38464493360984\n",
      "sigma = 256.0 , gamma = 1.1641532182693481e-10 , MSE = 39.83506989792215\n",
      "sigma = 256.0 , gamma = 2.3283064365386963e-10 , MSE = 16.377933288372297\n",
      "sigma = 256.0 , gamma = 4.656612873077393e-10 , MSE = 21.65270559199585\n",
      "sigma = 256.0 , gamma = 9.313225746154785e-10 , MSE = 15.510660561434273\n",
      "sigma = 256.0 , gamma = 1.862645149230957e-09 , MSE = 21.149397469271925\n",
      "sigma = 256.0 , gamma = 3.725290298461914e-09 , MSE = 15.41204596934208\n",
      "sigma = 256.0 , gamma = 7.450580596923828e-09 , MSE = 12.847402046529515\n"
     ]
    },
    {
     "name": "stderr",
     "output_type": "stream",
     "text": [
      "\n",
      " 23%|███████████████████▏                                                               | 3/13 [02:58<09:54, 59.40s/it]\u001b[A"
     ]
    },
    {
     "name": "stdout",
     "output_type": "stream",
     "text": [
      "sigma = 256.0 , gamma = 1.4901161193847656e-08 , MSE = 12.582997864620486\n",
      "sigma = 362.03867196751236 , gamma = 9.094947017729282e-13 , MSE = 9040.36662140383\n",
      "sigma = 362.03867196751236 , gamma = 1.8189894035458565e-12 , MSE = 47.37775947426387\n",
      "sigma = 362.03867196751236 , gamma = 3.637978807091713e-12 , MSE = 36.83939216544307\n",
      "sigma = 362.03867196751236 , gamma = 7.275957614183426e-12 , MSE = 23.15215280154009\n",
      "sigma = 362.03867196751236 , gamma = 1.4551915228366852e-11 , MSE = 37.27249571688384\n",
      "sigma = 362.03867196751236 , gamma = 2.9103830456733704e-11 , MSE = 22.576828208229568\n",
      "sigma = 362.03867196751236 , gamma = 5.820766091346741e-11 , MSE = 20.042550624181654\n",
      "sigma = 362.03867196751236 , gamma = 1.1641532182693481e-10 , MSE = 19.962984467867738\n",
      "sigma = 362.03867196751236 , gamma = 2.3283064365386963e-10 , MSE = 17.3614460620839\n",
      "sigma = 362.03867196751236 , gamma = 4.656612873077393e-10 , MSE = 14.064250894377698\n",
      "sigma = 362.03867196751236 , gamma = 9.313225746154785e-10 , MSE = 14.11613312429308\n",
      "sigma = 362.03867196751236 , gamma = 1.862645149230957e-09 , MSE = 15.006612413771027\n",
      "sigma = 362.03867196751236 , gamma = 3.725290298461914e-09 , MSE = 12.088865815113042\n",
      "sigma = 362.03867196751236 , gamma = 7.450580596923828e-09 , MSE = 11.35444650927965\n"
     ]
    },
    {
     "name": "stderr",
     "output_type": "stream",
     "text": [
      "\n",
      " 31%|█████████████████████████▌                                                         | 4/13 [03:57<08:53, 59.31s/it]\u001b[A"
     ]
    },
    {
     "name": "stdout",
     "output_type": "stream",
     "text": [
      "sigma = 362.03867196751236 , gamma = 1.4901161193847656e-08 , MSE = 13.76869804531258\n",
      "sigma = 512.0 , gamma = 9.094947017729282e-13 , MSE = 36.940367308761665\n",
      "sigma = 512.0 , gamma = 1.8189894035458565e-12 , MSE = 406.9052352782314\n",
      "sigma = 512.0 , gamma = 3.637978807091713e-12 , MSE = 29.309472289910993\n",
      "sigma = 512.0 , gamma = 7.275957614183426e-12 , MSE = 157.43539153590544\n",
      "sigma = 512.0 , gamma = 1.4551915228366852e-11 , MSE = 14.990219522067303\n",
      "sigma = 512.0 , gamma = 2.9103830456733704e-11 , MSE = 15.367275168225802\n",
      "sigma = 512.0 , gamma = 5.820766091346741e-11 , MSE = 13.795064402959184\n",
      "sigma = 512.0 , gamma = 1.1641532182693481e-10 , MSE = 16.587419853837034\n",
      "sigma = 512.0 , gamma = 2.3283064365386963e-10 , MSE = 13.153476674840784\n",
      "sigma = 512.0 , gamma = 4.656612873077393e-10 , MSE = 12.364180645503263\n",
      "sigma = 512.0 , gamma = 9.313225746154785e-10 , MSE = 12.298595391722909\n",
      "sigma = 512.0 , gamma = 1.862645149230957e-09 , MSE = 15.797766678086052\n",
      "sigma = 512.0 , gamma = 3.725290298461914e-09 , MSE = 11.462585362704845\n",
      "sigma = 512.0 , gamma = 7.450580596923828e-09 , MSE = 11.91928631125574\n"
     ]
    },
    {
     "name": "stderr",
     "output_type": "stream",
     "text": [
      "\n",
      " 38%|███████████████████████████████▉                                                   | 5/13 [04:56<07:53, 59.22s/it]\u001b[A"
     ]
    },
    {
     "name": "stdout",
     "output_type": "stream",
     "text": [
      "sigma = 512.0 , gamma = 1.4901161193847656e-08 , MSE = 10.568640143111839\n",
      "sigma = 724.0773439350247 , gamma = 9.094947017729282e-13 , MSE = 22.33439548939477\n",
      "sigma = 724.0773439350247 , gamma = 1.8189894035458565e-12 , MSE = 16.711461663082435\n",
      "sigma = 724.0773439350247 , gamma = 3.637978807091713e-12 , MSE = 20.35709686830959\n",
      "sigma = 724.0773439350247 , gamma = 7.275957614183426e-12 , MSE = 17.122031924459485\n",
      "sigma = 724.0773439350247 , gamma = 1.4551915228366852e-11 , MSE = 15.158350766651585\n",
      "sigma = 724.0773439350247 , gamma = 2.9103830456733704e-11 , MSE = 18.195296712390505\n",
      "sigma = 724.0773439350247 , gamma = 5.820766091346741e-11 , MSE = 15.1181627550868\n",
      "sigma = 724.0773439350247 , gamma = 1.1641532182693481e-10 , MSE = 34.708899197266156\n",
      "sigma = 724.0773439350247 , gamma = 2.3283064365386963e-10 , MSE = 12.27545231881095\n",
      "sigma = 724.0773439350247 , gamma = 4.656612873077393e-10 , MSE = 10.013473389206776\n",
      "sigma = 724.0773439350247 , gamma = 9.313225746154785e-10 , MSE = 32.5475031250008\n",
      "sigma = 724.0773439350247 , gamma = 1.862645149230957e-09 , MSE = 14.26719263000922\n",
      "sigma = 724.0773439350247 , gamma = 3.725290298461914e-09 , MSE = 24.339374571106156\n",
      "sigma = 724.0773439350247 , gamma = 7.450580596923828e-09 , MSE = 13.503766147375751\n"
     ]
    },
    {
     "name": "stderr",
     "output_type": "stream",
     "text": [
      "\n",
      " 46%|██████████████████████████████████████▎                                            | 6/13 [05:56<06:55, 59.37s/it]\u001b[A"
     ]
    },
    {
     "name": "stdout",
     "output_type": "stream",
     "text": [
      "sigma = 724.0773439350247 , gamma = 1.4901161193847656e-08 , MSE = 14.311495458676841\n",
      "sigma = 1024.0 , gamma = 9.094947017729282e-13 , MSE = 17.33523265822408\n",
      "sigma = 1024.0 , gamma = 1.8189894035458565e-12 , MSE = 16.340743701295647\n",
      "sigma = 1024.0 , gamma = 3.637978807091713e-12 , MSE = 15.116347730547869\n",
      "sigma = 1024.0 , gamma = 7.275957614183426e-12 , MSE = 12.708565786535763\n",
      "sigma = 1024.0 , gamma = 1.4551915228366852e-11 , MSE = 13.077202901369592\n",
      "sigma = 1024.0 , gamma = 2.9103830456733704e-11 , MSE = 12.380974197646236\n",
      "sigma = 1024.0 , gamma = 5.820766091346741e-11 , MSE = 13.053732110854742\n",
      "sigma = 1024.0 , gamma = 1.1641532182693481e-10 , MSE = 11.663727574051546\n",
      "sigma = 1024.0 , gamma = 2.3283064365386963e-10 , MSE = 12.226146185567261\n",
      "sigma = 1024.0 , gamma = 4.656612873077393e-10 , MSE = 11.888160282578568\n",
      "sigma = 1024.0 , gamma = 9.313225746154785e-10 , MSE = 12.171157919321084\n",
      "sigma = 1024.0 , gamma = 1.862645149230957e-09 , MSE = 11.358065392335426\n",
      "sigma = 1024.0 , gamma = 3.725290298461914e-09 , MSE = 17.036834481550425\n",
      "sigma = 1024.0 , gamma = 7.450580596923828e-09 , MSE = 16.71853300063558\n"
     ]
    },
    {
     "name": "stderr",
     "output_type": "stream",
     "text": [
      "\n",
      " 54%|████████████████████████████████████████████▋                                      | 7/13 [06:55<05:56, 59.35s/it]\u001b[A"
     ]
    },
    {
     "name": "stdout",
     "output_type": "stream",
     "text": [
      "sigma = 1024.0 , gamma = 1.4901161193847656e-08 , MSE = 18.607410820996726\n",
      "sigma = 1448.1546878700494 , gamma = 9.094947017729282e-13 , MSE = 16.999766511639272\n",
      "sigma = 1448.1546878700494 , gamma = 1.8189894035458565e-12 , MSE = 21.45548725529474\n",
      "sigma = 1448.1546878700494 , gamma = 3.637978807091713e-12 , MSE = 13.689471581502739\n",
      "sigma = 1448.1546878700494 , gamma = 7.275957614183426e-12 , MSE = 16.315129273341327\n",
      "sigma = 1448.1546878700494 , gamma = 1.4551915228366852e-11 , MSE = 20.56049610596038\n",
      "sigma = 1448.1546878700494 , gamma = 2.9103830456733704e-11 , MSE = 10.365407635196794\n",
      "sigma = 1448.1546878700494 , gamma = 5.820766091346741e-11 , MSE = 11.01891688836766\n",
      "sigma = 1448.1546878700494 , gamma = 1.1641532182693481e-10 , MSE = 21.827989327085515\n",
      "sigma = 1448.1546878700494 , gamma = 2.3283064365386963e-10 , MSE = 14.58071804355871\n",
      "sigma = 1448.1546878700494 , gamma = 4.656612873077393e-10 , MSE = 14.130811648939432\n",
      "sigma = 1448.1546878700494 , gamma = 9.313225746154785e-10 , MSE = 14.629548092746308\n",
      "sigma = 1448.1546878700494 , gamma = 1.862645149230957e-09 , MSE = 16.725497902373696\n",
      "sigma = 1448.1546878700494 , gamma = 3.725290298461914e-09 , MSE = 18.22588725744216\n",
      "sigma = 1448.1546878700494 , gamma = 7.450580596923828e-09 , MSE = 18.281000633357575\n"
     ]
    },
    {
     "name": "stderr",
     "output_type": "stream",
     "text": [
      "\n",
      " 62%|███████████████████████████████████████████████████                                | 8/13 [07:55<04:57, 59.51s/it]\u001b[A"
     ]
    },
    {
     "name": "stdout",
     "output_type": "stream",
     "text": [
      "sigma = 1448.1546878700494 , gamma = 1.4901161193847656e-08 , MSE = 18.585093934130917\n",
      "sigma = 2048.0 , gamma = 9.094947017729282e-13 , MSE = 14.524282852795556\n",
      "sigma = 2048.0 , gamma = 1.8189894035458565e-12 , MSE = 11.551226711345574\n",
      "sigma = 2048.0 , gamma = 3.637978807091713e-12 , MSE = 13.34902194401821\n",
      "sigma = 2048.0 , gamma = 7.275957614183426e-12 , MSE = 11.672497891148907\n",
      "sigma = 2048.0 , gamma = 1.4551915228366852e-11 , MSE = 18.908894509963456\n",
      "sigma = 2048.0 , gamma = 2.9103830456733704e-11 , MSE = 13.591016233563028\n",
      "sigma = 2048.0 , gamma = 5.820766091346741e-11 , MSE = 9.908086765417735\n",
      "sigma = 2048.0 , gamma = 1.1641532182693481e-10 , MSE = 14.664798973437438\n",
      "sigma = 2048.0 , gamma = 2.3283064365386963e-10 , MSE = 17.62030612973704\n",
      "sigma = 2048.0 , gamma = 4.656612873077393e-10 , MSE = 16.828113744570743\n",
      "sigma = 2048.0 , gamma = 9.313225746154785e-10 , MSE = 16.832860416728856\n",
      "sigma = 2048.0 , gamma = 1.862645149230957e-09 , MSE = 18.964669568696433\n",
      "sigma = 2048.0 , gamma = 3.725290298461914e-09 , MSE = 18.650153325479483\n",
      "sigma = 2048.0 , gamma = 7.450580596923828e-09 , MSE = 19.020855518097346\n"
     ]
    },
    {
     "name": "stderr",
     "output_type": "stream",
     "text": [
      "\n",
      " 69%|█████████████████████████████████████████████████████████▍                         | 9/13 [08:52<03:54, 58.57s/it]\u001b[A"
     ]
    },
    {
     "name": "stdout",
     "output_type": "stream",
     "text": [
      "sigma = 2048.0 , gamma = 1.4901161193847656e-08 , MSE = 18.924328584770684\n",
      "sigma = 2896.309375740099 , gamma = 9.094947017729282e-13 , MSE = 22.6249598426872\n",
      "sigma = 2896.309375740099 , gamma = 1.8189894035458565e-12 , MSE = 12.365093351527864\n",
      "sigma = 2896.309375740099 , gamma = 3.637978807091713e-12 , MSE = 9.842278026429957\n",
      "sigma = 2896.309375740099 , gamma = 7.275957614183426e-12 , MSE = 13.315404948250123\n",
      "sigma = 2896.309375740099 , gamma = 1.4551915228366852e-11 , MSE = 10.403673790142076\n",
      "sigma = 2896.309375740099 , gamma = 2.9103830456733704e-11 , MSE = 13.198836985197996\n",
      "sigma = 2896.309375740099 , gamma = 5.820766091346741e-11 , MSE = 12.457356174933263\n",
      "sigma = 2896.309375740099 , gamma = 1.1641532182693481e-10 , MSE = 12.62629476136492\n",
      "sigma = 2896.309375740099 , gamma = 2.3283064365386963e-10 , MSE = 16.49756552332243\n",
      "sigma = 2896.309375740099 , gamma = 4.656612873077393e-10 , MSE = 18.545533254290934\n",
      "sigma = 2896.309375740099 , gamma = 9.313225746154785e-10 , MSE = 20.638199236044223\n",
      "sigma = 2896.309375740099 , gamma = 1.862645149230957e-09 , MSE = 18.25291622015445\n",
      "sigma = 2896.309375740099 , gamma = 3.725290298461914e-09 , MSE = 21.603555820373316\n",
      "sigma = 2896.309375740099 , gamma = 7.450580596923828e-09 , MSE = 20.791572504128958\n"
     ]
    },
    {
     "name": "stderr",
     "output_type": "stream",
     "text": [
      "\n",
      " 77%|███████████████████████████████████████████████████████████████                   | 10/13 [09:52<02:57, 59.10s/it]\u001b[A"
     ]
    },
    {
     "name": "stdout",
     "output_type": "stream",
     "text": [
      "sigma = 2896.309375740099 , gamma = 1.4901161193847656e-08 , MSE = 25.833750143287034\n",
      "sigma = 4096.0 , gamma = 9.094947017729282e-13 , MSE = 11.282697348714827\n",
      "sigma = 4096.0 , gamma = 1.8189894035458565e-12 , MSE = 12.121249208651838\n",
      "sigma = 4096.0 , gamma = 3.637978807091713e-12 , MSE = 13.862456519663064\n",
      "sigma = 4096.0 , gamma = 7.275957614183426e-12 , MSE = 11.635917448974334\n",
      "sigma = 4096.0 , gamma = 1.4551915228366852e-11 , MSE = 14.807383923236873\n",
      "sigma = 4096.0 , gamma = 2.9103830456733704e-11 , MSE = 13.33822259702021\n",
      "sigma = 4096.0 , gamma = 5.820766091346741e-11 , MSE = 15.658633601572703\n",
      "sigma = 4096.0 , gamma = 1.1641532182693481e-10 , MSE = 20.722739667221486\n",
      "sigma = 4096.0 , gamma = 2.3283064365386963e-10 , MSE = 18.742947069026872\n",
      "sigma = 4096.0 , gamma = 4.656612873077393e-10 , MSE = 20.711970857211753\n",
      "sigma = 4096.0 , gamma = 9.313225746154785e-10 , MSE = 21.38372597238173\n",
      "sigma = 4096.0 , gamma = 1.862645149230957e-09 , MSE = 19.411807371300625\n",
      "sigma = 4096.0 , gamma = 3.725290298461914e-09 , MSE = 21.86374274667656\n",
      "sigma = 4096.0 , gamma = 7.450580596923828e-09 , MSE = 22.365446286599017\n"
     ]
    },
    {
     "name": "stderr",
     "output_type": "stream",
     "text": [
      "\n",
      " 85%|█████████████████████████████████████████████████████████████████████▍            | 11/13 [10:50<01:57, 58.93s/it]\u001b[A"
     ]
    },
    {
     "name": "stdout",
     "output_type": "stream",
     "text": [
      "sigma = 4096.0 , gamma = 1.4901161193847656e-08 , MSE = 23.823887203728248\n",
      "sigma = 5792.618751480198 , gamma = 9.094947017729282e-13 , MSE = 12.869840708339899\n",
      "sigma = 5792.618751480198 , gamma = 1.8189894035458565e-12 , MSE = 15.26550135068743\n",
      "sigma = 5792.618751480198 , gamma = 3.637978807091713e-12 , MSE = 11.547588936062294\n",
      "sigma = 5792.618751480198 , gamma = 7.275957614183426e-12 , MSE = 16.11288735632876\n",
      "sigma = 5792.618751480198 , gamma = 1.4551915228366852e-11 , MSE = 17.156822992667298\n",
      "sigma = 5792.618751480198 , gamma = 2.9103830456733704e-11 , MSE = 17.336335833004437\n",
      "sigma = 5792.618751480198 , gamma = 5.820766091346741e-11 , MSE = 19.872420646732934\n",
      "sigma = 5792.618751480198 , gamma = 1.1641532182693481e-10 , MSE = 19.858683959846786\n",
      "sigma = 5792.618751480198 , gamma = 2.3283064365386963e-10 , MSE = 23.24341698847062\n",
      "sigma = 5792.618751480198 , gamma = 4.656612873077393e-10 , MSE = 23.620323702696226\n",
      "sigma = 5792.618751480198 , gamma = 9.313225746154785e-10 , MSE = 23.67853302473775\n",
      "sigma = 5792.618751480198 , gamma = 1.862645149230957e-09 , MSE = 21.549622956166054\n",
      "sigma = 5792.618751480198 , gamma = 3.725290298461914e-09 , MSE = 22.163253098794943\n",
      "sigma = 5792.618751480198 , gamma = 7.450580596923828e-09 , MSE = 25.399728304926093\n"
     ]
    },
    {
     "name": "stderr",
     "output_type": "stream",
     "text": [
      "\n",
      " 92%|███████████████████████████████████████████████████████████████████████████▋      | 12/13 [11:51<00:59, 59.44s/it]\u001b[A"
     ]
    },
    {
     "name": "stdout",
     "output_type": "stream",
     "text": [
      "sigma = 5792.618751480198 , gamma = 1.4901161193847656e-08 , MSE = 24.143353040628217\n",
      "sigma = 8192.0 , gamma = 9.094947017729282e-13 , MSE = 16.25101306601824\n",
      "sigma = 8192.0 , gamma = 1.8189894035458565e-12 , MSE = 15.986010545601204\n",
      "sigma = 8192.0 , gamma = 3.637978807091713e-12 , MSE = 15.153038922198633\n",
      "sigma = 8192.0 , gamma = 7.275957614183426e-12 , MSE = 17.58045024539731\n",
      "sigma = 8192.0 , gamma = 1.4551915228366852e-11 , MSE = 24.87523466614882\n",
      "sigma = 8192.0 , gamma = 2.9103830456733704e-11 , MSE = 22.64958292363209\n",
      "sigma = 8192.0 , gamma = 5.820766091346741e-11 , MSE = 20.126543503960637\n",
      "sigma = 8192.0 , gamma = 1.1641532182693481e-10 , MSE = 20.897334500321\n",
      "sigma = 8192.0 , gamma = 2.3283064365386963e-10 , MSE = 24.39620748624257\n",
      "sigma = 8192.0 , gamma = 4.656612873077393e-10 , MSE = 19.20968392111499\n",
      "sigma = 8192.0 , gamma = 9.313225746154785e-10 , MSE = 23.454309339896064\n",
      "sigma = 8192.0 , gamma = 1.862645149230957e-09 , MSE = 23.35608722892142\n",
      "sigma = 8192.0 , gamma = 3.725290298461914e-09 , MSE = 22.709631415802214\n",
      "sigma = 8192.0 , gamma = 7.450580596923828e-09 , MSE = 22.06002406384864\n"
     ]
    },
    {
     "name": "stderr",
     "output_type": "stream",
     "text": [
      "\n",
      "100%|██████████████████████████████████████████████████████████████████████████████████| 13/13 [12:52<00:00, 59.45s/it]\u001b[A"
     ]
    },
    {
     "name": "stdout",
     "output_type": "stream",
     "text": [
      "sigma = 8192.0 , gamma = 1.4901161193847656e-08 , MSE = 25.942624125119277\n"
     ]
    },
    {
     "name": "stderr",
     "output_type": "stream",
     "text": [
      "\n",
      " 30%|███████████████████████▍                                                      | 6/20 [1:20:57<3:07:35, 803.98s/it]\n",
      "  0%|                                                                                           | 0/13 [00:00<?, ?it/s]\u001b[A"
     ]
    },
    {
     "name": "stdout",
     "output_type": "stream",
     "text": [
      "[7.437337460146253, 15.744381961910944]\n",
      "sigma = 128.0 , gamma = 9.094947017729282e-13 , MSE = 5050.858051687304\n",
      "sigma = 128.0 , gamma = 1.8189894035458565e-12 , MSE = 6351.655185798301\n",
      "sigma = 128.0 , gamma = 3.637978807091713e-12 , MSE = 1628.3414321432074\n",
      "sigma = 128.0 , gamma = 7.275957614183426e-12 , MSE = 454.04824649074146\n",
      "sigma = 128.0 , gamma = 1.4551915228366852e-11 , MSE = 1009.1836020604687\n",
      "sigma = 128.0 , gamma = 2.9103830456733704e-11 , MSE = 8143.68029021543\n",
      "sigma = 128.0 , gamma = 5.820766091346741e-11 , MSE = 1337.3979714853017\n",
      "sigma = 128.0 , gamma = 1.1641532182693481e-10 , MSE = 384.6810789287814\n",
      "sigma = 128.0 , gamma = 2.3283064365386963e-10 , MSE = 607.9787564294705\n",
      "sigma = 128.0 , gamma = 4.656612873077393e-10 , MSE = 92.70251877176875\n",
      "sigma = 128.0 , gamma = 9.313225746154785e-10 , MSE = 442.77994524245\n",
      "sigma = 128.0 , gamma = 1.862645149230957e-09 , MSE = 174.65322445164756\n",
      "sigma = 128.0 , gamma = 3.725290298461914e-09 , MSE = 27.719847974440107\n",
      "sigma = 128.0 , gamma = 7.450580596923828e-09 , MSE = 110.71461146994811\n"
     ]
    },
    {
     "name": "stderr",
     "output_type": "stream",
     "text": [
      "\n",
      "  8%|██████▍                                                                            | 1/13 [00:59<11:57, 59.83s/it]\u001b[A"
     ]
    },
    {
     "name": "stdout",
     "output_type": "stream",
     "text": [
      "sigma = 128.0 , gamma = 1.4901161193847656e-08 , MSE = 43.11121089291456\n",
      "sigma = 181.01933598375618 , gamma = 9.094947017729282e-13 , MSE = 8808.980284760353\n",
      "sigma = 181.01933598375618 , gamma = 1.8189894035458565e-12 , MSE = 275.2447465129136\n",
      "sigma = 181.01933598375618 , gamma = 3.637978807091713e-12 , MSE = 369.3582582592042\n",
      "sigma = 181.01933598375618 , gamma = 7.275957614183426e-12 , MSE = 182.59397571704102\n",
      "sigma = 181.01933598375618 , gamma = 1.4551915228366852e-11 , MSE = 311.2909015871507\n",
      "sigma = 181.01933598375618 , gamma = 2.9103830456733704e-11 , MSE = 71.59615173836471\n",
      "sigma = 181.01933598375618 , gamma = 5.820766091346741e-11 , MSE = 299.7199009551749\n",
      "sigma = 181.01933598375618 , gamma = 1.1641532182693481e-10 , MSE = 222.57537566353477\n",
      "sigma = 181.01933598375618 , gamma = 2.3283064365386963e-10 , MSE = 126.3657505177209\n",
      "sigma = 181.01933598375618 , gamma = 4.656612873077393e-10 , MSE = 125.7151782601687\n",
      "sigma = 181.01933598375618 , gamma = 9.313225746154785e-10 , MSE = 61.65524581857399\n",
      "sigma = 181.01933598375618 , gamma = 1.862645149230957e-09 , MSE = 59.65939215036245\n",
      "sigma = 181.01933598375618 , gamma = 3.725290298461914e-09 , MSE = 28.578872015808948\n",
      "sigma = 181.01933598375618 , gamma = 7.450580596923828e-09 , MSE = 30.488991272912266\n"
     ]
    },
    {
     "name": "stderr",
     "output_type": "stream",
     "text": [
      "\n",
      " 15%|████████████▊                                                                      | 2/13 [01:59<10:58, 59.88s/it]\u001b[A"
     ]
    },
    {
     "name": "stdout",
     "output_type": "stream",
     "text": [
      "sigma = 181.01933598375618 , gamma = 1.4901161193847656e-08 , MSE = 84.75785606130259\n",
      "sigma = 256.0 , gamma = 9.094947017729282e-13 , MSE = 587.9031730377892\n",
      "sigma = 256.0 , gamma = 1.8189894035458565e-12 , MSE = 147.09533112277288\n",
      "sigma = 256.0 , gamma = 3.637978807091713e-12 , MSE = 140.42261375523339\n",
      "sigma = 256.0 , gamma = 7.275957614183426e-12 , MSE = 422.09358162124573\n",
      "sigma = 256.0 , gamma = 1.4551915228366852e-11 , MSE = 187.46232795950235\n",
      "sigma = 256.0 , gamma = 2.9103830456733704e-11 , MSE = 46.46235717828488\n",
      "sigma = 256.0 , gamma = 5.820766091346741e-11 , MSE = 91.37237548509519\n",
      "sigma = 256.0 , gamma = 1.1641532182693481e-10 , MSE = 84.61720936630573\n",
      "sigma = 256.0 , gamma = 2.3283064365386963e-10 , MSE = 35.302349272457626\n",
      "sigma = 256.0 , gamma = 4.656612873077393e-10 , MSE = 69.59168197771388\n",
      "sigma = 256.0 , gamma = 9.313225746154785e-10 , MSE = 46.72253723492843\n",
      "sigma = 256.0 , gamma = 1.862645149230957e-09 , MSE = 34.317897713615686\n",
      "sigma = 256.0 , gamma = 3.725290298461914e-09 , MSE = 26.77244271393859\n",
      "sigma = 256.0 , gamma = 7.450580596923828e-09 , MSE = 33.4176789582253\n"
     ]
    },
    {
     "name": "stderr",
     "output_type": "stream",
     "text": [
      "\n",
      " 23%|███████████████████▏                                                               | 3/13 [02:56<09:46, 58.65s/it]\u001b[A"
     ]
    },
    {
     "name": "stdout",
     "output_type": "stream",
     "text": [
      "sigma = 256.0 , gamma = 1.4901161193847656e-08 , MSE = 24.953520942772265\n",
      "sigma = 362.03867196751236 , gamma = 9.094947017729282e-13 , MSE = 155.28998435196178\n",
      "sigma = 362.03867196751236 , gamma = 1.8189894035458565e-12 , MSE = 41.78805486047203\n",
      "sigma = 362.03867196751236 , gamma = 3.637978807091713e-12 , MSE = 151.29809560592182\n",
      "sigma = 362.03867196751236 , gamma = 7.275957614183426e-12 , MSE = 234.90582311311465\n",
      "sigma = 362.03867196751236 , gamma = 1.4551915228366852e-11 , MSE = 32.80235492276876\n",
      "sigma = 362.03867196751236 , gamma = 2.9103830456733704e-11 , MSE = 59.905398606541986\n",
      "sigma = 362.03867196751236 , gamma = 5.820766091346741e-11 , MSE = 52.349679922468646\n",
      "sigma = 362.03867196751236 , gamma = 1.1641532182693481e-10 , MSE = 31.077104970337142\n",
      "sigma = 362.03867196751236 , gamma = 2.3283064365386963e-10 , MSE = 13.658600959107606\n",
      "sigma = 362.03867196751236 , gamma = 4.656612873077393e-10 , MSE = 28.563958448897118\n",
      "sigma = 362.03867196751236 , gamma = 9.313225746154785e-10 , MSE = 17.838720609497067\n",
      "sigma = 362.03867196751236 , gamma = 1.862645149230957e-09 , MSE = 20.12411271502543\n",
      "sigma = 362.03867196751236 , gamma = 3.725290298461914e-09 , MSE = 17.856486426333127\n",
      "sigma = 362.03867196751236 , gamma = 7.450580596923828e-09 , MSE = 14.86417150998123\n"
     ]
    },
    {
     "name": "stderr",
     "output_type": "stream",
     "text": [
      "\n",
      " 31%|█████████████████████████▌                                                         | 4/13 [03:57<08:53, 59.31s/it]\u001b[A"
     ]
    },
    {
     "name": "stdout",
     "output_type": "stream",
     "text": [
      "sigma = 362.03867196751236 , gamma = 1.4901161193847656e-08 , MSE = 28.25047829828575\n",
      "sigma = 512.0 , gamma = 9.094947017729282e-13 , MSE = 56.97387227077572\n",
      "sigma = 512.0 , gamma = 1.8189894035458565e-12 , MSE = 59.7475915867155\n",
      "sigma = 512.0 , gamma = 3.637978807091713e-12 , MSE = 22.392123435897854\n",
      "sigma = 512.0 , gamma = 7.275957614183426e-12 , MSE = 81.60796181738172\n",
      "sigma = 512.0 , gamma = 1.4551915228366852e-11 , MSE = 23.3563798546815\n",
      "sigma = 512.0 , gamma = 2.9103830456733704e-11 , MSE = 91.76326202333975\n",
      "sigma = 512.0 , gamma = 5.820766091346741e-11 , MSE = 15.260638606373153\n",
      "sigma = 512.0 , gamma = 1.1641532182693481e-10 , MSE = 85.24971157876932\n",
      "sigma = 512.0 , gamma = 2.3283064365386963e-10 , MSE = 27.8296672155571\n",
      "sigma = 512.0 , gamma = 4.656612873077393e-10 , MSE = 19.36362132812577\n",
      "sigma = 512.0 , gamma = 9.313225746154785e-10 , MSE = 14.781598729446966\n",
      "sigma = 512.0 , gamma = 1.862645149230957e-09 , MSE = 19.958546317102382\n",
      "sigma = 512.0 , gamma = 3.725290298461914e-09 , MSE = 16.611886490296474\n",
      "sigma = 512.0 , gamma = 7.450580596923828e-09 , MSE = 13.466275382347439\n"
     ]
    },
    {
     "name": "stderr",
     "output_type": "stream",
     "text": [
      "\n",
      " 38%|███████████████████████████████▉                                                   | 5/13 [04:54<07:49, 58.68s/it]\u001b[A"
     ]
    },
    {
     "name": "stdout",
     "output_type": "stream",
     "text": [
      "sigma = 512.0 , gamma = 1.4901161193847656e-08 , MSE = 15.759375231537433\n",
      "sigma = 724.0773439350247 , gamma = 9.094947017729282e-13 , MSE = 82.82174977168403\n",
      "sigma = 724.0773439350247 , gamma = 1.8189894035458565e-12 , MSE = 55.42496887873805\n",
      "sigma = 724.0773439350247 , gamma = 3.637978807091713e-12 , MSE = 39.65102504720033\n",
      "sigma = 724.0773439350247 , gamma = 7.275957614183426e-12 , MSE = 15.611351081209232\n",
      "sigma = 724.0773439350247 , gamma = 1.4551915228366852e-11 , MSE = 17.84447094529347\n",
      "sigma = 724.0773439350247 , gamma = 2.9103830456733704e-11 , MSE = 50.860703470735125\n",
      "sigma = 724.0773439350247 , gamma = 5.820766091346741e-11 , MSE = 18.328691596622992\n",
      "sigma = 724.0773439350247 , gamma = 1.1641532182693481e-10 , MSE = 23.391006327999854\n",
      "sigma = 724.0773439350247 , gamma = 2.3283064365386963e-10 , MSE = 14.51879932784928\n",
      "sigma = 724.0773439350247 , gamma = 4.656612873077393e-10 , MSE = 28.796174388102322\n",
      "sigma = 724.0773439350247 , gamma = 9.313225746154785e-10 , MSE = 15.457260729554335\n",
      "sigma = 724.0773439350247 , gamma = 1.862645149230957e-09 , MSE = 15.032742501750866\n",
      "sigma = 724.0773439350247 , gamma = 3.725290298461914e-09 , MSE = 15.27908805010162\n",
      "sigma = 724.0773439350247 , gamma = 7.450580596923828e-09 , MSE = 15.54645762416692\n"
     ]
    },
    {
     "name": "stderr",
     "output_type": "stream",
     "text": [
      "\n",
      " 46%|██████████████████████████████████████▎                                            | 6/13 [05:53<06:50, 58.62s/it]\u001b[A"
     ]
    },
    {
     "name": "stdout",
     "output_type": "stream",
     "text": [
      "sigma = 724.0773439350247 , gamma = 1.4901161193847656e-08 , MSE = 19.235179839728943\n",
      "sigma = 1024.0 , gamma = 9.094947017729282e-13 , MSE = 20.97422241825408\n",
      "sigma = 1024.0 , gamma = 1.8189894035458565e-12 , MSE = 15.32332247081197\n",
      "sigma = 1024.0 , gamma = 3.637978807091713e-12 , MSE = 18.218220378426594\n",
      "sigma = 1024.0 , gamma = 7.275957614183426e-12 , MSE = 21.038139334117254\n",
      "sigma = 1024.0 , gamma = 1.4551915228366852e-11 , MSE = 19.431433997541088\n",
      "sigma = 1024.0 , gamma = 2.9103830456733704e-11 , MSE = 17.086645538159257\n",
      "sigma = 1024.0 , gamma = 5.820766091346741e-11 , MSE = 15.658214943838578\n",
      "sigma = 1024.0 , gamma = 1.1641532182693481e-10 , MSE = 16.749793671223337\n",
      "sigma = 1024.0 , gamma = 2.3283064365386963e-10 , MSE = 18.142283680649406\n",
      "sigma = 1024.0 , gamma = 4.656612873077393e-10 , MSE = 16.082750725290868\n",
      "sigma = 1024.0 , gamma = 9.313225746154785e-10 , MSE = 14.286238412437493\n",
      "sigma = 1024.0 , gamma = 1.862645149230957e-09 , MSE = 17.696074721343475\n",
      "sigma = 1024.0 , gamma = 3.725290298461914e-09 , MSE = 20.541203125763847\n",
      "sigma = 1024.0 , gamma = 7.450580596923828e-09 , MSE = 16.75910137549135\n"
     ]
    },
    {
     "name": "stderr",
     "output_type": "stream",
     "text": [
      "\n",
      " 54%|████████████████████████████████████████████▋                                      | 7/13 [06:52<05:52, 58.74s/it]\u001b[A"
     ]
    },
    {
     "name": "stdout",
     "output_type": "stream",
     "text": [
      "sigma = 1024.0 , gamma = 1.4901161193847656e-08 , MSE = 18.496756294456944\n",
      "sigma = 1448.1546878700494 , gamma = 9.094947017729282e-13 , MSE = 41.037465829780714\n",
      "sigma = 1448.1546878700494 , gamma = 1.8189894035458565e-12 , MSE = 40.111043505938014\n",
      "sigma = 1448.1546878700494 , gamma = 3.637978807091713e-12 , MSE = 27.317025165164175\n",
      "sigma = 1448.1546878700494 , gamma = 7.275957614183426e-12 , MSE = 16.49977905469229\n",
      "sigma = 1448.1546878700494 , gamma = 1.4551915228366852e-11 , MSE = 14.948248292380503\n",
      "sigma = 1448.1546878700494 , gamma = 2.9103830456733704e-11 , MSE = 24.698574214835986\n",
      "sigma = 1448.1546878700494 , gamma = 5.820766091346741e-11 , MSE = 22.88982646426596\n",
      "sigma = 1448.1546878700494 , gamma = 1.1641532182693481e-10 , MSE = 15.918489717909523\n",
      "sigma = 1448.1546878700494 , gamma = 2.3283064365386963e-10 , MSE = 14.528095310272159\n",
      "sigma = 1448.1546878700494 , gamma = 4.656612873077393e-10 , MSE = 19.466130898603456\n",
      "sigma = 1448.1546878700494 , gamma = 9.313225746154785e-10 , MSE = 14.734805261257605\n",
      "sigma = 1448.1546878700494 , gamma = 1.862645149230957e-09 , MSE = 17.772382597072603\n",
      "sigma = 1448.1546878700494 , gamma = 3.725290298461914e-09 , MSE = 20.738821245045298\n",
      "sigma = 1448.1546878700494 , gamma = 7.450580596923828e-09 , MSE = 20.99734012211631\n"
     ]
    },
    {
     "name": "stderr",
     "output_type": "stream",
     "text": [
      "\n",
      " 62%|███████████████████████████████████████████████████                                | 8/13 [07:50<04:52, 58.56s/it]\u001b[A"
     ]
    },
    {
     "name": "stdout",
     "output_type": "stream",
     "text": [
      "sigma = 1448.1546878700494 , gamma = 1.4901161193847656e-08 , MSE = 19.499802314739764\n",
      "sigma = 2048.0 , gamma = 9.094947017729282e-13 , MSE = 18.689860886059115\n",
      "sigma = 2048.0 , gamma = 1.8189894035458565e-12 , MSE = 16.97820270137397\n",
      "sigma = 2048.0 , gamma = 3.637978807091713e-12 , MSE = 49.81431082281318\n",
      "sigma = 2048.0 , gamma = 7.275957614183426e-12 , MSE = 20.96570925394487\n",
      "sigma = 2048.0 , gamma = 1.4551915228366852e-11 , MSE = 14.53485431617801\n",
      "sigma = 2048.0 , gamma = 2.9103830456733704e-11 , MSE = 12.75545752505619\n",
      "sigma = 2048.0 , gamma = 5.820766091346741e-11 , MSE = 15.341716953429819\n",
      "sigma = 2048.0 , gamma = 1.1641532182693481e-10 , MSE = 16.292368272251984\n",
      "sigma = 2048.0 , gamma = 2.3283064365386963e-10 , MSE = 17.818655267076405\n",
      "sigma = 2048.0 , gamma = 4.656612873077393e-10 , MSE = 17.512698775042516\n",
      "sigma = 2048.0 , gamma = 9.313225746154785e-10 , MSE = 19.76246188240139\n",
      "sigma = 2048.0 , gamma = 1.862645149230957e-09 , MSE = 22.395883355748776\n",
      "sigma = 2048.0 , gamma = 3.725290298461914e-09 , MSE = 23.67409987868519\n",
      "sigma = 2048.0 , gamma = 7.450580596923828e-09 , MSE = 22.480572149546955\n"
     ]
    },
    {
     "name": "stderr",
     "output_type": "stream",
     "text": [
      "\n",
      " 69%|█████████████████████████████████████████████████████████▍                         | 9/13 [08:48<03:53, 58.36s/it]\u001b[A"
     ]
    },
    {
     "name": "stdout",
     "output_type": "stream",
     "text": [
      "sigma = 2048.0 , gamma = 1.4901161193847656e-08 , MSE = 27.990870047940525\n",
      "sigma = 2896.309375740099 , gamma = 9.094947017729282e-13 , MSE = 24.807134084380504\n",
      "sigma = 2896.309375740099 , gamma = 1.8189894035458565e-12 , MSE = 17.463084415460195\n",
      "sigma = 2896.309375740099 , gamma = 3.637978807091713e-12 , MSE = 42.84500540888413\n",
      "sigma = 2896.309375740099 , gamma = 7.275957614183426e-12 , MSE = 16.86851763295694\n",
      "sigma = 2896.309375740099 , gamma = 1.4551915228366852e-11 , MSE = 13.798707005959624\n",
      "sigma = 2896.309375740099 , gamma = 2.9103830456733704e-11 , MSE = 20.151298595259522\n",
      "sigma = 2896.309375740099 , gamma = 5.820766091346741e-11 , MSE = 17.719884598965347\n",
      "sigma = 2896.309375740099 , gamma = 1.1641532182693481e-10 , MSE = 17.784078652555213\n",
      "sigma = 2896.309375740099 , gamma = 2.3283064365386963e-10 , MSE = 22.797406619240622\n",
      "sigma = 2896.309375740099 , gamma = 4.656612873077393e-10 , MSE = 21.763260131700157\n",
      "sigma = 2896.309375740099 , gamma = 9.313225746154785e-10 , MSE = 20.76405840692413\n",
      "sigma = 2896.309375740099 , gamma = 1.862645149230957e-09 , MSE = 24.086840218753842\n",
      "sigma = 2896.309375740099 , gamma = 3.725290298461914e-09 , MSE = 24.454654766501577\n",
      "sigma = 2896.309375740099 , gamma = 7.450580596923828e-09 , MSE = 28.17690333503944\n"
     ]
    },
    {
     "name": "stderr",
     "output_type": "stream",
     "text": [
      "\n",
      " 77%|███████████████████████████████████████████████████████████████                   | 10/13 [09:47<02:55, 58.46s/it]\u001b[A"
     ]
    },
    {
     "name": "stdout",
     "output_type": "stream",
     "text": [
      "sigma = 2896.309375740099 , gamma = 1.4901161193847656e-08 , MSE = 26.962700987448166\n",
      "sigma = 4096.0 , gamma = 9.094947017729282e-13 , MSE = 17.293658748954112\n",
      "sigma = 4096.0 , gamma = 1.8189894035458565e-12 , MSE = 17.758526423525723\n",
      "sigma = 4096.0 , gamma = 3.637978807091713e-12 , MSE = 14.250610271565424\n",
      "sigma = 4096.0 , gamma = 7.275957614183426e-12 , MSE = 14.629541070539876\n",
      "sigma = 4096.0 , gamma = 1.4551915228366852e-11 , MSE = 17.708318932687057\n",
      "sigma = 4096.0 , gamma = 2.9103830456733704e-11 , MSE = 16.695354260880375\n",
      "sigma = 4096.0 , gamma = 5.820766091346741e-11 , MSE = 18.110236383822695\n",
      "sigma = 4096.0 , gamma = 1.1641532182693481e-10 , MSE = 18.845392220389392\n",
      "sigma = 4096.0 , gamma = 2.3283064365386963e-10 , MSE = 24.552087788618635\n",
      "sigma = 4096.0 , gamma = 4.656612873077393e-10 , MSE = 23.14298313043991\n",
      "sigma = 4096.0 , gamma = 9.313225746154785e-10 , MSE = 22.974327936173857\n",
      "sigma = 4096.0 , gamma = 1.862645149230957e-09 , MSE = 28.472257762459016\n",
      "sigma = 4096.0 , gamma = 3.725290298461914e-09 , MSE = 30.663400201990118\n",
      "sigma = 4096.0 , gamma = 7.450580596923828e-09 , MSE = 28.503429887872716\n"
     ]
    },
    {
     "name": "stderr",
     "output_type": "stream",
     "text": [
      "\n",
      " 85%|█████████████████████████████████████████████████████████████████████▍            | 11/13 [10:45<01:56, 58.32s/it]\u001b[A"
     ]
    },
    {
     "name": "stdout",
     "output_type": "stream",
     "text": [
      "sigma = 4096.0 , gamma = 1.4901161193847656e-08 , MSE = 28.37704288964474\n",
      "sigma = 5792.618751480198 , gamma = 9.094947017729282e-13 , MSE = 18.056991394938144\n",
      "sigma = 5792.618751480198 , gamma = 1.8189894035458565e-12 , MSE = 15.152398640057253\n",
      "sigma = 5792.618751480198 , gamma = 3.637978807091713e-12 , MSE = 15.304431399184693\n",
      "sigma = 5792.618751480198 , gamma = 7.275957614183426e-12 , MSE = 18.402569842917735\n",
      "sigma = 5792.618751480198 , gamma = 1.4551915228366852e-11 , MSE = 20.74816272908422\n",
      "sigma = 5792.618751480198 , gamma = 2.9103830456733704e-11 , MSE = 25.919596142174687\n",
      "sigma = 5792.618751480198 , gamma = 5.820766091346741e-11 , MSE = 21.42221820857157\n",
      "sigma = 5792.618751480198 , gamma = 1.1641532182693481e-10 , MSE = 26.61728391343791\n",
      "sigma = 5792.618751480198 , gamma = 2.3283064365386963e-10 , MSE = 25.138772317988973\n",
      "sigma = 5792.618751480198 , gamma = 4.656612873077393e-10 , MSE = 23.552291341709225\n",
      "sigma = 5792.618751480198 , gamma = 9.313225746154785e-10 , MSE = 21.61096601396313\n",
      "sigma = 5792.618751480198 , gamma = 1.862645149230957e-09 , MSE = 25.760173199302358\n",
      "sigma = 5792.618751480198 , gamma = 3.725290298461914e-09 , MSE = 22.06427452808944\n",
      "sigma = 5792.618751480198 , gamma = 7.450580596923828e-09 , MSE = 23.548634745795823\n"
     ]
    },
    {
     "name": "stderr",
     "output_type": "stream",
     "text": [
      "\n",
      " 92%|███████████████████████████████████████████████████████████████████████████▋      | 12/13 [11:46<00:59, 59.14s/it]\u001b[A"
     ]
    },
    {
     "name": "stdout",
     "output_type": "stream",
     "text": [
      "sigma = 5792.618751480198 , gamma = 1.4901161193847656e-08 , MSE = 24.377616468254026\n",
      "sigma = 8192.0 , gamma = 9.094947017729282e-13 , MSE = 21.448936780424958\n",
      "sigma = 8192.0 , gamma = 1.8189894035458565e-12 , MSE = 20.150850891670558\n",
      "sigma = 8192.0 , gamma = 3.637978807091713e-12 , MSE = 19.919953773328153\n",
      "sigma = 8192.0 , gamma = 7.275957614183426e-12 , MSE = 25.897054923578075\n",
      "sigma = 8192.0 , gamma = 1.4551915228366852e-11 , MSE = 25.793087048667445\n",
      "sigma = 8192.0 , gamma = 2.9103830456733704e-11 , MSE = 22.37379214084739\n",
      "sigma = 8192.0 , gamma = 5.820766091346741e-11 , MSE = 23.448887229482565\n",
      "sigma = 8192.0 , gamma = 1.1641532182693481e-10 , MSE = 24.378088292410116\n",
      "sigma = 8192.0 , gamma = 2.3283064365386963e-10 , MSE = 27.3661264891361\n",
      "sigma = 8192.0 , gamma = 4.656612873077393e-10 , MSE = 25.76897714342138\n",
      "sigma = 8192.0 , gamma = 9.313225746154785e-10 , MSE = 22.09788026555652\n",
      "sigma = 8192.0 , gamma = 1.862645149230957e-09 , MSE = 27.009500665413857\n",
      "sigma = 8192.0 , gamma = 3.725290298461914e-09 , MSE = 27.62521326954451\n",
      "sigma = 8192.0 , gamma = 7.450580596923828e-09 , MSE = 24.29417850797956\n"
     ]
    },
    {
     "name": "stderr",
     "output_type": "stream",
     "text": [
      "\n",
      "100%|██████████████████████████████████████████████████████████████████████████████████| 13/13 [12:45<00:00, 58.88s/it]\u001b[A"
     ]
    },
    {
     "name": "stdout",
     "output_type": "stream",
     "text": [
      "sigma = 8192.0 , gamma = 1.4901161193847656e-08 , MSE = 29.550111824178526\n"
     ]
    },
    {
     "name": "stderr",
     "output_type": "stream",
     "text": [
      "\n",
      " 35%|███████████████████████████▎                                                  | 7/20 [1:33:47<2:51:46, 792.78s/it]\n",
      "  0%|                                                                                           | 0/13 [00:00<?, ?it/s]\u001b[A"
     ]
    },
    {
     "name": "stdout",
     "output_type": "stream",
     "text": [
      "[9.527648288751902, 11.934239470346162]\n",
      "sigma = 128.0 , gamma = 9.094947017729282e-13 , MSE = 3138.0171908585316\n",
      "sigma = 128.0 , gamma = 1.8189894035458565e-12 , MSE = 824.52898402007\n",
      "sigma = 128.0 , gamma = 3.637978807091713e-12 , MSE = 1172.0269224276985\n",
      "sigma = 128.0 , gamma = 7.275957614183426e-12 , MSE = 3318.3777333552403\n",
      "sigma = 128.0 , gamma = 1.4551915228366852e-11 , MSE = 6765.753260042921\n",
      "sigma = 128.0 , gamma = 2.9103830456733704e-11 , MSE = 760.3744653275144\n",
      "sigma = 128.0 , gamma = 5.820766091346741e-11 , MSE = 246.4328456855119\n",
      "sigma = 128.0 , gamma = 1.1641532182693481e-10 , MSE = 770.0363560041674\n",
      "sigma = 128.0 , gamma = 2.3283064365386963e-10 , MSE = 952.1820601554725\n",
      "sigma = 128.0 , gamma = 4.656612873077393e-10 , MSE = 117.61898014725466\n",
      "sigma = 128.0 , gamma = 9.313225746154785e-10 , MSE = 266.1739686416072\n",
      "sigma = 128.0 , gamma = 1.862645149230957e-09 , MSE = 67.84410909844057\n",
      "sigma = 128.0 , gamma = 3.725290298461914e-09 , MSE = 50.609550692338246\n",
      "sigma = 128.0 , gamma = 7.450580596923828e-09 , MSE = 34.96715399876826\n"
     ]
    },
    {
     "name": "stderr",
     "output_type": "stream",
     "text": [
      "\n",
      "  8%|██████▍                                                                            | 1/13 [00:58<11:38, 58.20s/it]\u001b[A"
     ]
    },
    {
     "name": "stdout",
     "output_type": "stream",
     "text": [
      "sigma = 128.0 , gamma = 1.4901161193847656e-08 , MSE = 27.188253868927497\n",
      "sigma = 181.01933598375618 , gamma = 9.094947017729282e-13 , MSE = 872.1856579191884\n",
      "sigma = 181.01933598375618 , gamma = 1.8189894035458565e-12 , MSE = 425.91226185297603\n",
      "sigma = 181.01933598375618 , gamma = 3.637978807091713e-12 , MSE = 4041.7022546416506\n",
      "sigma = 181.01933598375618 , gamma = 7.275957614183426e-12 , MSE = 1444.9580292215614\n",
      "sigma = 181.01933598375618 , gamma = 1.4551915228366852e-11 , MSE = 1170.6759615106307\n",
      "sigma = 181.01933598375618 , gamma = 2.9103830456733704e-11 , MSE = 147.6336781290691\n",
      "sigma = 181.01933598375618 , gamma = 5.820766091346741e-11 , MSE = 274.1081533146356\n",
      "sigma = 181.01933598375618 , gamma = 1.1641532182693481e-10 , MSE = 65.55114527550795\n",
      "sigma = 181.01933598375618 , gamma = 2.3283064365386963e-10 , MSE = 140.72156666883862\n",
      "sigma = 181.01933598375618 , gamma = 4.656612873077393e-10 , MSE = 106.91351685526857\n",
      "sigma = 181.01933598375618 , gamma = 9.313225746154785e-10 , MSE = 109.73552753489332\n",
      "sigma = 181.01933598375618 , gamma = 1.862645149230957e-09 , MSE = 23.606856199103646\n",
      "sigma = 181.01933598375618 , gamma = 3.725290298461914e-09 , MSE = 17.654290367297456\n",
      "sigma = 181.01933598375618 , gamma = 7.450580596923828e-09 , MSE = 21.929554189332716\n"
     ]
    },
    {
     "name": "stderr",
     "output_type": "stream",
     "text": [
      "\n",
      " 15%|████████████▊                                                                      | 2/13 [01:58<10:50, 59.17s/it]\u001b[A"
     ]
    },
    {
     "name": "stdout",
     "output_type": "stream",
     "text": [
      "sigma = 181.01933598375618 , gamma = 1.4901161193847656e-08 , MSE = 20.881528406421133\n",
      "sigma = 256.0 , gamma = 9.094947017729282e-13 , MSE = 3447.349986817163\n",
      "sigma = 256.0 , gamma = 1.8189894035458565e-12 , MSE = 945.7863485895359\n",
      "sigma = 256.0 , gamma = 3.637978807091713e-12 , MSE = 424.95475288291965\n",
      "sigma = 256.0 , gamma = 7.275957614183426e-12 , MSE = 139.34709688855048\n",
      "sigma = 256.0 , gamma = 1.4551915228366852e-11 , MSE = 54.486876331109066\n",
      "sigma = 256.0 , gamma = 2.9103830456733704e-11 , MSE = 49.326923534741795\n",
      "sigma = 256.0 , gamma = 5.820766091346741e-11 , MSE = 39.35749346343783\n",
      "sigma = 256.0 , gamma = 1.1641532182693481e-10 , MSE = 40.16965277968363\n",
      "sigma = 256.0 , gamma = 2.3283064365386963e-10 , MSE = 27.483499161426465\n",
      "sigma = 256.0 , gamma = 4.656612873077393e-10 , MSE = 17.68409359781716\n",
      "sigma = 256.0 , gamma = 9.313225746154785e-10 , MSE = 119.94299957295104\n",
      "sigma = 256.0 , gamma = 1.862645149230957e-09 , MSE = 87.76761503623189\n",
      "sigma = 256.0 , gamma = 3.725290298461914e-09 , MSE = 18.066228283645778\n",
      "sigma = 256.0 , gamma = 7.450580596923828e-09 , MSE = 17.078793103804305\n"
     ]
    },
    {
     "name": "stderr",
     "output_type": "stream",
     "text": [
      "\n",
      " 23%|███████████████████▏                                                               | 3/13 [02:56<09:50, 59.04s/it]\u001b[A"
     ]
    },
    {
     "name": "stdout",
     "output_type": "stream",
     "text": [
      "sigma = 256.0 , gamma = 1.4901161193847656e-08 , MSE = 24.582925549729765\n",
      "sigma = 362.03867196751236 , gamma = 9.094947017729282e-13 , MSE = 2347.0392266323047\n",
      "sigma = 362.03867196751236 , gamma = 1.8189894035458565e-12 , MSE = 66.77999131687052\n",
      "sigma = 362.03867196751236 , gamma = 3.637978807091713e-12 , MSE = 4381.592328337558\n",
      "sigma = 362.03867196751236 , gamma = 7.275957614183426e-12 , MSE = 1032.6788566237972\n",
      "sigma = 362.03867196751236 , gamma = 1.4551915228366852e-11 , MSE = 212.15409413574258\n",
      "sigma = 362.03867196751236 , gamma = 2.9103830456733704e-11 , MSE = 26.84685204604633\n",
      "sigma = 362.03867196751236 , gamma = 5.820766091346741e-11 , MSE = 101.44856983618543\n",
      "sigma = 362.03867196751236 , gamma = 1.1641532182693481e-10 , MSE = 18.310194840648485\n",
      "sigma = 362.03867196751236 , gamma = 2.3283064365386963e-10 , MSE = 29.422793640388676\n",
      "sigma = 362.03867196751236 , gamma = 4.656612873077393e-10 , MSE = 20.931970303599677\n",
      "sigma = 362.03867196751236 , gamma = 9.313225746154785e-10 , MSE = 22.361452860641407\n",
      "sigma = 362.03867196751236 , gamma = 1.862645149230957e-09 , MSE = 30.94463141966134\n",
      "sigma = 362.03867196751236 , gamma = 3.725290298461914e-09 , MSE = 17.582289097698187\n",
      "sigma = 362.03867196751236 , gamma = 7.450580596923828e-09 , MSE = 17.789645765321175\n"
     ]
    },
    {
     "name": "stderr",
     "output_type": "stream",
     "text": [
      "\n",
      " 31%|█████████████████████████▌                                                         | 4/13 [03:56<08:54, 59.36s/it]\u001b[A"
     ]
    },
    {
     "name": "stdout",
     "output_type": "stream",
     "text": [
      "sigma = 362.03867196751236 , gamma = 1.4901161193847656e-08 , MSE = 14.30621987261299\n",
      "sigma = 512.0 , gamma = 9.094947017729282e-13 , MSE = 43.127776270701915\n",
      "sigma = 512.0 , gamma = 1.8189894035458565e-12 , MSE = 38.4745516894118\n",
      "sigma = 512.0 , gamma = 3.637978807091713e-12 , MSE = 1582.6447002029884\n",
      "sigma = 512.0 , gamma = 7.275957614183426e-12 , MSE = 33.69757645884239\n",
      "sigma = 512.0 , gamma = 1.4551915228366852e-11 , MSE = 409.707343196147\n",
      "sigma = 512.0 , gamma = 2.9103830456733704e-11 , MSE = 18.475537298283484\n",
      "sigma = 512.0 , gamma = 5.820766091346741e-11 , MSE = 17.612224110104968\n",
      "sigma = 512.0 , gamma = 1.1641532182693481e-10 , MSE = 58.83123087329062\n",
      "sigma = 512.0 , gamma = 2.3283064365386963e-10 , MSE = 46.38144116588797\n",
      "sigma = 512.0 , gamma = 4.656612873077393e-10 , MSE = 26.507650046253918\n",
      "sigma = 512.0 , gamma = 9.313225746154785e-10 , MSE = 17.35887995871178\n",
      "sigma = 512.0 , gamma = 1.862645149230957e-09 , MSE = 14.063019361280741\n",
      "sigma = 512.0 , gamma = 3.725290298461914e-09 , MSE = 14.110063166801158\n",
      "sigma = 512.0 , gamma = 7.450580596923828e-09 , MSE = 15.465424270166945\n"
     ]
    },
    {
     "name": "stderr",
     "output_type": "stream",
     "text": [
      "\n",
      " 38%|███████████████████████████████▉                                                   | 5/13 [04:56<07:55, 59.47s/it]\u001b[A"
     ]
    },
    {
     "name": "stdout",
     "output_type": "stream",
     "text": [
      "sigma = 512.0 , gamma = 1.4901161193847656e-08 , MSE = 17.197473333107535\n",
      "sigma = 724.0773439350247 , gamma = 9.094947017729282e-13 , MSE = 26.285061546170066\n",
      "sigma = 724.0773439350247 , gamma = 1.8189894035458565e-12 , MSE = 17.121899115787336\n",
      "sigma = 724.0773439350247 , gamma = 3.637978807091713e-12 , MSE = 411.07206741114595\n",
      "sigma = 724.0773439350247 , gamma = 7.275957614183426e-12 , MSE = 216.93141656420684\n",
      "sigma = 724.0773439350247 , gamma = 1.4551915228366852e-11 , MSE = 74.06603266818169\n",
      "sigma = 724.0773439350247 , gamma = 2.9103830456733704e-11 , MSE = 16.53852236054961\n",
      "sigma = 724.0773439350247 , gamma = 5.820766091346741e-11 , MSE = 13.248217421556765\n",
      "sigma = 724.0773439350247 , gamma = 1.1641532182693481e-10 , MSE = 13.026203722725773\n",
      "sigma = 724.0773439350247 , gamma = 2.3283064365386963e-10 , MSE = 17.20279929143002\n",
      "sigma = 724.0773439350247 , gamma = 4.656612873077393e-10 , MSE = 16.99586457871777\n",
      "sigma = 724.0773439350247 , gamma = 9.313225746154785e-10 , MSE = 15.009868648958266\n",
      "sigma = 724.0773439350247 , gamma = 1.862645149230957e-09 , MSE = 15.985661634311299\n",
      "sigma = 724.0773439350247 , gamma = 3.725290298461914e-09 , MSE = 14.489105297152694\n",
      "sigma = 724.0773439350247 , gamma = 7.450580596923828e-09 , MSE = 21.53482748096763\n"
     ]
    },
    {
     "name": "stderr",
     "output_type": "stream",
     "text": [
      "\n",
      " 46%|██████████████████████████████████████▎                                            | 6/13 [05:55<06:55, 59.43s/it]\u001b[A"
     ]
    },
    {
     "name": "stdout",
     "output_type": "stream",
     "text": [
      "sigma = 724.0773439350247 , gamma = 1.4901161193847656e-08 , MSE = 15.926370631250933\n",
      "sigma = 1024.0 , gamma = 9.094947017729282e-13 , MSE = 19.0414684896175\n",
      "sigma = 1024.0 , gamma = 1.8189894035458565e-12 , MSE = 15.32776782191616\n",
      "sigma = 1024.0 , gamma = 3.637978807091713e-12 , MSE = 17.011954638378995\n",
      "sigma = 1024.0 , gamma = 7.275957614183426e-12 , MSE = 18.692632310840498\n",
      "sigma = 1024.0 , gamma = 1.4551915228366852e-11 , MSE = 15.16554614153875\n",
      "sigma = 1024.0 , gamma = 2.9103830456733704e-11 , MSE = 15.796697733147855\n",
      "sigma = 1024.0 , gamma = 5.820766091346741e-11 , MSE = 19.85830771638235\n",
      "sigma = 1024.0 , gamma = 1.1641532182693481e-10 , MSE = 16.088235036998434\n",
      "sigma = 1024.0 , gamma = 2.3283064365386963e-10 , MSE = 37.107580721784586\n",
      "sigma = 1024.0 , gamma = 4.656612873077393e-10 , MSE = 15.518086996040584\n",
      "sigma = 1024.0 , gamma = 9.313225746154785e-10 , MSE = 25.886952379382926\n",
      "sigma = 1024.0 , gamma = 1.862645149230957e-09 , MSE = 16.117404631078536\n",
      "sigma = 1024.0 , gamma = 3.725290298461914e-09 , MSE = 20.887130714203657\n",
      "sigma = 1024.0 , gamma = 7.450580596923828e-09 , MSE = 18.993592249012487\n"
     ]
    },
    {
     "name": "stderr",
     "output_type": "stream",
     "text": [
      "\n",
      " 54%|████████████████████████████████████████████▋                                      | 7/13 [06:56<05:58, 59.79s/it]\u001b[A"
     ]
    },
    {
     "name": "stdout",
     "output_type": "stream",
     "text": [
      "sigma = 1024.0 , gamma = 1.4901161193847656e-08 , MSE = 19.377134610057645\n",
      "sigma = 1448.1546878700494 , gamma = 9.094947017729282e-13 , MSE = 19.542096725637514\n",
      "sigma = 1448.1546878700494 , gamma = 1.8189894035458565e-12 , MSE = 70.38321042012856\n",
      "sigma = 1448.1546878700494 , gamma = 3.637978807091713e-12 , MSE = 21.996790625016693\n",
      "sigma = 1448.1546878700494 , gamma = 7.275957614183426e-12 , MSE = 19.7916363235297\n",
      "sigma = 1448.1546878700494 , gamma = 1.4551915228366852e-11 , MSE = 15.096808629066729\n",
      "sigma = 1448.1546878700494 , gamma = 2.9103830456733704e-11 , MSE = 15.628907389805809\n",
      "sigma = 1448.1546878700494 , gamma = 5.820766091346741e-11 , MSE = 15.743397727917472\n",
      "sigma = 1448.1546878700494 , gamma = 1.1641532182693481e-10 , MSE = 13.73328469644932\n",
      "sigma = 1448.1546878700494 , gamma = 2.3283064365386963e-10 , MSE = 23.12309956869624\n",
      "sigma = 1448.1546878700494 , gamma = 4.656612873077393e-10 , MSE = 15.483438801758997\n",
      "sigma = 1448.1546878700494 , gamma = 9.313225746154785e-10 , MSE = 13.779971093200345\n",
      "sigma = 1448.1546878700494 , gamma = 1.862645149230957e-09 , MSE = 25.381310924202932\n",
      "sigma = 1448.1546878700494 , gamma = 3.725290298461914e-09 , MSE = 22.455101207347177\n",
      "sigma = 1448.1546878700494 , gamma = 7.450580596923828e-09 , MSE = 21.45778757647478\n"
     ]
    },
    {
     "name": "stderr",
     "output_type": "stream",
     "text": [
      "\n",
      " 62%|███████████████████████████████████████████████████                                | 8/13 [07:53<04:55, 59.09s/it]\u001b[A"
     ]
    },
    {
     "name": "stdout",
     "output_type": "stream",
     "text": [
      "sigma = 1448.1546878700494 , gamma = 1.4901161193847656e-08 , MSE = 23.066467521530633\n",
      "sigma = 2048.0 , gamma = 9.094947017729282e-13 , MSE = 15.512522314998836\n",
      "sigma = 2048.0 , gamma = 1.8189894035458565e-12 , MSE = 15.283442604888327\n",
      "sigma = 2048.0 , gamma = 3.637978807091713e-12 , MSE = 36.851148318489656\n",
      "sigma = 2048.0 , gamma = 7.275957614183426e-12 , MSE = 14.12909458878591\n",
      "sigma = 2048.0 , gamma = 1.4551915228366852e-11 , MSE = 14.354136894924054\n",
      "sigma = 2048.0 , gamma = 2.9103830456733704e-11 , MSE = 27.289681643945578\n",
      "sigma = 2048.0 , gamma = 5.820766091346741e-11 , MSE = 11.12333179172823\n",
      "sigma = 2048.0 , gamma = 1.1641532182693481e-10 , MSE = 14.914151591568004\n",
      "sigma = 2048.0 , gamma = 2.3283064365386963e-10 , MSE = 15.741755632149227\n",
      "sigma = 2048.0 , gamma = 4.656612873077393e-10 , MSE = 16.70718152419159\n",
      "sigma = 2048.0 , gamma = 9.313225746154785e-10 , MSE = 16.90684995692886\n",
      "sigma = 2048.0 , gamma = 1.862645149230957e-09 , MSE = 23.727778174188217\n",
      "sigma = 2048.0 , gamma = 3.725290298461914e-09 , MSE = 23.363443160033995\n",
      "sigma = 2048.0 , gamma = 7.450580596923828e-09 , MSE = 24.532392660697088\n"
     ]
    },
    {
     "name": "stderr",
     "output_type": "stream",
     "text": [
      "\n",
      " 69%|█████████████████████████████████████████████████████████▍                         | 9/13 [08:54<03:57, 59.46s/it]\u001b[A"
     ]
    },
    {
     "name": "stdout",
     "output_type": "stream",
     "text": [
      "sigma = 2048.0 , gamma = 1.4901161193847656e-08 , MSE = 28.956378844647265\n",
      "sigma = 2896.309375740099 , gamma = 9.094947017729282e-13 , MSE = 15.178195233133994\n",
      "sigma = 2896.309375740099 , gamma = 1.8189894035458565e-12 , MSE = 13.615783384895366\n",
      "sigma = 2896.309375740099 , gamma = 3.637978807091713e-12 , MSE = 13.845054015423244\n",
      "sigma = 2896.309375740099 , gamma = 7.275957614183426e-12 , MSE = 21.71799856219066\n",
      "sigma = 2896.309375740099 , gamma = 1.4551915228366852e-11 , MSE = 13.361752171295109\n",
      "sigma = 2896.309375740099 , gamma = 2.9103830456733704e-11 , MSE = 21.604331074934326\n",
      "sigma = 2896.309375740099 , gamma = 5.820766091346741e-11 , MSE = 17.3643303726249\n",
      "sigma = 2896.309375740099 , gamma = 1.1641532182693481e-10 , MSE = 14.953697282860137\n",
      "sigma = 2896.309375740099 , gamma = 2.3283064365386963e-10 , MSE = 23.035935160729345\n",
      "sigma = 2896.309375740099 , gamma = 4.656612873077393e-10 , MSE = 25.156189444054732\n",
      "sigma = 2896.309375740099 , gamma = 9.313225746154785e-10 , MSE = 27.410229807710856\n",
      "sigma = 2896.309375740099 , gamma = 1.862645149230957e-09 , MSE = 23.207627558175535\n",
      "sigma = 2896.309375740099 , gamma = 3.725290298461914e-09 , MSE = 27.12393467933515\n",
      "sigma = 2896.309375740099 , gamma = 7.450580596923828e-09 , MSE = 28.15339940209201\n"
     ]
    },
    {
     "name": "stderr",
     "output_type": "stream",
     "text": [
      "\n",
      " 77%|███████████████████████████████████████████████████████████████                   | 10/13 [09:54<02:58, 59.59s/it]\u001b[A"
     ]
    },
    {
     "name": "stdout",
     "output_type": "stream",
     "text": [
      "sigma = 2896.309375740099 , gamma = 1.4901161193847656e-08 , MSE = 29.39239583842241\n",
      "sigma = 4096.0 , gamma = 9.094947017729282e-13 , MSE = 11.635517204135468\n",
      "sigma = 4096.0 , gamma = 1.8189894035458565e-12 , MSE = 21.825386407843364\n",
      "sigma = 4096.0 , gamma = 3.637978807091713e-12 , MSE = 20.54433244458703\n",
      "sigma = 4096.0 , gamma = 7.275957614183426e-12 , MSE = 18.898459613310262\n",
      "sigma = 4096.0 , gamma = 1.4551915228366852e-11 , MSE = 16.614983250204478\n",
      "sigma = 4096.0 , gamma = 2.9103830456733704e-11 , MSE = 15.043203085981366\n",
      "sigma = 4096.0 , gamma = 5.820766091346741e-11 , MSE = 22.20340884558034\n",
      "sigma = 4096.0 , gamma = 1.1641532182693481e-10 , MSE = 29.883675194688728\n",
      "sigma = 4096.0 , gamma = 2.3283064365386963e-10 , MSE = 18.629183558262213\n",
      "sigma = 4096.0 , gamma = 4.656612873077393e-10 , MSE = 23.61320509862938\n",
      "sigma = 4096.0 , gamma = 9.313225746154785e-10 , MSE = 23.240552339563113\n",
      "sigma = 4096.0 , gamma = 1.862645149230957e-09 , MSE = 29.104838881097976\n",
      "sigma = 4096.0 , gamma = 3.725290298461914e-09 , MSE = 24.80280950056875\n",
      "sigma = 4096.0 , gamma = 7.450580596923828e-09 , MSE = 30.282109395955917\n"
     ]
    },
    {
     "name": "stderr",
     "output_type": "stream",
     "text": [
      "\n",
      " 85%|█████████████████████████████████████████████████████████████████████▍            | 11/13 [10:57<02:01, 60.77s/it]\u001b[A"
     ]
    },
    {
     "name": "stdout",
     "output_type": "stream",
     "text": [
      "sigma = 4096.0 , gamma = 1.4901161193847656e-08 , MSE = 29.961802920872152\n",
      "sigma = 5792.618751480198 , gamma = 9.094947017729282e-13 , MSE = 15.972432723726845\n",
      "sigma = 5792.618751480198 , gamma = 1.8189894035458565e-12 , MSE = 13.004917963686395\n",
      "sigma = 5792.618751480198 , gamma = 3.637978807091713e-12 , MSE = 18.863129175399667\n",
      "sigma = 5792.618751480198 , gamma = 7.275957614183426e-12 , MSE = 15.84574273322595\n",
      "sigma = 5792.618751480198 , gamma = 1.4551915228366852e-11 , MSE = 22.51747733955208\n",
      "sigma = 5792.618751480198 , gamma = 2.9103830456733704e-11 , MSE = 20.122921381211984\n",
      "sigma = 5792.618751480198 , gamma = 5.820766091346741e-11 , MSE = 17.051845617937452\n",
      "sigma = 5792.618751480198 , gamma = 1.1641532182693481e-10 , MSE = 22.844555292371393\n",
      "sigma = 5792.618751480198 , gamma = 2.3283064365386963e-10 , MSE = 24.813043418103625\n",
      "sigma = 5792.618751480198 , gamma = 4.656612873077393e-10 , MSE = 25.156315262940574\n",
      "sigma = 5792.618751480198 , gamma = 9.313225746154785e-10 , MSE = 24.496779293765282\n",
      "sigma = 5792.618751480198 , gamma = 1.862645149230957e-09 , MSE = 26.594209010236774\n",
      "sigma = 5792.618751480198 , gamma = 3.725290298461914e-09 , MSE = 29.752122247776235\n",
      "sigma = 5792.618751480198 , gamma = 7.450580596923828e-09 , MSE = 26.08796808725819\n"
     ]
    },
    {
     "name": "stderr",
     "output_type": "stream",
     "text": [
      "\n",
      " 92%|███████████████████████████████████████████████████████████████████████████▋      | 12/13 [12:02<01:02, 62.04s/it]\u001b[A"
     ]
    },
    {
     "name": "stdout",
     "output_type": "stream",
     "text": [
      "sigma = 5792.618751480198 , gamma = 1.4901161193847656e-08 , MSE = 30.137286021622117\n",
      "sigma = 8192.0 , gamma = 9.094947017729282e-13 , MSE = 17.10452595065792\n",
      "sigma = 8192.0 , gamma = 1.8189894035458565e-12 , MSE = 19.38494100623442\n",
      "sigma = 8192.0 , gamma = 3.637978807091713e-12 , MSE = 19.355465162771793\n",
      "sigma = 8192.0 , gamma = 7.275957614183426e-12 , MSE = 21.4000653959341\n",
      "sigma = 8192.0 , gamma = 1.4551915228366852e-11 , MSE = 20.247805096478448\n",
      "sigma = 8192.0 , gamma = 2.9103830456733704e-11 , MSE = 22.825993565237933\n",
      "sigma = 8192.0 , gamma = 5.820766091346741e-11 , MSE = 30.261714261815676\n",
      "sigma = 8192.0 , gamma = 1.1641532182693481e-10 , MSE = 23.165184253094868\n",
      "sigma = 8192.0 , gamma = 2.3283064365386963e-10 , MSE = 24.19697011689886\n",
      "sigma = 8192.0 , gamma = 4.656612873077393e-10 , MSE = 28.654784735423902\n",
      "sigma = 8192.0 , gamma = 9.313225746154785e-10 , MSE = 27.23316866276278\n",
      "sigma = 8192.0 , gamma = 1.862645149230957e-09 , MSE = 28.764235548017716\n",
      "sigma = 8192.0 , gamma = 3.725290298461914e-09 , MSE = 26.741332938671256\n",
      "sigma = 8192.0 , gamma = 7.450580596923828e-09 , MSE = 29.093711825457593\n"
     ]
    },
    {
     "name": "stderr",
     "output_type": "stream",
     "text": [
      "\n",
      "100%|██████████████████████████████████████████████████████████████████████████████████| 13/13 [13:00<00:00, 60.06s/it]\u001b[A"
     ]
    },
    {
     "name": "stdout",
     "output_type": "stream",
     "text": [
      "sigma = 8192.0 , gamma = 1.4901161193847656e-08 , MSE = 30.27135542036754\n"
     ]
    },
    {
     "name": "stderr",
     "output_type": "stream",
     "text": [
      "\n",
      " 40%|███████████████████████████████▏                                              | 8/20 [1:46:52<2:38:02, 790.22s/it]\n",
      "  0%|                                                                                           | 0/13 [00:00<?, ?it/s]\u001b[A"
     ]
    },
    {
     "name": "stdout",
     "output_type": "stream",
     "text": [
      "[10.180987881733891, 13.840265038014563]\n",
      "sigma = 128.0 , gamma = 9.094947017729282e-13 , MSE = 475.2194002895026\n",
      "sigma = 128.0 , gamma = 1.8189894035458565e-12 , MSE = 1060.6416521035956\n",
      "sigma = 128.0 , gamma = 3.637978807091713e-12 , MSE = 947.6784404035725\n",
      "sigma = 128.0 , gamma = 7.275957614183426e-12 , MSE = 385.43168934406714\n",
      "sigma = 128.0 , gamma = 1.4551915228366852e-11 , MSE = 736.8084927110119\n",
      "sigma = 128.0 , gamma = 2.9103830456733704e-11 , MSE = 783.4444837396189\n",
      "sigma = 128.0 , gamma = 5.820766091346741e-11 , MSE = 229.6299704392527\n",
      "sigma = 128.0 , gamma = 1.1641532182693481e-10 , MSE = 183.5335922278119\n",
      "sigma = 128.0 , gamma = 2.3283064365386963e-10 , MSE = 61.46467388803941\n",
      "sigma = 128.0 , gamma = 4.656612873077393e-10 , MSE = 163.33689336805506\n",
      "sigma = 128.0 , gamma = 9.313225746154785e-10 , MSE = 106.15073810167515\n",
      "sigma = 128.0 , gamma = 1.862645149230957e-09 , MSE = 60.70942524353053\n",
      "sigma = 128.0 , gamma = 3.725290298461914e-09 , MSE = 64.42334949362507\n",
      "sigma = 128.0 , gamma = 7.450580596923828e-09 , MSE = 44.080743398975\n"
     ]
    },
    {
     "name": "stderr",
     "output_type": "stream",
     "text": [
      "\n",
      "  8%|██████▍                                                                            | 1/13 [00:59<11:50, 59.20s/it]\u001b[A"
     ]
    },
    {
     "name": "stdout",
     "output_type": "stream",
     "text": [
      "sigma = 128.0 , gamma = 1.4901161193847656e-08 , MSE = 20.021184526480045\n",
      "sigma = 181.01933598375618 , gamma = 9.094947017729282e-13 , MSE = 210.2594466828025\n",
      "sigma = 181.01933598375618 , gamma = 1.8189894035458565e-12 , MSE = 209.02261404764053\n",
      "sigma = 181.01933598375618 , gamma = 3.637978807091713e-12 , MSE = 296.3507113653048\n",
      "sigma = 181.01933598375618 , gamma = 7.275957614183426e-12 , MSE = 841.3425623468572\n",
      "sigma = 181.01933598375618 , gamma = 1.4551915228366852e-11 , MSE = 199.47871343026452\n",
      "sigma = 181.01933598375618 , gamma = 2.9103830456733704e-11 , MSE = 91.16795028025072\n",
      "sigma = 181.01933598375618 , gamma = 5.820766091346741e-11 , MSE = 43.75591209586629\n",
      "sigma = 181.01933598375618 , gamma = 1.1641532182693481e-10 , MSE = 43.55980345234592\n",
      "sigma = 181.01933598375618 , gamma = 2.3283064365386963e-10 , MSE = 47.013233583092486\n",
      "sigma = 181.01933598375618 , gamma = 4.656612873077393e-10 , MSE = 66.80704203925472\n",
      "sigma = 181.01933598375618 , gamma = 9.313225746154785e-10 , MSE = 38.15002789707138\n",
      "sigma = 181.01933598375618 , gamma = 1.862645149230957e-09 , MSE = 22.169713429437525\n",
      "sigma = 181.01933598375618 , gamma = 3.725290298461914e-09 , MSE = 30.422106863640458\n",
      "sigma = 181.01933598375618 , gamma = 7.450580596923828e-09 , MSE = 21.433070325838777\n"
     ]
    },
    {
     "name": "stderr",
     "output_type": "stream",
     "text": [
      "\n",
      " 15%|████████████▊                                                                      | 2/13 [02:00<11:01, 60.16s/it]\u001b[A"
     ]
    },
    {
     "name": "stdout",
     "output_type": "stream",
     "text": [
      "sigma = 181.01933598375618 , gamma = 1.4901161193847656e-08 , MSE = 20.089681671003895\n",
      "sigma = 256.0 , gamma = 9.094947017729282e-13 , MSE = 149.11348100806995\n",
      "sigma = 256.0 , gamma = 1.8189894035458565e-12 , MSE = 319.4903698469799\n",
      "sigma = 256.0 , gamma = 3.637978807091713e-12 , MSE = 71.07900215388227\n",
      "sigma = 256.0 , gamma = 7.275957614183426e-12 , MSE = 86.48900472116975\n",
      "sigma = 256.0 , gamma = 1.4551915228366852e-11 , MSE = 67.3682423919617\n",
      "sigma = 256.0 , gamma = 2.9103830456733704e-11 , MSE = 116.02296237402841\n",
      "sigma = 256.0 , gamma = 5.820766091346741e-11 , MSE = 43.574843118527994\n",
      "sigma = 256.0 , gamma = 1.1641532182693481e-10 , MSE = 38.46606404652441\n",
      "sigma = 256.0 , gamma = 2.3283064365386963e-10 , MSE = 23.37590702327059\n",
      "sigma = 256.0 , gamma = 4.656612873077393e-10 , MSE = 25.958829050740157\n",
      "sigma = 256.0 , gamma = 9.313225746154785e-10 , MSE = 16.855219692642287\n",
      "sigma = 256.0 , gamma = 1.862645149230957e-09 , MSE = 18.014292641706167\n",
      "sigma = 256.0 , gamma = 3.725290298461914e-09 , MSE = 18.97470755696778\n",
      "sigma = 256.0 , gamma = 7.450580596923828e-09 , MSE = 17.97853929784609\n"
     ]
    },
    {
     "name": "stderr",
     "output_type": "stream",
     "text": [
      "\n",
      " 23%|███████████████████▏                                                               | 3/13 [03:00<10:01, 60.12s/it]\u001b[A"
     ]
    },
    {
     "name": "stdout",
     "output_type": "stream",
     "text": [
      "sigma = 256.0 , gamma = 1.4901161193847656e-08 , MSE = 19.122013487406853\n",
      "sigma = 362.03867196751236 , gamma = 9.094947017729282e-13 , MSE = 53.16953466300471\n",
      "sigma = 362.03867196751236 , gamma = 1.8189894035458565e-12 , MSE = 34.70471167552199\n",
      "sigma = 362.03867196751236 , gamma = 3.637978807091713e-12 , MSE = 55.380212723473946\n",
      "sigma = 362.03867196751236 , gamma = 7.275957614183426e-12 , MSE = 45.73150766305687\n",
      "sigma = 362.03867196751236 , gamma = 1.4551915228366852e-11 , MSE = 27.581365675602576\n",
      "sigma = 362.03867196751236 , gamma = 2.9103830456733704e-11 , MSE = 27.976798209987482\n",
      "sigma = 362.03867196751236 , gamma = 5.820766091346741e-11 , MSE = 21.642331459047398\n",
      "sigma = 362.03867196751236 , gamma = 1.1641532182693481e-10 , MSE = 25.131705766306773\n",
      "sigma = 362.03867196751236 , gamma = 2.3283064365386963e-10 , MSE = 19.06522547483984\n",
      "sigma = 362.03867196751236 , gamma = 4.656612873077393e-10 , MSE = 17.950778093955716\n",
      "sigma = 362.03867196751236 , gamma = 9.313225746154785e-10 , MSE = 18.22759744840531\n",
      "sigma = 362.03867196751236 , gamma = 1.862645149230957e-09 , MSE = 13.744770826093731\n",
      "sigma = 362.03867196751236 , gamma = 3.725290298461914e-09 , MSE = 15.930611140360474\n",
      "sigma = 362.03867196751236 , gamma = 7.450580596923828e-09 , MSE = 12.89298686200232\n"
     ]
    },
    {
     "name": "stderr",
     "output_type": "stream",
     "text": [
      "\n",
      " 31%|█████████████████████████▌                                                         | 4/13 [03:57<08:50, 59.00s/it]\u001b[A"
     ]
    },
    {
     "name": "stdout",
     "output_type": "stream",
     "text": [
      "sigma = 362.03867196751236 , gamma = 1.4901161193847656e-08 , MSE = 13.86128521465668\n",
      "sigma = 512.0 , gamma = 9.094947017729282e-13 , MSE = 34.432364948799574\n",
      "sigma = 512.0 , gamma = 1.8189894035458565e-12 , MSE = 35.17841153393782\n",
      "sigma = 512.0 , gamma = 3.637978807091713e-12 , MSE = 20.748484494890185\n",
      "sigma = 512.0 , gamma = 7.275957614183426e-12 , MSE = 19.331670668332904\n",
      "sigma = 512.0 , gamma = 1.4551915228366852e-11 , MSE = 37.89497903150847\n",
      "sigma = 512.0 , gamma = 2.9103830456733704e-11 , MSE = 20.48105704235065\n",
      "sigma = 512.0 , gamma = 5.820766091346741e-11 , MSE = 17.425329394218767\n",
      "sigma = 512.0 , gamma = 1.1641532182693481e-10 , MSE = 21.69798948215046\n",
      "sigma = 512.0 , gamma = 2.3283064365386963e-10 , MSE = 19.136461202244337\n",
      "sigma = 512.0 , gamma = 4.656612873077393e-10 , MSE = 13.698399867834812\n",
      "sigma = 512.0 , gamma = 9.313225746154785e-10 , MSE = 14.278651439200008\n",
      "sigma = 512.0 , gamma = 1.862645149230957e-09 , MSE = 12.471605485697674\n",
      "sigma = 512.0 , gamma = 3.725290298461914e-09 , MSE = 19.351261885240667\n",
      "sigma = 512.0 , gamma = 7.450580596923828e-09 , MSE = 14.315841349155818\n"
     ]
    },
    {
     "name": "stderr",
     "output_type": "stream",
     "text": [
      "\n",
      " 38%|███████████████████████████████▉                                                   | 5/13 [04:54<07:46, 58.26s/it]\u001b[A"
     ]
    },
    {
     "name": "stdout",
     "output_type": "stream",
     "text": [
      "sigma = 512.0 , gamma = 1.4901161193847656e-08 , MSE = 18.825779964709582\n",
      "sigma = 724.0773439350247 , gamma = 9.094947017729282e-13 , MSE = 22.990521028010836\n",
      "sigma = 724.0773439350247 , gamma = 1.8189894035458565e-12 , MSE = 18.852675259025876\n",
      "sigma = 724.0773439350247 , gamma = 3.637978807091713e-12 , MSE = 19.167902339669286\n",
      "sigma = 724.0773439350247 , gamma = 7.275957614183426e-12 , MSE = 21.05179675980423\n",
      "sigma = 724.0773439350247 , gamma = 1.4551915228366852e-11 , MSE = 14.915008153382033\n",
      "sigma = 724.0773439350247 , gamma = 2.9103830456733704e-11 , MSE = 16.3967465698509\n",
      "sigma = 724.0773439350247 , gamma = 5.820766091346741e-11 , MSE = 15.843062766448444\n",
      "sigma = 724.0773439350247 , gamma = 1.1641532182693481e-10 , MSE = 13.951692882200248\n",
      "sigma = 724.0773439350247 , gamma = 2.3283064365386963e-10 , MSE = 14.552726649123546\n",
      "sigma = 724.0773439350247 , gamma = 4.656612873077393e-10 , MSE = 15.243728672708812\n",
      "sigma = 724.0773439350247 , gamma = 9.313225746154785e-10 , MSE = 13.839186398971318\n",
      "sigma = 724.0773439350247 , gamma = 1.862645149230957e-09 , MSE = 14.499695995540765\n",
      "sigma = 724.0773439350247 , gamma = 3.725290298461914e-09 , MSE = 17.4655053338658\n",
      "sigma = 724.0773439350247 , gamma = 7.450580596923828e-09 , MSE = 14.462417405610722\n"
     ]
    },
    {
     "name": "stderr",
     "output_type": "stream",
     "text": [
      "\n",
      " 46%|██████████████████████████████████████▎                                            | 6/13 [05:54<06:51, 58.75s/it]\u001b[A"
     ]
    },
    {
     "name": "stdout",
     "output_type": "stream",
     "text": [
      "sigma = 724.0773439350247 , gamma = 1.4901161193847656e-08 , MSE = 20.215957566406743\n",
      "sigma = 1024.0 , gamma = 9.094947017729282e-13 , MSE = 19.88549522701124\n",
      "sigma = 1024.0 , gamma = 1.8189894035458565e-12 , MSE = 14.757478775595605\n",
      "sigma = 1024.0 , gamma = 3.637978807091713e-12 , MSE = 15.872428821541927\n",
      "sigma = 1024.0 , gamma = 7.275957614183426e-12 , MSE = 17.884187714686384\n",
      "sigma = 1024.0 , gamma = 1.4551915228366852e-11 , MSE = 15.226428391437068\n",
      "sigma = 1024.0 , gamma = 2.9103830456733704e-11 , MSE = 14.948113302421996\n",
      "sigma = 1024.0 , gamma = 5.820766091346741e-11 , MSE = 15.87528310356094\n",
      "sigma = 1024.0 , gamma = 1.1641532182693481e-10 , MSE = 15.254495417482065\n",
      "sigma = 1024.0 , gamma = 2.3283064365386963e-10 , MSE = 12.58834352377745\n",
      "sigma = 1024.0 , gamma = 4.656612873077393e-10 , MSE = 22.176789140249966\n",
      "sigma = 1024.0 , gamma = 9.313225746154785e-10 , MSE = 13.998871442471938\n",
      "sigma = 1024.0 , gamma = 1.862645149230957e-09 , MSE = 19.50404953190266\n",
      "sigma = 1024.0 , gamma = 3.725290298461914e-09 , MSE = 18.40820090665573\n",
      "sigma = 1024.0 , gamma = 7.450580596923828e-09 , MSE = 21.032566455536678\n"
     ]
    },
    {
     "name": "stderr",
     "output_type": "stream",
     "text": [
      "\n",
      " 54%|████████████████████████████████████████████▋                                      | 7/13 [06:51<05:49, 58.18s/it]\u001b[A"
     ]
    },
    {
     "name": "stdout",
     "output_type": "stream",
     "text": [
      "sigma = 1024.0 , gamma = 1.4901161193847656e-08 , MSE = 21.900539060575433\n",
      "sigma = 1448.1546878700494 , gamma = 9.094947017729282e-13 , MSE = 17.717202439304934\n",
      "sigma = 1448.1546878700494 , gamma = 1.8189894035458565e-12 , MSE = 16.033458289627575\n",
      "sigma = 1448.1546878700494 , gamma = 3.637978807091713e-12 , MSE = 13.782693412393504\n",
      "sigma = 1448.1546878700494 , gamma = 7.275957614183426e-12 , MSE = 15.891416485110108\n",
      "sigma = 1448.1546878700494 , gamma = 1.4551915228366852e-11 , MSE = 16.35253738972213\n",
      "sigma = 1448.1546878700494 , gamma = 2.9103830456733704e-11 , MSE = 11.64118269031474\n",
      "sigma = 1448.1546878700494 , gamma = 5.820766091346741e-11 , MSE = 11.536888402582798\n",
      "sigma = 1448.1546878700494 , gamma = 1.1641532182693481e-10 , MSE = 18.341058469479353\n",
      "sigma = 1448.1546878700494 , gamma = 2.3283064365386963e-10 , MSE = 13.801103109208848\n",
      "sigma = 1448.1546878700494 , gamma = 4.656612873077393e-10 , MSE = 14.925480442601701\n",
      "sigma = 1448.1546878700494 , gamma = 9.313225746154785e-10 , MSE = 17.268209850718137\n",
      "sigma = 1448.1546878700494 , gamma = 1.862645149230957e-09 , MSE = 23.882562281827777\n",
      "sigma = 1448.1546878700494 , gamma = 3.725290298461914e-09 , MSE = 18.435642392767445\n",
      "sigma = 1448.1546878700494 , gamma = 7.450580596923828e-09 , MSE = 20.2704387527455\n"
     ]
    },
    {
     "name": "stderr",
     "output_type": "stream",
     "text": [
      "\n",
      " 62%|███████████████████████████████████████████████████                                | 8/13 [07:48<04:50, 58.07s/it]\u001b[A"
     ]
    },
    {
     "name": "stdout",
     "output_type": "stream",
     "text": [
      "sigma = 1448.1546878700494 , gamma = 1.4901161193847656e-08 , MSE = 23.420102764411343\n",
      "sigma = 2048.0 , gamma = 9.094947017729282e-13 , MSE = 17.64375027382476\n",
      "sigma = 2048.0 , gamma = 1.8189894035458565e-12 , MSE = 16.09594106197077\n",
      "sigma = 2048.0 , gamma = 3.637978807091713e-12 , MSE = 13.953711418381221\n",
      "sigma = 2048.0 , gamma = 7.275957614183426e-12 , MSE = 16.243045812729413\n",
      "sigma = 2048.0 , gamma = 1.4551915228366852e-11 , MSE = 15.627202531955655\n",
      "sigma = 2048.0 , gamma = 2.9103830456733704e-11 , MSE = 12.408099928072023\n",
      "sigma = 2048.0 , gamma = 5.820766091346741e-11 , MSE = 13.538935483723119\n",
      "sigma = 2048.0 , gamma = 1.1641532182693481e-10 , MSE = 13.343374449448817\n",
      "sigma = 2048.0 , gamma = 2.3283064365386963e-10 , MSE = 13.897622790641766\n",
      "sigma = 2048.0 , gamma = 4.656612873077393e-10 , MSE = 18.31070122987797\n",
      "sigma = 2048.0 , gamma = 9.313225746154785e-10 , MSE = 20.544454078002207\n",
      "sigma = 2048.0 , gamma = 1.862645149230957e-09 , MSE = 23.518505427358928\n",
      "sigma = 2048.0 , gamma = 3.725290298461914e-09 , MSE = 22.711327912498025\n",
      "sigma = 2048.0 , gamma = 7.450580596923828e-09 , MSE = 27.890109999399993\n"
     ]
    },
    {
     "name": "stderr",
     "output_type": "stream",
     "text": [
      "\n",
      " 69%|█████████████████████████████████████████████████████████▍                         | 9/13 [08:48<03:54, 58.53s/it]\u001b[A"
     ]
    },
    {
     "name": "stdout",
     "output_type": "stream",
     "text": [
      "sigma = 2048.0 , gamma = 1.4901161193847656e-08 , MSE = 19.436950740793158\n",
      "sigma = 2896.309375740099 , gamma = 9.094947017729282e-13 , MSE = 13.379615860391619\n",
      "sigma = 2896.309375740099 , gamma = 1.8189894035458565e-12 , MSE = 12.790800306704663\n",
      "sigma = 2896.309375740099 , gamma = 3.637978807091713e-12 , MSE = 15.967227132452795\n",
      "sigma = 2896.309375740099 , gamma = 7.275957614183426e-12 , MSE = 14.559624471057054\n",
      "sigma = 2896.309375740099 , gamma = 1.4551915228366852e-11 , MSE = 15.870342070529034\n",
      "sigma = 2896.309375740099 , gamma = 2.9103830456733704e-11 , MSE = 14.681317274960737\n",
      "sigma = 2896.309375740099 , gamma = 5.820766091346741e-11 , MSE = 14.327761627933715\n",
      "sigma = 2896.309375740099 , gamma = 1.1641532182693481e-10 , MSE = 16.992668863517558\n",
      "sigma = 2896.309375740099 , gamma = 2.3283064365386963e-10 , MSE = 16.947726438548926\n",
      "sigma = 2896.309375740099 , gamma = 4.656612873077393e-10 , MSE = 21.251758740604398\n",
      "sigma = 2896.309375740099 , gamma = 9.313225746154785e-10 , MSE = 23.313142194419534\n",
      "sigma = 2896.309375740099 , gamma = 1.862645149230957e-09 , MSE = 19.170366661163378\n",
      "sigma = 2896.309375740099 , gamma = 3.725290298461914e-09 , MSE = 22.36569049173172\n",
      "sigma = 2896.309375740099 , gamma = 7.450580596923828e-09 , MSE = 25.56896101426326\n"
     ]
    },
    {
     "name": "stderr",
     "output_type": "stream",
     "text": [
      "\n",
      " 77%|███████████████████████████████████████████████████████████████                   | 10/13 [09:49<02:58, 59.36s/it]\u001b[A"
     ]
    },
    {
     "name": "stdout",
     "output_type": "stream",
     "text": [
      "sigma = 2896.309375740099 , gamma = 1.4901161193847656e-08 , MSE = 24.740249852457303\n",
      "sigma = 4096.0 , gamma = 9.094947017729282e-13 , MSE = 13.499944305207885\n",
      "sigma = 4096.0 , gamma = 1.8189894035458565e-12 , MSE = 13.587823963596758\n",
      "sigma = 4096.0 , gamma = 3.637978807091713e-12 , MSE = 16.133233287861188\n",
      "sigma = 4096.0 , gamma = 7.275957614183426e-12 , MSE = 16.981127904968737\n",
      "sigma = 4096.0 , gamma = 1.4551915228366852e-11 , MSE = 17.335251439481357\n",
      "sigma = 4096.0 , gamma = 2.9103830456733704e-11 , MSE = 16.549114780307768\n",
      "sigma = 4096.0 , gamma = 5.820766091346741e-11 , MSE = 17.487722873292043\n",
      "sigma = 4096.0 , gamma = 1.1641532182693481e-10 , MSE = 17.439304155557302\n",
      "sigma = 4096.0 , gamma = 2.3283064365386963e-10 , MSE = 23.370748252104146\n",
      "sigma = 4096.0 , gamma = 4.656612873077393e-10 , MSE = 30.857397408790643\n",
      "sigma = 4096.0 , gamma = 9.313225746154785e-10 , MSE = 19.879873832166766\n",
      "sigma = 4096.0 , gamma = 1.862645149230957e-09 , MSE = 27.120588870623486\n",
      "sigma = 4096.0 , gamma = 3.725290298461914e-09 , MSE = 28.453508544169743\n",
      "sigma = 4096.0 , gamma = 7.450580596923828e-09 , MSE = 25.609911970242763\n"
     ]
    },
    {
     "name": "stderr",
     "output_type": "stream",
     "text": [
      "\n",
      " 85%|█████████████████████████████████████████████████████████████████████▍            | 11/13 [10:50<01:59, 59.91s/it]\u001b[A"
     ]
    },
    {
     "name": "stdout",
     "output_type": "stream",
     "text": [
      "sigma = 4096.0 , gamma = 1.4901161193847656e-08 , MSE = 28.023275379875884\n",
      "sigma = 5792.618751480198 , gamma = 9.094947017729282e-13 , MSE = 13.338773691268807\n",
      "sigma = 5792.618751480198 , gamma = 1.8189894035458565e-12 , MSE = 14.585106274498589\n",
      "sigma = 5792.618751480198 , gamma = 3.637978807091713e-12 , MSE = 14.898123098077907\n",
      "sigma = 5792.618751480198 , gamma = 7.275957614183426e-12 , MSE = 20.10519606331087\n",
      "sigma = 5792.618751480198 , gamma = 1.4551915228366852e-11 , MSE = 20.406933899204823\n",
      "sigma = 5792.618751480198 , gamma = 2.9103830456733704e-11 , MSE = 21.00695744144741\n",
      "sigma = 5792.618751480198 , gamma = 5.820766091346741e-11 , MSE = 24.19017873970687\n",
      "sigma = 5792.618751480198 , gamma = 1.1641532182693481e-10 , MSE = 23.220261221554697\n",
      "sigma = 5792.618751480198 , gamma = 2.3283064365386963e-10 , MSE = 20.42581724536379\n",
      "sigma = 5792.618751480198 , gamma = 4.656612873077393e-10 , MSE = 22.308632404583534\n",
      "sigma = 5792.618751480198 , gamma = 9.313225746154785e-10 , MSE = 24.476044574566945\n",
      "sigma = 5792.618751480198 , gamma = 1.862645149230957e-09 , MSE = 27.50059436005322\n",
      "sigma = 5792.618751480198 , gamma = 3.725290298461914e-09 , MSE = 27.208969630310598\n",
      "sigma = 5792.618751480198 , gamma = 7.450580596923828e-09 , MSE = 23.629866257593047\n"
     ]
    },
    {
     "name": "stderr",
     "output_type": "stream",
     "text": [
      "\n",
      " 92%|███████████████████████████████████████████████████████████████████████████▋      | 12/13 [11:50<00:59, 59.92s/it]\u001b[A"
     ]
    },
    {
     "name": "stdout",
     "output_type": "stream",
     "text": [
      "sigma = 5792.618751480198 , gamma = 1.4901161193847656e-08 , MSE = 30.047504013996303\n",
      "sigma = 8192.0 , gamma = 9.094947017729282e-13 , MSE = 15.779098755410882\n",
      "sigma = 8192.0 , gamma = 1.8189894035458565e-12 , MSE = 16.622817072009962\n",
      "sigma = 8192.0 , gamma = 3.637978807091713e-12 , MSE = 15.497500458100314\n",
      "sigma = 8192.0 , gamma = 7.275957614183426e-12 , MSE = 23.681500402460607\n",
      "sigma = 8192.0 , gamma = 1.4551915228366852e-11 , MSE = 28.460949853156496\n",
      "sigma = 8192.0 , gamma = 2.9103830456733704e-11 , MSE = 30.265442778057132\n",
      "sigma = 8192.0 , gamma = 5.820766091346741e-11 , MSE = 24.192459013502013\n",
      "sigma = 8192.0 , gamma = 1.1641532182693481e-10 , MSE = 23.050359725473836\n",
      "sigma = 8192.0 , gamma = 2.3283064365386963e-10 , MSE = 25.265974495186878\n",
      "sigma = 8192.0 , gamma = 4.656612873077393e-10 , MSE = 28.880635158382592\n",
      "sigma = 8192.0 , gamma = 9.313225746154785e-10 , MSE = 29.827283946815847\n",
      "sigma = 8192.0 , gamma = 1.862645149230957e-09 , MSE = 23.38098745325444\n",
      "sigma = 8192.0 , gamma = 3.725290298461914e-09 , MSE = 22.19109351462756\n",
      "sigma = 8192.0 , gamma = 7.450580596923828e-09 , MSE = 26.40483523468756\n"
     ]
    },
    {
     "name": "stderr",
     "output_type": "stream",
     "text": [
      "\n",
      "100%|██████████████████████████████████████████████████████████████████████████████████| 13/13 [12:52<00:00, 59.41s/it]\u001b[A"
     ]
    },
    {
     "name": "stdout",
     "output_type": "stream",
     "text": [
      "sigma = 8192.0 , gamma = 1.4901161193847656e-08 , MSE = 22.64238171170301\n"
     ]
    },
    {
     "name": "stderr",
     "output_type": "stream",
     "text": [
      "\n",
      " 45%|███████████████████████████████████                                           | 9/20 [1:59:48<2:24:05, 785.98s/it]\n",
      "  0%|                                                                                           | 0/13 [00:00<?, ?it/s]\u001b[A"
     ]
    },
    {
     "name": "stdout",
     "output_type": "stream",
     "text": [
      "[9.144549892665152, 14.669189299949059]\n",
      "sigma = 128.0 , gamma = 9.094947017729282e-13 , MSE = 542.0181978222996\n",
      "sigma = 128.0 , gamma = 1.8189894035458565e-12 , MSE = 1802.3473373628374\n",
      "sigma = 128.0 , gamma = 3.637978807091713e-12 , MSE = 525.4167451677811\n",
      "sigma = 128.0 , gamma = 7.275957614183426e-12 , MSE = 1865.2071961309969\n",
      "sigma = 128.0 , gamma = 1.4551915228366852e-11 , MSE = 1918.0776672527768\n",
      "sigma = 128.0 , gamma = 2.9103830456733704e-11 , MSE = 503.8799769890894\n",
      "sigma = 128.0 , gamma = 5.820766091346741e-11 , MSE = 445.80048154587604\n",
      "sigma = 128.0 , gamma = 1.1641532182693481e-10 , MSE = 768.3162212027121\n",
      "sigma = 128.0 , gamma = 2.3283064365386963e-10 , MSE = 156.76801324672073\n",
      "sigma = 128.0 , gamma = 4.656612873077393e-10 , MSE = 69.7650160752322\n",
      "sigma = 128.0 , gamma = 9.313225746154785e-10 , MSE = 82.76642032704618\n",
      "sigma = 128.0 , gamma = 1.862645149230957e-09 , MSE = 49.94113294672367\n",
      "sigma = 128.0 , gamma = 3.725290298461914e-09 , MSE = 40.74916076761541\n",
      "sigma = 128.0 , gamma = 7.450580596923828e-09 , MSE = 32.069299826783514\n"
     ]
    },
    {
     "name": "stderr",
     "output_type": "stream",
     "text": [
      "\n",
      "  8%|██████▍                                                                            | 1/13 [01:05<13:09, 65.82s/it]\u001b[A"
     ]
    },
    {
     "name": "stdout",
     "output_type": "stream",
     "text": [
      "sigma = 128.0 , gamma = 1.4901161193847656e-08 , MSE = 40.13556912878437\n",
      "sigma = 181.01933598375618 , gamma = 9.094947017729282e-13 , MSE = 1075.0847083775848\n",
      "sigma = 181.01933598375618 , gamma = 1.8189894035458565e-12 , MSE = 864.865468149513\n",
      "sigma = 181.01933598375618 , gamma = 3.637978807091713e-12 , MSE = 478.13820712640654\n",
      "sigma = 181.01933598375618 , gamma = 7.275957614183426e-12 , MSE = 519.1297107819561\n",
      "sigma = 181.01933598375618 , gamma = 1.4551915228366852e-11 , MSE = 1399.7334093123745\n",
      "sigma = 181.01933598375618 , gamma = 2.9103830456733704e-11 , MSE = 262.5108403983374\n",
      "sigma = 181.01933598375618 , gamma = 5.820766091346741e-11 , MSE = 460.82243797169997\n",
      "sigma = 181.01933598375618 , gamma = 1.1641532182693481e-10 , MSE = 72.3286563460934\n",
      "sigma = 181.01933598375618 , gamma = 2.3283064365386963e-10 , MSE = 58.07101157004556\n",
      "sigma = 181.01933598375618 , gamma = 4.656612873077393e-10 , MSE = 38.7508070697898\n",
      "sigma = 181.01933598375618 , gamma = 9.313225746154785e-10 , MSE = 32.72691633120024\n",
      "sigma = 181.01933598375618 , gamma = 1.862645149230957e-09 , MSE = 33.81684311825471\n",
      "sigma = 181.01933598375618 , gamma = 3.725290298461914e-09 , MSE = 19.837016940341066\n",
      "sigma = 181.01933598375618 , gamma = 7.450580596923828e-09 , MSE = 161.42981458041598\n"
     ]
    },
    {
     "name": "stderr",
     "output_type": "stream",
     "text": [
      "\n",
      " 15%|████████████▊                                                                      | 2/13 [02:05<11:27, 62.47s/it]\u001b[A"
     ]
    },
    {
     "name": "stdout",
     "output_type": "stream",
     "text": [
      "sigma = 181.01933598375618 , gamma = 1.4901161193847656e-08 , MSE = 27.05759267509893\n",
      "sigma = 256.0 , gamma = 9.094947017729282e-13 , MSE = 11587.595174348924\n",
      "sigma = 256.0 , gamma = 1.8189894035458565e-12 , MSE = 146.93704064887\n",
      "sigma = 256.0 , gamma = 3.637978807091713e-12 , MSE = 113.58930456768005\n",
      "sigma = 256.0 , gamma = 7.275957614183426e-12 , MSE = 145.786413419164\n",
      "sigma = 256.0 , gamma = 1.4551915228366852e-11 , MSE = 95.81322313626971\n",
      "sigma = 256.0 , gamma = 2.9103830456733704e-11 , MSE = 74.64924592840404\n",
      "sigma = 256.0 , gamma = 5.820766091346741e-11 , MSE = 48.00650847802206\n",
      "sigma = 256.0 , gamma = 1.1641532182693481e-10 , MSE = 24.180776103653812\n",
      "sigma = 256.0 , gamma = 2.3283064365386963e-10 , MSE = 35.284960262166905\n",
      "sigma = 256.0 , gamma = 4.656612873077393e-10 , MSE = 31.934111477613264\n",
      "sigma = 256.0 , gamma = 9.313225746154785e-10 , MSE = 21.63294379099772\n",
      "sigma = 256.0 , gamma = 1.862645149230957e-09 , MSE = 27.785208085845284\n",
      "sigma = 256.0 , gamma = 3.725290298461914e-09 , MSE = 23.22409923651808\n",
      "sigma = 256.0 , gamma = 7.450580596923828e-09 , MSE = 36.218988630244965\n"
     ]
    },
    {
     "name": "stderr",
     "output_type": "stream",
     "text": [
      "\n",
      " 23%|███████████████████▏                                                               | 3/13 [03:07<10:18, 61.85s/it]\u001b[A"
     ]
    },
    {
     "name": "stdout",
     "output_type": "stream",
     "text": [
      "sigma = 256.0 , gamma = 1.4901161193847656e-08 , MSE = 21.5092340676688\n",
      "sigma = 362.03867196751236 , gamma = 9.094947017729282e-13 , MSE = 821.618233272091\n",
      "sigma = 362.03867196751236 , gamma = 1.8189894035458565e-12 , MSE = 259.58905598836844\n",
      "sigma = 362.03867196751236 , gamma = 3.637978807091713e-12 , MSE = 238.146103985833\n",
      "sigma = 362.03867196751236 , gamma = 7.275957614183426e-12 , MSE = 81.30024069354822\n",
      "sigma = 362.03867196751236 , gamma = 1.4551915228366852e-11 , MSE = 36.864321955425176\n",
      "sigma = 362.03867196751236 , gamma = 2.9103830456733704e-11 , MSE = 46.79676157418494\n",
      "sigma = 362.03867196751236 , gamma = 5.820766091346741e-11 , MSE = 27.219281477204312\n",
      "sigma = 362.03867196751236 , gamma = 1.1641532182693481e-10 , MSE = 22.96515371271861\n",
      "sigma = 362.03867196751236 , gamma = 2.3283064365386963e-10 , MSE = 177.323829685878\n",
      "sigma = 362.03867196751236 , gamma = 4.656612873077393e-10 , MSE = 32.52502672035569\n",
      "sigma = 362.03867196751236 , gamma = 9.313225746154785e-10 , MSE = 31.90901958650094\n",
      "sigma = 362.03867196751236 , gamma = 1.862645149230957e-09 , MSE = 17.948860239388026\n",
      "sigma = 362.03867196751236 , gamma = 3.725290298461914e-09 , MSE = 18.36039096578903\n",
      "sigma = 362.03867196751236 , gamma = 7.450580596923828e-09 , MSE = 14.215185534192292\n"
     ]
    },
    {
     "name": "stderr",
     "output_type": "stream",
     "text": [
      "\n",
      " 31%|█████████████████████████▌                                                         | 4/13 [04:06<09:09, 61.02s/it]\u001b[A"
     ]
    },
    {
     "name": "stdout",
     "output_type": "stream",
     "text": [
      "sigma = 362.03867196751236 , gamma = 1.4901161193847656e-08 , MSE = 15.057259749206256\n",
      "sigma = 512.0 , gamma = 9.094947017729282e-13 , MSE = 65.76363232118895\n",
      "sigma = 512.0 , gamma = 1.8189894035458565e-12 , MSE = 76.56658740813354\n",
      "sigma = 512.0 , gamma = 3.637978807091713e-12 , MSE = 24.89852173279522\n",
      "sigma = 512.0 , gamma = 7.275957614183426e-12 , MSE = 22.764249321457772\n",
      "sigma = 512.0 , gamma = 1.4551915228366852e-11 , MSE = 23.63959917973427\n",
      "sigma = 512.0 , gamma = 2.9103830456733704e-11 , MSE = 21.28694048424634\n",
      "sigma = 512.0 , gamma = 5.820766091346741e-11 , MSE = 67.88984213677733\n",
      "sigma = 512.0 , gamma = 1.1641532182693481e-10 , MSE = 19.52111418456666\n",
      "sigma = 512.0 , gamma = 2.3283064365386963e-10 , MSE = 20.292029262802085\n",
      "sigma = 512.0 , gamma = 4.656612873077393e-10 , MSE = 15.932039035997835\n",
      "sigma = 512.0 , gamma = 9.313225746154785e-10 , MSE = 15.005910434852064\n",
      "sigma = 512.0 , gamma = 1.862645149230957e-09 , MSE = 18.18269229202288\n",
      "sigma = 512.0 , gamma = 3.725290298461914e-09 , MSE = 18.381366107396353\n",
      "sigma = 512.0 , gamma = 7.450580596923828e-09 , MSE = 15.966265625465041\n"
     ]
    },
    {
     "name": "stderr",
     "output_type": "stream",
     "text": [
      "\n",
      " 38%|███████████████████████████████▉                                                   | 5/13 [05:04<07:57, 59.71s/it]\u001b[A"
     ]
    },
    {
     "name": "stdout",
     "output_type": "stream",
     "text": [
      "sigma = 512.0 , gamma = 1.4901161193847656e-08 , MSE = 17.69656469318476\n",
      "sigma = 724.0773439350247 , gamma = 9.094947017729282e-13 , MSE = 35.428013962997824\n",
      "sigma = 724.0773439350247 , gamma = 1.8189894035458565e-12 , MSE = 30.020580571523872\n",
      "sigma = 724.0773439350247 , gamma = 3.637978807091713e-12 , MSE = 33.37553981843686\n",
      "sigma = 724.0773439350247 , gamma = 7.275957614183426e-12 , MSE = 32.80644995989347\n",
      "sigma = 724.0773439350247 , gamma = 1.4551915228366852e-11 , MSE = 21.0321349046117\n",
      "sigma = 724.0773439350247 , gamma = 2.9103830456733704e-11 , MSE = 24.964994722767084\n",
      "sigma = 724.0773439350247 , gamma = 5.820766091346741e-11 , MSE = 14.569988838447992\n",
      "sigma = 724.0773439350247 , gamma = 1.1641532182693481e-10 , MSE = 19.6281147714297\n",
      "sigma = 724.0773439350247 , gamma = 2.3283064365386963e-10 , MSE = 17.819639273436596\n",
      "sigma = 724.0773439350247 , gamma = 4.656612873077393e-10 , MSE = 15.886365189304655\n",
      "sigma = 724.0773439350247 , gamma = 9.313225746154785e-10 , MSE = 14.752695474709663\n",
      "sigma = 724.0773439350247 , gamma = 1.862645149230957e-09 , MSE = 17.27924137464081\n",
      "sigma = 724.0773439350247 , gamma = 3.725290298461914e-09 , MSE = 16.314218616829084\n",
      "sigma = 724.0773439350247 , gamma = 7.450580596923828e-09 , MSE = 15.805684421607996\n"
     ]
    },
    {
     "name": "stderr",
     "output_type": "stream",
     "text": [
      "\n",
      " 46%|██████████████████████████████████████▎                                            | 6/13 [05:59<06:47, 58.16s/it]\u001b[A"
     ]
    },
    {
     "name": "stdout",
     "output_type": "stream",
     "text": [
      "sigma = 724.0773439350247 , gamma = 1.4901161193847656e-08 , MSE = 18.39505882966305\n",
      "sigma = 1024.0 , gamma = 9.094947017729282e-13 , MSE = 21.86685537485993\n",
      "sigma = 1024.0 , gamma = 1.8189894035458565e-12 , MSE = 18.644938346357016\n",
      "sigma = 1024.0 , gamma = 3.637978807091713e-12 , MSE = 37.76363587619443\n",
      "sigma = 1024.0 , gamma = 7.275957614183426e-12 , MSE = 17.365022627789266\n",
      "sigma = 1024.0 , gamma = 1.4551915228366852e-11 , MSE = 17.416243140710165\n",
      "sigma = 1024.0 , gamma = 2.9103830456733704e-11 , MSE = 17.53246779817139\n",
      "sigma = 1024.0 , gamma = 5.820766091346741e-11 , MSE = 16.571102762365214\n",
      "sigma = 1024.0 , gamma = 1.1641532182693481e-10 , MSE = 17.7539585555251\n",
      "sigma = 1024.0 , gamma = 2.3283064365386963e-10 , MSE = 15.038128047278638\n",
      "sigma = 1024.0 , gamma = 4.656612873077393e-10 , MSE = 15.108804411140898\n",
      "sigma = 1024.0 , gamma = 9.313225746154785e-10 , MSE = 19.607249480305246\n",
      "sigma = 1024.0 , gamma = 1.862645149230957e-09 , MSE = 26.70349316545167\n",
      "sigma = 1024.0 , gamma = 3.725290298461914e-09 , MSE = 15.490363448737543\n",
      "sigma = 1024.0 , gamma = 7.450580596923828e-09 , MSE = 18.194112428175657\n"
     ]
    },
    {
     "name": "stderr",
     "output_type": "stream",
     "text": [
      "\n",
      " 54%|████████████████████████████████████████████▋                                      | 7/13 [06:54<05:43, 57.22s/it]\u001b[A"
     ]
    },
    {
     "name": "stdout",
     "output_type": "stream",
     "text": [
      "sigma = 1024.0 , gamma = 1.4901161193847656e-08 , MSE = 22.637873579565095\n",
      "sigma = 1448.1546878700494 , gamma = 9.094947017729282e-13 , MSE = 18.21092963674996\n",
      "sigma = 1448.1546878700494 , gamma = 1.8189894035458565e-12 , MSE = 21.266590779133757\n",
      "sigma = 1448.1546878700494 , gamma = 3.637978807091713e-12 , MSE = 21.696692954680977\n",
      "sigma = 1448.1546878700494 , gamma = 7.275957614183426e-12 , MSE = 18.899617249780313\n",
      "sigma = 1448.1546878700494 , gamma = 1.4551915228366852e-11 , MSE = 15.969411056338382\n",
      "sigma = 1448.1546878700494 , gamma = 2.9103830456733704e-11 , MSE = 16.56347381606742\n",
      "sigma = 1448.1546878700494 , gamma = 5.820766091346741e-11 , MSE = 15.116855804242245\n",
      "sigma = 1448.1546878700494 , gamma = 1.1641532182693481e-10 , MSE = 31.424073845386204\n",
      "sigma = 1448.1546878700494 , gamma = 2.3283064365386963e-10 , MSE = 15.224740240433007\n",
      "sigma = 1448.1546878700494 , gamma = 4.656612873077393e-10 , MSE = 20.654271671448104\n",
      "sigma = 1448.1546878700494 , gamma = 9.313225746154785e-10 , MSE = 19.408925900537206\n",
      "sigma = 1448.1546878700494 , gamma = 1.862645149230957e-09 , MSE = 18.142403389404215\n",
      "sigma = 1448.1546878700494 , gamma = 3.725290298461914e-09 , MSE = 23.079605037748664\n",
      "sigma = 1448.1546878700494 , gamma = 7.450580596923828e-09 , MSE = 22.91288577077925\n"
     ]
    },
    {
     "name": "stderr",
     "output_type": "stream",
     "text": [
      "\n",
      " 62%|███████████████████████████████████████████████████                                | 8/13 [07:49<04:43, 56.62s/it]\u001b[A"
     ]
    },
    {
     "name": "stdout",
     "output_type": "stream",
     "text": [
      "sigma = 1448.1546878700494 , gamma = 1.4901161193847656e-08 , MSE = 25.3590657353074\n",
      "sigma = 2048.0 , gamma = 9.094947017729282e-13 , MSE = 14.141842745613525\n",
      "sigma = 2048.0 , gamma = 1.8189894035458565e-12 , MSE = 17.982267644855078\n",
      "sigma = 2048.0 , gamma = 3.637978807091713e-12 , MSE = 16.00936396549497\n",
      "sigma = 2048.0 , gamma = 7.275957614183426e-12 , MSE = 20.57828631113552\n",
      "sigma = 2048.0 , gamma = 1.4551915228366852e-11 , MSE = 13.520175040469649\n",
      "sigma = 2048.0 , gamma = 2.9103830456733704e-11 , MSE = 17.910890190287375\n",
      "sigma = 2048.0 , gamma = 5.820766091346741e-11 , MSE = 16.060224197540286\n",
      "sigma = 2048.0 , gamma = 1.1641532182693481e-10 , MSE = 16.376237218802416\n",
      "sigma = 2048.0 , gamma = 2.3283064365386963e-10 , MSE = 15.12329192689237\n",
      "sigma = 2048.0 , gamma = 4.656612873077393e-10 , MSE = 20.63804623931134\n",
      "sigma = 2048.0 , gamma = 9.313225746154785e-10 , MSE = 17.32757208142628\n",
      "sigma = 2048.0 , gamma = 1.862645149230957e-09 , MSE = 25.178538912007806\n",
      "sigma = 2048.0 , gamma = 3.725290298461914e-09 , MSE = 21.47303656763045\n",
      "sigma = 2048.0 , gamma = 7.450580596923828e-09 , MSE = 20.590251230044384\n"
     ]
    },
    {
     "name": "stderr",
     "output_type": "stream",
     "text": [
      "\n",
      " 69%|█████████████████████████████████████████████████████████▍                         | 9/13 [08:44<03:43, 55.95s/it]\u001b[A"
     ]
    },
    {
     "name": "stdout",
     "output_type": "stream",
     "text": [
      "sigma = 2048.0 , gamma = 1.4901161193847656e-08 , MSE = 23.16778417867734\n",
      "sigma = 2896.309375740099 , gamma = 9.094947017729282e-13 , MSE = 17.384071411405493\n",
      "sigma = 2896.309375740099 , gamma = 1.8189894035458565e-12 , MSE = 17.130955750137492\n",
      "sigma = 2896.309375740099 , gamma = 3.637978807091713e-12 , MSE = 16.934739815025104\n",
      "sigma = 2896.309375740099 , gamma = 7.275957614183426e-12 , MSE = 18.115561503389934\n",
      "sigma = 2896.309375740099 , gamma = 1.4551915228366852e-11 , MSE = 16.278725882492566\n",
      "sigma = 2896.309375740099 , gamma = 2.9103830456733704e-11 , MSE = 16.40003889612023\n",
      "sigma = 2896.309375740099 , gamma = 5.820766091346741e-11 , MSE = 17.456628463005053\n",
      "sigma = 2896.309375740099 , gamma = 1.1641532182693481e-10 , MSE = 21.04281256446789\n",
      "sigma = 2896.309375740099 , gamma = 2.3283064365386963e-10 , MSE = 26.450737303785598\n",
      "sigma = 2896.309375740099 , gamma = 4.656612873077393e-10 , MSE = 26.522597395581776\n",
      "sigma = 2896.309375740099 , gamma = 9.313225746154785e-10 , MSE = 24.908044360534582\n",
      "sigma = 2896.309375740099 , gamma = 1.862645149230957e-09 , MSE = 24.036200978343587\n",
      "sigma = 2896.309375740099 , gamma = 3.725290298461914e-09 , MSE = 27.17357821518247\n",
      "sigma = 2896.309375740099 , gamma = 7.450580596923828e-09 , MSE = 23.270601287487448\n"
     ]
    },
    {
     "name": "stderr",
     "output_type": "stream",
     "text": [
      "\n",
      " 77%|███████████████████████████████████████████████████████████████                   | 10/13 [09:41<02:48, 56.22s/it]\u001b[A"
     ]
    },
    {
     "name": "stdout",
     "output_type": "stream",
     "text": [
      "sigma = 2896.309375740099 , gamma = 1.4901161193847656e-08 , MSE = 26.2014668546832\n",
      "sigma = 4096.0 , gamma = 9.094947017729282e-13 , MSE = 14.821664617792532\n",
      "sigma = 4096.0 , gamma = 1.8189894035458565e-12 , MSE = 26.794789699537795\n",
      "sigma = 4096.0 , gamma = 3.637978807091713e-12 , MSE = 17.004546267483462\n",
      "sigma = 4096.0 , gamma = 7.275957614183426e-12 , MSE = 18.07042192036736\n",
      "sigma = 4096.0 , gamma = 1.4551915228366852e-11 , MSE = 16.037788511157707\n",
      "sigma = 4096.0 , gamma = 2.9103830456733704e-11 , MSE = 21.230029084310974\n",
      "sigma = 4096.0 , gamma = 5.820766091346741e-11 , MSE = 23.729883314893403\n",
      "sigma = 4096.0 , gamma = 1.1641532182693481e-10 , MSE = 22.49521816348777\n",
      "sigma = 4096.0 , gamma = 2.3283064365386963e-10 , MSE = 25.13678070909241\n",
      "sigma = 4096.0 , gamma = 4.656612873077393e-10 , MSE = 24.401687212735546\n",
      "sigma = 4096.0 , gamma = 9.313225746154785e-10 , MSE = 23.573192427945454\n",
      "sigma = 4096.0 , gamma = 1.862645149230957e-09 , MSE = 29.24918050447111\n",
      "sigma = 4096.0 , gamma = 3.725290298461914e-09 , MSE = 24.562297451781294\n",
      "sigma = 4096.0 , gamma = 7.450580596923828e-09 , MSE = 23.076507921531274\n"
     ]
    },
    {
     "name": "stderr",
     "output_type": "stream",
     "text": [
      "\n",
      " 85%|█████████████████████████████████████████████████████████████████████▍            | 11/13 [10:36<01:51, 55.84s/it]\u001b[A"
     ]
    },
    {
     "name": "stdout",
     "output_type": "stream",
     "text": [
      "sigma = 4096.0 , gamma = 1.4901161193847656e-08 , MSE = 25.873901194662842\n",
      "sigma = 5792.618751480198 , gamma = 9.094947017729282e-13 , MSE = 15.53880704996566\n",
      "sigma = 5792.618751480198 , gamma = 1.8189894035458565e-12 , MSE = 19.857164350594125\n",
      "sigma = 5792.618751480198 , gamma = 3.637978807091713e-12 , MSE = 18.25459264049376\n",
      "sigma = 5792.618751480198 , gamma = 7.275957614183426e-12 , MSE = 19.45714390290447\n",
      "sigma = 5792.618751480198 , gamma = 1.4551915228366852e-11 , MSE = 20.876085654786944\n",
      "sigma = 5792.618751480198 , gamma = 2.9103830456733704e-11 , MSE = 28.404991403628266\n",
      "sigma = 5792.618751480198 , gamma = 5.820766091346741e-11 , MSE = 25.943119572841965\n",
      "sigma = 5792.618751480198 , gamma = 1.1641532182693481e-10 , MSE = 25.509017917130798\n",
      "sigma = 5792.618751480198 , gamma = 2.3283064365386963e-10 , MSE = 22.065048053101915\n",
      "sigma = 5792.618751480198 , gamma = 4.656612873077393e-10 , MSE = 22.392668737481635\n",
      "sigma = 5792.618751480198 , gamma = 9.313225746154785e-10 , MSE = 25.58317346292463\n",
      "sigma = 5792.618751480198 , gamma = 1.862645149230957e-09 , MSE = 27.162471233553607\n",
      "sigma = 5792.618751480198 , gamma = 3.725290298461914e-09 , MSE = 24.90256611954804\n",
      "sigma = 5792.618751480198 , gamma = 7.450580596923828e-09 , MSE = 29.134880339225184\n"
     ]
    },
    {
     "name": "stderr",
     "output_type": "stream",
     "text": [
      "\n",
      " 92%|███████████████████████████████████████████████████████████████████████████▋      | 12/13 [11:32<00:55, 55.83s/it]\u001b[A"
     ]
    },
    {
     "name": "stdout",
     "output_type": "stream",
     "text": [
      "sigma = 5792.618751480198 , gamma = 1.4901161193847656e-08 , MSE = 27.601974753878437\n",
      "sigma = 8192.0 , gamma = 9.094947017729282e-13 , MSE = 13.49567283510184\n",
      "sigma = 8192.0 , gamma = 1.8189894035458565e-12 , MSE = 26.93683397686086\n",
      "sigma = 8192.0 , gamma = 3.637978807091713e-12 , MSE = 19.648332786906987\n",
      "sigma = 8192.0 , gamma = 7.275957614183426e-12 , MSE = 22.44600864250696\n",
      "sigma = 8192.0 , gamma = 1.4551915228366852e-11 , MSE = 22.980655316341387\n",
      "sigma = 8192.0 , gamma = 2.9103830456733704e-11 , MSE = 21.86444385513792\n",
      "sigma = 8192.0 , gamma = 5.820766091346741e-11 , MSE = 28.69137776491251\n",
      "sigma = 8192.0 , gamma = 1.1641532182693481e-10 , MSE = 26.4273319153839\n",
      "sigma = 8192.0 , gamma = 2.3283064365386963e-10 , MSE = 26.041591483987236\n",
      "sigma = 8192.0 , gamma = 4.656612873077393e-10 , MSE = 25.744786542060456\n",
      "sigma = 8192.0 , gamma = 9.313225746154785e-10 , MSE = 21.570262333341606\n",
      "sigma = 8192.0 , gamma = 1.862645149230957e-09 , MSE = 22.418880628647646\n",
      "sigma = 8192.0 , gamma = 3.725290298461914e-09 , MSE = 26.553966546652884\n",
      "sigma = 8192.0 , gamma = 7.450580596923828e-09 , MSE = 28.971262094048427\n"
     ]
    },
    {
     "name": "stderr",
     "output_type": "stream",
     "text": [
      "\n",
      "100%|██████████████████████████████████████████████████████████████████████████████████| 13/13 [12:30<00:00, 57.70s/it]\u001b[A"
     ]
    },
    {
     "name": "stdout",
     "output_type": "stream",
     "text": [
      "sigma = 8192.0 , gamma = 1.4901161193847656e-08 , MSE = 26.849497705110387\n"
     ]
    },
    {
     "name": "stderr",
     "output_type": "stream",
     "text": [
      "\n",
      " 50%|██████████████████████████████████████▌                                      | 10/20 [2:12:22<2:09:21, 776.13s/it]\n",
      "  0%|                                                                                           | 0/13 [00:00<?, ?it/s]\u001b[A"
     ]
    },
    {
     "name": "stdout",
     "output_type": "stream",
     "text": [
      "[13.179291818375772, 12.742857147532211]\n",
      "sigma = 128.0 , gamma = 9.094947017729282e-13 , MSE = 1213.0044583383092\n",
      "sigma = 128.0 , gamma = 1.8189894035458565e-12 , MSE = 2812.4412463227304\n",
      "sigma = 128.0 , gamma = 3.637978807091713e-12 , MSE = 1315.738195248325\n",
      "sigma = 128.0 , gamma = 7.275957614183426e-12 , MSE = 15727.386285894003\n",
      "sigma = 128.0 , gamma = 1.4551915228366852e-11 , MSE = 2026.4866902977192\n",
      "sigma = 128.0 , gamma = 2.9103830456733704e-11 , MSE = 494.12255086324467\n",
      "sigma = 128.0 , gamma = 5.820766091346741e-11 , MSE = 1042.9383879166935\n",
      "sigma = 128.0 , gamma = 1.1641532182693481e-10 , MSE = 123.29792308074418\n",
      "sigma = 128.0 , gamma = 2.3283064365386963e-10 , MSE = 312.56134489133956\n",
      "sigma = 128.0 , gamma = 4.656612873077393e-10 , MSE = 168.06550667200025\n",
      "sigma = 128.0 , gamma = 9.313225746154785e-10 , MSE = 312.7898950577446\n",
      "sigma = 128.0 , gamma = 1.862645149230957e-09 , MSE = 49.777806377129444\n",
      "sigma = 128.0 , gamma = 3.725290298461914e-09 , MSE = 62.767926169491844\n",
      "sigma = 128.0 , gamma = 7.450580596923828e-09 , MSE = 31.581349379172842\n"
     ]
    },
    {
     "name": "stderr",
     "output_type": "stream",
     "text": [
      "\n",
      "  8%|██████▍                                                                            | 1/13 [00:58<11:40, 58.38s/it]\u001b[A"
     ]
    },
    {
     "name": "stdout",
     "output_type": "stream",
     "text": [
      "sigma = 128.0 , gamma = 1.4901161193847656e-08 , MSE = 30.738516473453195\n",
      "sigma = 181.01933598375618 , gamma = 9.094947017729282e-13 , MSE = 2596.6884659036887\n",
      "sigma = 181.01933598375618 , gamma = 1.8189894035458565e-12 , MSE = 707.0504921896876\n",
      "sigma = 181.01933598375618 , gamma = 3.637978807091713e-12 , MSE = 360.76167944804246\n",
      "sigma = 181.01933598375618 , gamma = 7.275957614183426e-12 , MSE = 447.25560268731704\n",
      "sigma = 181.01933598375618 , gamma = 1.4551915228366852e-11 , MSE = 1524.5877308623872\n",
      "sigma = 181.01933598375618 , gamma = 2.9103830456733704e-11 , MSE = 1764.9198036368925\n",
      "sigma = 181.01933598375618 , gamma = 5.820766091346741e-11 , MSE = 217.83218445298706\n",
      "sigma = 181.01933598375618 , gamma = 1.1641532182693481e-10 , MSE = 49.490550435533095\n",
      "sigma = 181.01933598375618 , gamma = 2.3283064365386963e-10 , MSE = 47.84952516544928\n",
      "sigma = 181.01933598375618 , gamma = 4.656612873077393e-10 , MSE = 33.7606460459025\n",
      "sigma = 181.01933598375618 , gamma = 9.313225746154785e-10 , MSE = 52.193571118082275\n",
      "sigma = 181.01933598375618 , gamma = 1.862645149230957e-09 , MSE = 131.32062952051277\n",
      "sigma = 181.01933598375618 , gamma = 3.725290298461914e-09 , MSE = 57.12965074116306\n",
      "sigma = 181.01933598375618 , gamma = 7.450580596923828e-09 , MSE = 17.33602759721034\n"
     ]
    },
    {
     "name": "stderr",
     "output_type": "stream",
     "text": [
      "\n",
      " 15%|████████████▊                                                                      | 2/13 [01:57<10:45, 58.67s/it]\u001b[A"
     ]
    },
    {
     "name": "stdout",
     "output_type": "stream",
     "text": [
      "sigma = 181.01933598375618 , gamma = 1.4901161193847656e-08 , MSE = 17.562365270821743\n",
      "sigma = 256.0 , gamma = 9.094947017729282e-13 , MSE = 14351.394290047869\n",
      "sigma = 256.0 , gamma = 1.8189894035458565e-12 , MSE = 158.73839589436602\n",
      "sigma = 256.0 , gamma = 3.637978807091713e-12 , MSE = 111.06667922822298\n",
      "sigma = 256.0 , gamma = 7.275957614183426e-12 , MSE = 92.10813510787997\n",
      "sigma = 256.0 , gamma = 1.4551915228366852e-11 , MSE = 2035.9603930452347\n",
      "sigma = 256.0 , gamma = 2.9103830456733704e-11 , MSE = 153.73289181547506\n",
      "sigma = 256.0 , gamma = 5.820766091346741e-11 , MSE = 32.19591943155352\n",
      "sigma = 256.0 , gamma = 1.1641532182693481e-10 , MSE = 127.33536702387127\n",
      "sigma = 256.0 , gamma = 2.3283064365386963e-10 , MSE = 22.915180314673467\n",
      "sigma = 256.0 , gamma = 4.656612873077393e-10 , MSE = 23.640961230401636\n",
      "sigma = 256.0 , gamma = 9.313225746154785e-10 , MSE = 23.326249995562016\n",
      "sigma = 256.0 , gamma = 1.862645149230957e-09 , MSE = 14.453276658689342\n",
      "sigma = 256.0 , gamma = 3.725290298461914e-09 , MSE = 15.12413197133229\n",
      "sigma = 256.0 , gamma = 7.450580596923828e-09 , MSE = 21.277679231458002\n"
     ]
    },
    {
     "name": "stderr",
     "output_type": "stream",
     "text": [
      "\n",
      " 23%|███████████████████▏                                                               | 3/13 [02:53<09:34, 57.47s/it]\u001b[A"
     ]
    },
    {
     "name": "stdout",
     "output_type": "stream",
     "text": [
      "sigma = 256.0 , gamma = 1.4901161193847656e-08 , MSE = 20.515915746989577\n",
      "sigma = 362.03867196751236 , gamma = 9.094947017729282e-13 , MSE = 4834.837342684044\n",
      "sigma = 362.03867196751236 , gamma = 1.8189894035458565e-12 , MSE = 2204.000525473108\n",
      "sigma = 362.03867196751236 , gamma = 3.637978807091713e-12 , MSE = 72.66777915917974\n",
      "sigma = 362.03867196751236 , gamma = 7.275957614183426e-12 , MSE = 204.45153703811326\n",
      "sigma = 362.03867196751236 , gamma = 1.4551915228366852e-11 , MSE = 671.8619533096305\n",
      "sigma = 362.03867196751236 , gamma = 2.9103830456733704e-11 , MSE = 263.5043715801616\n",
      "sigma = 362.03867196751236 , gamma = 5.820766091346741e-11 , MSE = 17.31087183975651\n",
      "sigma = 362.03867196751236 , gamma = 1.1641532182693481e-10 , MSE = 51.718285803079844\n",
      "sigma = 362.03867196751236 , gamma = 2.3283064365386963e-10 , MSE = 17.082536577641253\n",
      "sigma = 362.03867196751236 , gamma = 4.656612873077393e-10 , MSE = 18.111356804612246\n",
      "sigma = 362.03867196751236 , gamma = 9.313225746154785e-10 , MSE = 19.311423772412134\n",
      "sigma = 362.03867196751236 , gamma = 1.862645149230957e-09 , MSE = 12.832661936888229\n",
      "sigma = 362.03867196751236 , gamma = 3.725290298461914e-09 , MSE = 13.365040796017235\n",
      "sigma = 362.03867196751236 , gamma = 7.450580596923828e-09 , MSE = 12.829916252239787\n"
     ]
    },
    {
     "name": "stderr",
     "output_type": "stream",
     "text": [
      "\n",
      " 31%|█████████████████████████▌                                                         | 4/13 [03:49<08:31, 56.80s/it]\u001b[A"
     ]
    },
    {
     "name": "stdout",
     "output_type": "stream",
     "text": [
      "sigma = 362.03867196751236 , gamma = 1.4901161193847656e-08 , MSE = 18.62501814968321\n",
      "sigma = 512.0 , gamma = 9.094947017729282e-13 , MSE = 145.7495011547268\n",
      "sigma = 512.0 , gamma = 1.8189894035458565e-12 , MSE = 26.75792195559564\n",
      "sigma = 512.0 , gamma = 3.637978807091713e-12 , MSE = 580.0523853918979\n",
      "sigma = 512.0 , gamma = 7.275957614183426e-12 , MSE = 278.7978689915645\n",
      "sigma = 512.0 , gamma = 1.4551915228366852e-11 , MSE = 18.066251061777784\n",
      "sigma = 512.0 , gamma = 2.9103830456733704e-11 , MSE = 14.562520234084294\n",
      "sigma = 512.0 , gamma = 5.820766091346741e-11 , MSE = 105.40219606725609\n",
      "sigma = 512.0 , gamma = 1.1641532182693481e-10 , MSE = 17.328060806371692\n",
      "sigma = 512.0 , gamma = 2.3283064365386963e-10 , MSE = 39.085860817298666\n",
      "sigma = 512.0 , gamma = 4.656612873077393e-10 , MSE = 28.10293498330635\n",
      "sigma = 512.0 , gamma = 9.313225746154785e-10 , MSE = 21.21181146217362\n",
      "sigma = 512.0 , gamma = 1.862645149230957e-09 , MSE = 15.004680950036217\n",
      "sigma = 512.0 , gamma = 3.725290298461914e-09 , MSE = 30.591166829512808\n",
      "sigma = 512.0 , gamma = 7.450580596923828e-09 , MSE = 15.423017309822367\n"
     ]
    },
    {
     "name": "stderr",
     "output_type": "stream",
     "text": [
      "\n",
      " 38%|███████████████████████████████▉                                                   | 5/13 [04:44<07:31, 56.38s/it]\u001b[A"
     ]
    },
    {
     "name": "stdout",
     "output_type": "stream",
     "text": [
      "sigma = 512.0 , gamma = 1.4901161193847656e-08 , MSE = 17.988084873233014\n",
      "sigma = 724.0773439350247 , gamma = 9.094947017729282e-13 , MSE = 31.033366803016257\n",
      "sigma = 724.0773439350247 , gamma = 1.8189894035458565e-12 , MSE = 231.82872538562856\n",
      "sigma = 724.0773439350247 , gamma = 3.637978807091713e-12 , MSE = 68.76312274309896\n",
      "sigma = 724.0773439350247 , gamma = 7.275957614183426e-12 , MSE = 162.97103858979216\n",
      "sigma = 724.0773439350247 , gamma = 1.4551915228366852e-11 , MSE = 35.06770242889154\n",
      "sigma = 724.0773439350247 , gamma = 2.9103830456733704e-11 , MSE = 13.194482616044784\n",
      "sigma = 724.0773439350247 , gamma = 5.820766091346741e-11 , MSE = 15.962596021629114\n",
      "sigma = 724.0773439350247 , gamma = 1.1641532182693481e-10 , MSE = 40.902528369330454\n",
      "sigma = 724.0773439350247 , gamma = 2.3283064365386963e-10 , MSE = 15.338082983059925\n",
      "sigma = 724.0773439350247 , gamma = 4.656612873077393e-10 , MSE = 13.196045512411013\n",
      "sigma = 724.0773439350247 , gamma = 9.313225746154785e-10 , MSE = 16.624268309740394\n",
      "sigma = 724.0773439350247 , gamma = 1.862645149230957e-09 , MSE = 34.44251991044568\n",
      "sigma = 724.0773439350247 , gamma = 3.725290298461914e-09 , MSE = 30.320350071926242\n",
      "sigma = 724.0773439350247 , gamma = 7.450580596923828e-09 , MSE = 45.59776357487167\n"
     ]
    },
    {
     "name": "stderr",
     "output_type": "stream",
     "text": [
      "\n",
      " 46%|██████████████████████████████████████▎                                            | 6/13 [05:42<06:37, 56.82s/it]\u001b[A"
     ]
    },
    {
     "name": "stdout",
     "output_type": "stream",
     "text": [
      "sigma = 724.0773439350247 , gamma = 1.4901161193847656e-08 , MSE = 17.503970944288007\n",
      "sigma = 1024.0 , gamma = 9.094947017729282e-13 , MSE = 59.32286118231675\n",
      "sigma = 1024.0 , gamma = 1.8189894035458565e-12 , MSE = 18.469331614481508\n",
      "sigma = 1024.0 , gamma = 3.637978807091713e-12 , MSE = 12.341219691221612\n",
      "sigma = 1024.0 , gamma = 7.275957614183426e-12 , MSE = 44.247025124620166\n",
      "sigma = 1024.0 , gamma = 1.4551915228366852e-11 , MSE = 17.941543116589965\n",
      "sigma = 1024.0 , gamma = 2.9103830456733704e-11 , MSE = 13.72565770643448\n",
      "sigma = 1024.0 , gamma = 5.820766091346741e-11 , MSE = 46.54511739424843\n",
      "sigma = 1024.0 , gamma = 1.1641532182693481e-10 , MSE = 41.05374362402766\n",
      "sigma = 1024.0 , gamma = 2.3283064365386963e-10 , MSE = 14.412327731685854\n",
      "sigma = 1024.0 , gamma = 4.656612873077393e-10 , MSE = 27.991278696745553\n",
      "sigma = 1024.0 , gamma = 9.313225746154785e-10 , MSE = 15.837824132100565\n",
      "sigma = 1024.0 , gamma = 1.862645149230957e-09 , MSE = 18.76694316940327\n",
      "sigma = 1024.0 , gamma = 3.725290298461914e-09 , MSE = 15.912972071253922\n",
      "sigma = 1024.0 , gamma = 7.450580596923828e-09 , MSE = 20.373315518286528\n"
     ]
    },
    {
     "name": "stderr",
     "output_type": "stream",
     "text": [
      "\n",
      " 54%|████████████████████████████████████████████▋                                      | 7/13 [06:38<05:40, 56.71s/it]\u001b[A"
     ]
    },
    {
     "name": "stdout",
     "output_type": "stream",
     "text": [
      "sigma = 1024.0 , gamma = 1.4901161193847656e-08 , MSE = 23.362340413786175\n",
      "sigma = 1448.1546878700494 , gamma = 9.094947017729282e-13 , MSE = 56.719887481393265\n",
      "sigma = 1448.1546878700494 , gamma = 1.8189894035458565e-12 , MSE = 17.157768826249484\n",
      "sigma = 1448.1546878700494 , gamma = 3.637978807091713e-12 , MSE = 49.974743247720326\n",
      "sigma = 1448.1546878700494 , gamma = 7.275957614183426e-12 , MSE = 15.10455214062577\n",
      "sigma = 1448.1546878700494 , gamma = 1.4551915228366852e-11 , MSE = 62.47965543558862\n",
      "sigma = 1448.1546878700494 , gamma = 2.9103830456733704e-11 , MSE = 75.95760181301488\n",
      "sigma = 1448.1546878700494 , gamma = 5.820766091346741e-11 , MSE = 14.51818602119119\n",
      "sigma = 1448.1546878700494 , gamma = 1.1641532182693481e-10 , MSE = 14.36969500823388\n",
      "sigma = 1448.1546878700494 , gamma = 2.3283064365386963e-10 , MSE = 30.21374835460597\n",
      "sigma = 1448.1546878700494 , gamma = 4.656612873077393e-10 , MSE = 16.53596712967869\n",
      "sigma = 1448.1546878700494 , gamma = 9.313225746154785e-10 , MSE = 14.602840578178462\n",
      "sigma = 1448.1546878700494 , gamma = 1.862645149230957e-09 , MSE = 19.49513382379563\n",
      "sigma = 1448.1546878700494 , gamma = 3.725290298461914e-09 , MSE = 21.117943474719773\n",
      "sigma = 1448.1546878700494 , gamma = 7.450580596923828e-09 , MSE = 25.9671969326953\n"
     ]
    },
    {
     "name": "stderr",
     "output_type": "stream",
     "text": [
      "\n",
      " 62%|███████████████████████████████████████████████████                                | 8/13 [07:34<04:41, 56.35s/it]\u001b[A"
     ]
    },
    {
     "name": "stdout",
     "output_type": "stream",
     "text": [
      "sigma = 1448.1546878700494 , gamma = 1.4901161193847656e-08 , MSE = 23.20384100917432\n",
      "sigma = 2048.0 , gamma = 9.094947017729282e-13 , MSE = 17.09856190176544\n",
      "sigma = 2048.0 , gamma = 1.8189894035458565e-12 , MSE = 15.023433569927565\n",
      "sigma = 2048.0 , gamma = 3.637978807091713e-12 , MSE = 19.207889406237246\n",
      "sigma = 2048.0 , gamma = 7.275957614183426e-12 , MSE = 78.93444063589669\n",
      "sigma = 2048.0 , gamma = 1.4551915228366852e-11 , MSE = 28.8381331843397\n",
      "sigma = 2048.0 , gamma = 2.9103830456733704e-11 , MSE = 12.076082474701638\n",
      "sigma = 2048.0 , gamma = 5.820766091346741e-11 , MSE = 43.48250931071876\n",
      "sigma = 2048.0 , gamma = 1.1641532182693481e-10 , MSE = 16.116734211021313\n",
      "sigma = 2048.0 , gamma = 2.3283064365386963e-10 , MSE = 15.907797606511242\n",
      "sigma = 2048.0 , gamma = 4.656612873077393e-10 , MSE = 19.09968023479525\n",
      "sigma = 2048.0 , gamma = 9.313225746154785e-10 , MSE = 20.34166173754894\n",
      "sigma = 2048.0 , gamma = 1.862645149230957e-09 , MSE = 22.791228912139324\n",
      "sigma = 2048.0 , gamma = 3.725290298461914e-09 , MSE = 19.70399122549025\n",
      "sigma = 2048.0 , gamma = 7.450580596923828e-09 , MSE = 24.447654953974702\n"
     ]
    },
    {
     "name": "stderr",
     "output_type": "stream",
     "text": [
      "\n",
      " 69%|█████████████████████████████████████████████████████████▍                         | 9/13 [08:29<03:43, 55.84s/it]\u001b[A"
     ]
    },
    {
     "name": "stdout",
     "output_type": "stream",
     "text": [
      "sigma = 2048.0 , gamma = 1.4901161193847656e-08 , MSE = 28.201214049782237\n",
      "sigma = 2896.309375740099 , gamma = 9.094947017729282e-13 , MSE = 12.743225413152905\n",
      "sigma = 2896.309375740099 , gamma = 1.8189894035458565e-12 , MSE = 23.317665922688903\n",
      "sigma = 2896.309375740099 , gamma = 3.637978807091713e-12 , MSE = 15.818985970906988\n",
      "sigma = 2896.309375740099 , gamma = 7.275957614183426e-12 , MSE = 17.42936550485394\n",
      "sigma = 2896.309375740099 , gamma = 1.4551915228366852e-11 , MSE = 12.859450446261667\n",
      "sigma = 2896.309375740099 , gamma = 2.9103830456733704e-11 , MSE = 15.706544500684549\n",
      "sigma = 2896.309375740099 , gamma = 5.820766091346741e-11 , MSE = 17.023807591941676\n",
      "sigma = 2896.309375740099 , gamma = 1.1641532182693481e-10 , MSE = 18.7365056299156\n",
      "sigma = 2896.309375740099 , gamma = 2.3283064365386963e-10 , MSE = 24.188770354466918\n",
      "sigma = 2896.309375740099 , gamma = 4.656612873077393e-10 , MSE = 28.764175486092796\n",
      "sigma = 2896.309375740099 , gamma = 9.313225746154785e-10 , MSE = 22.882594819488503\n",
      "sigma = 2896.309375740099 , gamma = 1.862645149230957e-09 , MSE = 24.920223208721424\n",
      "sigma = 2896.309375740099 , gamma = 3.725290298461914e-09 , MSE = 26.677219078558227\n",
      "sigma = 2896.309375740099 , gamma = 7.450580596923828e-09 , MSE = 24.495122594855495\n"
     ]
    },
    {
     "name": "stderr",
     "output_type": "stream",
     "text": [
      "\n",
      " 77%|███████████████████████████████████████████████████████████████                   | 10/13 [09:25<02:47, 55.93s/it]\u001b[A"
     ]
    },
    {
     "name": "stdout",
     "output_type": "stream",
     "text": [
      "sigma = 2896.309375740099 , gamma = 1.4901161193847656e-08 , MSE = 30.77554163603253\n",
      "sigma = 4096.0 , gamma = 9.094947017729282e-13 , MSE = 34.45854667177379\n",
      "sigma = 4096.0 , gamma = 1.8189894035458565e-12 , MSE = 24.61123792282541\n",
      "sigma = 4096.0 , gamma = 3.637978807091713e-12 , MSE = 16.356126680421255\n",
      "sigma = 4096.0 , gamma = 7.275957614183426e-12 , MSE = 14.6381209513099\n",
      "sigma = 4096.0 , gamma = 1.4551915228366852e-11 , MSE = 18.0174102966204\n",
      "sigma = 4096.0 , gamma = 2.9103830456733704e-11 , MSE = 15.304595078926184\n",
      "sigma = 4096.0 , gamma = 5.820766091346741e-11 , MSE = 23.69755647930148\n",
      "sigma = 4096.0 , gamma = 1.1641532182693481e-10 , MSE = 21.069467075608465\n",
      "sigma = 4096.0 , gamma = 2.3283064365386963e-10 , MSE = 27.25907114895339\n",
      "sigma = 4096.0 , gamma = 4.656612873077393e-10 , MSE = 25.392544133544085\n",
      "sigma = 4096.0 , gamma = 9.313225746154785e-10 , MSE = 26.951193889482795\n",
      "sigma = 4096.0 , gamma = 1.862645149230957e-09 , MSE = 24.11994628418009\n",
      "sigma = 4096.0 , gamma = 3.725290298461914e-09 , MSE = 30.33071931596772\n",
      "sigma = 4096.0 , gamma = 7.450580596923828e-09 , MSE = 27.010647425272857\n"
     ]
    },
    {
     "name": "stderr",
     "output_type": "stream",
     "text": [
      "\n",
      " 85%|█████████████████████████████████████████████████████████████████████▍            | 11/13 [10:22<01:52, 56.18s/it]\u001b[A"
     ]
    },
    {
     "name": "stdout",
     "output_type": "stream",
     "text": [
      "sigma = 4096.0 , gamma = 1.4901161193847656e-08 , MSE = 25.94420545386432\n",
      "sigma = 5792.618751480198 , gamma = 9.094947017729282e-13 , MSE = 16.755205806595935\n",
      "sigma = 5792.618751480198 , gamma = 1.8189894035458565e-12 , MSE = 16.803097011636105\n",
      "sigma = 5792.618751480198 , gamma = 3.637978807091713e-12 , MSE = 20.212013053108745\n",
      "sigma = 5792.618751480198 , gamma = 7.275957614183426e-12 , MSE = 17.403426617526645\n",
      "sigma = 5792.618751480198 , gamma = 1.4551915228366852e-11 , MSE = 23.045124248129593\n",
      "sigma = 5792.618751480198 , gamma = 2.9103830456733704e-11 , MSE = 27.017449949250427\n",
      "sigma = 5792.618751480198 , gamma = 5.820766091346741e-11 , MSE = 24.312355853618747\n",
      "sigma = 5792.618751480198 , gamma = 1.1641532182693481e-10 , MSE = 26.240168915718233\n",
      "sigma = 5792.618751480198 , gamma = 2.3283064365386963e-10 , MSE = 27.238723942688456\n",
      "sigma = 5792.618751480198 , gamma = 4.656612873077393e-10 , MSE = 29.17990532126144\n",
      "sigma = 5792.618751480198 , gamma = 9.313225746154785e-10 , MSE = 28.971879561500735\n",
      "sigma = 5792.618751480198 , gamma = 1.862645149230957e-09 , MSE = 27.211925688586\n",
      "sigma = 5792.618751480198 , gamma = 3.725290298461914e-09 , MSE = 29.158236688387564\n",
      "sigma = 5792.618751480198 , gamma = 7.450580596923828e-09 , MSE = 28.978507357588917\n"
     ]
    },
    {
     "name": "stderr",
     "output_type": "stream",
     "text": [
      "\n",
      " 92%|███████████████████████████████████████████████████████████████████████████▋      | 12/13 [11:18<00:56, 56.12s/it]\u001b[A"
     ]
    },
    {
     "name": "stdout",
     "output_type": "stream",
     "text": [
      "sigma = 5792.618751480198 , gamma = 1.4901161193847656e-08 , MSE = 31.262831699028833\n",
      "sigma = 8192.0 , gamma = 9.094947017729282e-13 , MSE = 19.85675640462929\n",
      "sigma = 8192.0 , gamma = 1.8189894035458565e-12 , MSE = 22.09697520489433\n",
      "sigma = 8192.0 , gamma = 3.637978807091713e-12 , MSE = 21.255771084839232\n",
      "sigma = 8192.0 , gamma = 7.275957614183426e-12 , MSE = 25.93943554789589\n",
      "sigma = 8192.0 , gamma = 1.4551915228366852e-11 , MSE = 23.772159394161996\n",
      "sigma = 8192.0 , gamma = 2.9103830456733704e-11 , MSE = 30.37682032004792\n",
      "sigma = 8192.0 , gamma = 5.820766091346741e-11 , MSE = 29.345798480922117\n",
      "sigma = 8192.0 , gamma = 1.1641532182693481e-10 , MSE = 28.422066852439947\n",
      "sigma = 8192.0 , gamma = 2.3283064365386963e-10 , MSE = 26.529834689575114\n",
      "sigma = 8192.0 , gamma = 4.656612873077393e-10 , MSE = 24.94826292639737\n",
      "sigma = 8192.0 , gamma = 9.313225746154785e-10 , MSE = 31.110331688668225\n",
      "sigma = 8192.0 , gamma = 1.862645149230957e-09 , MSE = 32.47635165194235\n",
      "sigma = 8192.0 , gamma = 3.725290298461914e-09 , MSE = 27.63154611159075\n",
      "sigma = 8192.0 , gamma = 7.450580596923828e-09 , MSE = 27.241370620388714\n"
     ]
    },
    {
     "name": "stderr",
     "output_type": "stream",
     "text": [
      "\n",
      "100%|██████████████████████████████████████████████████████████████████████████████████| 13/13 [12:12<00:00, 56.36s/it]\u001b[A"
     ]
    },
    {
     "name": "stdout",
     "output_type": "stream",
     "text": [
      "sigma = 8192.0 , gamma = 1.4901161193847656e-08 , MSE = 30.18457410065907\n"
     ]
    },
    {
     "name": "stderr",
     "output_type": "stream",
     "text": [
      "\n",
      " 55%|██████████████████████████████████████████▎                                  | 11/20 [2:24:39<1:54:36, 764.05s/it]\n",
      "  0%|                                                                                           | 0/13 [00:00<?, ?it/s]\u001b[A"
     ]
    },
    {
     "name": "stdout",
     "output_type": "stream",
     "text": [
      "[10.080538594636815, 10.994669228422293]\n",
      "sigma = 128.0 , gamma = 9.094947017729282e-13 , MSE = 906.0573573329837\n",
      "sigma = 128.0 , gamma = 1.8189894035458565e-12 , MSE = 5438.823195822386\n",
      "sigma = 128.0 , gamma = 3.637978807091713e-12 , MSE = 1754.4675396475104\n",
      "sigma = 128.0 , gamma = 7.275957614183426e-12 , MSE = 469.41941347868396\n",
      "sigma = 128.0 , gamma = 1.4551915228366852e-11 , MSE = 2160.3573624413684\n",
      "sigma = 128.0 , gamma = 2.9103830456733704e-11 , MSE = 1100.2710928756003\n",
      "sigma = 128.0 , gamma = 5.820766091346741e-11 , MSE = 191.26421028325066\n",
      "sigma = 128.0 , gamma = 1.1641532182693481e-10 , MSE = 168.63349122465624\n",
      "sigma = 128.0 , gamma = 2.3283064365386963e-10 , MSE = 549.8040728554604\n",
      "sigma = 128.0 , gamma = 4.656612873077393e-10 , MSE = 175.33641023453532\n",
      "sigma = 128.0 , gamma = 9.313225746154785e-10 , MSE = 120.55892381659976\n",
      "sigma = 128.0 , gamma = 1.862645149230957e-09 , MSE = 75.14994797667393\n",
      "sigma = 128.0 , gamma = 3.725290298461914e-09 , MSE = 20.737108483593477\n",
      "sigma = 128.0 , gamma = 7.450580596923828e-09 , MSE = 36.405177498035584\n"
     ]
    },
    {
     "name": "stderr",
     "output_type": "stream",
     "text": [
      "\n",
      "  8%|██████▍                                                                            | 1/13 [00:58<11:46, 58.84s/it]\u001b[A"
     ]
    },
    {
     "name": "stdout",
     "output_type": "stream",
     "text": [
      "sigma = 128.0 , gamma = 1.4901161193847656e-08 , MSE = 24.37011601552932\n",
      "sigma = 181.01933598375618 , gamma = 9.094947017729282e-13 , MSE = 710.2905168906206\n",
      "sigma = 181.01933598375618 , gamma = 1.8189894035458565e-12 , MSE = 1467.5881940089564\n",
      "sigma = 181.01933598375618 , gamma = 3.637978807091713e-12 , MSE = 673.0586359302989\n",
      "sigma = 181.01933598375618 , gamma = 7.275957614183426e-12 , MSE = 534.1360770125611\n",
      "sigma = 181.01933598375618 , gamma = 1.4551915228366852e-11 , MSE = 159.303584446564\n",
      "sigma = 181.01933598375618 , gamma = 2.9103830456733704e-11 , MSE = 159.78863526493498\n",
      "sigma = 181.01933598375618 , gamma = 5.820766091346741e-11 , MSE = 61.32555338459533\n",
      "sigma = 181.01933598375618 , gamma = 1.1641532182693481e-10 , MSE = 56.934179962161046\n",
      "sigma = 181.01933598375618 , gamma = 2.3283064365386963e-10 , MSE = 56.1702858736996\n",
      "sigma = 181.01933598375618 , gamma = 4.656612873077393e-10 , MSE = 34.29746920541867\n",
      "sigma = 181.01933598375618 , gamma = 9.313225746154785e-10 , MSE = 22.759183299768246\n",
      "sigma = 181.01933598375618 , gamma = 1.862645149230957e-09 , MSE = 22.454624262191764\n",
      "sigma = 181.01933598375618 , gamma = 3.725290298461914e-09 , MSE = 26.850218747900136\n",
      "sigma = 181.01933598375618 , gamma = 7.450580596923828e-09 , MSE = 16.978562670980555\n"
     ]
    },
    {
     "name": "stderr",
     "output_type": "stream",
     "text": [
      "\n",
      " 15%|████████████▊                                                                      | 2/13 [01:57<10:49, 59.01s/it]\u001b[A"
     ]
    },
    {
     "name": "stdout",
     "output_type": "stream",
     "text": [
      "sigma = 181.01933598375618 , gamma = 1.4901161193847656e-08 , MSE = 19.131378225751305\n",
      "sigma = 256.0 , gamma = 9.094947017729282e-13 , MSE = 221.74644614471026\n",
      "sigma = 256.0 , gamma = 1.8189894035458565e-12 , MSE = 134.30117062102596\n",
      "sigma = 256.0 , gamma = 3.637978807091713e-12 , MSE = 119.71474264095306\n",
      "sigma = 256.0 , gamma = 7.275957614183426e-12 , MSE = 44.563209122897284\n",
      "sigma = 256.0 , gamma = 1.4551915228366852e-11 , MSE = 49.26633529527757\n",
      "sigma = 256.0 , gamma = 2.9103830456733704e-11 , MSE = 38.99105709305774\n",
      "sigma = 256.0 , gamma = 5.820766091346741e-11 , MSE = 26.077701067503142\n",
      "sigma = 256.0 , gamma = 1.1641532182693481e-10 , MSE = 27.903716430294434\n",
      "sigma = 256.0 , gamma = 2.3283064365386963e-10 , MSE = 22.07425403053983\n",
      "sigma = 256.0 , gamma = 4.656612873077393e-10 , MSE = 17.16919160894247\n",
      "sigma = 256.0 , gamma = 9.313225746154785e-10 , MSE = 15.693464251920028\n",
      "sigma = 256.0 , gamma = 1.862645149230957e-09 , MSE = 13.701061690746934\n",
      "sigma = 256.0 , gamma = 3.725290298461914e-09 , MSE = 14.348674200645153\n",
      "sigma = 256.0 , gamma = 7.450580596923828e-09 , MSE = 14.565445628683998\n"
     ]
    },
    {
     "name": "stderr",
     "output_type": "stream",
     "text": [
      "\n",
      " 23%|███████████████████▏                                                               | 3/13 [02:59<10:00, 60.02s/it]\u001b[A"
     ]
    },
    {
     "name": "stdout",
     "output_type": "stream",
     "text": [
      "sigma = 256.0 , gamma = 1.4901161193847656e-08 , MSE = 14.004508819297351\n",
      "sigma = 362.03867196751236 , gamma = 9.094947017729282e-13 , MSE = 90.56113470403446\n",
      "sigma = 362.03867196751236 , gamma = 1.8189894035458565e-12 , MSE = 30.212157831894793\n",
      "sigma = 362.03867196751236 , gamma = 3.637978807091713e-12 , MSE = 30.470411161557813\n",
      "sigma = 362.03867196751236 , gamma = 7.275957614183426e-12 , MSE = 41.37669120851891\n",
      "sigma = 362.03867196751236 , gamma = 1.4551915228366852e-11 , MSE = 18.84550005986363\n",
      "sigma = 362.03867196751236 , gamma = 2.9103830456733704e-11 , MSE = 22.03072580741744\n",
      "sigma = 362.03867196751236 , gamma = 5.820766091346741e-11 , MSE = 22.928225564616298\n",
      "sigma = 362.03867196751236 , gamma = 1.1641532182693481e-10 , MSE = 15.18228496546537\n",
      "sigma = 362.03867196751236 , gamma = 2.3283064365386963e-10 , MSE = 21.085363562947315\n",
      "sigma = 362.03867196751236 , gamma = 4.656612873077393e-10 , MSE = 26.69926518569697\n",
      "sigma = 362.03867196751236 , gamma = 9.313225746154785e-10 , MSE = 23.78660997258634\n",
      "sigma = 362.03867196751236 , gamma = 1.862645149230957e-09 , MSE = 15.435639868202475\n",
      "sigma = 362.03867196751236 , gamma = 3.725290298461914e-09 , MSE = 16.025365428060486\n",
      "sigma = 362.03867196751236 , gamma = 7.450580596923828e-09 , MSE = 13.573893267395096\n"
     ]
    },
    {
     "name": "stderr",
     "output_type": "stream",
     "text": [
      "\n",
      " 31%|█████████████████████████▌                                                         | 4/13 [04:12<09:45, 65.11s/it]\u001b[A"
     ]
    },
    {
     "name": "stdout",
     "output_type": "stream",
     "text": [
      "sigma = 362.03867196751236 , gamma = 1.4901161193847656e-08 , MSE = 13.121877221932351\n",
      "sigma = 512.0 , gamma = 9.094947017729282e-13 , MSE = 24.67583601335733\n",
      "sigma = 512.0 , gamma = 1.8189894035458565e-12 , MSE = 28.370760927339244\n",
      "sigma = 512.0 , gamma = 3.637978807091713e-12 , MSE = 23.0581751214087\n",
      "sigma = 512.0 , gamma = 7.275957614183426e-12 , MSE = 15.580730339240024\n",
      "sigma = 512.0 , gamma = 1.4551915228366852e-11 , MSE = 17.175018387267947\n",
      "sigma = 512.0 , gamma = 2.9103830456733704e-11 , MSE = 16.140950993338798\n",
      "sigma = 512.0 , gamma = 5.820766091346741e-11 , MSE = 17.196551327628598\n",
      "sigma = 512.0 , gamma = 1.1641532182693481e-10 , MSE = 15.89893294658882\n",
      "sigma = 512.0 , gamma = 2.3283064365386963e-10 , MSE = 17.1174753221114\n",
      "sigma = 512.0 , gamma = 4.656612873077393e-10 , MSE = 17.356009260454577\n",
      "sigma = 512.0 , gamma = 9.313225746154785e-10 , MSE = 14.482978213852476\n",
      "sigma = 512.0 , gamma = 1.862645149230957e-09 , MSE = 13.123234000563496\n",
      "sigma = 512.0 , gamma = 3.725290298461914e-09 , MSE = 12.742587932954104\n",
      "sigma = 512.0 , gamma = 7.450580596923828e-09 , MSE = 14.489000151716485\n"
     ]
    },
    {
     "name": "stderr",
     "output_type": "stream",
     "text": [
      "\n",
      " 38%|███████████████████████████████▉                                                   | 5/13 [05:20<08:50, 66.36s/it]\u001b[A"
     ]
    },
    {
     "name": "stdout",
     "output_type": "stream",
     "text": [
      "sigma = 512.0 , gamma = 1.4901161193847656e-08 , MSE = 15.084656530935296\n",
      "sigma = 724.0773439350247 , gamma = 9.094947017729282e-13 , MSE = 13.957841561974629\n",
      "sigma = 724.0773439350247 , gamma = 1.8189894035458565e-12 , MSE = 29.552058432638272\n",
      "sigma = 724.0773439350247 , gamma = 3.637978807091713e-12 , MSE = 21.69880190472545\n",
      "sigma = 724.0773439350247 , gamma = 7.275957614183426e-12 , MSE = 12.40913396388982\n",
      "sigma = 724.0773439350247 , gamma = 1.4551915228366852e-11 , MSE = 15.55777901054156\n",
      "sigma = 724.0773439350247 , gamma = 2.9103830456733704e-11 , MSE = 18.0892547449618\n",
      "sigma = 724.0773439350247 , gamma = 5.820766091346741e-11 , MSE = 14.343930374849624\n",
      "sigma = 724.0773439350247 , gamma = 1.1641532182693481e-10 , MSE = 16.19471352456312\n",
      "sigma = 724.0773439350247 , gamma = 2.3283064365386963e-10 , MSE = 11.76524684238327\n",
      "sigma = 724.0773439350247 , gamma = 4.656612873077393e-10 , MSE = 13.292394663273106\n",
      "sigma = 724.0773439350247 , gamma = 9.313225746154785e-10 , MSE = 13.068896458330434\n",
      "sigma = 724.0773439350247 , gamma = 1.862645149230957e-09 , MSE = 14.328977976186172\n",
      "sigma = 724.0773439350247 , gamma = 3.725290298461914e-09 , MSE = 13.161828044304883\n",
      "sigma = 724.0773439350247 , gamma = 7.450580596923828e-09 , MSE = 14.916176569965074\n"
     ]
    },
    {
     "name": "stderr",
     "output_type": "stream",
     "text": [
      "\n",
      " 46%|██████████████████████████████████████▎                                            | 6/13 [06:27<07:45, 66.49s/it]\u001b[A"
     ]
    },
    {
     "name": "stdout",
     "output_type": "stream",
     "text": [
      "sigma = 724.0773439350247 , gamma = 1.4901161193847656e-08 , MSE = 15.963004181370286\n",
      "sigma = 1024.0 , gamma = 9.094947017729282e-13 , MSE = 23.21592401660796\n",
      "sigma = 1024.0 , gamma = 1.8189894035458565e-12 , MSE = 15.648994960710763\n",
      "sigma = 1024.0 , gamma = 3.637978807091713e-12 , MSE = 16.56264222650279\n",
      "sigma = 1024.0 , gamma = 7.275957614183426e-12 , MSE = 22.79977285987548\n",
      "sigma = 1024.0 , gamma = 1.4551915228366852e-11 , MSE = 15.492881064052074\n",
      "sigma = 1024.0 , gamma = 2.9103830456733704e-11 , MSE = 14.451107451360778\n",
      "sigma = 1024.0 , gamma = 5.820766091346741e-11 , MSE = 12.82186619734864\n",
      "sigma = 1024.0 , gamma = 1.1641532182693481e-10 , MSE = 11.77810313812655\n",
      "sigma = 1024.0 , gamma = 2.3283064365386963e-10 , MSE = 11.92693592931898\n",
      "sigma = 1024.0 , gamma = 4.656612873077393e-10 , MSE = 12.513885568588929\n",
      "sigma = 1024.0 , gamma = 9.313225746154785e-10 , MSE = 12.661210534032467\n",
      "sigma = 1024.0 , gamma = 1.862645149230957e-09 , MSE = 18.40116803930298\n",
      "sigma = 1024.0 , gamma = 3.725290298461914e-09 , MSE = 18.566975985498786\n",
      "sigma = 1024.0 , gamma = 7.450580596923828e-09 , MSE = 29.509744123210776\n"
     ]
    },
    {
     "name": "stderr",
     "output_type": "stream",
     "text": [
      "\n",
      " 54%|████████████████████████████████████████████▋                                      | 7/13 [07:38<06:48, 68.15s/it]\u001b[A"
     ]
    },
    {
     "name": "stdout",
     "output_type": "stream",
     "text": [
      "sigma = 1024.0 , gamma = 1.4901161193847656e-08 , MSE = 22.45570651400651\n",
      "sigma = 1448.1546878700494 , gamma = 9.094947017729282e-13 , MSE = 16.223783200231416\n",
      "sigma = 1448.1546878700494 , gamma = 1.8189894035458565e-12 , MSE = 16.429577494936545\n",
      "sigma = 1448.1546878700494 , gamma = 3.637978807091713e-12 , MSE = 12.049826354285548\n",
      "sigma = 1448.1546878700494 , gamma = 7.275957614183426e-12 , MSE = 11.755878278504932\n",
      "sigma = 1448.1546878700494 , gamma = 1.4551915228366852e-11 , MSE = 15.42153259628331\n",
      "sigma = 1448.1546878700494 , gamma = 2.9103830456733704e-11 , MSE = 13.554734722528957\n",
      "sigma = 1448.1546878700494 , gamma = 5.820766091346741e-11 , MSE = 13.639048323528238\n",
      "sigma = 1448.1546878700494 , gamma = 1.1641532182693481e-10 , MSE = 12.958188506729579\n",
      "sigma = 1448.1546878700494 , gamma = 2.3283064365386963e-10 , MSE = 12.881045426166006\n",
      "sigma = 1448.1546878700494 , gamma = 4.656612873077393e-10 , MSE = 14.691253212234225\n",
      "sigma = 1448.1546878700494 , gamma = 9.313225746154785e-10 , MSE = 17.455752563102\n",
      "sigma = 1448.1546878700494 , gamma = 1.862645149230957e-09 , MSE = 14.680149149624924\n",
      "sigma = 1448.1546878700494 , gamma = 3.725290298461914e-09 , MSE = 20.087502789696554\n",
      "sigma = 1448.1546878700494 , gamma = 7.450580596923828e-09 , MSE = 19.73969979679938\n"
     ]
    },
    {
     "name": "stderr",
     "output_type": "stream",
     "text": [
      "\n",
      " 62%|███████████████████████████████████████████████████                                | 8/13 [08:44<05:36, 67.23s/it]\u001b[A"
     ]
    },
    {
     "name": "stdout",
     "output_type": "stream",
     "text": [
      "sigma = 1448.1546878700494 , gamma = 1.4901161193847656e-08 , MSE = 25.23886522327573\n",
      "sigma = 2048.0 , gamma = 9.094947017729282e-13 , MSE = 21.83888589528617\n",
      "sigma = 2048.0 , gamma = 1.8189894035458565e-12 , MSE = 12.502505733669182\n",
      "sigma = 2048.0 , gamma = 3.637978807091713e-12 , MSE = 12.700856555136223\n",
      "sigma = 2048.0 , gamma = 7.275957614183426e-12 , MSE = 12.370157791205902\n",
      "sigma = 2048.0 , gamma = 1.4551915228366852e-11 , MSE = 14.16932603388911\n",
      "sigma = 2048.0 , gamma = 2.9103830456733704e-11 , MSE = 14.264854720924566\n",
      "sigma = 2048.0 , gamma = 5.820766091346741e-11 , MSE = 14.050712884673668\n",
      "sigma = 2048.0 , gamma = 1.1641532182693481e-10 , MSE = 12.524008127158575\n",
      "sigma = 2048.0 , gamma = 2.3283064365386963e-10 , MSE = 12.321178307423082\n",
      "sigma = 2048.0 , gamma = 4.656612873077393e-10 , MSE = 19.960088806479497\n",
      "sigma = 2048.0 , gamma = 9.313225746154785e-10 , MSE = 19.03653028733325\n",
      "sigma = 2048.0 , gamma = 1.862645149230957e-09 , MSE = 23.462236284110823\n",
      "sigma = 2048.0 , gamma = 3.725290298461914e-09 , MSE = 25.71165184973615\n",
      "sigma = 2048.0 , gamma = 7.450580596923828e-09 , MSE = 29.901392044441103\n"
     ]
    },
    {
     "name": "stderr",
     "output_type": "stream",
     "text": [
      "\n",
      " 69%|█████████████████████████████████████████████████████████▍                         | 9/13 [09:39<04:14, 63.59s/it]\u001b[A"
     ]
    },
    {
     "name": "stdout",
     "output_type": "stream",
     "text": [
      "sigma = 2048.0 , gamma = 1.4901161193847656e-08 , MSE = 31.33159127114277\n",
      "sigma = 2896.309375740099 , gamma = 9.094947017729282e-13 , MSE = 12.630936775084916\n",
      "sigma = 2896.309375740099 , gamma = 1.8189894035458565e-12 , MSE = 15.821639497789127\n",
      "sigma = 2896.309375740099 , gamma = 3.637978807091713e-12 , MSE = 18.84654810334925\n",
      "sigma = 2896.309375740099 , gamma = 7.275957614183426e-12 , MSE = 14.42801194501194\n",
      "sigma = 2896.309375740099 , gamma = 1.4551915228366852e-11 , MSE = 20.473850185581835\n",
      "sigma = 2896.309375740099 , gamma = 2.9103830456733704e-11 , MSE = 17.431603994062993\n",
      "sigma = 2896.309375740099 , gamma = 5.820766091346741e-11 , MSE = 17.094715453791416\n",
      "sigma = 2896.309375740099 , gamma = 1.1641532182693481e-10 , MSE = 19.14158964305166\n",
      "sigma = 2896.309375740099 , gamma = 2.3283064365386963e-10 , MSE = 19.0914437964912\n",
      "sigma = 2896.309375740099 , gamma = 4.656612873077393e-10 , MSE = 24.001230056554316\n",
      "sigma = 2896.309375740099 , gamma = 9.313225746154785e-10 , MSE = 26.385442471492826\n",
      "sigma = 2896.309375740099 , gamma = 1.862645149230957e-09 , MSE = 29.019563894942742\n",
      "sigma = 2896.309375740099 , gamma = 3.725290298461914e-09 , MSE = 32.2284507394215\n",
      "sigma = 2896.309375740099 , gamma = 7.450580596923828e-09 , MSE = 32.66482021092283\n"
     ]
    },
    {
     "name": "stderr",
     "output_type": "stream",
     "text": [
      "\n",
      " 77%|███████████████████████████████████████████████████████████████                   | 10/13 [10:36<03:03, 61.31s/it]\u001b[A"
     ]
    },
    {
     "name": "stdout",
     "output_type": "stream",
     "text": [
      "sigma = 2896.309375740099 , gamma = 1.4901161193847656e-08 , MSE = 27.106938889686994\n",
      "sigma = 4096.0 , gamma = 9.094947017729282e-13 , MSE = 12.787428979427524\n",
      "sigma = 4096.0 , gamma = 1.8189894035458565e-12 , MSE = 12.431661247977045\n",
      "sigma = 4096.0 , gamma = 3.637978807091713e-12 , MSE = 18.061324469409758\n",
      "sigma = 4096.0 , gamma = 7.275957614183426e-12 , MSE = 12.748247229053788\n",
      "sigma = 4096.0 , gamma = 1.4551915228366852e-11 , MSE = 14.82473651887751\n",
      "sigma = 4096.0 , gamma = 2.9103830456733704e-11 , MSE = 20.579594623711124\n",
      "sigma = 4096.0 , gamma = 5.820766091346741e-11 , MSE = 22.71299766144483\n",
      "sigma = 4096.0 , gamma = 1.1641532182693481e-10 , MSE = 21.866803845756312\n",
      "sigma = 4096.0 , gamma = 2.3283064365386963e-10 , MSE = 27.397660701754546\n",
      "sigma = 4096.0 , gamma = 4.656612873077393e-10 , MSE = 25.116779934270003\n",
      "sigma = 4096.0 , gamma = 9.313225746154785e-10 , MSE = 28.549710852894528\n",
      "sigma = 4096.0 , gamma = 1.862645149230957e-09 , MSE = 25.09574095047678\n",
      "sigma = 4096.0 , gamma = 3.725290298461914e-09 , MSE = 24.331133022618097\n",
      "sigma = 4096.0 , gamma = 7.450580596923828e-09 , MSE = 33.21457195758703\n"
     ]
    },
    {
     "name": "stderr",
     "output_type": "stream",
     "text": [
      "\n",
      " 85%|█████████████████████████████████████████████████████████████████████▍            | 11/13 [11:32<01:59, 59.68s/it]\u001b[A"
     ]
    },
    {
     "name": "stdout",
     "output_type": "stream",
     "text": [
      "sigma = 4096.0 , gamma = 1.4901161193847656e-08 , MSE = 33.548702703218424\n",
      "sigma = 5792.618751480198 , gamma = 9.094947017729282e-13 , MSE = 15.165149655912277\n",
      "sigma = 5792.618751480198 , gamma = 1.8189894035458565e-12 , MSE = 12.789780294341051\n",
      "sigma = 5792.618751480198 , gamma = 3.637978807091713e-12 , MSE = 18.301540928208805\n",
      "sigma = 5792.618751480198 , gamma = 7.275957614183426e-12 , MSE = 19.801877102142377\n",
      "sigma = 5792.618751480198 , gamma = 1.4551915228366852e-11 , MSE = 22.18731281212748\n",
      "sigma = 5792.618751480198 , gamma = 2.9103830456733704e-11 , MSE = 22.49572994841656\n",
      "sigma = 5792.618751480198 , gamma = 5.820766091346741e-11 , MSE = 24.52589182413495\n",
      "sigma = 5792.618751480198 , gamma = 1.1641532182693481e-10 , MSE = 21.13867982027017\n",
      "sigma = 5792.618751480198 , gamma = 2.3283064365386963e-10 , MSE = 34.01361401756522\n",
      "sigma = 5792.618751480198 , gamma = 4.656612873077393e-10 , MSE = 27.875983982684044\n",
      "sigma = 5792.618751480198 , gamma = 9.313225746154785e-10 , MSE = 31.06819606333185\n",
      "sigma = 5792.618751480198 , gamma = 1.862645149230957e-09 , MSE = 34.172679456643074\n",
      "sigma = 5792.618751480198 , gamma = 3.725290298461914e-09 , MSE = 28.210132701693063\n",
      "sigma = 5792.618751480198 , gamma = 7.450580596923828e-09 , MSE = 34.384596088705486\n"
     ]
    },
    {
     "name": "stderr",
     "output_type": "stream",
     "text": [
      "\n",
      " 92%|███████████████████████████████████████████████████████████████████████████▋      | 12/13 [12:28<00:58, 58.79s/it]\u001b[A"
     ]
    },
    {
     "name": "stdout",
     "output_type": "stream",
     "text": [
      "sigma = 5792.618751480198 , gamma = 1.4901161193847656e-08 , MSE = 30.430557886108563\n",
      "sigma = 8192.0 , gamma = 9.094947017729282e-13 , MSE = 15.304492552045513\n",
      "sigma = 8192.0 , gamma = 1.8189894035458565e-12 , MSE = 19.328211727147046\n",
      "sigma = 8192.0 , gamma = 3.637978807091713e-12 , MSE = 22.13705159985161\n",
      "sigma = 8192.0 , gamma = 7.275957614183426e-12 , MSE = 25.434984228736983\n",
      "sigma = 8192.0 , gamma = 1.4551915228366852e-11 , MSE = 25.862608178105422\n",
      "sigma = 8192.0 , gamma = 2.9103830456733704e-11 , MSE = 26.439774226211608\n",
      "sigma = 8192.0 , gamma = 5.820766091346741e-11 , MSE = 27.82869520333543\n",
      "sigma = 8192.0 , gamma = 1.1641532182693481e-10 , MSE = 26.815715621203008\n",
      "sigma = 8192.0 , gamma = 2.3283064365386963e-10 , MSE = 28.416756567790333\n",
      "sigma = 8192.0 , gamma = 4.656612873077393e-10 , MSE = 33.85233370557429\n",
      "sigma = 8192.0 , gamma = 9.313225746154785e-10 , MSE = 31.19776939846754\n",
      "sigma = 8192.0 , gamma = 1.862645149230957e-09 , MSE = 30.020920059141684\n",
      "sigma = 8192.0 , gamma = 3.725290298461914e-09 , MSE = 26.83431497865548\n",
      "sigma = 8192.0 , gamma = 7.450580596923828e-09 , MSE = 27.320606077359265\n"
     ]
    },
    {
     "name": "stderr",
     "output_type": "stream",
     "text": [
      "\n",
      "100%|██████████████████████████████████████████████████████████████████████████████████| 13/13 [13:27<00:00, 62.12s/it]\u001b[A"
     ]
    },
    {
     "name": "stdout",
     "output_type": "stream",
     "text": [
      "sigma = 8192.0 , gamma = 1.4901161193847656e-08 , MSE = 29.38292524994251\n"
     ]
    },
    {
     "name": "stderr",
     "output_type": "stream",
     "text": [
      "\n",
      " 60%|██████████████████████████████████████████████▏                              | 12/20 [2:38:11<1:43:47, 778.48s/it]\n",
      "  0%|                                                                                           | 0/13 [00:00<?, ?it/s]\u001b[A"
     ]
    },
    {
     "name": "stdout",
     "output_type": "stream",
     "text": [
      "[7.3976092121647605, 13.811526080588349]\n",
      "sigma = 128.0 , gamma = 9.094947017729282e-13 , MSE = 662.4822820090724\n",
      "sigma = 128.0 , gamma = 1.8189894035458565e-12 , MSE = 2599.0829540711848\n",
      "sigma = 128.0 , gamma = 3.637978807091713e-12 , MSE = 7776.582575995078\n",
      "sigma = 128.0 , gamma = 7.275957614183426e-12 , MSE = 774.5576248047294\n",
      "sigma = 128.0 , gamma = 1.4551915228366852e-11 , MSE = 4527.410744714141\n",
      "sigma = 128.0 , gamma = 2.9103830456733704e-11 , MSE = 2839.860652147416\n",
      "sigma = 128.0 , gamma = 5.820766091346741e-11 , MSE = 7705.882452251424\n",
      "sigma = 128.0 , gamma = 1.1641532182693481e-10 , MSE = 269.66358027493885\n",
      "sigma = 128.0 , gamma = 2.3283064365386963e-10 , MSE = 535.7209001923569\n",
      "sigma = 128.0 , gamma = 4.656612873077393e-10 , MSE = 176.1315470244186\n",
      "sigma = 128.0 , gamma = 9.313225746154785e-10 , MSE = 52.30922402958341\n",
      "sigma = 128.0 , gamma = 1.862645149230957e-09 , MSE = 144.99423600615648\n",
      "sigma = 128.0 , gamma = 3.725290298461914e-09 , MSE = 70.24103840461154\n",
      "sigma = 128.0 , gamma = 7.450580596923828e-09 , MSE = 47.04950958280942\n"
     ]
    },
    {
     "name": "stderr",
     "output_type": "stream",
     "text": [
      "\n",
      "  8%|██████▍                                                                            | 1/13 [00:56<11:12, 56.05s/it]\u001b[A"
     ]
    },
    {
     "name": "stdout",
     "output_type": "stream",
     "text": [
      "sigma = 128.0 , gamma = 1.4901161193847656e-08 , MSE = 30.418817691777626\n",
      "sigma = 181.01933598375618 , gamma = 9.094947017729282e-13 , MSE = 992.8553083927103\n",
      "sigma = 181.01933598375618 , gamma = 1.8189894035458565e-12 , MSE = 4767.93131656675\n",
      "sigma = 181.01933598375618 , gamma = 3.637978807091713e-12 , MSE = 760.6705803240812\n",
      "sigma = 181.01933598375618 , gamma = 7.275957614183426e-12 , MSE = 408.6732675261588\n",
      "sigma = 181.01933598375618 , gamma = 1.4551915228366852e-11 , MSE = 290.06471028713315\n",
      "sigma = 181.01933598375618 , gamma = 2.9103830456733704e-11 , MSE = 368.05529809556225\n",
      "sigma = 181.01933598375618 , gamma = 5.820766091346741e-11 , MSE = 156.6092395844757\n",
      "sigma = 181.01933598375618 , gamma = 1.1641532182693481e-10 , MSE = 114.7144289625209\n",
      "sigma = 181.01933598375618 , gamma = 2.3283064365386963e-10 , MSE = 112.54569148323858\n",
      "sigma = 181.01933598375618 , gamma = 4.656612873077393e-10 , MSE = 45.83573604896825\n",
      "sigma = 181.01933598375618 , gamma = 9.313225746154785e-10 , MSE = 51.5225337059392\n",
      "sigma = 181.01933598375618 , gamma = 1.862645149230957e-09 , MSE = 51.19692180009625\n",
      "sigma = 181.01933598375618 , gamma = 3.725290298461914e-09 , MSE = 51.99760352137457\n",
      "sigma = 181.01933598375618 , gamma = 7.450580596923828e-09 , MSE = 29.576918626041568\n"
     ]
    },
    {
     "name": "stderr",
     "output_type": "stream",
     "text": [
      "\n",
      " 15%|████████████▊                                                                      | 2/13 [01:53<10:25, 56.87s/it]\u001b[A"
     ]
    },
    {
     "name": "stdout",
     "output_type": "stream",
     "text": [
      "sigma = 181.01933598375618 , gamma = 1.4901161193847656e-08 , MSE = 19.49786397676134\n",
      "sigma = 256.0 , gamma = 9.094947017729282e-13 , MSE = 563.0521573186152\n",
      "sigma = 256.0 , gamma = 1.8189894035458565e-12 , MSE = 345.2269756951895\n",
      "sigma = 256.0 , gamma = 3.637978807091713e-12 , MSE = 231.2975485779964\n",
      "sigma = 256.0 , gamma = 7.275957614183426e-12 , MSE = 158.49523044661973\n",
      "sigma = 256.0 , gamma = 1.4551915228366852e-11 , MSE = 165.6894081898695\n",
      "sigma = 256.0 , gamma = 2.9103830456733704e-11 , MSE = 2734.907066848532\n",
      "sigma = 256.0 , gamma = 5.820766091346741e-11 , MSE = 58.822058736620264\n",
      "sigma = 256.0 , gamma = 1.1641532182693481e-10 , MSE = 39.186887464576365\n",
      "sigma = 256.0 , gamma = 2.3283064365386963e-10 , MSE = 36.34264270798461\n",
      "sigma = 256.0 , gamma = 4.656612873077393e-10 , MSE = 29.373741598234155\n",
      "sigma = 256.0 , gamma = 9.313225746154785e-10 , MSE = 27.244414984150637\n",
      "sigma = 256.0 , gamma = 1.862645149230957e-09 , MSE = 18.246588212142484\n",
      "sigma = 256.0 , gamma = 3.725290298461914e-09 , MSE = 29.831578200496956\n",
      "sigma = 256.0 , gamma = 7.450580596923828e-09 , MSE = 20.626052980628778\n"
     ]
    },
    {
     "name": "stderr",
     "output_type": "stream",
     "text": [
      "\n",
      " 23%|███████████████████▏                                                               | 3/13 [02:51<09:35, 57.51s/it]\u001b[A"
     ]
    },
    {
     "name": "stdout",
     "output_type": "stream",
     "text": [
      "sigma = 256.0 , gamma = 1.4901161193847656e-08 , MSE = 18.67197871723136\n",
      "sigma = 362.03867196751236 , gamma = 9.094947017729282e-13 , MSE = 177.23794152345462\n",
      "sigma = 362.03867196751236 , gamma = 1.8189894035458565e-12 , MSE = 95.13598694384066\n",
      "sigma = 362.03867196751236 , gamma = 3.637978807091713e-12 , MSE = 941.2602058848834\n",
      "sigma = 362.03867196751236 , gamma = 7.275957614183426e-12 , MSE = 59.304226036517306\n",
      "sigma = 362.03867196751236 , gamma = 1.4551915228366852e-11 , MSE = 46.20583976091754\n",
      "sigma = 362.03867196751236 , gamma = 2.9103830456733704e-11 , MSE = 31.10312130635817\n",
      "sigma = 362.03867196751236 , gamma = 5.820766091346741e-11 , MSE = 30.074583074749295\n",
      "sigma = 362.03867196751236 , gamma = 1.1641532182693481e-10 , MSE = 17.98460541229056\n",
      "sigma = 362.03867196751236 , gamma = 2.3283064365386963e-10 , MSE = 160.9623275062611\n",
      "sigma = 362.03867196751236 , gamma = 4.656612873077393e-10 , MSE = 18.150248657691662\n",
      "sigma = 362.03867196751236 , gamma = 9.313225746154785e-10 , MSE = 68.51648404623238\n",
      "sigma = 362.03867196751236 , gamma = 1.862645149230957e-09 , MSE = 40.35290469673987\n",
      "sigma = 362.03867196751236 , gamma = 3.725290298461914e-09 , MSE = 14.546843560336722\n",
      "sigma = 362.03867196751236 , gamma = 7.450580596923828e-09 , MSE = 14.722270930093993\n"
     ]
    },
    {
     "name": "stderr",
     "output_type": "stream",
     "text": [
      "\n",
      " 31%|█████████████████████████▌                                                         | 4/13 [03:50<08:42, 58.11s/it]\u001b[A"
     ]
    },
    {
     "name": "stdout",
     "output_type": "stream",
     "text": [
      "sigma = 362.03867196751236 , gamma = 1.4901161193847656e-08 , MSE = 19.051059384730436\n",
      "sigma = 512.0 , gamma = 9.094947017729282e-13 , MSE = 81.16861509876253\n",
      "sigma = 512.0 , gamma = 1.8189894035458565e-12 , MSE = 41.43419477404934\n",
      "sigma = 512.0 , gamma = 3.637978807091713e-12 , MSE = 1194.8115527138157\n",
      "sigma = 512.0 , gamma = 7.275957614183426e-12 , MSE = 24.60217502504626\n",
      "sigma = 512.0 , gamma = 1.4551915228366852e-11 , MSE = 148.23650647565998\n",
      "sigma = 512.0 , gamma = 2.9103830456733704e-11 , MSE = 14.353658144236885\n",
      "sigma = 512.0 , gamma = 5.820766091346741e-11 , MSE = 17.668829556803395\n",
      "sigma = 512.0 , gamma = 1.1641532182693481e-10 , MSE = 15.6643202036671\n",
      "sigma = 512.0 , gamma = 2.3283064365386963e-10 , MSE = 15.240838630511671\n",
      "sigma = 512.0 , gamma = 4.656612873077393e-10 , MSE = 15.76654497473938\n",
      "sigma = 512.0 , gamma = 9.313225746154785e-10 , MSE = 18.622055904578083\n",
      "sigma = 512.0 , gamma = 1.862645149230957e-09 , MSE = 17.23714659726799\n",
      "sigma = 512.0 , gamma = 3.725290298461914e-09 , MSE = 16.938447131629793\n",
      "sigma = 512.0 , gamma = 7.450580596923828e-09 , MSE = 14.527865368000548\n"
     ]
    },
    {
     "name": "stderr",
     "output_type": "stream",
     "text": [
      "\n",
      " 38%|███████████████████████████████▉                                                   | 5/13 [04:50<07:50, 58.80s/it]\u001b[A"
     ]
    },
    {
     "name": "stdout",
     "output_type": "stream",
     "text": [
      "sigma = 512.0 , gamma = 1.4901161193847656e-08 , MSE = 19.723729997153445\n",
      "sigma = 724.0773439350247 , gamma = 9.094947017729282e-13 , MSE = 28.71582531748433\n",
      "sigma = 724.0773439350247 , gamma = 1.8189894035458565e-12 , MSE = 19.227605967656796\n",
      "sigma = 724.0773439350247 , gamma = 3.637978807091713e-12 , MSE = 42.41038839347722\n",
      "sigma = 724.0773439350247 , gamma = 7.275957614183426e-12 , MSE = 21.906952962603377\n",
      "sigma = 724.0773439350247 , gamma = 1.4551915228366852e-11 , MSE = 18.349205287635314\n",
      "sigma = 724.0773439350247 , gamma = 2.9103830456733704e-11 , MSE = 28.023330355145937\n",
      "sigma = 724.0773439350247 , gamma = 5.820766091346741e-11 , MSE = 15.788227704929005\n",
      "sigma = 724.0773439350247 , gamma = 1.1641532182693481e-10 , MSE = 15.948829250609455\n",
      "sigma = 724.0773439350247 , gamma = 2.3283064365386963e-10 , MSE = 18.942415839329595\n",
      "sigma = 724.0773439350247 , gamma = 4.656612873077393e-10 , MSE = 13.03821410380598\n",
      "sigma = 724.0773439350247 , gamma = 9.313225746154785e-10 , MSE = 16.317941762818755\n",
      "sigma = 724.0773439350247 , gamma = 1.862645149230957e-09 , MSE = 14.340620480096723\n",
      "sigma = 724.0773439350247 , gamma = 3.725290298461914e-09 , MSE = 16.017552040913884\n",
      "sigma = 724.0773439350247 , gamma = 7.450580596923828e-09 , MSE = 17.361294134808638\n"
     ]
    },
    {
     "name": "stderr",
     "output_type": "stream",
     "text": [
      "\n",
      " 46%|██████████████████████████████████████▎                                            | 6/13 [05:49<06:52, 58.87s/it]\u001b[A"
     ]
    },
    {
     "name": "stdout",
     "output_type": "stream",
     "text": [
      "sigma = 724.0773439350247 , gamma = 1.4901161193847656e-08 , MSE = 15.620247104258988\n",
      "sigma = 1024.0 , gamma = 9.094947017729282e-13 , MSE = 53.40790286253258\n",
      "sigma = 1024.0 , gamma = 1.8189894035458565e-12 , MSE = 15.515573247030309\n",
      "sigma = 1024.0 , gamma = 3.637978807091713e-12 , MSE = 87.43544077901097\n",
      "sigma = 1024.0 , gamma = 7.275957614183426e-12 , MSE = 14.43531027458801\n",
      "sigma = 1024.0 , gamma = 1.4551915228366852e-11 , MSE = 17.655341267992977\n",
      "sigma = 1024.0 , gamma = 2.9103830456733704e-11 , MSE = 18.253494799399846\n",
      "sigma = 1024.0 , gamma = 5.820766091346741e-11 , MSE = 20.485500805128982\n",
      "sigma = 1024.0 , gamma = 1.1641532182693481e-10 , MSE = 32.71558993793441\n",
      "sigma = 1024.0 , gamma = 2.3283064365386963e-10 , MSE = 16.52593759542591\n",
      "sigma = 1024.0 , gamma = 4.656612873077393e-10 , MSE = 15.672388422276388\n",
      "sigma = 1024.0 , gamma = 9.313225746154785e-10 , MSE = 15.604495992822013\n",
      "sigma = 1024.0 , gamma = 1.862645149230957e-09 , MSE = 13.97406921869075\n",
      "sigma = 1024.0 , gamma = 3.725290298461914e-09 , MSE = 14.680296041868024\n",
      "sigma = 1024.0 , gamma = 7.450580596923828e-09 , MSE = 21.1589924020437\n"
     ]
    },
    {
     "name": "stderr",
     "output_type": "stream",
     "text": [
      "\n",
      " 54%|████████████████████████████████████████████▋                                      | 7/13 [06:47<05:51, 58.56s/it]\u001b[A"
     ]
    },
    {
     "name": "stdout",
     "output_type": "stream",
     "text": [
      "sigma = 1024.0 , gamma = 1.4901161193847656e-08 , MSE = 20.70150364571323\n",
      "sigma = 1448.1546878700494 , gamma = 9.094947017729282e-13 , MSE = 18.035866555760755\n",
      "sigma = 1448.1546878700494 , gamma = 1.8189894035458565e-12 , MSE = 79.46822214067122\n",
      "sigma = 1448.1546878700494 , gamma = 3.637978807091713e-12 , MSE = 37.85407961425092\n",
      "sigma = 1448.1546878700494 , gamma = 7.275957614183426e-12 , MSE = 34.08419380950522\n",
      "sigma = 1448.1546878700494 , gamma = 1.4551915228366852e-11 , MSE = 65.7745984981763\n",
      "sigma = 1448.1546878700494 , gamma = 2.9103830456733704e-11 , MSE = 15.611966949067341\n",
      "sigma = 1448.1546878700494 , gamma = 5.820766091346741e-11 , MSE = 18.2622248644525\n",
      "sigma = 1448.1546878700494 , gamma = 1.1641532182693481e-10 , MSE = 31.81384334205374\n",
      "sigma = 1448.1546878700494 , gamma = 2.3283064365386963e-10 , MSE = 13.500859221936912\n",
      "sigma = 1448.1546878700494 , gamma = 4.656612873077393e-10 , MSE = 17.602532598526512\n",
      "sigma = 1448.1546878700494 , gamma = 9.313225746154785e-10 , MSE = 16.170189393554498\n",
      "sigma = 1448.1546878700494 , gamma = 1.862645149230957e-09 , MSE = 23.51713849623921\n",
      "sigma = 1448.1546878700494 , gamma = 3.725290298461914e-09 , MSE = 22.011380880729522\n",
      "sigma = 1448.1546878700494 , gamma = 7.450580596923828e-09 , MSE = 26.710961328003076\n"
     ]
    },
    {
     "name": "stderr",
     "output_type": "stream",
     "text": [
      "\n",
      " 62%|███████████████████████████████████████████████████                                | 8/13 [07:46<04:52, 58.54s/it]\u001b[A"
     ]
    },
    {
     "name": "stdout",
     "output_type": "stream",
     "text": [
      "sigma = 1448.1546878700494 , gamma = 1.4901161193847656e-08 , MSE = 24.34279000720921\n",
      "sigma = 2048.0 , gamma = 9.094947017729282e-13 , MSE = 16.388264868896137\n",
      "sigma = 2048.0 , gamma = 1.8189894035458565e-12 , MSE = 17.80454674820761\n",
      "sigma = 2048.0 , gamma = 3.637978807091713e-12 , MSE = 19.80861224465062\n",
      "sigma = 2048.0 , gamma = 7.275957614183426e-12 , MSE = 18.51682534513167\n",
      "sigma = 2048.0 , gamma = 1.4551915228366852e-11 , MSE = 18.877051628200356\n",
      "sigma = 2048.0 , gamma = 2.9103830456733704e-11 , MSE = 16.04591663654177\n",
      "sigma = 2048.0 , gamma = 5.820766091346741e-11 , MSE = 29.992350995632414\n",
      "sigma = 2048.0 , gamma = 1.1641532182693481e-10 , MSE = 16.178179957659058\n",
      "sigma = 2048.0 , gamma = 2.3283064365386963e-10 , MSE = 17.11001487372804\n",
      "sigma = 2048.0 , gamma = 4.656612873077393e-10 , MSE = 18.738404480213003\n",
      "sigma = 2048.0 , gamma = 9.313225746154785e-10 , MSE = 23.632245937640032\n",
      "sigma = 2048.0 , gamma = 1.862645149230957e-09 , MSE = 26.089811940321358\n",
      "sigma = 2048.0 , gamma = 3.725290298461914e-09 , MSE = 26.506347139580384\n",
      "sigma = 2048.0 , gamma = 7.450580596923828e-09 , MSE = 28.086822393101073\n"
     ]
    },
    {
     "name": "stderr",
     "output_type": "stream",
     "text": [
      "\n",
      " 69%|█████████████████████████████████████████████████████████▍                         | 9/13 [08:43<03:53, 58.29s/it]\u001b[A"
     ]
    },
    {
     "name": "stdout",
     "output_type": "stream",
     "text": [
      "sigma = 2048.0 , gamma = 1.4901161193847656e-08 , MSE = 31.5634272350012\n",
      "sigma = 2896.309375740099 , gamma = 9.094947017729282e-13 , MSE = 14.83482878294762\n",
      "sigma = 2896.309375740099 , gamma = 1.8189894035458565e-12 , MSE = 16.89377276460623\n",
      "sigma = 2896.309375740099 , gamma = 3.637978807091713e-12 , MSE = 13.857505700344813\n",
      "sigma = 2896.309375740099 , gamma = 7.275957614183426e-12 , MSE = 18.78341029278034\n",
      "sigma = 2896.309375740099 , gamma = 1.4551915228366852e-11 , MSE = 16.557318637660725\n",
      "sigma = 2896.309375740099 , gamma = 2.9103830456733704e-11 , MSE = 14.49488251522257\n",
      "sigma = 2896.309375740099 , gamma = 5.820766091346741e-11 , MSE = 17.654984522243005\n",
      "sigma = 2896.309375740099 , gamma = 1.1641532182693481e-10 , MSE = 19.52027342294536\n",
      "sigma = 2896.309375740099 , gamma = 2.3283064365386963e-10 , MSE = 21.53915291586297\n",
      "sigma = 2896.309375740099 , gamma = 4.656612873077393e-10 , MSE = 22.710464192279428\n",
      "sigma = 2896.309375740099 , gamma = 9.313225746154785e-10 , MSE = 31.35778357947772\n",
      "sigma = 2896.309375740099 , gamma = 1.862645149230957e-09 , MSE = 30.849489527811635\n",
      "sigma = 2896.309375740099 , gamma = 3.725290298461914e-09 , MSE = 25.640073449907266\n",
      "sigma = 2896.309375740099 , gamma = 7.450580596923828e-09 , MSE = 30.461996101614602\n"
     ]
    },
    {
     "name": "stderr",
     "output_type": "stream",
     "text": [
      "\n",
      " 77%|███████████████████████████████████████████████████████████████                   | 10/13 [09:42<02:55, 58.42s/it]\u001b[A"
     ]
    },
    {
     "name": "stdout",
     "output_type": "stream",
     "text": [
      "sigma = 2896.309375740099 , gamma = 1.4901161193847656e-08 , MSE = 28.026209693355337\n",
      "sigma = 4096.0 , gamma = 9.094947017729282e-13 , MSE = 16.73111934078285\n",
      "sigma = 4096.0 , gamma = 1.8189894035458565e-12 , MSE = 15.143077067636488\n",
      "sigma = 4096.0 , gamma = 3.637978807091713e-12 , MSE = 17.049521687564475\n",
      "sigma = 4096.0 , gamma = 7.275957614183426e-12 , MSE = 14.174791157228753\n",
      "sigma = 4096.0 , gamma = 1.4551915228366852e-11 , MSE = 20.269687093600048\n",
      "sigma = 4096.0 , gamma = 2.9103830456733704e-11 , MSE = 19.38213031500586\n",
      "sigma = 4096.0 , gamma = 5.820766091346741e-11 , MSE = 24.30130675398675\n",
      "sigma = 4096.0 , gamma = 1.1641532182693481e-10 , MSE = 20.594338801847933\n",
      "sigma = 4096.0 , gamma = 2.3283064365386963e-10 , MSE = 25.275705495670433\n",
      "sigma = 4096.0 , gamma = 4.656612873077393e-10 , MSE = 33.89886467316849\n",
      "sigma = 4096.0 , gamma = 9.313225746154785e-10 , MSE = 27.419908268206576\n",
      "sigma = 4096.0 , gamma = 1.862645149230957e-09 , MSE = 27.232063324424512\n",
      "sigma = 4096.0 , gamma = 3.725290298461914e-09 , MSE = 28.008723115627692\n",
      "sigma = 4096.0 , gamma = 7.450580596923828e-09 , MSE = 25.008105388778695\n"
     ]
    },
    {
     "name": "stderr",
     "output_type": "stream",
     "text": [
      "\n",
      " 85%|█████████████████████████████████████████████████████████████████████▍            | 11/13 [10:46<02:00, 60.16s/it]\u001b[A"
     ]
    },
    {
     "name": "stdout",
     "output_type": "stream",
     "text": [
      "sigma = 4096.0 , gamma = 1.4901161193847656e-08 , MSE = 27.5167318051811\n",
      "sigma = 5792.618751480198 , gamma = 9.094947017729282e-13 , MSE = 16.800537572063327\n",
      "sigma = 5792.618751480198 , gamma = 1.8189894035458565e-12 , MSE = 14.018277366682323\n",
      "sigma = 5792.618751480198 , gamma = 3.637978807091713e-12 , MSE = 15.990288353495675\n",
      "sigma = 5792.618751480198 , gamma = 7.275957614183426e-12 , MSE = 19.419614075832328\n",
      "sigma = 5792.618751480198 , gamma = 1.4551915228366852e-11 , MSE = 18.796535863163786\n",
      "sigma = 5792.618751480198 , gamma = 2.9103830456733704e-11 , MSE = 21.94236016591888\n",
      "sigma = 5792.618751480198 , gamma = 5.820766091346741e-11 , MSE = 26.21934903145356\n",
      "sigma = 5792.618751480198 , gamma = 1.1641532182693481e-10 , MSE = 24.70622536185055\n",
      "sigma = 5792.618751480198 , gamma = 2.3283064365386963e-10 , MSE = 32.19248954047946\n",
      "sigma = 5792.618751480198 , gamma = 4.656612873077393e-10 , MSE = 20.69986279342992\n",
      "sigma = 5792.618751480198 , gamma = 9.313225746154785e-10 , MSE = 28.68713349967725\n",
      "sigma = 5792.618751480198 , gamma = 1.862645149230957e-09 , MSE = 26.297897966669144\n",
      "sigma = 5792.618751480198 , gamma = 3.725290298461914e-09 , MSE = 25.895974232821125\n",
      "sigma = 5792.618751480198 , gamma = 7.450580596923828e-09 , MSE = 30.78460573196579\n"
     ]
    },
    {
     "name": "stderr",
     "output_type": "stream",
     "text": [
      "\n",
      " 92%|███████████████████████████████████████████████████████████████████████████▋      | 12/13 [11:46<01:00, 60.15s/it]\u001b[A"
     ]
    },
    {
     "name": "stdout",
     "output_type": "stream",
     "text": [
      "sigma = 5792.618751480198 , gamma = 1.4901161193847656e-08 , MSE = 31.284910063316424\n",
      "sigma = 8192.0 , gamma = 9.094947017729282e-13 , MSE = 17.267281964623535\n",
      "sigma = 8192.0 , gamma = 1.8189894035458565e-12 , MSE = 17.712175176803065\n",
      "sigma = 8192.0 , gamma = 3.637978807091713e-12 , MSE = 23.260796077947298\n",
      "sigma = 8192.0 , gamma = 7.275957614183426e-12 , MSE = 25.918970728403668\n",
      "sigma = 8192.0 , gamma = 1.4551915228366852e-11 , MSE = 22.161887165745462\n",
      "sigma = 8192.0 , gamma = 2.9103830456733704e-11 , MSE = 27.17565259986774\n",
      "sigma = 8192.0 , gamma = 5.820766091346741e-11 , MSE = 25.691686252622937\n",
      "sigma = 8192.0 , gamma = 1.1641532182693481e-10 , MSE = 28.639193923652584\n",
      "sigma = 8192.0 , gamma = 2.3283064365386963e-10 , MSE = 30.860706857092318\n",
      "sigma = 8192.0 , gamma = 4.656612873077393e-10 , MSE = 25.108007972764035\n",
      "sigma = 8192.0 , gamma = 9.313225746154785e-10 , MSE = 31.1283644295027\n",
      "sigma = 8192.0 , gamma = 1.862645149230957e-09 , MSE = 36.87641103180889\n",
      "sigma = 8192.0 , gamma = 3.725290298461914e-09 , MSE = 29.763405633533985\n",
      "sigma = 8192.0 , gamma = 7.450580596923828e-09 , MSE = 28.03475823325192\n"
     ]
    },
    {
     "name": "stderr",
     "output_type": "stream",
     "text": [
      "\n",
      "100%|██████████████████████████████████████████████████████████████████████████████████| 13/13 [12:45<00:00, 58.90s/it]\u001b[A"
     ]
    },
    {
     "name": "stdout",
     "output_type": "stream",
     "text": [
      "sigma = 8192.0 , gamma = 1.4901161193847656e-08 , MSE = 31.672798090678736\n"
     ]
    },
    {
     "name": "stderr",
     "output_type": "stream",
     "text": [
      "\n",
      " 65%|██████████████████████████████████████████████████                           | 13/20 [2:51:00<1:30:31, 775.88s/it]\n",
      "  0%|                                                                                           | 0/13 [00:00<?, ?it/s]\u001b[A"
     ]
    },
    {
     "name": "stdout",
     "output_type": "stream",
     "text": [
      "[9.201521985760253, 7.836019106884993]\n",
      "sigma = 128.0 , gamma = 9.094947017729282e-13 , MSE = 8694.616713541302\n",
      "sigma = 128.0 , gamma = 1.8189894035458565e-12 , MSE = 1725.5046024854296\n",
      "sigma = 128.0 , gamma = 3.637978807091713e-12 , MSE = 7354.6667703327785\n",
      "sigma = 128.0 , gamma = 7.275957614183426e-12 , MSE = 7540.909604326926\n",
      "sigma = 128.0 , gamma = 1.4551915228366852e-11 , MSE = 2116.2533275285723\n",
      "sigma = 128.0 , gamma = 2.9103830456733704e-11 , MSE = 276.1861754977168\n",
      "sigma = 128.0 , gamma = 5.820766091346741e-11 , MSE = 326.59032490818805\n",
      "sigma = 128.0 , gamma = 1.1641532182693481e-10 , MSE = 438.5218356375364\n",
      "sigma = 128.0 , gamma = 2.3283064365386963e-10 , MSE = 208.72515233421183\n",
      "sigma = 128.0 , gamma = 4.656612873077393e-10 , MSE = 54.91155531211759\n",
      "sigma = 128.0 , gamma = 9.313225746154785e-10 , MSE = 52.80784511906993\n",
      "sigma = 128.0 , gamma = 1.862645149230957e-09 , MSE = 57.36996665539725\n",
      "sigma = 128.0 , gamma = 3.725290298461914e-09 , MSE = 110.10553424939607\n",
      "sigma = 128.0 , gamma = 7.450580596923828e-09 , MSE = 36.278222350587455\n"
     ]
    },
    {
     "name": "stderr",
     "output_type": "stream",
     "text": [
      "\n",
      "  8%|██████▍                                                                            | 1/13 [00:58<11:38, 58.19s/it]\u001b[A"
     ]
    },
    {
     "name": "stdout",
     "output_type": "stream",
     "text": [
      "sigma = 128.0 , gamma = 1.4901161193847656e-08 , MSE = 29.622548156003624\n",
      "sigma = 181.01933598375618 , gamma = 9.094947017729282e-13 , MSE = 716.6366882020282\n",
      "sigma = 181.01933598375618 , gamma = 1.8189894035458565e-12 , MSE = 776.4788021311361\n",
      "sigma = 181.01933598375618 , gamma = 3.637978807091713e-12 , MSE = 210.86275585500448\n",
      "sigma = 181.01933598375618 , gamma = 7.275957614183426e-12 , MSE = 243.89593010397942\n",
      "sigma = 181.01933598375618 , gamma = 1.4551915228366852e-11 , MSE = 319.9005413429846\n",
      "sigma = 181.01933598375618 , gamma = 2.9103830456733704e-11 , MSE = 249.61798638034892\n",
      "sigma = 181.01933598375618 , gamma = 5.820766091346741e-11 , MSE = 103.79746420410643\n",
      "sigma = 181.01933598375618 , gamma = 1.1641532182693481e-10 , MSE = 182.7305840726498\n",
      "sigma = 181.01933598375618 , gamma = 2.3283064365386963e-10 , MSE = 93.73256901917054\n",
      "sigma = 181.01933598375618 , gamma = 4.656612873077393e-10 , MSE = 55.687767386020596\n",
      "sigma = 181.01933598375618 , gamma = 9.313225746154785e-10 , MSE = 78.8878470749274\n",
      "sigma = 181.01933598375618 , gamma = 1.862645149230957e-09 , MSE = 40.63709125296882\n",
      "sigma = 181.01933598375618 , gamma = 3.725290298461914e-09 , MSE = 31.159845389248865\n",
      "sigma = 181.01933598375618 , gamma = 7.450580596923828e-09 , MSE = 29.85271388897899\n"
     ]
    },
    {
     "name": "stderr",
     "output_type": "stream",
     "text": [
      "\n",
      " 15%|████████████▊                                                                      | 2/13 [01:58<10:54, 59.53s/it]\u001b[A"
     ]
    },
    {
     "name": "stdout",
     "output_type": "stream",
     "text": [
      "sigma = 181.01933598375618 , gamma = 1.4901161193847656e-08 , MSE = 20.523895579008858\n",
      "sigma = 256.0 , gamma = 9.094947017729282e-13 , MSE = 12788.597703946869\n",
      "sigma = 256.0 , gamma = 1.8189894035458565e-12 , MSE = 986.5521286717931\n",
      "sigma = 256.0 , gamma = 3.637978807091713e-12 , MSE = 156.74613063406252\n",
      "sigma = 256.0 , gamma = 7.275957614183426e-12 , MSE = 128.24721898887543\n",
      "sigma = 256.0 , gamma = 1.4551915228366852e-11 , MSE = 50.54062491804721\n",
      "sigma = 256.0 , gamma = 2.9103830456733704e-11 , MSE = 102.0866379235523\n",
      "sigma = 256.0 , gamma = 5.820766091346741e-11 , MSE = 56.562599989197544\n",
      "sigma = 256.0 , gamma = 1.1641532182693481e-10 , MSE = 32.10373958611204\n",
      "sigma = 256.0 , gamma = 2.3283064365386963e-10 , MSE = 25.215465060574495\n",
      "sigma = 256.0 , gamma = 4.656612873077393e-10 , MSE = 31.62544488304028\n",
      "sigma = 256.0 , gamma = 9.313225746154785e-10 , MSE = 24.247606420370666\n",
      "sigma = 256.0 , gamma = 1.862645149230957e-09 , MSE = 21.54517024402795\n",
      "sigma = 256.0 , gamma = 3.725290298461914e-09 , MSE = 16.102770641098395\n",
      "sigma = 256.0 , gamma = 7.450580596923828e-09 , MSE = 17.289748197245324\n"
     ]
    },
    {
     "name": "stderr",
     "output_type": "stream",
     "text": [
      "\n",
      " 23%|███████████████████▏                                                               | 3/13 [02:57<09:51, 59.15s/it]\u001b[A"
     ]
    },
    {
     "name": "stdout",
     "output_type": "stream",
     "text": [
      "sigma = 256.0 , gamma = 1.4901161193847656e-08 , MSE = 12.746242354102264\n",
      "sigma = 362.03867196751236 , gamma = 9.094947017729282e-13 , MSE = 270.813381684256\n",
      "sigma = 362.03867196751236 , gamma = 1.8189894035458565e-12 , MSE = 49.307389349310995\n",
      "sigma = 362.03867196751236 , gamma = 3.637978807091713e-12 , MSE = 72.53819274101095\n",
      "sigma = 362.03867196751236 , gamma = 7.275957614183426e-12 , MSE = 57.53733858819311\n",
      "sigma = 362.03867196751236 , gamma = 1.4551915228366852e-11 , MSE = 66.55929632412665\n",
      "sigma = 362.03867196751236 , gamma = 2.9103830456733704e-11 , MSE = 34.256357739782246\n",
      "sigma = 362.03867196751236 , gamma = 5.820766091346741e-11 , MSE = 24.491268519260814\n",
      "sigma = 362.03867196751236 , gamma = 1.1641532182693481e-10 , MSE = 24.304119315113418\n",
      "sigma = 362.03867196751236 , gamma = 2.3283064365386963e-10 , MSE = 18.94835595327177\n",
      "sigma = 362.03867196751236 , gamma = 4.656612873077393e-10 , MSE = 20.069065098226964\n",
      "sigma = 362.03867196751236 , gamma = 9.313225746154785e-10 , MSE = 18.408115850178923\n",
      "sigma = 362.03867196751236 , gamma = 1.862645149230957e-09 , MSE = 16.571001521472795\n",
      "sigma = 362.03867196751236 , gamma = 3.725290298461914e-09 , MSE = 16.809146548601763\n",
      "sigma = 362.03867196751236 , gamma = 7.450580596923828e-09 , MSE = 17.445806440535964\n"
     ]
    },
    {
     "name": "stderr",
     "output_type": "stream",
     "text": [
      "\n",
      " 31%|█████████████████████████▌                                                         | 4/13 [03:56<08:51, 59.04s/it]\u001b[A"
     ]
    },
    {
     "name": "stdout",
     "output_type": "stream",
     "text": [
      "sigma = 362.03867196751236 , gamma = 1.4901161193847656e-08 , MSE = 14.695976703364295\n",
      "sigma = 512.0 , gamma = 9.094947017729282e-13 , MSE = 38.953583979774685\n",
      "sigma = 512.0 , gamma = 1.8189894035458565e-12 , MSE = 25.09240189518482\n",
      "sigma = 512.0 , gamma = 3.637978807091713e-12 , MSE = 61.11422456737159\n",
      "sigma = 512.0 , gamma = 7.275957614183426e-12 , MSE = 32.37284990834292\n",
      "sigma = 512.0 , gamma = 1.4551915228366852e-11 , MSE = 19.393139319290842\n",
      "sigma = 512.0 , gamma = 2.9103830456733704e-11 , MSE = 22.050883491848044\n",
      "sigma = 512.0 , gamma = 5.820766091346741e-11 , MSE = 18.177559180599236\n",
      "sigma = 512.0 , gamma = 1.1641532182693481e-10 , MSE = 17.36290045706639\n",
      "sigma = 512.0 , gamma = 2.3283064365386963e-10 , MSE = 15.673571252411818\n",
      "sigma = 512.0 , gamma = 4.656612873077393e-10 , MSE = 16.22818852633251\n",
      "sigma = 512.0 , gamma = 9.313225746154785e-10 , MSE = 14.05726808675412\n",
      "sigma = 512.0 , gamma = 1.862645149230957e-09 , MSE = 11.118925234945356\n",
      "sigma = 512.0 , gamma = 3.725290298461914e-09 , MSE = 11.93412175905176\n",
      "sigma = 512.0 , gamma = 7.450580596923828e-09 , MSE = 14.468912251044566\n"
     ]
    },
    {
     "name": "stderr",
     "output_type": "stream",
     "text": [
      "\n",
      " 38%|███████████████████████████████▉                                                   | 5/13 [04:54<07:51, 58.92s/it]\u001b[A"
     ]
    },
    {
     "name": "stdout",
     "output_type": "stream",
     "text": [
      "sigma = 512.0 , gamma = 1.4901161193847656e-08 , MSE = 16.290685203443793\n",
      "sigma = 724.0773439350247 , gamma = 9.094947017729282e-13 , MSE = 24.13846376997821\n",
      "sigma = 724.0773439350247 , gamma = 1.8189894035458565e-12 , MSE = 25.78929447516988\n",
      "sigma = 724.0773439350247 , gamma = 3.637978807091713e-12 , MSE = 19.136369319665256\n",
      "sigma = 724.0773439350247 , gamma = 7.275957614183426e-12 , MSE = 23.68944558395538\n",
      "sigma = 724.0773439350247 , gamma = 1.4551915228366852e-11 , MSE = 19.32123189333023\n",
      "sigma = 724.0773439350247 , gamma = 2.9103830456733704e-11 , MSE = 17.74434879212372\n",
      "sigma = 724.0773439350247 , gamma = 5.820766091346741e-11 , MSE = 16.31910719148707\n",
      "sigma = 724.0773439350247 , gamma = 1.1641532182693481e-10 , MSE = 16.280096888607254\n",
      "sigma = 724.0773439350247 , gamma = 2.3283064365386963e-10 , MSE = 16.551601568056313\n",
      "sigma = 724.0773439350247 , gamma = 4.656612873077393e-10 , MSE = 14.890237066888057\n",
      "sigma = 724.0773439350247 , gamma = 9.313225746154785e-10 , MSE = 11.43283785463045\n",
      "sigma = 724.0773439350247 , gamma = 1.862645149230957e-09 , MSE = 13.538359949352852\n",
      "sigma = 724.0773439350247 , gamma = 3.725290298461914e-09 , MSE = 14.841764273837777\n",
      "sigma = 724.0773439350247 , gamma = 7.450580596923828e-09 , MSE = 19.285484529200986\n"
     ]
    },
    {
     "name": "stderr",
     "output_type": "stream",
     "text": [
      "\n",
      " 46%|██████████████████████████████████████▎                                            | 6/13 [05:54<06:53, 59.01s/it]\u001b[A"
     ]
    },
    {
     "name": "stdout",
     "output_type": "stream",
     "text": [
      "sigma = 724.0773439350247 , gamma = 1.4901161193847656e-08 , MSE = 15.980511027405608\n",
      "sigma = 1024.0 , gamma = 9.094947017729282e-13 , MSE = 27.224744458810996\n",
      "sigma = 1024.0 , gamma = 1.8189894035458565e-12 , MSE = 19.796625987903294\n",
      "sigma = 1024.0 , gamma = 3.637978807091713e-12 , MSE = 16.88227506743673\n",
      "sigma = 1024.0 , gamma = 7.275957614183426e-12 , MSE = 15.64939114624085\n",
      "sigma = 1024.0 , gamma = 1.4551915228366852e-11 , MSE = 17.495144382376274\n",
      "sigma = 1024.0 , gamma = 2.9103830456733704e-11 , MSE = 15.523831618922282\n",
      "sigma = 1024.0 , gamma = 5.820766091346741e-11 , MSE = 14.174746782276475\n",
      "sigma = 1024.0 , gamma = 1.1641532182693481e-10 , MSE = 13.563903211146004\n",
      "sigma = 1024.0 , gamma = 2.3283064365386963e-10 , MSE = 13.326086511561424\n",
      "sigma = 1024.0 , gamma = 4.656612873077393e-10 , MSE = 13.815980990343448\n",
      "sigma = 1024.0 , gamma = 9.313225746154785e-10 , MSE = 15.068931101153316\n",
      "sigma = 1024.0 , gamma = 1.862645149230957e-09 , MSE = 17.857138361188436\n",
      "sigma = 1024.0 , gamma = 3.725290298461914e-09 , MSE = 18.376439224724685\n",
      "sigma = 1024.0 , gamma = 7.450580596923828e-09 , MSE = 18.437397329415003\n"
     ]
    },
    {
     "name": "stderr",
     "output_type": "stream",
     "text": [
      "\n",
      " 54%|████████████████████████████████████████████▋                                      | 7/13 [06:53<05:54, 59.08s/it]\u001b[A"
     ]
    },
    {
     "name": "stdout",
     "output_type": "stream",
     "text": [
      "sigma = 1024.0 , gamma = 1.4901161193847656e-08 , MSE = 18.659993198403967\n",
      "sigma = 1448.1546878700494 , gamma = 9.094947017729282e-13 , MSE = 15.54578912580934\n",
      "sigma = 1448.1546878700494 , gamma = 1.8189894035458565e-12 , MSE = 16.635671732023745\n",
      "sigma = 1448.1546878700494 , gamma = 3.637978807091713e-12 , MSE = 15.271288367630742\n",
      "sigma = 1448.1546878700494 , gamma = 7.275957614183426e-12 , MSE = 12.910716614902352\n",
      "sigma = 1448.1546878700494 , gamma = 1.4551915228366852e-11 , MSE = 13.701995842728303\n",
      "sigma = 1448.1546878700494 , gamma = 2.9103830456733704e-11 , MSE = 13.002449414507959\n",
      "sigma = 1448.1546878700494 , gamma = 5.820766091346741e-11 , MSE = 16.198480755507056\n",
      "sigma = 1448.1546878700494 , gamma = 1.1641532182693481e-10 , MSE = 14.112481368646499\n",
      "sigma = 1448.1546878700494 , gamma = 2.3283064365386963e-10 , MSE = 14.302816866942285\n",
      "sigma = 1448.1546878700494 , gamma = 4.656612873077393e-10 , MSE = 16.106825001164\n",
      "sigma = 1448.1546878700494 , gamma = 9.313225746154785e-10 , MSE = 17.534688723067163\n",
      "sigma = 1448.1546878700494 , gamma = 1.862645149230957e-09 , MSE = 19.73979654785389\n",
      "sigma = 1448.1546878700494 , gamma = 3.725290298461914e-09 , MSE = 20.01910109468729\n",
      "sigma = 1448.1546878700494 , gamma = 7.450580596923828e-09 , MSE = 21.589754060868223\n"
     ]
    },
    {
     "name": "stderr",
     "output_type": "stream",
     "text": [
      "\n",
      " 62%|███████████████████████████████████████████████████                                | 8/13 [07:52<04:55, 59.08s/it]\u001b[A"
     ]
    },
    {
     "name": "stdout",
     "output_type": "stream",
     "text": [
      "sigma = 1448.1546878700494 , gamma = 1.4901161193847656e-08 , MSE = 22.813445034741047\n",
      "sigma = 2048.0 , gamma = 9.094947017729282e-13 , MSE = 16.19999447015128\n",
      "sigma = 2048.0 , gamma = 1.8189894035458565e-12 , MSE = 11.066133797105326\n",
      "sigma = 2048.0 , gamma = 3.637978807091713e-12 , MSE = 16.092527806868585\n",
      "sigma = 2048.0 , gamma = 7.275957614183426e-12 , MSE = 12.7027551076158\n",
      "sigma = 2048.0 , gamma = 1.4551915228366852e-11 , MSE = 13.91121975935079\n",
      "sigma = 2048.0 , gamma = 2.9103830456733704e-11 , MSE = 14.442047167336671\n",
      "sigma = 2048.0 , gamma = 5.820766091346741e-11 , MSE = 14.90507460798979\n",
      "sigma = 2048.0 , gamma = 1.1641532182693481e-10 , MSE = 17.787352844540507\n",
      "sigma = 2048.0 , gamma = 2.3283064365386963e-10 , MSE = 16.679275791253865\n",
      "sigma = 2048.0 , gamma = 4.656612873077393e-10 , MSE = 18.774441759053357\n",
      "sigma = 2048.0 , gamma = 9.313225746154785e-10 , MSE = 18.84513790031583\n",
      "sigma = 2048.0 , gamma = 1.862645149230957e-09 , MSE = 21.627577010413653\n",
      "sigma = 2048.0 , gamma = 3.725290298461914e-09 , MSE = 22.84686877064724\n",
      "sigma = 2048.0 , gamma = 7.450580596923828e-09 , MSE = 21.15927877404971\n"
     ]
    },
    {
     "name": "stderr",
     "output_type": "stream",
     "text": [
      "\n",
      " 69%|█████████████████████████████████████████████████████████▍                         | 9/13 [08:50<03:54, 58.74s/it]\u001b[A"
     ]
    },
    {
     "name": "stdout",
     "output_type": "stream",
     "text": [
      "sigma = 2048.0 , gamma = 1.4901161193847656e-08 , MSE = 23.65416908016963\n",
      "sigma = 2896.309375740099 , gamma = 9.094947017729282e-13 , MSE = 15.050337669957093\n",
      "sigma = 2896.309375740099 , gamma = 1.8189894035458565e-12 , MSE = 13.476771396049926\n",
      "sigma = 2896.309375740099 , gamma = 3.637978807091713e-12 , MSE = 14.879631465964877\n",
      "sigma = 2896.309375740099 , gamma = 7.275957614183426e-12 , MSE = 13.957684784670136\n",
      "sigma = 2896.309375740099 , gamma = 1.4551915228366852e-11 , MSE = 14.950985241652495\n",
      "sigma = 2896.309375740099 , gamma = 2.9103830456733704e-11 , MSE = 18.159115211467046\n",
      "sigma = 2896.309375740099 , gamma = 5.820766091346741e-11 , MSE = 15.684799595486378\n",
      "sigma = 2896.309375740099 , gamma = 1.1641532182693481e-10 , MSE = 16.78947557903554\n",
      "sigma = 2896.309375740099 , gamma = 2.3283064365386963e-10 , MSE = 18.5795630167996\n",
      "sigma = 2896.309375740099 , gamma = 4.656612873077393e-10 , MSE = 17.773946023383054\n",
      "sigma = 2896.309375740099 , gamma = 9.313225746154785e-10 , MSE = 21.636629570669157\n",
      "sigma = 2896.309375740099 , gamma = 1.862645149230957e-09 , MSE = 23.460877492689594\n",
      "sigma = 2896.309375740099 , gamma = 3.725290298461914e-09 , MSE = 30.351228870445162\n",
      "sigma = 2896.309375740099 , gamma = 7.450580596923828e-09 , MSE = 25.12031283082171\n"
     ]
    },
    {
     "name": "stderr",
     "output_type": "stream",
     "text": [
      "\n",
      " 77%|███████████████████████████████████████████████████████████████                   | 10/13 [09:49<02:56, 58.84s/it]\u001b[A"
     ]
    },
    {
     "name": "stdout",
     "output_type": "stream",
     "text": [
      "sigma = 2896.309375740099 , gamma = 1.4901161193847656e-08 , MSE = 30.564455941810262\n",
      "sigma = 4096.0 , gamma = 9.094947017729282e-13 , MSE = 28.23747558223173\n",
      "sigma = 4096.0 , gamma = 1.8189894035458565e-12 , MSE = 13.415402987125901\n",
      "sigma = 4096.0 , gamma = 3.637978807091713e-12 , MSE = 16.152530707133046\n",
      "sigma = 4096.0 , gamma = 7.275957614183426e-12 , MSE = 16.39222203912083\n",
      "sigma = 4096.0 , gamma = 1.4551915228366852e-11 , MSE = 16.1715641030863\n",
      "sigma = 4096.0 , gamma = 2.9103830456733704e-11 , MSE = 20.50129036413038\n",
      "sigma = 4096.0 , gamma = 5.820766091346741e-11 , MSE = 20.099529692480747\n",
      "sigma = 4096.0 , gamma = 1.1641532182693481e-10 , MSE = 23.035064020064983\n",
      "sigma = 4096.0 , gamma = 2.3283064365386963e-10 , MSE = 25.386191997969483\n",
      "sigma = 4096.0 , gamma = 4.656612873077393e-10 , MSE = 23.02127506850719\n",
      "sigma = 4096.0 , gamma = 9.313225746154785e-10 , MSE = 26.785034181719972\n",
      "sigma = 4096.0 , gamma = 1.862645149230957e-09 , MSE = 24.664241292160952\n",
      "sigma = 4096.0 , gamma = 3.725290298461914e-09 , MSE = 24.188840054689166\n",
      "sigma = 4096.0 , gamma = 7.450580596923828e-09 , MSE = 29.383943782149732\n"
     ]
    },
    {
     "name": "stderr",
     "output_type": "stream",
     "text": [
      "\n",
      " 85%|█████████████████████████████████████████████████████████████████████▍            | 11/13 [10:48<01:57, 58.81s/it]\u001b[A"
     ]
    },
    {
     "name": "stdout",
     "output_type": "stream",
     "text": [
      "sigma = 4096.0 , gamma = 1.4901161193847656e-08 , MSE = 24.244945900641053\n",
      "sigma = 5792.618751480198 , gamma = 9.094947017729282e-13 , MSE = 17.053620442361865\n",
      "sigma = 5792.618751480198 , gamma = 1.8189894035458565e-12 , MSE = 15.09536766894845\n",
      "sigma = 5792.618751480198 , gamma = 3.637978807091713e-12 , MSE = 17.10178685034424\n",
      "sigma = 5792.618751480198 , gamma = 7.275957614183426e-12 , MSE = 16.097097417881578\n",
      "sigma = 5792.618751480198 , gamma = 1.4551915228366852e-11 , MSE = 19.122842111201923\n",
      "sigma = 5792.618751480198 , gamma = 2.9103830456733704e-11 , MSE = 20.430894323153456\n",
      "sigma = 5792.618751480198 , gamma = 5.820766091346741e-11 , MSE = 22.49850252046872\n",
      "sigma = 5792.618751480198 , gamma = 1.1641532182693481e-10 , MSE = 21.610282663709935\n",
      "sigma = 5792.618751480198 , gamma = 2.3283064365386963e-10 , MSE = 23.043147092933232\n",
      "sigma = 5792.618751480198 , gamma = 4.656612873077393e-10 , MSE = 26.83835502415614\n",
      "sigma = 5792.618751480198 , gamma = 9.313225746154785e-10 , MSE = 21.282118625478528\n",
      "sigma = 5792.618751480198 , gamma = 1.862645149230957e-09 , MSE = 29.18562670832542\n",
      "sigma = 5792.618751480198 , gamma = 3.725290298461914e-09 , MSE = 21.632680148518254\n",
      "sigma = 5792.618751480198 , gamma = 7.450580596923828e-09 , MSE = 26.221667644300698\n"
     ]
    },
    {
     "name": "stderr",
     "output_type": "stream",
     "text": [
      "\n",
      " 92%|███████████████████████████████████████████████████████████████████████████▋      | 12/13 [11:47<00:59, 59.04s/it]\u001b[A"
     ]
    },
    {
     "name": "stdout",
     "output_type": "stream",
     "text": [
      "sigma = 5792.618751480198 , gamma = 1.4901161193847656e-08 , MSE = 27.10710182018039\n",
      "sigma = 8192.0 , gamma = 9.094947017729282e-13 , MSE = 15.346725176420625\n",
      "sigma = 8192.0 , gamma = 1.8189894035458565e-12 , MSE = 18.007787515826468\n",
      "sigma = 8192.0 , gamma = 3.637978807091713e-12 , MSE = 17.581016489521726\n",
      "sigma = 8192.0 , gamma = 7.275957614183426e-12 , MSE = 21.163733042585495\n",
      "sigma = 8192.0 , gamma = 1.4551915228366852e-11 , MSE = 28.881902843096622\n",
      "sigma = 8192.0 , gamma = 2.9103830456733704e-11 , MSE = 21.260434448185315\n",
      "sigma = 8192.0 , gamma = 5.820766091346741e-11 , MSE = 23.570762665878807\n",
      "sigma = 8192.0 , gamma = 1.1641532182693481e-10 , MSE = 25.115528984412506\n",
      "sigma = 8192.0 , gamma = 2.3283064365386963e-10 , MSE = 25.264985358536745\n",
      "sigma = 8192.0 , gamma = 4.656612873077393e-10 , MSE = 29.25668466483838\n",
      "sigma = 8192.0 , gamma = 9.313225746154785e-10 , MSE = 26.443377439405623\n",
      "sigma = 8192.0 , gamma = 1.862645149230957e-09 , MSE = 22.178958494540524\n",
      "sigma = 8192.0 , gamma = 3.725290298461914e-09 , MSE = 25.0464745371523\n",
      "sigma = 8192.0 , gamma = 7.450580596923828e-09 , MSE = 26.389256900894253\n"
     ]
    },
    {
     "name": "stderr",
     "output_type": "stream",
     "text": [
      "\n",
      "100%|██████████████████████████████████████████████████████████████████████████████████| 13/13 [12:46<00:00, 58.97s/it]\u001b[A"
     ]
    },
    {
     "name": "stdout",
     "output_type": "stream",
     "text": [
      "sigma = 8192.0 , gamma = 1.4901161193847656e-08 , MSE = 30.76199264727714\n"
     ]
    },
    {
     "name": "stderr",
     "output_type": "stream",
     "text": [
      "\n",
      " 70%|█████████████████████████████████████████████████████▉                       | 14/20 [3:03:51<1:17:25, 774.30s/it]\n",
      "  0%|                                                                                           | 0/13 [00:00<?, ?it/s]\u001b[A"
     ]
    },
    {
     "name": "stdout",
     "output_type": "stream",
     "text": [
      "[8.117111370659492, 11.06985277116755]\n",
      "sigma = 128.0 , gamma = 9.094947017729282e-13 , MSE = 1141.1072702733259\n",
      "sigma = 128.0 , gamma = 1.8189894035458565e-12 , MSE = 696.3905529791876\n",
      "sigma = 128.0 , gamma = 3.637978807091713e-12 , MSE = 434.2888047160624\n",
      "sigma = 128.0 , gamma = 7.275957614183426e-12 , MSE = 14341.999674411956\n",
      "sigma = 128.0 , gamma = 1.4551915228366852e-11 , MSE = 284.4041412395648\n",
      "sigma = 128.0 , gamma = 2.9103830456733704e-11 , MSE = 551.1647460123299\n",
      "sigma = 128.0 , gamma = 5.820766091346741e-11 , MSE = 224.69922989307537\n",
      "sigma = 128.0 , gamma = 1.1641532182693481e-10 , MSE = 485.94828458333575\n",
      "sigma = 128.0 , gamma = 2.3283064365386963e-10 , MSE = 211.0820938069972\n",
      "sigma = 128.0 , gamma = 4.656612873077393e-10 , MSE = 685.5604566142016\n",
      "sigma = 128.0 , gamma = 9.313225746154785e-10 , MSE = 72.65898616452002\n",
      "sigma = 128.0 , gamma = 1.862645149230957e-09 , MSE = 43.31220436137856\n",
      "sigma = 128.0 , gamma = 3.725290298461914e-09 , MSE = 36.64768667757827\n",
      "sigma = 128.0 , gamma = 7.450580596923828e-09 , MSE = 19.77224525456291\n"
     ]
    },
    {
     "name": "stderr",
     "output_type": "stream",
     "text": [
      "\n",
      "  8%|██████▍                                                                            | 1/13 [00:58<11:45, 58.80s/it]\u001b[A"
     ]
    },
    {
     "name": "stdout",
     "output_type": "stream",
     "text": [
      "sigma = 128.0 , gamma = 1.4901161193847656e-08 , MSE = 31.309086652420433\n",
      "sigma = 181.01933598375618 , gamma = 9.094947017729282e-13 , MSE = 857.3426507160559\n",
      "sigma = 181.01933598375618 , gamma = 1.8189894035458565e-12 , MSE = 276.01469797060355\n",
      "sigma = 181.01933598375618 , gamma = 3.637978807091713e-12 , MSE = 348.99674935393506\n",
      "sigma = 181.01933598375618 , gamma = 7.275957614183426e-12 , MSE = 1081.1107962472192\n",
      "sigma = 181.01933598375618 , gamma = 1.4551915228366852e-11 , MSE = 985.3437953748238\n",
      "sigma = 181.01933598375618 , gamma = 2.9103830456733704e-11 , MSE = 375.67326040972637\n",
      "sigma = 181.01933598375618 , gamma = 5.820766091346741e-11 , MSE = 864.7946341646186\n",
      "sigma = 181.01933598375618 , gamma = 1.1641532182693481e-10 , MSE = 214.3012337211739\n",
      "sigma = 181.01933598375618 , gamma = 2.3283064365386963e-10 , MSE = 68.93768708831178\n",
      "sigma = 181.01933598375618 , gamma = 4.656612873077393e-10 , MSE = 31.465333521015147\n",
      "sigma = 181.01933598375618 , gamma = 9.313225746154785e-10 , MSE = 29.489044480464365\n",
      "sigma = 181.01933598375618 , gamma = 1.862645149230957e-09 , MSE = 33.36591632784781\n",
      "sigma = 181.01933598375618 , gamma = 3.725290298461914e-09 , MSE = 22.614533304236996\n",
      "sigma = 181.01933598375618 , gamma = 7.450580596923828e-09 , MSE = 13.233604997180922\n"
     ]
    },
    {
     "name": "stderr",
     "output_type": "stream",
     "text": [
      "\n",
      " 15%|████████████▊                                                                      | 2/13 [01:58<10:55, 59.58s/it]\u001b[A"
     ]
    },
    {
     "name": "stdout",
     "output_type": "stream",
     "text": [
      "sigma = 181.01933598375618 , gamma = 1.4901161193847656e-08 , MSE = 17.5230241620656\n",
      "sigma = 256.0 , gamma = 9.094947017729282e-13 , MSE = 787.0837169439058\n",
      "sigma = 256.0 , gamma = 1.8189894035458565e-12 , MSE = 480.48238702801575\n",
      "sigma = 256.0 , gamma = 3.637978807091713e-12 , MSE = 172.1711800294242\n",
      "sigma = 256.0 , gamma = 7.275957614183426e-12 , MSE = 182.5140476778859\n",
      "sigma = 256.0 , gamma = 1.4551915228366852e-11 , MSE = 61.63766930874291\n",
      "sigma = 256.0 , gamma = 2.9103830456733704e-11 , MSE = 33.81450196404485\n",
      "sigma = 256.0 , gamma = 5.820766091346741e-11 , MSE = 30.941920031603036\n",
      "sigma = 256.0 , gamma = 1.1641532182693481e-10 , MSE = 52.718192261022295\n",
      "sigma = 256.0 , gamma = 2.3283064365386963e-10 , MSE = 21.83255007293652\n",
      "sigma = 256.0 , gamma = 4.656612873077393e-10 , MSE = 29.575549061693145\n",
      "sigma = 256.0 , gamma = 9.313225746154785e-10 , MSE = 16.020545258404095\n",
      "sigma = 256.0 , gamma = 1.862645149230957e-09 , MSE = 20.361237450040186\n",
      "sigma = 256.0 , gamma = 3.725290298461914e-09 , MSE = 13.716237259003865\n",
      "sigma = 256.0 , gamma = 7.450580596923828e-09 , MSE = 13.281295946301517\n"
     ]
    },
    {
     "name": "stderr",
     "output_type": "stream",
     "text": [
      "\n",
      " 23%|███████████████████▏                                                               | 3/13 [02:56<09:48, 58.86s/it]\u001b[A"
     ]
    },
    {
     "name": "stdout",
     "output_type": "stream",
     "text": [
      "sigma = 256.0 , gamma = 1.4901161193847656e-08 , MSE = 13.788601267162045\n",
      "sigma = 362.03867196751236 , gamma = 9.094947017729282e-13 , MSE = 146.87659536019765\n",
      "sigma = 362.03867196751236 , gamma = 1.8189894035458565e-12 , MSE = 189.68552362642723\n",
      "sigma = 362.03867196751236 , gamma = 3.637978807091713e-12 , MSE = 63.45420155358299\n",
      "sigma = 362.03867196751236 , gamma = 7.275957614183426e-12 , MSE = 40.7106885127178\n",
      "sigma = 362.03867196751236 , gamma = 1.4551915228366852e-11 , MSE = 17.791019817576245\n",
      "sigma = 362.03867196751236 , gamma = 2.9103830456733704e-11 , MSE = 17.431527136403727\n",
      "sigma = 362.03867196751236 , gamma = 5.820766091346741e-11 , MSE = 33.76736435917542\n",
      "sigma = 362.03867196751236 , gamma = 1.1641532182693481e-10 , MSE = 12.649278134257463\n",
      "sigma = 362.03867196751236 , gamma = 2.3283064365386963e-10 , MSE = 34.4800811795867\n",
      "sigma = 362.03867196751236 , gamma = 4.656612873077393e-10 , MSE = 30.981699185445706\n",
      "sigma = 362.03867196751236 , gamma = 9.313225746154785e-10 , MSE = 13.767360290997544\n",
      "sigma = 362.03867196751236 , gamma = 1.862645149230957e-09 , MSE = 11.363607161345914\n",
      "sigma = 362.03867196751236 , gamma = 3.725290298461914e-09 , MSE = 15.96703467291656\n",
      "sigma = 362.03867196751236 , gamma = 7.450580596923828e-09 , MSE = 11.463930697594172\n"
     ]
    },
    {
     "name": "stderr",
     "output_type": "stream",
     "text": [
      "\n",
      " 31%|█████████████████████████▌                                                         | 4/13 [03:55<08:50, 58.89s/it]\u001b[A"
     ]
    },
    {
     "name": "stdout",
     "output_type": "stream",
     "text": [
      "sigma = 362.03867196751236 , gamma = 1.4901161193847656e-08 , MSE = 13.992598509859397\n",
      "sigma = 512.0 , gamma = 9.094947017729282e-13 , MSE = 30.416260258387275\n",
      "sigma = 512.0 , gamma = 1.8189894035458565e-12 , MSE = 26.912239352749406\n",
      "sigma = 512.0 , gamma = 3.637978807091713e-12 , MSE = 157.58998903266118\n",
      "sigma = 512.0 , gamma = 7.275957614183426e-12 , MSE = 25.51274925906994\n",
      "sigma = 512.0 , gamma = 1.4551915228366852e-11 , MSE = 17.30023231995104\n",
      "sigma = 512.0 , gamma = 2.9103830456733704e-11 , MSE = 13.243881144290933\n",
      "sigma = 512.0 , gamma = 5.820766091346741e-11 , MSE = 20.565128082855665\n",
      "sigma = 512.0 , gamma = 1.1641532182693481e-10 , MSE = 15.24244149256027\n",
      "sigma = 512.0 , gamma = 2.3283064365386963e-10 , MSE = 10.568659663888898\n",
      "sigma = 512.0 , gamma = 4.656612873077393e-10 , MSE = 12.379824091306242\n",
      "sigma = 512.0 , gamma = 9.313225746154785e-10 , MSE = 10.759197051590007\n",
      "sigma = 512.0 , gamma = 1.862645149230957e-09 , MSE = 11.826309993720644\n",
      "sigma = 512.0 , gamma = 3.725290298461914e-09 , MSE = 14.136757152277834\n",
      "sigma = 512.0 , gamma = 7.450580596923828e-09 , MSE = 13.392933571275918\n"
     ]
    },
    {
     "name": "stderr",
     "output_type": "stream",
     "text": [
      "\n",
      " 38%|███████████████████████████████▉                                                   | 5/13 [04:53<07:48, 58.56s/it]\u001b[A"
     ]
    },
    {
     "name": "stdout",
     "output_type": "stream",
     "text": [
      "sigma = 512.0 , gamma = 1.4901161193847656e-08 , MSE = 15.849843174963349\n",
      "sigma = 724.0773439350247 , gamma = 9.094947017729282e-13 , MSE = 731.4067060934128\n",
      "sigma = 724.0773439350247 , gamma = 1.8189894035458565e-12 , MSE = 15.094526710099263\n",
      "sigma = 724.0773439350247 , gamma = 3.637978807091713e-12 , MSE = 12.128997725286983\n",
      "sigma = 724.0773439350247 , gamma = 7.275957614183426e-12 , MSE = 24.554732072504848\n",
      "sigma = 724.0773439350247 , gamma = 1.4551915228366852e-11 , MSE = 15.22178013940798\n",
      "sigma = 724.0773439350247 , gamma = 2.9103830456733704e-11 , MSE = 15.300415575944891\n",
      "sigma = 724.0773439350247 , gamma = 5.820766091346741e-11 , MSE = 22.530298894041415\n",
      "sigma = 724.0773439350247 , gamma = 1.1641532182693481e-10 , MSE = 30.86775736248351\n",
      "sigma = 724.0773439350247 , gamma = 2.3283064365386963e-10 , MSE = 16.205447729628965\n",
      "sigma = 724.0773439350247 , gamma = 4.656612873077393e-10 , MSE = 15.689686193945338\n",
      "sigma = 724.0773439350247 , gamma = 9.313225746154785e-10 , MSE = 12.674438377926716\n",
      "sigma = 724.0773439350247 , gamma = 1.862645149230957e-09 , MSE = 12.4151760006907\n",
      "sigma = 724.0773439350247 , gamma = 3.725290298461914e-09 , MSE = 13.052470762425168\n",
      "sigma = 724.0773439350247 , gamma = 7.450580596923828e-09 , MSE = 15.142432791398491\n"
     ]
    },
    {
     "name": "stderr",
     "output_type": "stream",
     "text": [
      "\n",
      " 46%|██████████████████████████████████████▎                                            | 6/13 [06:02<07:13, 61.97s/it]\u001b[A"
     ]
    },
    {
     "name": "stdout",
     "output_type": "stream",
     "text": [
      "sigma = 724.0773439350247 , gamma = 1.4901161193847656e-08 , MSE = 16.674998011786098\n",
      "sigma = 1024.0 , gamma = 9.094947017729282e-13 , MSE = 13.242999152810807\n",
      "sigma = 1024.0 , gamma = 1.8189894035458565e-12 , MSE = 11.86544223553746\n",
      "sigma = 1024.0 , gamma = 3.637978807091713e-12 , MSE = 13.939745171970793\n",
      "sigma = 1024.0 , gamma = 7.275957614183426e-12 , MSE = 35.47127526763228\n",
      "sigma = 1024.0 , gamma = 1.4551915228366852e-11 , MSE = 15.068516262967913\n",
      "sigma = 1024.0 , gamma = 2.9103830456733704e-11 , MSE = 39.735091549787036\n",
      "sigma = 1024.0 , gamma = 5.820766091346741e-11 , MSE = 13.094359429025412\n",
      "sigma = 1024.0 , gamma = 1.1641532182693481e-10 , MSE = 15.499781545803017\n",
      "sigma = 1024.0 , gamma = 2.3283064365386963e-10 , MSE = 13.619860548519299\n",
      "sigma = 1024.0 , gamma = 4.656612873077393e-10 , MSE = 14.438309305875432\n",
      "sigma = 1024.0 , gamma = 9.313225746154785e-10 , MSE = 23.6548824766215\n",
      "sigma = 1024.0 , gamma = 1.862645149230957e-09 , MSE = 15.592543722522455\n",
      "sigma = 1024.0 , gamma = 3.725290298461914e-09 , MSE = 17.840599192487883\n",
      "sigma = 1024.0 , gamma = 7.450580596923828e-09 , MSE = 22.2826905044258\n"
     ]
    },
    {
     "name": "stderr",
     "output_type": "stream",
     "text": [
      "\n",
      " 54%|████████████████████████████████████████████▋                                      | 7/13 [07:00<06:04, 60.76s/it]\u001b[A"
     ]
    },
    {
     "name": "stdout",
     "output_type": "stream",
     "text": [
      "sigma = 1024.0 , gamma = 1.4901161193847656e-08 , MSE = 22.097654618383128\n",
      "sigma = 1448.1546878700494 , gamma = 9.094947017729282e-13 , MSE = 17.39444548813202\n",
      "sigma = 1448.1546878700494 , gamma = 1.8189894035458565e-12 , MSE = 15.701774067673949\n",
      "sigma = 1448.1546878700494 , gamma = 3.637978807091713e-12 , MSE = 16.117249532255304\n",
      "sigma = 1448.1546878700494 , gamma = 7.275957614183426e-12 , MSE = 12.103167229396039\n",
      "sigma = 1448.1546878700494 , gamma = 1.4551915228366852e-11 , MSE = 21.57682534186583\n",
      "sigma = 1448.1546878700494 , gamma = 2.9103830456733704e-11 , MSE = 13.138746159014655\n",
      "sigma = 1448.1546878700494 , gamma = 5.820766091346741e-11 , MSE = 11.884060687068905\n",
      "sigma = 1448.1546878700494 , gamma = 1.1641532182693481e-10 , MSE = 13.069003314466745\n",
      "sigma = 1448.1546878700494 , gamma = 2.3283064365386963e-10 , MSE = 16.193216500678734\n",
      "sigma = 1448.1546878700494 , gamma = 4.656612873077393e-10 , MSE = 13.349180508418382\n",
      "sigma = 1448.1546878700494 , gamma = 9.313225746154785e-10 , MSE = 15.712445314623968\n",
      "sigma = 1448.1546878700494 , gamma = 1.862645149230957e-09 , MSE = 19.56473999631667\n",
      "sigma = 1448.1546878700494 , gamma = 3.725290298461914e-09 , MSE = 19.392199192151075\n",
      "sigma = 1448.1546878700494 , gamma = 7.450580596923828e-09 , MSE = 18.483118606916463\n"
     ]
    },
    {
     "name": "stderr",
     "output_type": "stream",
     "text": [
      "\n",
      " 62%|███████████████████████████████████████████████████                                | 8/13 [07:58<04:59, 59.96s/it]\u001b[A"
     ]
    },
    {
     "name": "stdout",
     "output_type": "stream",
     "text": [
      "sigma = 1448.1546878700494 , gamma = 1.4901161193847656e-08 , MSE = 25.247746067299776\n",
      "sigma = 2048.0 , gamma = 9.094947017729282e-13 , MSE = 13.899134261202155\n",
      "sigma = 2048.0 , gamma = 1.8189894035458565e-12 , MSE = 54.96028937856978\n",
      "sigma = 2048.0 , gamma = 3.637978807091713e-12 , MSE = 18.580065108650622\n",
      "sigma = 2048.0 , gamma = 7.275957614183426e-12 , MSE = 14.602963827241634\n",
      "sigma = 2048.0 , gamma = 1.4551915228366852e-11 , MSE = 16.379059501949087\n",
      "sigma = 2048.0 , gamma = 2.9103830456733704e-11 , MSE = 22.431492484646817\n",
      "sigma = 2048.0 , gamma = 5.820766091346741e-11 , MSE = 12.291188959645499\n",
      "sigma = 2048.0 , gamma = 1.1641532182693481e-10 , MSE = 13.543442358224217\n",
      "sigma = 2048.0 , gamma = 2.3283064365386963e-10 , MSE = 16.99453843016648\n",
      "sigma = 2048.0 , gamma = 4.656612873077393e-10 , MSE = 18.217888563294807\n",
      "sigma = 2048.0 , gamma = 9.313225746154785e-10 , MSE = 22.743114133929932\n",
      "sigma = 2048.0 , gamma = 1.862645149230957e-09 , MSE = 23.026884167100548\n",
      "sigma = 2048.0 , gamma = 3.725290298461914e-09 , MSE = 24.200536171118546\n",
      "sigma = 2048.0 , gamma = 7.450580596923828e-09 , MSE = 25.81372922269508\n"
     ]
    },
    {
     "name": "stderr",
     "output_type": "stream",
     "text": [
      "\n",
      " 69%|█████████████████████████████████████████████████████████▍                         | 9/13 [08:57<03:57, 59.48s/it]\u001b[A"
     ]
    },
    {
     "name": "stdout",
     "output_type": "stream",
     "text": [
      "sigma = 2048.0 , gamma = 1.4901161193847656e-08 , MSE = 27.81476723293912\n",
      "sigma = 2896.309375740099 , gamma = 9.094947017729282e-13 , MSE = 14.289121502703352\n",
      "sigma = 2896.309375740099 , gamma = 1.8189894035458565e-12 , MSE = 17.69551765404275\n",
      "sigma = 2896.309375740099 , gamma = 3.637978807091713e-12 , MSE = 35.39582920603477\n",
      "sigma = 2896.309375740099 , gamma = 7.275957614183426e-12 , MSE = 29.303184096761346\n",
      "sigma = 2896.309375740099 , gamma = 1.4551915228366852e-11 , MSE = 14.18886198477781\n",
      "sigma = 2896.309375740099 , gamma = 2.9103830456733704e-11 , MSE = 12.032244710217757\n",
      "sigma = 2896.309375740099 , gamma = 5.820766091346741e-11 , MSE = 13.418325900287039\n",
      "sigma = 2896.309375740099 , gamma = 1.1641532182693481e-10 , MSE = 17.64311628521886\n",
      "sigma = 2896.309375740099 , gamma = 2.3283064365386963e-10 , MSE = 20.069655613893623\n",
      "sigma = 2896.309375740099 , gamma = 4.656612873077393e-10 , MSE = 22.62976093149738\n",
      "sigma = 2896.309375740099 , gamma = 9.313225746154785e-10 , MSE = 22.794792905733917\n",
      "sigma = 2896.309375740099 , gamma = 1.862645149230957e-09 , MSE = 26.67768503613642\n",
      "sigma = 2896.309375740099 , gamma = 3.725290298461914e-09 , MSE = 25.307737229708916\n",
      "sigma = 2896.309375740099 , gamma = 7.450580596923828e-09 , MSE = 30.66180900650494\n"
     ]
    },
    {
     "name": "stderr",
     "output_type": "stream",
     "text": [
      "\n",
      " 77%|███████████████████████████████████████████████████████████████                   | 10/13 [09:56<02:58, 59.37s/it]\u001b[A"
     ]
    },
    {
     "name": "stdout",
     "output_type": "stream",
     "text": [
      "sigma = 2896.309375740099 , gamma = 1.4901161193847656e-08 , MSE = 31.59030807272731\n",
      "sigma = 4096.0 , gamma = 9.094947017729282e-13 , MSE = 14.842753515436247\n",
      "sigma = 4096.0 , gamma = 1.8189894035458565e-12 , MSE = 20.088080134718854\n",
      "sigma = 4096.0 , gamma = 3.637978807091713e-12 , MSE = 14.11957758337538\n",
      "sigma = 4096.0 , gamma = 7.275957614183426e-12 , MSE = 17.90701209924618\n",
      "sigma = 4096.0 , gamma = 1.4551915228366852e-11 , MSE = 14.618990000330786\n",
      "sigma = 4096.0 , gamma = 2.9103830456733704e-11 , MSE = 16.31519657552336\n",
      "sigma = 4096.0 , gamma = 5.820766091346741e-11 , MSE = 17.79330468166078\n",
      "sigma = 4096.0 , gamma = 1.1641532182693481e-10 , MSE = 24.83263599453635\n",
      "sigma = 4096.0 , gamma = 2.3283064365386963e-10 , MSE = 29.741817969832105\n",
      "sigma = 4096.0 , gamma = 4.656612873077393e-10 , MSE = 25.67558355707551\n",
      "sigma = 4096.0 , gamma = 9.313225746154785e-10 , MSE = 28.301861515275686\n",
      "sigma = 4096.0 , gamma = 1.862645149230957e-09 , MSE = 26.28447610633923\n",
      "sigma = 4096.0 , gamma = 3.725290298461914e-09 , MSE = 26.50537933735249\n",
      "sigma = 4096.0 , gamma = 7.450580596923828e-09 , MSE = 26.56085029998213\n"
     ]
    },
    {
     "name": "stderr",
     "output_type": "stream",
     "text": [
      "\n",
      " 85%|█████████████████████████████████████████████████████████████████████▍            | 11/13 [10:54<01:57, 58.81s/it]\u001b[A"
     ]
    },
    {
     "name": "stdout",
     "output_type": "stream",
     "text": [
      "sigma = 4096.0 , gamma = 1.4901161193847656e-08 , MSE = 27.30039156401956\n",
      "sigma = 5792.618751480198 , gamma = 9.094947017729282e-13 , MSE = 16.73389014384535\n",
      "sigma = 5792.618751480198 , gamma = 1.8189894035458565e-12 , MSE = 15.794066124112527\n",
      "sigma = 5792.618751480198 , gamma = 3.637978807091713e-12 , MSE = 15.40962014170895\n",
      "sigma = 5792.618751480198 , gamma = 7.275957614183426e-12 , MSE = 19.241152870567053\n",
      "sigma = 5792.618751480198 , gamma = 1.4551915228366852e-11 , MSE = 19.994808236314796\n",
      "sigma = 5792.618751480198 , gamma = 2.9103830456733704e-11 , MSE = 21.43133228027134\n",
      "sigma = 5792.618751480198 , gamma = 5.820766091346741e-11 , MSE = 24.080305890920595\n",
      "sigma = 5792.618751480198 , gamma = 1.1641532182693481e-10 , MSE = 27.843951989332645\n",
      "sigma = 5792.618751480198 , gamma = 2.3283064365386963e-10 , MSE = 31.193943452766224\n",
      "sigma = 5792.618751480198 , gamma = 4.656612873077393e-10 , MSE = 28.249482544462506\n",
      "sigma = 5792.618751480198 , gamma = 9.313225746154785e-10 , MSE = 35.11677865578059\n",
      "sigma = 5792.618751480198 , gamma = 1.862645149230957e-09 , MSE = 26.865843975030163\n",
      "sigma = 5792.618751480198 , gamma = 3.725290298461914e-09 , MSE = 30.916869779930828\n",
      "sigma = 5792.618751480198 , gamma = 7.450580596923828e-09 , MSE = 30.727625561085876\n"
     ]
    },
    {
     "name": "stderr",
     "output_type": "stream",
     "text": [
      "\n",
      " 92%|███████████████████████████████████████████████████████████████████████████▋      | 12/13 [11:51<00:58, 58.36s/it]\u001b[A"
     ]
    },
    {
     "name": "stdout",
     "output_type": "stream",
     "text": [
      "sigma = 5792.618751480198 , gamma = 1.4901161193847656e-08 , MSE = 29.507798029911868\n",
      "sigma = 8192.0 , gamma = 9.094947017729282e-13 , MSE = 15.685279176855051\n",
      "sigma = 8192.0 , gamma = 1.8189894035458565e-12 , MSE = 17.46412900108017\n",
      "sigma = 8192.0 , gamma = 3.637978807091713e-12 , MSE = 21.593997524316947\n",
      "sigma = 8192.0 , gamma = 7.275957614183426e-12 , MSE = 18.69121269348769\n",
      "sigma = 8192.0 , gamma = 1.4551915228366852e-11 , MSE = 24.213153755666966\n",
      "sigma = 8192.0 , gamma = 2.9103830456733704e-11 , MSE = 25.677937497597547\n",
      "sigma = 8192.0 , gamma = 5.820766091346741e-11 , MSE = 23.25360204240631\n",
      "sigma = 8192.0 , gamma = 1.1641532182693481e-10 , MSE = 27.92356963930631\n",
      "sigma = 8192.0 , gamma = 2.3283064365386963e-10 , MSE = 28.22462730718727\n",
      "sigma = 8192.0 , gamma = 4.656612873077393e-10 , MSE = 26.280908521473215\n",
      "sigma = 8192.0 , gamma = 9.313225746154785e-10 , MSE = 25.83949631681556\n",
      "sigma = 8192.0 , gamma = 1.862645149230957e-09 , MSE = 27.713888169573067\n",
      "sigma = 8192.0 , gamma = 3.725290298461914e-09 , MSE = 28.81948746150951\n",
      "sigma = 8192.0 , gamma = 7.450580596923828e-09 , MSE = 27.64590533928047\n"
     ]
    },
    {
     "name": "stderr",
     "output_type": "stream",
     "text": [
      "\n",
      "100%|██████████████████████████████████████████████████████████████████████████████████| 13/13 [12:49<00:00, 59.16s/it]\u001b[A"
     ]
    },
    {
     "name": "stdout",
     "output_type": "stream",
     "text": [
      "sigma = 8192.0 , gamma = 1.4901161193847656e-08 , MSE = 30.023303973660838\n"
     ]
    },
    {
     "name": "stderr",
     "output_type": "stream",
     "text": [
      "\n",
      " 75%|█████████████████████████████████████████████████████████▊                   | 15/20 [3:16:44<1:04:29, 773.96s/it]\n",
      "  0%|                                                                                           | 0/13 [00:00<?, ?it/s]\u001b[A"
     ]
    },
    {
     "name": "stdout",
     "output_type": "stream",
     "text": [
      "[5.873688288314505, 13.277187804504006]\n",
      "sigma = 128.0 , gamma = 9.094947017729282e-13 , MSE = 9690.649220246982\n",
      "sigma = 128.0 , gamma = 1.8189894035458565e-12 , MSE = 6849.154795425738\n",
      "sigma = 128.0 , gamma = 3.637978807091713e-12 , MSE = 814.6059761911082\n",
      "sigma = 128.0 , gamma = 7.275957614183426e-12 , MSE = 562.2800621210795\n",
      "sigma = 128.0 , gamma = 1.4551915228366852e-11 , MSE = 486.5986886045568\n",
      "sigma = 128.0 , gamma = 2.9103830456733704e-11 , MSE = 133.37794593954175\n",
      "sigma = 128.0 , gamma = 5.820766091346741e-11 , MSE = 117.18402849739815\n",
      "sigma = 128.0 , gamma = 1.1641532182693481e-10 , MSE = 339.553665639697\n",
      "sigma = 128.0 , gamma = 2.3283064365386963e-10 , MSE = 468.19222406812986\n",
      "sigma = 128.0 , gamma = 4.656612873077393e-10 , MSE = 114.68701727895643\n",
      "sigma = 128.0 , gamma = 9.313225746154785e-10 , MSE = 78.50644773952732\n",
      "sigma = 128.0 , gamma = 1.862645149230957e-09 , MSE = 77.22562973754566\n",
      "sigma = 128.0 , gamma = 3.725290298461914e-09 , MSE = 160.0712952589344\n",
      "sigma = 128.0 , gamma = 7.450580596923828e-09 , MSE = 35.59380110444224\n"
     ]
    },
    {
     "name": "stderr",
     "output_type": "stream",
     "text": [
      "\n",
      "  8%|██████▍                                                                            | 1/13 [00:56<11:20, 56.70s/it]\u001b[A"
     ]
    },
    {
     "name": "stdout",
     "output_type": "stream",
     "text": [
      "sigma = 128.0 , gamma = 1.4901161193847656e-08 , MSE = 62.109965728717384\n",
      "sigma = 181.01933598375618 , gamma = 9.094947017729282e-13 , MSE = 1526.7716726274198\n",
      "sigma = 181.01933598375618 , gamma = 1.8189894035458565e-12 , MSE = 519.4875946164577\n",
      "sigma = 181.01933598375618 , gamma = 3.637978807091713e-12 , MSE = 177.98297221504774\n",
      "sigma = 181.01933598375618 , gamma = 7.275957614183426e-12 , MSE = 423.37194146796463\n",
      "sigma = 181.01933598375618 , gamma = 1.4551915228366852e-11 , MSE = 175.90173019389633\n",
      "sigma = 181.01933598375618 , gamma = 2.9103830456733704e-11 , MSE = 159.61356889045254\n",
      "sigma = 181.01933598375618 , gamma = 5.820766091346741e-11 , MSE = 413.7613435345732\n",
      "sigma = 181.01933598375618 , gamma = 1.1641532182693481e-10 , MSE = 107.57324320598245\n",
      "sigma = 181.01933598375618 , gamma = 2.3283064365386963e-10 , MSE = 120.14113940610164\n",
      "sigma = 181.01933598375618 , gamma = 4.656612873077393e-10 , MSE = 29.05780107822448\n",
      "sigma = 181.01933598375618 , gamma = 9.313225746154785e-10 , MSE = 26.71328346119403\n",
      "sigma = 181.01933598375618 , gamma = 1.862645149230957e-09 , MSE = 29.913708679562923\n",
      "sigma = 181.01933598375618 , gamma = 3.725290298461914e-09 , MSE = 80.9431714600649\n",
      "sigma = 181.01933598375618 , gamma = 7.450580596923828e-09 , MSE = 27.20547560216618\n"
     ]
    },
    {
     "name": "stderr",
     "output_type": "stream",
     "text": [
      "\n",
      " 15%|████████████▊                                                                      | 2/13 [01:53<10:27, 57.03s/it]\u001b[A"
     ]
    },
    {
     "name": "stdout",
     "output_type": "stream",
     "text": [
      "sigma = 181.01933598375618 , gamma = 1.4901161193847656e-08 , MSE = 32.45805558238579\n",
      "sigma = 256.0 , gamma = 9.094947017729282e-13 , MSE = 567.952700855268\n",
      "sigma = 256.0 , gamma = 1.8189894035458565e-12 , MSE = 110.64976473645558\n",
      "sigma = 256.0 , gamma = 3.637978807091713e-12 , MSE = 10365.9941935487\n",
      "sigma = 256.0 , gamma = 7.275957614183426e-12 , MSE = 139.24613627410463\n",
      "sigma = 256.0 , gamma = 1.4551915228366852e-11 , MSE = 192.658813765496\n",
      "sigma = 256.0 , gamma = 2.9103830456733704e-11 , MSE = 510.1486180682324\n",
      "sigma = 256.0 , gamma = 5.820766091346741e-11 , MSE = 57.19801334876852\n",
      "sigma = 256.0 , gamma = 1.1641532182693481e-10 , MSE = 31.852292386028658\n",
      "sigma = 256.0 , gamma = 2.3283064365386963e-10 , MSE = 42.23537326993873\n",
      "sigma = 256.0 , gamma = 4.656612873077393e-10 , MSE = 24.39794518434817\n",
      "sigma = 256.0 , gamma = 9.313225746154785e-10 , MSE = 36.77308388174804\n",
      "sigma = 256.0 , gamma = 1.862645149230957e-09 , MSE = 91.7482249556015\n",
      "sigma = 256.0 , gamma = 3.725290298461914e-09 , MSE = 43.36214394607977\n",
      "sigma = 256.0 , gamma = 7.450580596923828e-09 , MSE = 21.186111057647583\n"
     ]
    },
    {
     "name": "stderr",
     "output_type": "stream",
     "text": [
      "\n",
      " 23%|███████████████████▏                                                               | 3/13 [02:50<09:26, 56.67s/it]\u001b[A"
     ]
    },
    {
     "name": "stdout",
     "output_type": "stream",
     "text": [
      "sigma = 256.0 , gamma = 1.4901161193847656e-08 , MSE = 16.643126890414603\n",
      "sigma = 362.03867196751236 , gamma = 9.094947017729282e-13 , MSE = 66.78640076291862\n",
      "sigma = 362.03867196751236 , gamma = 1.8189894035458565e-12 , MSE = 367.74604973831026\n",
      "sigma = 362.03867196751236 , gamma = 3.637978807091713e-12 , MSE = 77.74946591480133\n",
      "sigma = 362.03867196751236 , gamma = 7.275957614183426e-12 , MSE = 50.524803810061634\n",
      "sigma = 362.03867196751236 , gamma = 1.4551915228366852e-11 , MSE = 39.20702756493208\n",
      "sigma = 362.03867196751236 , gamma = 2.9103830456733704e-11 , MSE = 49.954586951185846\n",
      "sigma = 362.03867196751236 , gamma = 5.820766091346741e-11 , MSE = 17.702186035867726\n",
      "sigma = 362.03867196751236 , gamma = 1.1641532182693481e-10 , MSE = 21.08659972583997\n",
      "sigma = 362.03867196751236 , gamma = 2.3283064365386963e-10 , MSE = 16.80645532384255\n",
      "sigma = 362.03867196751236 , gamma = 4.656612873077393e-10 , MSE = 27.46565913247476\n",
      "sigma = 362.03867196751236 , gamma = 9.313225746154785e-10 , MSE = 22.03897064793015\n",
      "sigma = 362.03867196751236 , gamma = 1.862645149230957e-09 , MSE = 25.988533799907543\n",
      "sigma = 362.03867196751236 , gamma = 3.725290298461914e-09 , MSE = 40.020705800423784\n",
      "sigma = 362.03867196751236 , gamma = 7.450580596923828e-09 , MSE = 18.504999571665586\n"
     ]
    },
    {
     "name": "stderr",
     "output_type": "stream",
     "text": [
      "\n",
      " 31%|█████████████████████████▌                                                         | 4/13 [03:46<08:29, 56.60s/it]\u001b[A"
     ]
    },
    {
     "name": "stdout",
     "output_type": "stream",
     "text": [
      "sigma = 362.03867196751236 , gamma = 1.4901161193847656e-08 , MSE = 16.3162334621009\n",
      "sigma = 512.0 , gamma = 9.094947017729282e-13 , MSE = 117.67146105375282\n",
      "sigma = 512.0 , gamma = 1.8189894035458565e-12 , MSE = 44.44369078152505\n",
      "sigma = 512.0 , gamma = 3.637978807091713e-12 , MSE = 144.57308176131997\n",
      "sigma = 512.0 , gamma = 7.275957614183426e-12 , MSE = 26.60548569874996\n",
      "sigma = 512.0 , gamma = 1.4551915228366852e-11 , MSE = 20.953170517504866\n",
      "sigma = 512.0 , gamma = 2.9103830456733704e-11 , MSE = 21.345630542548218\n",
      "sigma = 512.0 , gamma = 5.820766091346741e-11 , MSE = 24.46819015038729\n",
      "sigma = 512.0 , gamma = 1.1641532182693481e-10 , MSE = 21.863270147056973\n",
      "sigma = 512.0 , gamma = 2.3283064365386963e-10 , MSE = 17.013256903158464\n",
      "sigma = 512.0 , gamma = 4.656612873077393e-10 , MSE = 17.38847143353114\n",
      "sigma = 512.0 , gamma = 9.313225746154785e-10 , MSE = 29.15103406614815\n",
      "sigma = 512.0 , gamma = 1.862645149230957e-09 , MSE = 15.432486502151397\n",
      "sigma = 512.0 , gamma = 3.725290298461914e-09 , MSE = 16.52280107341484\n",
      "sigma = 512.0 , gamma = 7.450580596923828e-09 , MSE = 16.06395840128701\n"
     ]
    },
    {
     "name": "stderr",
     "output_type": "stream",
     "text": [
      "\n",
      " 38%|███████████████████████████████▉                                                   | 5/13 [04:42<07:31, 56.49s/it]\u001b[A"
     ]
    },
    {
     "name": "stdout",
     "output_type": "stream",
     "text": [
      "sigma = 512.0 , gamma = 1.4901161193847656e-08 , MSE = 15.342743345730884\n",
      "sigma = 724.0773439350247 , gamma = 9.094947017729282e-13 , MSE = 28.32503068094627\n",
      "sigma = 724.0773439350247 , gamma = 1.8189894035458565e-12 , MSE = 199.96696517029585\n",
      "sigma = 724.0773439350247 , gamma = 3.637978807091713e-12 , MSE = 357.2142381172214\n",
      "sigma = 724.0773439350247 , gamma = 7.275957614183426e-12 , MSE = 19.567576471317448\n",
      "sigma = 724.0773439350247 , gamma = 1.4551915228366852e-11 , MSE = 17.28132552484621\n",
      "sigma = 724.0773439350247 , gamma = 2.9103830456733704e-11 , MSE = 14.457288009753992\n",
      "sigma = 724.0773439350247 , gamma = 5.820766091346741e-11 , MSE = 18.299999917327998\n",
      "sigma = 724.0773439350247 , gamma = 1.1641532182693481e-10 , MSE = 18.513636865952016\n",
      "sigma = 724.0773439350247 , gamma = 2.3283064365386963e-10 , MSE = 16.38648528316704\n",
      "sigma = 724.0773439350247 , gamma = 4.656612873077393e-10 , MSE = 15.779846649917687\n",
      "sigma = 724.0773439350247 , gamma = 9.313225746154785e-10 , MSE = 15.108902054662057\n",
      "sigma = 724.0773439350247 , gamma = 1.862645149230957e-09 , MSE = 15.62386226295872\n",
      "sigma = 724.0773439350247 , gamma = 3.725290298461914e-09 , MSE = 12.225547519221385\n",
      "sigma = 724.0773439350247 , gamma = 7.450580596923828e-09 , MSE = 17.062852800625755\n"
     ]
    },
    {
     "name": "stderr",
     "output_type": "stream",
     "text": [
      "\n",
      " 46%|██████████████████████████████████████▎                                            | 6/13 [05:39<06:36, 56.64s/it]\u001b[A"
     ]
    },
    {
     "name": "stdout",
     "output_type": "stream",
     "text": [
      "sigma = 724.0773439350247 , gamma = 1.4901161193847656e-08 , MSE = 16.890389728932274\n",
      "sigma = 1024.0 , gamma = 9.094947017729282e-13 , MSE = 20.79788977779845\n",
      "sigma = 1024.0 , gamma = 1.8189894035458565e-12 , MSE = 21.463025578338602\n",
      "sigma = 1024.0 , gamma = 3.637978807091713e-12 , MSE = 19.58415358775448\n",
      "sigma = 1024.0 , gamma = 7.275957614183426e-12 , MSE = 19.33764944618857\n",
      "sigma = 1024.0 , gamma = 1.4551915228366852e-11 , MSE = 16.550996083419907\n",
      "sigma = 1024.0 , gamma = 2.9103830456733704e-11 , MSE = 16.84897804047798\n",
      "sigma = 1024.0 , gamma = 5.820766091346741e-11 , MSE = 16.822507354316144\n",
      "sigma = 1024.0 , gamma = 1.1641532182693481e-10 , MSE = 13.585933000371384\n",
      "sigma = 1024.0 , gamma = 2.3283064365386963e-10 , MSE = 19.958936120718526\n",
      "sigma = 1024.0 , gamma = 4.656612873077393e-10 , MSE = 13.534982504561274\n",
      "sigma = 1024.0 , gamma = 9.313225746154785e-10 , MSE = 19.342514256788412\n",
      "sigma = 1024.0 , gamma = 1.862645149230957e-09 , MSE = 29.425102787689628\n",
      "sigma = 1024.0 , gamma = 3.725290298461914e-09 , MSE = 17.198643280830993\n",
      "sigma = 1024.0 , gamma = 7.450580596923828e-09 , MSE = 20.208259158787502\n"
     ]
    },
    {
     "name": "stderr",
     "output_type": "stream",
     "text": [
      "\n",
      " 54%|████████████████████████████████████████████▋                                      | 7/13 [06:36<05:39, 56.64s/it]\u001b[A"
     ]
    },
    {
     "name": "stdout",
     "output_type": "stream",
     "text": [
      "sigma = 1024.0 , gamma = 1.4901161193847656e-08 , MSE = 21.912447143995962\n",
      "sigma = 1448.1546878700494 , gamma = 9.094947017729282e-13 , MSE = 18.956009298522424\n",
      "sigma = 1448.1546878700494 , gamma = 1.8189894035458565e-12 , MSE = 15.688714654682723\n",
      "sigma = 1448.1546878700494 , gamma = 3.637978807091713e-12 , MSE = 21.00607003692695\n",
      "sigma = 1448.1546878700494 , gamma = 7.275957614183426e-12 , MSE = 21.60327037192074\n",
      "sigma = 1448.1546878700494 , gamma = 1.4551915228366852e-11 , MSE = 17.110185106089123\n",
      "sigma = 1448.1546878700494 , gamma = 2.9103830456733704e-11 , MSE = 17.7121512609884\n",
      "sigma = 1448.1546878700494 , gamma = 5.820766091346741e-11 , MSE = 18.41956071450583\n",
      "sigma = 1448.1546878700494 , gamma = 1.1641532182693481e-10 , MSE = 18.568276060555853\n",
      "sigma = 1448.1546878700494 , gamma = 2.3283064365386963e-10 , MSE = 14.133885380781257\n",
      "sigma = 1448.1546878700494 , gamma = 4.656612873077393e-10 , MSE = 14.949869717268374\n",
      "sigma = 1448.1546878700494 , gamma = 9.313225746154785e-10 , MSE = 13.6579946928727\n",
      "sigma = 1448.1546878700494 , gamma = 1.862645149230957e-09 , MSE = 17.26532185385801\n",
      "sigma = 1448.1546878700494 , gamma = 3.725290298461914e-09 , MSE = 21.786754476680983\n",
      "sigma = 1448.1546878700494 , gamma = 7.450580596923828e-09 , MSE = 23.192907050035227\n"
     ]
    },
    {
     "name": "stderr",
     "output_type": "stream",
     "text": [
      "\n",
      " 62%|███████████████████████████████████████████████████                                | 8/13 [07:33<04:44, 56.80s/it]\u001b[A"
     ]
    },
    {
     "name": "stdout",
     "output_type": "stream",
     "text": [
      "sigma = 1448.1546878700494 , gamma = 1.4901161193847656e-08 , MSE = 18.69274496200999\n",
      "sigma = 2048.0 , gamma = 9.094947017729282e-13 , MSE = 17.574945994648644\n",
      "sigma = 2048.0 , gamma = 1.8189894035458565e-12 , MSE = 14.492703040230385\n",
      "sigma = 2048.0 , gamma = 3.637978807091713e-12 , MSE = 17.45682969543911\n",
      "sigma = 2048.0 , gamma = 7.275957614183426e-12 , MSE = 14.053242924558052\n",
      "sigma = 2048.0 , gamma = 1.4551915228366852e-11 , MSE = 12.681627133757724\n",
      "sigma = 2048.0 , gamma = 2.9103830456733704e-11 , MSE = 16.147519757518396\n",
      "sigma = 2048.0 , gamma = 5.820766091346741e-11 , MSE = 15.625584845751542\n",
      "sigma = 2048.0 , gamma = 1.1641532182693481e-10 , MSE = 17.365768058766484\n",
      "sigma = 2048.0 , gamma = 2.3283064365386963e-10 , MSE = 14.745789446828486\n",
      "sigma = 2048.0 , gamma = 4.656612873077393e-10 , MSE = 19.93077284377707\n",
      "sigma = 2048.0 , gamma = 9.313225746154785e-10 , MSE = 21.577997260748564\n",
      "sigma = 2048.0 , gamma = 1.862645149230957e-09 , MSE = 22.820840464977447\n",
      "sigma = 2048.0 , gamma = 3.725290298461914e-09 , MSE = 21.93570995120723\n",
      "sigma = 2048.0 , gamma = 7.450580596923828e-09 , MSE = 22.95434777368145\n"
     ]
    },
    {
     "name": "stderr",
     "output_type": "stream",
     "text": [
      "\n",
      " 69%|█████████████████████████████████████████████████████████▍                         | 9/13 [08:30<03:47, 56.79s/it]\u001b[A"
     ]
    },
    {
     "name": "stdout",
     "output_type": "stream",
     "text": [
      "sigma = 2048.0 , gamma = 1.4901161193847656e-08 , MSE = 25.6020924993907\n",
      "sigma = 2896.309375740099 , gamma = 9.094947017729282e-13 , MSE = 18.827498869203787\n",
      "sigma = 2896.309375740099 , gamma = 1.8189894035458565e-12 , MSE = 17.416313179478145\n",
      "sigma = 2896.309375740099 , gamma = 3.637978807091713e-12 , MSE = 16.54609297914935\n",
      "sigma = 2896.309375740099 , gamma = 7.275957614183426e-12 , MSE = 14.699627826351996\n",
      "sigma = 2896.309375740099 , gamma = 1.4551915228366852e-11 , MSE = 15.48937035244623\n",
      "sigma = 2896.309375740099 , gamma = 2.9103830456733704e-11 , MSE = 19.499410035393357\n",
      "sigma = 2896.309375740099 , gamma = 5.820766091346741e-11 , MSE = 18.869366393214456\n",
      "sigma = 2896.309375740099 , gamma = 1.1641532182693481e-10 , MSE = 22.039403704880716\n",
      "sigma = 2896.309375740099 , gamma = 2.3283064365386963e-10 , MSE = 19.162037344012422\n",
      "sigma = 2896.309375740099 , gamma = 4.656612873077393e-10 , MSE = 25.809416274026738\n",
      "sigma = 2896.309375740099 , gamma = 9.313225746154785e-10 , MSE = 24.092023152276077\n",
      "sigma = 2896.309375740099 , gamma = 1.862645149230957e-09 , MSE = 16.786000279233185\n",
      "sigma = 2896.309375740099 , gamma = 3.725290298461914e-09 , MSE = 21.399200989236196\n",
      "sigma = 2896.309375740099 , gamma = 7.450580596923828e-09 , MSE = 25.41773640708443\n"
     ]
    },
    {
     "name": "stderr",
     "output_type": "stream",
     "text": [
      "\n",
      " 77%|███████████████████████████████████████████████████████████████                   | 10/13 [09:27<02:50, 56.97s/it]\u001b[A"
     ]
    },
    {
     "name": "stdout",
     "output_type": "stream",
     "text": [
      "sigma = 2896.309375740099 , gamma = 1.4901161193847656e-08 , MSE = 30.298661260147856\n",
      "sigma = 4096.0 , gamma = 9.094947017729282e-13 , MSE = 17.402192993453927\n",
      "sigma = 4096.0 , gamma = 1.8189894035458565e-12 , MSE = 15.141153559240916\n",
      "sigma = 4096.0 , gamma = 3.637978807091713e-12 , MSE = 13.407244656936308\n",
      "sigma = 4096.0 , gamma = 7.275957614183426e-12 , MSE = 16.442952843266454\n",
      "sigma = 4096.0 , gamma = 1.4551915228366852e-11 , MSE = 17.709272129315007\n",
      "sigma = 4096.0 , gamma = 2.9103830456733704e-11 , MSE = 20.206179700365215\n",
      "sigma = 4096.0 , gamma = 5.820766091346741e-11 , MSE = 20.544589446586\n",
      "sigma = 4096.0 , gamma = 1.1641532182693481e-10 , MSE = 21.769652848099376\n",
      "sigma = 4096.0 , gamma = 2.3283064365386963e-10 , MSE = 21.22961406917434\n",
      "sigma = 4096.0 , gamma = 4.656612873077393e-10 , MSE = 19.774572553209406\n",
      "sigma = 4096.0 , gamma = 9.313225746154785e-10 , MSE = 27.57230959993617\n",
      "sigma = 4096.0 , gamma = 1.862645149230957e-09 , MSE = 22.557808272768494\n",
      "sigma = 4096.0 , gamma = 3.725290298461914e-09 , MSE = 24.569304036138742\n",
      "sigma = 4096.0 , gamma = 7.450580596923828e-09 , MSE = 24.345188641878927\n"
     ]
    },
    {
     "name": "stderr",
     "output_type": "stream",
     "text": [
      "\n",
      " 85%|█████████████████████████████████████████████████████████████████████▍            | 11/13 [10:25<01:54, 57.16s/it]\u001b[A"
     ]
    },
    {
     "name": "stdout",
     "output_type": "stream",
     "text": [
      "sigma = 4096.0 , gamma = 1.4901161193847656e-08 , MSE = 27.59874713492739\n",
      "sigma = 5792.618751480198 , gamma = 9.094947017729282e-13 , MSE = 16.842808385770912\n",
      "sigma = 5792.618751480198 , gamma = 1.8189894035458565e-12 , MSE = 16.711775294892753\n",
      "sigma = 5792.618751480198 , gamma = 3.637978807091713e-12 , MSE = 18.46139040546505\n",
      "sigma = 5792.618751480198 , gamma = 7.275957614183426e-12 , MSE = 20.517445949317388\n",
      "sigma = 5792.618751480198 , gamma = 1.4551915228366852e-11 , MSE = 17.867921950257404\n",
      "sigma = 5792.618751480198 , gamma = 2.9103830456733704e-11 , MSE = 19.17613923060822\n",
      "sigma = 5792.618751480198 , gamma = 5.820766091346741e-11 , MSE = 24.638707915405444\n",
      "sigma = 5792.618751480198 , gamma = 1.1641532182693481e-10 , MSE = 19.159326550581476\n",
      "sigma = 5792.618751480198 , gamma = 2.3283064365386963e-10 , MSE = 23.33830975307323\n",
      "sigma = 5792.618751480198 , gamma = 4.656612873077393e-10 , MSE = 24.477998047711917\n",
      "sigma = 5792.618751480198 , gamma = 9.313225746154785e-10 , MSE = 21.979573508539993\n",
      "sigma = 5792.618751480198 , gamma = 1.862645149230957e-09 , MSE = 21.293375125160885\n",
      "sigma = 5792.618751480198 , gamma = 3.725290298461914e-09 , MSE = 25.09777064319983\n",
      "sigma = 5792.618751480198 , gamma = 7.450580596923828e-09 , MSE = 28.722093233307326\n"
     ]
    },
    {
     "name": "stderr",
     "output_type": "stream",
     "text": [
      "\n",
      " 92%|███████████████████████████████████████████████████████████████████████████▋      | 12/13 [11:22<00:57, 57.28s/it]\u001b[A"
     ]
    },
    {
     "name": "stdout",
     "output_type": "stream",
     "text": [
      "sigma = 5792.618751480198 , gamma = 1.4901161193847656e-08 , MSE = 25.36359128090398\n",
      "sigma = 8192.0 , gamma = 9.094947017729282e-13 , MSE = 17.21994792747166\n",
      "sigma = 8192.0 , gamma = 1.8189894035458565e-12 , MSE = 19.89511719660165\n",
      "sigma = 8192.0 , gamma = 3.637978807091713e-12 , MSE = 20.244728328526215\n",
      "sigma = 8192.0 , gamma = 7.275957614183426e-12 , MSE = 22.4628363621658\n",
      "sigma = 8192.0 , gamma = 1.4551915228366852e-11 , MSE = 23.365795625613824\n",
      "sigma = 8192.0 , gamma = 2.9103830456733704e-11 , MSE = 22.489118654131346\n",
      "sigma = 8192.0 , gamma = 5.820766091346741e-11 , MSE = 22.24010612869801\n",
      "sigma = 8192.0 , gamma = 1.1641532182693481e-10 , MSE = 21.544701975431217\n",
      "sigma = 8192.0 , gamma = 2.3283064365386963e-10 , MSE = 21.765926404528365\n",
      "sigma = 8192.0 , gamma = 4.656612873077393e-10 , MSE = 21.5564904728497\n",
      "sigma = 8192.0 , gamma = 9.313225746154785e-10 , MSE = 22.995565034266537\n",
      "sigma = 8192.0 , gamma = 1.862645149230957e-09 , MSE = 24.271951281830564\n",
      "sigma = 8192.0 , gamma = 3.725290298461914e-09 , MSE = 24.27197038149988\n",
      "sigma = 8192.0 , gamma = 7.450580596923828e-09 , MSE = 30.13128731225671\n"
     ]
    },
    {
     "name": "stderr",
     "output_type": "stream",
     "text": [
      "\n",
      "100%|██████████████████████████████████████████████████████████████████████████████████| 13/13 [12:19<00:00, 56.91s/it]\u001b[A"
     ]
    },
    {
     "name": "stdout",
     "output_type": "stream",
     "text": [
      "sigma = 8192.0 , gamma = 1.4901161193847656e-08 , MSE = 28.01588485947774\n"
     ]
    },
    {
     "name": "stderr",
     "output_type": "stream",
     "text": [
      "\n",
      " 80%|███████████████████████████████████████████████████████████████▏               | 16/20 [3:29:08<50:59, 764.96s/it]\n",
      "  0%|                                                                                           | 0/13 [00:00<?, ?it/s]\u001b[A"
     ]
    },
    {
     "name": "stdout",
     "output_type": "stream",
     "text": [
      "[10.29347902544219, 11.707367888937483]\n",
      "sigma = 128.0 , gamma = 9.094947017729282e-13 , MSE = 3371.1182705580554\n",
      "sigma = 128.0 , gamma = 1.8189894035458565e-12 , MSE = 1831.229239174092\n",
      "sigma = 128.0 , gamma = 3.637978807091713e-12 , MSE = 1643.5922224241217\n",
      "sigma = 128.0 , gamma = 7.275957614183426e-12 , MSE = 2849.0626083891693\n",
      "sigma = 128.0 , gamma = 1.4551915228366852e-11 , MSE = 1248.850585671687\n",
      "sigma = 128.0 , gamma = 2.9103830456733704e-11 , MSE = 209.66252271934127\n",
      "sigma = 128.0 , gamma = 5.820766091346741e-11 , MSE = 417.80490421732554\n",
      "sigma = 128.0 , gamma = 1.1641532182693481e-10 , MSE = 178.81549374502646\n",
      "sigma = 128.0 , gamma = 2.3283064365386963e-10 , MSE = 106.29319570487719\n",
      "sigma = 128.0 , gamma = 4.656612873077393e-10 , MSE = 162.51267543681473\n",
      "sigma = 128.0 , gamma = 9.313225746154785e-10 , MSE = 78.50479151504524\n",
      "sigma = 128.0 , gamma = 1.862645149230957e-09 , MSE = 50.28320745734502\n",
      "sigma = 128.0 , gamma = 3.725290298461914e-09 , MSE = 51.41907508048341\n",
      "sigma = 128.0 , gamma = 7.450580596923828e-09 , MSE = 32.16945938074883\n"
     ]
    },
    {
     "name": "stderr",
     "output_type": "stream",
     "text": [
      "\n",
      "  8%|██████▍                                                                            | 1/13 [00:56<11:16, 56.40s/it]\u001b[A"
     ]
    },
    {
     "name": "stdout",
     "output_type": "stream",
     "text": [
      "sigma = 128.0 , gamma = 1.4901161193847656e-08 , MSE = 125.06075829306914\n",
      "sigma = 181.01933598375618 , gamma = 9.094947017729282e-13 , MSE = 46482.361351620355\n",
      "sigma = 181.01933598375618 , gamma = 1.8189894035458565e-12 , MSE = 300.77831499166905\n",
      "sigma = 181.01933598375618 , gamma = 3.637978807091713e-12 , MSE = 4036.8488484371674\n",
      "sigma = 181.01933598375618 , gamma = 7.275957614183426e-12 , MSE = 531.0762787438811\n",
      "sigma = 181.01933598375618 , gamma = 1.4551915228366852e-11 , MSE = 1310.3940106944942\n",
      "sigma = 181.01933598375618 , gamma = 2.9103830456733704e-11 , MSE = 1468.657070246306\n",
      "sigma = 181.01933598375618 , gamma = 5.820766091346741e-11 , MSE = 750.9331501911918\n",
      "sigma = 181.01933598375618 , gamma = 1.1641532182693481e-10 , MSE = 69.2827388803718\n",
      "sigma = 181.01933598375618 , gamma = 2.3283064365386963e-10 , MSE = 217.78845870752474\n",
      "sigma = 181.01933598375618 , gamma = 4.656612873077393e-10 , MSE = 23.97523107319162\n",
      "sigma = 181.01933598375618 , gamma = 9.313225746154785e-10 , MSE = 34.18336306806708\n",
      "sigma = 181.01933598375618 , gamma = 1.862645149230957e-09 , MSE = 32.58865444523268\n",
      "sigma = 181.01933598375618 , gamma = 3.725290298461914e-09 , MSE = 22.363885668446176\n",
      "sigma = 181.01933598375618 , gamma = 7.450580596923828e-09 , MSE = 16.537395097961017\n"
     ]
    },
    {
     "name": "stderr",
     "output_type": "stream",
     "text": [
      "\n",
      " 15%|████████████▊                                                                      | 2/13 [01:53<10:22, 56.56s/it]\u001b[A"
     ]
    },
    {
     "name": "stdout",
     "output_type": "stream",
     "text": [
      "sigma = 181.01933598375618 , gamma = 1.4901161193847656e-08 , MSE = 14.544739548182855\n",
      "sigma = 256.0 , gamma = 9.094947017729282e-13 , MSE = 2809.0331456144663\n",
      "sigma = 256.0 , gamma = 1.8189894035458565e-12 , MSE = 2708.8406358467173\n",
      "sigma = 256.0 , gamma = 3.637978807091713e-12 , MSE = 8604.514876201152\n",
      "sigma = 256.0 , gamma = 7.275957614183426e-12 , MSE = 1381.8061366061743\n",
      "sigma = 256.0 , gamma = 1.4551915228366852e-11 , MSE = 708.0009572024877\n",
      "sigma = 256.0 , gamma = 2.9103830456733704e-11 , MSE = 602.1506039221783\n",
      "sigma = 256.0 , gamma = 5.820766091346741e-11 , MSE = 472.88192947785564\n",
      "sigma = 256.0 , gamma = 1.1641532182693481e-10 , MSE = 323.02600790918854\n",
      "sigma = 256.0 , gamma = 2.3283064365386963e-10 , MSE = 19.167468208900384\n",
      "sigma = 256.0 , gamma = 4.656612873077393e-10 , MSE = 28.00247316108463\n",
      "sigma = 256.0 , gamma = 9.313225746154785e-10 , MSE = 16.353384643369655\n",
      "sigma = 256.0 , gamma = 1.862645149230957e-09 , MSE = 15.532667441917132\n",
      "sigma = 256.0 , gamma = 3.725290298461914e-09 , MSE = 12.793370073994435\n",
      "sigma = 256.0 , gamma = 7.450580596923828e-09 , MSE = 30.23158643574893\n"
     ]
    },
    {
     "name": "stderr",
     "output_type": "stream",
     "text": [
      "\n",
      " 23%|███████████████████▏                                                               | 3/13 [02:49<09:24, 56.42s/it]\u001b[A"
     ]
    },
    {
     "name": "stdout",
     "output_type": "stream",
     "text": [
      "sigma = 256.0 , gamma = 1.4901161193847656e-08 , MSE = 21.504710003631324\n",
      "sigma = 362.03867196751236 , gamma = 9.094947017729282e-13 , MSE = 4106.144851657345\n",
      "sigma = 362.03867196751236 , gamma = 1.8189894035458565e-12 , MSE = 102.73503829906579\n",
      "sigma = 362.03867196751236 , gamma = 3.637978807091713e-12 , MSE = 43.4690023663189\n",
      "sigma = 362.03867196751236 , gamma = 7.275957614183426e-12 , MSE = 963.9199050437359\n",
      "sigma = 362.03867196751236 , gamma = 1.4551915228366852e-11 , MSE = 469.1889100161955\n",
      "sigma = 362.03867196751236 , gamma = 2.9103830456733704e-11 , MSE = 199.3754583432728\n",
      "sigma = 362.03867196751236 , gamma = 5.820766091346741e-11 , MSE = 155.79422000211906\n",
      "sigma = 362.03867196751236 , gamma = 1.1641532182693481e-10 , MSE = 34.963301779220025\n",
      "sigma = 362.03867196751236 , gamma = 2.3283064365386963e-10 , MSE = 20.380129964376806\n",
      "sigma = 362.03867196751236 , gamma = 4.656612873077393e-10 , MSE = 19.127047505519815\n",
      "sigma = 362.03867196751236 , gamma = 9.313225746154785e-10 , MSE = 13.013873637293978\n",
      "sigma = 362.03867196751236 , gamma = 1.862645149230957e-09 , MSE = 29.217187057653888\n",
      "sigma = 362.03867196751236 , gamma = 3.725290298461914e-09 , MSE = 13.304043642138287\n",
      "sigma = 362.03867196751236 , gamma = 7.450580596923828e-09 , MSE = 16.25409314249461\n"
     ]
    },
    {
     "name": "stderr",
     "output_type": "stream",
     "text": [
      "\n",
      " 31%|█████████████████████████▌                                                         | 4/13 [03:47<08:34, 57.12s/it]\u001b[A"
     ]
    },
    {
     "name": "stdout",
     "output_type": "stream",
     "text": [
      "sigma = 362.03867196751236 , gamma = 1.4901161193847656e-08 , MSE = 22.224366631396165\n",
      "sigma = 512.0 , gamma = 9.094947017729282e-13 , MSE = 627.3117317065644\n",
      "sigma = 512.0 , gamma = 1.8189894035458565e-12 , MSE = 71.22585938706465\n",
      "sigma = 512.0 , gamma = 3.637978807091713e-12 , MSE = 79.56908475234209\n",
      "sigma = 512.0 , gamma = 7.275957614183426e-12 , MSE = 494.4686051149827\n",
      "sigma = 512.0 , gamma = 1.4551915228366852e-11 , MSE = 19.740254095791308\n",
      "sigma = 512.0 , gamma = 2.9103830456733704e-11 , MSE = 117.18097913855601\n",
      "sigma = 512.0 , gamma = 5.820766091346741e-11 , MSE = 22.045877196926533\n",
      "sigma = 512.0 , gamma = 1.1641532182693481e-10 , MSE = 16.958736019122632\n",
      "sigma = 512.0 , gamma = 2.3283064365386963e-10 , MSE = 21.542492389833917\n",
      "sigma = 512.0 , gamma = 4.656612873077393e-10 , MSE = 14.053222611786481\n",
      "sigma = 512.0 , gamma = 9.313225746154785e-10 , MSE = 14.294762635895498\n",
      "sigma = 512.0 , gamma = 1.862645149230957e-09 , MSE = 10.781520703122137\n",
      "sigma = 512.0 , gamma = 3.725290298461914e-09 , MSE = 14.960863423654596\n",
      "sigma = 512.0 , gamma = 7.450580596923828e-09 , MSE = 16.10504345130576\n"
     ]
    },
    {
     "name": "stderr",
     "output_type": "stream",
     "text": [
      "\n",
      " 38%|███████████████████████████████▉                                                   | 5/13 [04:43<07:34, 56.86s/it]\u001b[A"
     ]
    },
    {
     "name": "stdout",
     "output_type": "stream",
     "text": [
      "sigma = 512.0 , gamma = 1.4901161193847656e-08 , MSE = 21.38208658967899\n",
      "sigma = 724.0773439350247 , gamma = 9.094947017729282e-13 , MSE = 2099.0880517331752\n",
      "sigma = 724.0773439350247 , gamma = 1.8189894035458565e-12 , MSE = 391.4526353498486\n",
      "sigma = 724.0773439350247 , gamma = 3.637978807091713e-12 , MSE = 119.78538739029304\n",
      "sigma = 724.0773439350247 , gamma = 7.275957614183426e-12 , MSE = 98.96893509061802\n",
      "sigma = 724.0773439350247 , gamma = 1.4551915228366852e-11 , MSE = 14.668573743729926\n",
      "sigma = 724.0773439350247 , gamma = 2.9103830456733704e-11 , MSE = 18.051577835568395\n",
      "sigma = 724.0773439350247 , gamma = 5.820766091346741e-11 , MSE = 19.612926620077552\n",
      "sigma = 724.0773439350247 , gamma = 1.1641532182693481e-10 , MSE = 16.794422887688455\n",
      "sigma = 724.0773439350247 , gamma = 2.3283064365386963e-10 , MSE = 18.783575473596265\n",
      "sigma = 724.0773439350247 , gamma = 4.656612873077393e-10 , MSE = 49.989873264273534\n",
      "sigma = 724.0773439350247 , gamma = 9.313225746154785e-10 , MSE = 16.79705262995119\n",
      "sigma = 724.0773439350247 , gamma = 1.862645149230957e-09 , MSE = 23.778806986700747\n",
      "sigma = 724.0773439350247 , gamma = 3.725290298461914e-09 , MSE = 19.202274764321928\n",
      "sigma = 724.0773439350247 , gamma = 7.450580596923828e-09 , MSE = 17.178667557007437\n"
     ]
    },
    {
     "name": "stderr",
     "output_type": "stream",
     "text": [
      "\n",
      " 46%|██████████████████████████████████████▎                                            | 6/13 [05:41<06:39, 57.06s/it]\u001b[A"
     ]
    },
    {
     "name": "stdout",
     "output_type": "stream",
     "text": [
      "sigma = 724.0773439350247 , gamma = 1.4901161193847656e-08 , MSE = 23.648373353922757\n",
      "sigma = 1024.0 , gamma = 9.094947017729282e-13 , MSE = 398.09800853395944\n",
      "sigma = 1024.0 , gamma = 1.8189894035458565e-12 , MSE = 68.32048990393761\n",
      "sigma = 1024.0 , gamma = 3.637978807091713e-12 , MSE = 14.629674618465648\n",
      "sigma = 1024.0 , gamma = 7.275957614183426e-12 , MSE = 14.265004189287703\n",
      "sigma = 1024.0 , gamma = 1.4551915228366852e-11 , MSE = 14.105106173982879\n",
      "sigma = 1024.0 , gamma = 2.9103830456733704e-11 , MSE = 16.103328034090588\n",
      "sigma = 1024.0 , gamma = 5.820766091346741e-11 , MSE = 24.18796011803841\n",
      "sigma = 1024.0 , gamma = 1.1641532182693481e-10 , MSE = 19.576165565299416\n",
      "sigma = 1024.0 , gamma = 2.3283064365386963e-10 , MSE = 12.653440485840658\n",
      "sigma = 1024.0 , gamma = 4.656612873077393e-10 , MSE = 33.8635471402241\n",
      "sigma = 1024.0 , gamma = 9.313225746154785e-10 , MSE = 23.363819172609208\n",
      "sigma = 1024.0 , gamma = 1.862645149230957e-09 , MSE = 27.81794216481031\n",
      "sigma = 1024.0 , gamma = 3.725290298461914e-09 , MSE = 18.61383242624089\n",
      "sigma = 1024.0 , gamma = 7.450580596923828e-09 , MSE = 19.465920549568928\n"
     ]
    },
    {
     "name": "stderr",
     "output_type": "stream",
     "text": [
      "\n",
      " 54%|████████████████████████████████████████████▋                                      | 7/13 [06:37<05:40, 56.76s/it]\u001b[A"
     ]
    },
    {
     "name": "stdout",
     "output_type": "stream",
     "text": [
      "sigma = 1024.0 , gamma = 1.4901161193847656e-08 , MSE = 24.48620483636954\n",
      "sigma = 1448.1546878700494 , gamma = 9.094947017729282e-13 , MSE = 17.669519931121464\n",
      "sigma = 1448.1546878700494 , gamma = 1.8189894035458565e-12 , MSE = 18.510209624439472\n",
      "sigma = 1448.1546878700494 , gamma = 3.637978807091713e-12 , MSE = 35.2494807576888\n",
      "sigma = 1448.1546878700494 , gamma = 7.275957614183426e-12 , MSE = 40.49675081658888\n",
      "sigma = 1448.1546878700494 , gamma = 1.4551915228366852e-11 , MSE = 24.79738676642021\n",
      "sigma = 1448.1546878700494 , gamma = 2.9103830456733704e-11 , MSE = 41.86319915439883\n",
      "sigma = 1448.1546878700494 , gamma = 5.820766091346741e-11 , MSE = 43.67335157378433\n",
      "sigma = 1448.1546878700494 , gamma = 1.1641532182693481e-10 , MSE = 17.793348010918415\n",
      "sigma = 1448.1546878700494 , gamma = 2.3283064365386963e-10 , MSE = 29.853944105054\n",
      "sigma = 1448.1546878700494 , gamma = 4.656612873077393e-10 , MSE = 36.795128466862565\n",
      "sigma = 1448.1546878700494 , gamma = 9.313225746154785e-10 , MSE = 25.566457123844604\n",
      "sigma = 1448.1546878700494 , gamma = 1.862645149230957e-09 , MSE = 21.588867070806554\n",
      "sigma = 1448.1546878700494 , gamma = 3.725290298461914e-09 , MSE = 19.391806395940804\n",
      "sigma = 1448.1546878700494 , gamma = 7.450580596923828e-09 , MSE = 22.385751684372018\n"
     ]
    },
    {
     "name": "stderr",
     "output_type": "stream",
     "text": [
      "\n",
      " 62%|███████████████████████████████████████████████████                                | 8/13 [07:34<04:43, 56.74s/it]\u001b[A"
     ]
    },
    {
     "name": "stdout",
     "output_type": "stream",
     "text": [
      "sigma = 1448.1546878700494 , gamma = 1.4901161193847656e-08 , MSE = 24.705097087879818\n",
      "sigma = 2048.0 , gamma = 9.094947017729282e-13 , MSE = 17.97337468665199\n",
      "sigma = 2048.0 , gamma = 1.8189894035458565e-12 , MSE = 34.543503580230436\n",
      "sigma = 2048.0 , gamma = 3.637978807091713e-12 , MSE = 39.96677130332505\n",
      "sigma = 2048.0 , gamma = 7.275957614183426e-12 , MSE = 11.277932379461152\n",
      "sigma = 2048.0 , gamma = 1.4551915228366852e-11 , MSE = 33.07213324977026\n",
      "sigma = 2048.0 , gamma = 2.9103830456733704e-11 , MSE = 28.20381640248515\n",
      "sigma = 2048.0 , gamma = 5.820766091346741e-11 , MSE = 18.59465400563484\n",
      "sigma = 2048.0 , gamma = 1.1641532182693481e-10 , MSE = 18.464214887711748\n",
      "sigma = 2048.0 , gamma = 2.3283064365386963e-10 , MSE = 16.189689355927477\n",
      "sigma = 2048.0 , gamma = 4.656612873077393e-10 , MSE = 17.41924682947819\n",
      "sigma = 2048.0 , gamma = 9.313225746154785e-10 , MSE = 16.059390479276868\n",
      "sigma = 2048.0 , gamma = 1.862645149230957e-09 , MSE = 19.33630192286671\n",
      "sigma = 2048.0 , gamma = 3.725290298461914e-09 , MSE = 25.620022927564623\n",
      "sigma = 2048.0 , gamma = 7.450580596923828e-09 , MSE = 24.590494775499984\n"
     ]
    },
    {
     "name": "stderr",
     "output_type": "stream",
     "text": [
      "\n",
      " 69%|█████████████████████████████████████████████████████████▍                         | 9/13 [08:32<03:48, 57.09s/it]\u001b[A"
     ]
    },
    {
     "name": "stdout",
     "output_type": "stream",
     "text": [
      "sigma = 2048.0 , gamma = 1.4901161193847656e-08 , MSE = 20.779972183291715\n",
      "sigma = 2896.309375740099 , gamma = 9.094947017729282e-13 , MSE = 23.911222349243136\n",
      "sigma = 2896.309375740099 , gamma = 1.8189894035458565e-12 , MSE = 21.44989064050383\n",
      "sigma = 2896.309375740099 , gamma = 3.637978807091713e-12 , MSE = 21.417571242090304\n",
      "sigma = 2896.309375740099 , gamma = 7.275957614183426e-12 , MSE = 23.633750168481967\n",
      "sigma = 2896.309375740099 , gamma = 1.4551915228366852e-11 , MSE = 19.733556125900556\n",
      "sigma = 2896.309375740099 , gamma = 2.9103830456733704e-11 , MSE = 16.485394410899335\n",
      "sigma = 2896.309375740099 , gamma = 5.820766091346741e-11 , MSE = 22.819853159863914\n",
      "sigma = 2896.309375740099 , gamma = 1.1641532182693481e-10 , MSE = 15.30520317507\n",
      "sigma = 2896.309375740099 , gamma = 2.3283064365386963e-10 , MSE = 26.2402790152218\n",
      "sigma = 2896.309375740099 , gamma = 4.656612873077393e-10 , MSE = 25.554380798156057\n",
      "sigma = 2896.309375740099 , gamma = 9.313225746154785e-10 , MSE = 29.811476873986145\n",
      "sigma = 2896.309375740099 , gamma = 1.862645149230957e-09 , MSE = 26.442176646035342\n",
      "sigma = 2896.309375740099 , gamma = 3.725290298461914e-09 , MSE = 21.315587491984502\n",
      "sigma = 2896.309375740099 , gamma = 7.450580596923828e-09 , MSE = 24.19856741989274\n"
     ]
    },
    {
     "name": "stderr",
     "output_type": "stream",
     "text": [
      "\n",
      " 77%|███████████████████████████████████████████████████████████████                   | 10/13 [09:29<02:51, 57.16s/it]\u001b[A"
     ]
    },
    {
     "name": "stdout",
     "output_type": "stream",
     "text": [
      "sigma = 2896.309375740099 , gamma = 1.4901161193847656e-08 , MSE = 24.340951236233764\n",
      "sigma = 4096.0 , gamma = 9.094947017729282e-13 , MSE = 38.103770593291436\n",
      "sigma = 4096.0 , gamma = 1.8189894035458565e-12 , MSE = 11.82864884609532\n",
      "sigma = 4096.0 , gamma = 3.637978807091713e-12 , MSE = 16.40575237254114\n",
      "sigma = 4096.0 , gamma = 7.275957614183426e-12 , MSE = 18.63915189151006\n",
      "sigma = 4096.0 , gamma = 1.4551915228366852e-11 , MSE = 15.604914203089768\n",
      "sigma = 4096.0 , gamma = 2.9103830456733704e-11 , MSE = 12.089279983465453\n",
      "sigma = 4096.0 , gamma = 5.820766091346741e-11 , MSE = 20.19743407391699\n",
      "sigma = 4096.0 , gamma = 1.1641532182693481e-10 , MSE = 18.963489851724525\n",
      "sigma = 4096.0 , gamma = 2.3283064365386963e-10 , MSE = 24.60476101389132\n",
      "sigma = 4096.0 , gamma = 4.656612873077393e-10 , MSE = 24.047120134770644\n",
      "sigma = 4096.0 , gamma = 9.313225746154785e-10 , MSE = 24.34439127456947\n",
      "sigma = 4096.0 , gamma = 1.862645149230957e-09 , MSE = 27.98088388837499\n",
      "sigma = 4096.0 , gamma = 3.725290298461914e-09 , MSE = 24.76590257980172\n",
      "sigma = 4096.0 , gamma = 7.450580596923828e-09 , MSE = 25.492070473534405\n"
     ]
    },
    {
     "name": "stderr",
     "output_type": "stream",
     "text": [
      "\n",
      " 85%|█████████████████████████████████████████████████████████████████████▍            | 11/13 [10:25<01:53, 56.89s/it]\u001b[A"
     ]
    },
    {
     "name": "stdout",
     "output_type": "stream",
     "text": [
      "sigma = 4096.0 , gamma = 1.4901161193847656e-08 , MSE = 28.641852073689318\n",
      "sigma = 5792.618751480198 , gamma = 9.094947017729282e-13 , MSE = 16.354544644460812\n",
      "sigma = 5792.618751480198 , gamma = 1.8189894035458565e-12 , MSE = 12.766823414021214\n",
      "sigma = 5792.618751480198 , gamma = 3.637978807091713e-12 , MSE = 13.54433556932997\n",
      "sigma = 5792.618751480198 , gamma = 7.275957614183426e-12 , MSE = 16.850907420506804\n",
      "sigma = 5792.618751480198 , gamma = 1.4551915228366852e-11 , MSE = 22.341030234387627\n",
      "sigma = 5792.618751480198 , gamma = 2.9103830456733704e-11 , MSE = 18.866382758014534\n",
      "sigma = 5792.618751480198 , gamma = 5.820766091346741e-11 , MSE = 28.33035741270509\n",
      "sigma = 5792.618751480198 , gamma = 1.1641532182693481e-10 , MSE = 27.86467377512515\n",
      "sigma = 5792.618751480198 , gamma = 2.3283064365386963e-10 , MSE = 22.53226302717223\n",
      "sigma = 5792.618751480198 , gamma = 4.656612873077393e-10 , MSE = 27.833154221037567\n",
      "sigma = 5792.618751480198 , gamma = 9.313225746154785e-10 , MSE = 24.859920044809748\n",
      "sigma = 5792.618751480198 , gamma = 1.862645149230957e-09 , MSE = 28.299628982633237\n",
      "sigma = 5792.618751480198 , gamma = 3.725290298461914e-09 , MSE = 23.68391027616611\n",
      "sigma = 5792.618751480198 , gamma = 7.450580596923828e-09 , MSE = 23.384257090311916\n"
     ]
    },
    {
     "name": "stderr",
     "output_type": "stream",
     "text": [
      "\n",
      " 92%|███████████████████████████████████████████████████████████████████████████▋      | 12/13 [11:22<00:56, 56.92s/it]\u001b[A"
     ]
    },
    {
     "name": "stdout",
     "output_type": "stream",
     "text": [
      "sigma = 5792.618751480198 , gamma = 1.4901161193847656e-08 , MSE = 25.606434882915135\n",
      "sigma = 8192.0 , gamma = 9.094947017729282e-13 , MSE = 15.966042605549356\n",
      "sigma = 8192.0 , gamma = 1.8189894035458565e-12 , MSE = 18.506650063210234\n",
      "sigma = 8192.0 , gamma = 3.637978807091713e-12 , MSE = 15.591367964486263\n",
      "sigma = 8192.0 , gamma = 7.275957614183426e-12 , MSE = 17.788746537017936\n",
      "sigma = 8192.0 , gamma = 1.4551915228366852e-11 , MSE = 25.155915857708013\n",
      "sigma = 8192.0 , gamma = 2.9103830456733704e-11 , MSE = 24.018358585523526\n",
      "sigma = 8192.0 , gamma = 5.820766091346741e-11 , MSE = 24.978884542281115\n",
      "sigma = 8192.0 , gamma = 1.1641532182693481e-10 , MSE = 25.84298566258629\n",
      "sigma = 8192.0 , gamma = 2.3283064365386963e-10 , MSE = 25.543434270716862\n",
      "sigma = 8192.0 , gamma = 4.656612873077393e-10 , MSE = 29.09565048607733\n",
      "sigma = 8192.0 , gamma = 9.313225746154785e-10 , MSE = 26.02594514773068\n",
      "sigma = 8192.0 , gamma = 1.862645149230957e-09 , MSE = 26.12616667580515\n",
      "sigma = 8192.0 , gamma = 3.725290298461914e-09 , MSE = 23.331502734996313\n",
      "sigma = 8192.0 , gamma = 7.450580596923828e-09 , MSE = 26.669071220206234\n"
     ]
    },
    {
     "name": "stderr",
     "output_type": "stream",
     "text": [
      "\n",
      "100%|██████████████████████████████████████████████████████████████████████████████████| 13/13 [12:18<00:00, 56.82s/it]\u001b[A"
     ]
    },
    {
     "name": "stdout",
     "output_type": "stream",
     "text": [
      "sigma = 8192.0 , gamma = 1.4901161193847656e-08 , MSE = 29.841996297851182\n"
     ]
    },
    {
     "name": "stderr",
     "output_type": "stream",
     "text": [
      "\n",
      " 85%|███████████████████████████████████████████████████████████████████▏           | 17/20 [3:41:31<37:54, 758.26s/it]\n",
      "  0%|                                                                                           | 0/13 [00:00<?, ?it/s]\u001b[A"
     ]
    },
    {
     "name": "stdout",
     "output_type": "stream",
     "text": [
      "[7.133504945388753, 14.339762037587185]\n",
      "sigma = 128.0 , gamma = 9.094947017729282e-13 , MSE = 730.3388447061925\n",
      "sigma = 128.0 , gamma = 1.8189894035458565e-12 , MSE = 500.4368658160394\n",
      "sigma = 128.0 , gamma = 3.637978807091713e-12 , MSE = 598.6652979891649\n",
      "sigma = 128.0 , gamma = 7.275957614183426e-12 , MSE = 778.1736552331685\n",
      "sigma = 128.0 , gamma = 1.4551915228366852e-11 , MSE = 479.24993964669113\n",
      "sigma = 128.0 , gamma = 2.9103830456733704e-11 , MSE = 612.3801624605392\n",
      "sigma = 128.0 , gamma = 5.820766091346741e-11 , MSE = 208.92338428880413\n",
      "sigma = 128.0 , gamma = 1.1641532182693481e-10 , MSE = 92.6364400446507\n",
      "sigma = 128.0 , gamma = 2.3283064365386963e-10 , MSE = 184.14346267064144\n",
      "sigma = 128.0 , gamma = 4.656612873077393e-10 , MSE = 72.07383818107662\n",
      "sigma = 128.0 , gamma = 9.313225746154785e-10 , MSE = 70.3272537196704\n",
      "sigma = 128.0 , gamma = 1.862645149230957e-09 , MSE = 49.998572626713155\n",
      "sigma = 128.0 , gamma = 3.725290298461914e-09 , MSE = 35.12236950140912\n",
      "sigma = 128.0 , gamma = 7.450580596923828e-09 , MSE = 45.59493318490492\n"
     ]
    },
    {
     "name": "stderr",
     "output_type": "stream",
     "text": [
      "\n",
      "  8%|██████▍                                                                            | 1/13 [00:57<11:28, 57.41s/it]\u001b[A"
     ]
    },
    {
     "name": "stdout",
     "output_type": "stream",
     "text": [
      "sigma = 128.0 , gamma = 1.4901161193847656e-08 , MSE = 26.22440524026344\n",
      "sigma = 181.01933598375618 , gamma = 9.094947017729282e-13 , MSE = 623.2612636042629\n",
      "sigma = 181.01933598375618 , gamma = 1.8189894035458565e-12 , MSE = 448.2947307535668\n",
      "sigma = 181.01933598375618 , gamma = 3.637978807091713e-12 , MSE = 465.5199838077331\n",
      "sigma = 181.01933598375618 , gamma = 7.275957614183426e-12 , MSE = 137.92309038575723\n",
      "sigma = 181.01933598375618 , gamma = 1.4551915228366852e-11 , MSE = 132.37996022262877\n",
      "sigma = 181.01933598375618 , gamma = 2.9103830456733704e-11 , MSE = 60.0760555826378\n",
      "sigma = 181.01933598375618 , gamma = 5.820766091346741e-11 , MSE = 101.05654227435055\n",
      "sigma = 181.01933598375618 , gamma = 1.1641532182693481e-10 , MSE = 41.24237180637641\n",
      "sigma = 181.01933598375618 , gamma = 2.3283064365386963e-10 , MSE = 27.15208122943283\n",
      "sigma = 181.01933598375618 , gamma = 4.656612873077393e-10 , MSE = 63.894126209153384\n",
      "sigma = 181.01933598375618 , gamma = 9.313225746154785e-10 , MSE = 26.21551065779554\n",
      "sigma = 181.01933598375618 , gamma = 1.862645149230957e-09 , MSE = 17.349571497870834\n",
      "sigma = 181.01933598375618 , gamma = 3.725290298461914e-09 , MSE = 21.75296128589333\n",
      "sigma = 181.01933598375618 , gamma = 7.450580596923828e-09 , MSE = 19.770269159005657\n"
     ]
    },
    {
     "name": "stderr",
     "output_type": "stream",
     "text": [
      "\n",
      " 15%|████████████▊                                                                      | 2/13 [01:54<10:28, 57.11s/it]\u001b[A"
     ]
    },
    {
     "name": "stdout",
     "output_type": "stream",
     "text": [
      "sigma = 181.01933598375618 , gamma = 1.4901161193847656e-08 , MSE = 17.874593303445415\n",
      "sigma = 256.0 , gamma = 9.094947017729282e-13 , MSE = 121.50012041003819\n",
      "sigma = 256.0 , gamma = 1.8189894035458565e-12 , MSE = 167.62236607384565\n",
      "sigma = 256.0 , gamma = 3.637978807091713e-12 , MSE = 63.11797091109408\n",
      "sigma = 256.0 , gamma = 7.275957614183426e-12 , MSE = 68.85666014860564\n",
      "sigma = 256.0 , gamma = 1.4551915228366852e-11 , MSE = 79.87252333587881\n",
      "sigma = 256.0 , gamma = 2.9103830456733704e-11 , MSE = 237.48386043106058\n",
      "sigma = 256.0 , gamma = 5.820766091346741e-11 , MSE = 31.487142310624904\n",
      "sigma = 256.0 , gamma = 1.1641532182693481e-10 , MSE = 21.131949755668256\n",
      "sigma = 256.0 , gamma = 2.3283064365386963e-10 , MSE = 69.63879608812144\n",
      "sigma = 256.0 , gamma = 4.656612873077393e-10 , MSE = 22.696855217812907\n",
      "sigma = 256.0 , gamma = 9.313225746154785e-10 , MSE = 19.335076687533057\n",
      "sigma = 256.0 , gamma = 1.862645149230957e-09 , MSE = 13.450356881317557\n",
      "sigma = 256.0 , gamma = 3.725290298461914e-09 , MSE = 17.383138379620323\n",
      "sigma = 256.0 , gamma = 7.450580596923828e-09 , MSE = 16.635501111358607\n"
     ]
    },
    {
     "name": "stderr",
     "output_type": "stream",
     "text": [
      "\n",
      " 23%|███████████████████▏                                                               | 3/13 [02:51<09:30, 57.04s/it]\u001b[A"
     ]
    },
    {
     "name": "stdout",
     "output_type": "stream",
     "text": [
      "sigma = 256.0 , gamma = 1.4901161193847656e-08 , MSE = 14.317838245436496\n",
      "sigma = 362.03867196751236 , gamma = 9.094947017729282e-13 , MSE = 69.53395007368347\n",
      "sigma = 362.03867196751236 , gamma = 1.8189894035458565e-12 , MSE = 82.98840138191704\n",
      "sigma = 362.03867196751236 , gamma = 3.637978807091713e-12 , MSE = 3261.7574656147794\n",
      "sigma = 362.03867196751236 , gamma = 7.275957614183426e-12 , MSE = 27.80932494729734\n",
      "sigma = 362.03867196751236 , gamma = 1.4551915228366852e-11 , MSE = 39.97635281396617\n",
      "sigma = 362.03867196751236 , gamma = 2.9103830456733704e-11 , MSE = 25.470796251393175\n",
      "sigma = 362.03867196751236 , gamma = 5.820766091346741e-11 , MSE = 18.09269645520723\n",
      "sigma = 362.03867196751236 , gamma = 1.1641532182693481e-10 , MSE = 17.77220355731217\n",
      "sigma = 362.03867196751236 , gamma = 2.3283064365386963e-10 , MSE = 20.36117477932421\n",
      "sigma = 362.03867196751236 , gamma = 4.656612873077393e-10 , MSE = 13.315173859333314\n",
      "sigma = 362.03867196751236 , gamma = 9.313225746154785e-10 , MSE = 15.744323327168663\n",
      "sigma = 362.03867196751236 , gamma = 1.862645149230957e-09 , MSE = 12.042252981928023\n",
      "sigma = 362.03867196751236 , gamma = 3.725290298461914e-09 , MSE = 17.329122248054652\n",
      "sigma = 362.03867196751236 , gamma = 7.450580596923828e-09 , MSE = 11.716384820157607\n"
     ]
    },
    {
     "name": "stderr",
     "output_type": "stream",
     "text": [
      "\n",
      " 31%|█████████████████████████▌                                                         | 4/13 [03:48<08:35, 57.25s/it]\u001b[A"
     ]
    },
    {
     "name": "stdout",
     "output_type": "stream",
     "text": [
      "sigma = 362.03867196751236 , gamma = 1.4901161193847656e-08 , MSE = 13.278925494243913\n",
      "sigma = 512.0 , gamma = 9.094947017729282e-13 , MSE = 32.27559835839917\n",
      "sigma = 512.0 , gamma = 1.8189894035458565e-12 , MSE = 20.47853265977589\n",
      "sigma = 512.0 , gamma = 3.637978807091713e-12 , MSE = 37.905200191948744\n",
      "sigma = 512.0 , gamma = 7.275957614183426e-12 , MSE = 16.996230105405576\n",
      "sigma = 512.0 , gamma = 1.4551915228366852e-11 , MSE = 25.68391323721512\n",
      "sigma = 512.0 , gamma = 2.9103830456733704e-11 , MSE = 15.995277772805542\n",
      "sigma = 512.0 , gamma = 5.820766091346741e-11 , MSE = 13.889043243956504\n",
      "sigma = 512.0 , gamma = 1.1641532182693481e-10 , MSE = 14.483719959941473\n",
      "sigma = 512.0 , gamma = 2.3283064365386963e-10 , MSE = 13.913346285044597\n",
      "sigma = 512.0 , gamma = 4.656612873077393e-10 , MSE = 12.362928283397263\n",
      "sigma = 512.0 , gamma = 9.313225746154785e-10 , MSE = 14.009358039360398\n",
      "sigma = 512.0 , gamma = 1.862645149230957e-09 , MSE = 14.209922960765505\n",
      "sigma = 512.0 , gamma = 3.725290298461914e-09 , MSE = 17.589425332168375\n",
      "sigma = 512.0 , gamma = 7.450580596923828e-09 , MSE = 14.410863431075239\n"
     ]
    },
    {
     "name": "stderr",
     "output_type": "stream",
     "text": [
      "\n",
      " 38%|███████████████████████████████▉                                                   | 5/13 [04:45<07:35, 56.88s/it]\u001b[A"
     ]
    },
    {
     "name": "stdout",
     "output_type": "stream",
     "text": [
      "sigma = 512.0 , gamma = 1.4901161193847656e-08 , MSE = 14.894098085368578\n",
      "sigma = 724.0773439350247 , gamma = 9.094947017729282e-13 , MSE = 18.901287505565186\n",
      "sigma = 724.0773439350247 , gamma = 1.8189894035458565e-12 , MSE = 22.43218556973189\n",
      "sigma = 724.0773439350247 , gamma = 3.637978807091713e-12 , MSE = 20.378102174279693\n",
      "sigma = 724.0773439350247 , gamma = 7.275957614183426e-12 , MSE = 14.220997022744609\n",
      "sigma = 724.0773439350247 , gamma = 1.4551915228366852e-11 , MSE = 14.870784518251568\n",
      "sigma = 724.0773439350247 , gamma = 2.9103830456733704e-11 , MSE = 22.7271687981491\n",
      "sigma = 724.0773439350247 , gamma = 5.820766091346741e-11 , MSE = 12.678251012630067\n",
      "sigma = 724.0773439350247 , gamma = 1.1641532182693481e-10 , MSE = 17.532211808517413\n",
      "sigma = 724.0773439350247 , gamma = 2.3283064365386963e-10 , MSE = 14.812429600315278\n",
      "sigma = 724.0773439350247 , gamma = 4.656612873077393e-10 , MSE = 14.040013252616607\n",
      "sigma = 724.0773439350247 , gamma = 9.313225746154785e-10 , MSE = 10.942560025872712\n",
      "sigma = 724.0773439350247 , gamma = 1.862645149230957e-09 , MSE = 11.961232609083378\n",
      "sigma = 724.0773439350247 , gamma = 3.725290298461914e-09 , MSE = 11.610654189815259\n",
      "sigma = 724.0773439350247 , gamma = 7.450580596923828e-09 , MSE = 14.781903495057538\n"
     ]
    },
    {
     "name": "stderr",
     "output_type": "stream",
     "text": [
      "\n",
      " 46%|██████████████████████████████████████▎                                            | 6/13 [05:42<06:39, 57.06s/it]\u001b[A"
     ]
    },
    {
     "name": "stdout",
     "output_type": "stream",
     "text": [
      "sigma = 724.0773439350247 , gamma = 1.4901161193847656e-08 , MSE = 14.056636088127874\n",
      "sigma = 1024.0 , gamma = 9.094947017729282e-13 , MSE = 14.419813986678388\n",
      "sigma = 1024.0 , gamma = 1.8189894035458565e-12 , MSE = 15.65773212875742\n",
      "sigma = 1024.0 , gamma = 3.637978807091713e-12 , MSE = 19.758759197053404\n",
      "sigma = 1024.0 , gamma = 7.275957614183426e-12 , MSE = 16.817519036781754\n",
      "sigma = 1024.0 , gamma = 1.4551915228366852e-11 , MSE = 17.04796408560498\n",
      "sigma = 1024.0 , gamma = 2.9103830456733704e-11 , MSE = 15.341193243294573\n",
      "sigma = 1024.0 , gamma = 5.820766091346741e-11 , MSE = 12.250860103896668\n",
      "sigma = 1024.0 , gamma = 1.1641532182693481e-10 , MSE = 13.165764363522737\n",
      "sigma = 1024.0 , gamma = 2.3283064365386963e-10 , MSE = 12.131352063087139\n",
      "sigma = 1024.0 , gamma = 4.656612873077393e-10 , MSE = 13.423164130453467\n",
      "sigma = 1024.0 , gamma = 9.313225746154785e-10 , MSE = 13.625305713931649\n",
      "sigma = 1024.0 , gamma = 1.862645149230957e-09 , MSE = 12.5550970271101\n",
      "sigma = 1024.0 , gamma = 3.725290298461914e-09 , MSE = 16.72630766742835\n",
      "sigma = 1024.0 , gamma = 7.450580596923828e-09 , MSE = 17.49042250462366\n"
     ]
    },
    {
     "name": "stderr",
     "output_type": "stream",
     "text": [
      "\n",
      " 54%|████████████████████████████████████████████▋                                      | 7/13 [06:42<05:47, 57.87s/it]\u001b[A"
     ]
    },
    {
     "name": "stdout",
     "output_type": "stream",
     "text": [
      "sigma = 1024.0 , gamma = 1.4901161193847656e-08 , MSE = 20.290189525694412\n",
      "sigma = 1448.1546878700494 , gamma = 9.094947017729282e-13 , MSE = 17.074507128628746\n",
      "sigma = 1448.1546878700494 , gamma = 1.8189894035458565e-12 , MSE = 15.097613901314185\n",
      "sigma = 1448.1546878700494 , gamma = 3.637978807091713e-12 , MSE = 15.348014823134259\n",
      "sigma = 1448.1546878700494 , gamma = 7.275957614183426e-12 , MSE = 15.192282469159341\n",
      "sigma = 1448.1546878700494 , gamma = 1.4551915228366852e-11 , MSE = 13.979460096449023\n",
      "sigma = 1448.1546878700494 , gamma = 2.9103830456733704e-11 , MSE = 13.266644543292369\n",
      "sigma = 1448.1546878700494 , gamma = 5.820766091346741e-11 , MSE = 15.558517216572318\n",
      "sigma = 1448.1546878700494 , gamma = 1.1641532182693481e-10 , MSE = 12.198974451963835\n",
      "sigma = 1448.1546878700494 , gamma = 2.3283064365386963e-10 , MSE = 16.866162877630444\n",
      "sigma = 1448.1546878700494 , gamma = 4.656612873077393e-10 , MSE = 10.704989215837404\n",
      "sigma = 1448.1546878700494 , gamma = 9.313225746154785e-10 , MSE = 14.27003330868592\n",
      "sigma = 1448.1546878700494 , gamma = 1.862645149230957e-09 , MSE = 16.09781302553359\n",
      "sigma = 1448.1546878700494 , gamma = 3.725290298461914e-09 , MSE = 18.69547875369427\n",
      "sigma = 1448.1546878700494 , gamma = 7.450580596923828e-09 , MSE = 22.90782398914112\n"
     ]
    },
    {
     "name": "stderr",
     "output_type": "stream",
     "text": [
      "\n",
      " 62%|███████████████████████████████████████████████████                                | 8/13 [07:39<04:48, 57.65s/it]\u001b[A"
     ]
    },
    {
     "name": "stdout",
     "output_type": "stream",
     "text": [
      "sigma = 1448.1546878700494 , gamma = 1.4901161193847656e-08 , MSE = 22.355197394829574\n",
      "sigma = 2048.0 , gamma = 9.094947017729282e-13 , MSE = 14.390175281527542\n",
      "sigma = 2048.0 , gamma = 1.8189894035458565e-12 , MSE = 16.565602189819533\n",
      "sigma = 2048.0 , gamma = 3.637978807091713e-12 , MSE = 14.410988361662561\n",
      "sigma = 2048.0 , gamma = 7.275957614183426e-12 , MSE = 14.547816935442981\n",
      "sigma = 2048.0 , gamma = 1.4551915228366852e-11 , MSE = 13.510901480834836\n",
      "sigma = 2048.0 , gamma = 2.9103830456733704e-11 , MSE = 45.9567557214409\n",
      "sigma = 2048.0 , gamma = 5.820766091346741e-11 , MSE = 14.278697838848974\n",
      "sigma = 2048.0 , gamma = 1.1641532182693481e-10 , MSE = 11.517791218119456\n",
      "sigma = 2048.0 , gamma = 2.3283064365386963e-10 , MSE = 15.494545551811218\n",
      "sigma = 2048.0 , gamma = 4.656612873077393e-10 , MSE = 16.040607424704163\n",
      "sigma = 2048.0 , gamma = 9.313225746154785e-10 , MSE = 21.309557073147662\n",
      "sigma = 2048.0 , gamma = 1.862645149230957e-09 , MSE = 21.820865439776792\n",
      "sigma = 2048.0 , gamma = 3.725290298461914e-09 , MSE = 24.501949037356727\n",
      "sigma = 2048.0 , gamma = 7.450580596923828e-09 , MSE = 23.92433673834654\n"
     ]
    },
    {
     "name": "stderr",
     "output_type": "stream",
     "text": [
      "\n",
      " 69%|█████████████████████████████████████████████████████████▍                         | 9/13 [08:36<03:49, 57.45s/it]\u001b[A"
     ]
    },
    {
     "name": "stdout",
     "output_type": "stream",
     "text": [
      "sigma = 2048.0 , gamma = 1.4901161193847656e-08 , MSE = 24.92556448151916\n",
      "sigma = 2896.309375740099 , gamma = 9.094947017729282e-13 , MSE = 16.599925346035803\n",
      "sigma = 2896.309375740099 , gamma = 1.8189894035458565e-12 , MSE = 11.842059870949987\n",
      "sigma = 2896.309375740099 , gamma = 3.637978807091713e-12 , MSE = 11.745972260584576\n",
      "sigma = 2896.309375740099 , gamma = 7.275957614183426e-12 , MSE = 12.731366815160348\n",
      "sigma = 2896.309375740099 , gamma = 1.4551915228366852e-11 , MSE = 15.304528688790578\n",
      "sigma = 2896.309375740099 , gamma = 2.9103830456733704e-11 , MSE = 12.023758975394387\n",
      "sigma = 2896.309375740099 , gamma = 5.820766091346741e-11 , MSE = 13.96878283563978\n",
      "sigma = 2896.309375740099 , gamma = 1.1641532182693481e-10 , MSE = 18.261675647513663\n",
      "sigma = 2896.309375740099 , gamma = 2.3283064365386963e-10 , MSE = 17.985708812243697\n",
      "sigma = 2896.309375740099 , gamma = 4.656612873077393e-10 , MSE = 22.157630980937167\n",
      "sigma = 2896.309375740099 , gamma = 9.313225746154785e-10 , MSE = 23.1814180965419\n",
      "sigma = 2896.309375740099 , gamma = 1.862645149230957e-09 , MSE = 28.164779335078816\n",
      "sigma = 2896.309375740099 , gamma = 3.725290298461914e-09 , MSE = 22.305440412563705\n",
      "sigma = 2896.309375740099 , gamma = 7.450580596923828e-09 , MSE = 27.090042635811336\n"
     ]
    },
    {
     "name": "stderr",
     "output_type": "stream",
     "text": [
      "\n",
      " 77%|███████████████████████████████████████████████████████████████                   | 10/13 [09:33<02:52, 57.48s/it]\u001b[A"
     ]
    },
    {
     "name": "stdout",
     "output_type": "stream",
     "text": [
      "sigma = 2896.309375740099 , gamma = 1.4901161193847656e-08 , MSE = 22.102595226757174\n",
      "sigma = 4096.0 , gamma = 9.094947017729282e-13 , MSE = 12.919007529069592\n",
      "sigma = 4096.0 , gamma = 1.8189894035458565e-12 , MSE = 12.29466313123139\n",
      "sigma = 4096.0 , gamma = 3.637978807091713e-12 , MSE = 15.587596682791062\n",
      "sigma = 4096.0 , gamma = 7.275957614183426e-12 , MSE = 14.078562927834383\n",
      "sigma = 4096.0 , gamma = 1.4551915228366852e-11 , MSE = 16.92119006962188\n",
      "sigma = 4096.0 , gamma = 2.9103830456733704e-11 , MSE = 15.299537076827653\n",
      "sigma = 4096.0 , gamma = 5.820766091346741e-11 , MSE = 20.7012274833075\n",
      "sigma = 4096.0 , gamma = 1.1641532182693481e-10 , MSE = 22.278007242919085\n",
      "sigma = 4096.0 , gamma = 2.3283064365386963e-10 , MSE = 22.80505238436421\n",
      "sigma = 4096.0 , gamma = 4.656612873077393e-10 , MSE = 26.76254670489222\n",
      "sigma = 4096.0 , gamma = 9.313225746154785e-10 , MSE = 27.591864908146572\n",
      "sigma = 4096.0 , gamma = 1.862645149230957e-09 , MSE = 24.888728882789167\n",
      "sigma = 4096.0 , gamma = 3.725290298461914e-09 , MSE = 25.22530634630969\n",
      "sigma = 4096.0 , gamma = 7.450580596923828e-09 , MSE = 24.662030041242904\n"
     ]
    },
    {
     "name": "stderr",
     "output_type": "stream",
     "text": [
      "\n",
      " 85%|█████████████████████████████████████████████████████████████████████▍            | 11/13 [10:32<01:55, 57.74s/it]\u001b[A"
     ]
    },
    {
     "name": "stdout",
     "output_type": "stream",
     "text": [
      "sigma = 4096.0 , gamma = 1.4901161193847656e-08 , MSE = 24.33667748498392\n",
      "sigma = 5792.618751480198 , gamma = 9.094947017729282e-13 , MSE = 14.107350551986826\n",
      "sigma = 5792.618751480198 , gamma = 1.8189894035458565e-12 , MSE = 14.581555287176778\n",
      "sigma = 5792.618751480198 , gamma = 3.637978807091713e-12 , MSE = 14.757982337659822\n",
      "sigma = 5792.618751480198 , gamma = 7.275957614183426e-12 , MSE = 16.250437771360225\n",
      "sigma = 5792.618751480198 , gamma = 1.4551915228366852e-11 , MSE = 17.26811460955711\n",
      "sigma = 5792.618751480198 , gamma = 2.9103830456733704e-11 , MSE = 18.53370547338679\n",
      "sigma = 5792.618751480198 , gamma = 5.820766091346741e-11 , MSE = 23.293124021103473\n",
      "sigma = 5792.618751480198 , gamma = 1.1641532182693481e-10 , MSE = 27.213010751207616\n",
      "sigma = 5792.618751480198 , gamma = 2.3283064365386963e-10 , MSE = 26.027090666518678\n",
      "sigma = 5792.618751480198 , gamma = 4.656612873077393e-10 , MSE = 23.343994675092983\n",
      "sigma = 5792.618751480198 , gamma = 9.313225746154785e-10 , MSE = 26.424595530371818\n",
      "sigma = 5792.618751480198 , gamma = 1.862645149230957e-09 , MSE = 24.47275901684728\n",
      "sigma = 5792.618751480198 , gamma = 3.725290298461914e-09 , MSE = 23.601715120179318\n",
      "sigma = 5792.618751480198 , gamma = 7.450580596923828e-09 , MSE = 24.083090342307862\n"
     ]
    },
    {
     "name": "stderr",
     "output_type": "stream",
     "text": [
      "\n",
      " 92%|███████████████████████████████████████████████████████████████████████████▋      | 12/13 [11:30<00:57, 57.92s/it]\u001b[A"
     ]
    },
    {
     "name": "stdout",
     "output_type": "stream",
     "text": [
      "sigma = 5792.618751480198 , gamma = 1.4901161193847656e-08 , MSE = 28.22459022253845\n",
      "sigma = 8192.0 , gamma = 9.094947017729282e-13 , MSE = 12.233501807797213\n",
      "sigma = 8192.0 , gamma = 1.8189894035458565e-12 , MSE = 13.632011359989445\n",
      "sigma = 8192.0 , gamma = 3.637978807091713e-12 , MSE = 20.660305512344003\n",
      "sigma = 8192.0 , gamma = 7.275957614183426e-12 , MSE = 24.8256180788731\n",
      "sigma = 8192.0 , gamma = 1.4551915228366852e-11 , MSE = 21.758651567059687\n",
      "sigma = 8192.0 , gamma = 2.9103830456733704e-11 , MSE = 20.13022562535904\n",
      "sigma = 8192.0 , gamma = 5.820766091346741e-11 , MSE = 23.051536687398194\n",
      "sigma = 8192.0 , gamma = 1.1641532182693481e-10 , MSE = 22.838023647396774\n",
      "sigma = 8192.0 , gamma = 2.3283064365386963e-10 , MSE = 22.59931748843586\n",
      "sigma = 8192.0 , gamma = 4.656612873077393e-10 , MSE = 24.997390626215342\n",
      "sigma = 8192.0 , gamma = 9.313225746154785e-10 , MSE = 25.97849429598325\n",
      "sigma = 8192.0 , gamma = 1.862645149230957e-09 , MSE = 24.810826159456752\n",
      "sigma = 8192.0 , gamma = 3.725290298461914e-09 , MSE = 24.752381534601533\n",
      "sigma = 8192.0 , gamma = 7.450580596923828e-09 , MSE = 23.31778601079028\n"
     ]
    },
    {
     "name": "stderr",
     "output_type": "stream",
     "text": [
      "\n",
      "100%|██████████████████████████████████████████████████████████████████████████████████| 13/13 [12:26<00:00, 57.45s/it]\u001b[A"
     ]
    },
    {
     "name": "stdout",
     "output_type": "stream",
     "text": [
      "sigma = 8192.0 , gamma = 1.4901161193847656e-08 , MSE = 29.445796456816577\n"
     ]
    },
    {
     "name": "stderr",
     "output_type": "stream",
     "text": [
      "\n",
      " 90%|███████████████████████████████████████████████████████████████████████        | 18/20 [3:54:02<25:12, 756.03s/it]\n",
      "  0%|                                                                                           | 0/13 [00:00<?, ?it/s]\u001b[A"
     ]
    },
    {
     "name": "stdout",
     "output_type": "stream",
     "text": [
      "[9.958151661548015, 15.708019273834594]\n",
      "sigma = 128.0 , gamma = 9.094947017729282e-13 , MSE = 643.0578068246781\n",
      "sigma = 128.0 , gamma = 1.8189894035458565e-12 , MSE = 920.0994154623965\n",
      "sigma = 128.0 , gamma = 3.637978807091713e-12 , MSE = 892.5102639034933\n",
      "sigma = 128.0 , gamma = 7.275957614183426e-12 , MSE = 4323.873305554345\n",
      "sigma = 128.0 , gamma = 1.4551915228366852e-11 , MSE = 340.67754058849204\n",
      "sigma = 128.0 , gamma = 2.9103830456733704e-11 , MSE = 208.80879890533384\n",
      "sigma = 128.0 , gamma = 5.820766091346741e-11 , MSE = 143.4597355944718\n",
      "sigma = 128.0 , gamma = 1.1641532182693481e-10 , MSE = 149.4546483085892\n",
      "sigma = 128.0 , gamma = 2.3283064365386963e-10 , MSE = 1211.5660982389616\n",
      "sigma = 128.0 , gamma = 4.656612873077393e-10 , MSE = 228.83296861794574\n",
      "sigma = 128.0 , gamma = 9.313225746154785e-10 , MSE = 265.59842689182966\n",
      "sigma = 128.0 , gamma = 1.862645149230957e-09 , MSE = 156.3146462836136\n",
      "sigma = 128.0 , gamma = 3.725290298461914e-09 , MSE = 53.621518853455974\n",
      "sigma = 128.0 , gamma = 7.450580596923828e-09 , MSE = 20.029787015379828\n"
     ]
    },
    {
     "name": "stderr",
     "output_type": "stream",
     "text": [
      "\n",
      "  8%|██████▍                                                                            | 1/13 [00:56<11:14, 56.22s/it]\u001b[A"
     ]
    },
    {
     "name": "stdout",
     "output_type": "stream",
     "text": [
      "sigma = 128.0 , gamma = 1.4901161193847656e-08 , MSE = 24.41037572612627\n",
      "sigma = 181.01933598375618 , gamma = 9.094947017729282e-13 , MSE = 644.5646837005512\n",
      "sigma = 181.01933598375618 , gamma = 1.8189894035458565e-12 , MSE = 2632.4375981053827\n",
      "sigma = 181.01933598375618 , gamma = 3.637978807091713e-12 , MSE = 2145.763728969689\n",
      "sigma = 181.01933598375618 , gamma = 7.275957614183426e-12 , MSE = 3927.6189340078117\n",
      "sigma = 181.01933598375618 , gamma = 1.4551915228366852e-11 , MSE = 327.5220718463814\n",
      "sigma = 181.01933598375618 , gamma = 2.9103830456733704e-11 , MSE = 54.47420658244771\n",
      "sigma = 181.01933598375618 , gamma = 5.820766091346741e-11 , MSE = 443.4359158296682\n",
      "sigma = 181.01933598375618 , gamma = 1.1641532182693481e-10 , MSE = 510.30786937318544\n",
      "sigma = 181.01933598375618 , gamma = 2.3283064365386963e-10 , MSE = 42.864647024994056\n",
      "sigma = 181.01933598375618 , gamma = 4.656612873077393e-10 , MSE = 64.7341113511704\n",
      "sigma = 181.01933598375618 , gamma = 9.313225746154785e-10 , MSE = 35.518622797418566\n",
      "sigma = 181.01933598375618 , gamma = 1.862645149230957e-09 , MSE = 17.679562597614602\n",
      "sigma = 181.01933598375618 , gamma = 3.725290298461914e-09 , MSE = 16.44138486772794\n",
      "sigma = 181.01933598375618 , gamma = 7.450580596923828e-09 , MSE = 21.249218694161083\n"
     ]
    },
    {
     "name": "stderr",
     "output_type": "stream",
     "text": [
      "\n",
      " 15%|████████████▊                                                                      | 2/13 [01:53<10:22, 56.62s/it]\u001b[A"
     ]
    },
    {
     "name": "stdout",
     "output_type": "stream",
     "text": [
      "sigma = 181.01933598375618 , gamma = 1.4901161193847656e-08 , MSE = 13.493766468804136\n",
      "sigma = 256.0 , gamma = 9.094947017729282e-13 , MSE = 116.26388340883027\n",
      "sigma = 256.0 , gamma = 1.8189894035458565e-12 , MSE = 89.0984349812923\n",
      "sigma = 256.0 , gamma = 3.637978807091713e-12 , MSE = 820.720758560012\n",
      "sigma = 256.0 , gamma = 7.275957614183426e-12 , MSE = 40.84702636650969\n",
      "sigma = 256.0 , gamma = 1.4551915228366852e-11 , MSE = 40.46662553400678\n",
      "sigma = 256.0 , gamma = 2.9103830456733704e-11 , MSE = 79.22268738898853\n",
      "sigma = 256.0 , gamma = 5.820766091346741e-11 , MSE = 673.291602433483\n",
      "sigma = 256.0 , gamma = 1.1641532182693481e-10 , MSE = 91.30510314663259\n",
      "sigma = 256.0 , gamma = 2.3283064365386963e-10 , MSE = 581.4697716375853\n",
      "sigma = 256.0 , gamma = 4.656612873077393e-10 , MSE = 97.64742866768873\n",
      "sigma = 256.0 , gamma = 9.313225746154785e-10 , MSE = 17.071562249536825\n",
      "sigma = 256.0 , gamma = 1.862645149230957e-09 , MSE = 93.59585901436475\n",
      "sigma = 256.0 , gamma = 3.725290298461914e-09 , MSE = 33.826409036959454\n",
      "sigma = 256.0 , gamma = 7.450580596923828e-09 , MSE = 16.551656531176498\n"
     ]
    },
    {
     "name": "stderr",
     "output_type": "stream",
     "text": [
      "\n",
      " 23%|███████████████████▏                                                               | 3/13 [02:49<09:24, 56.42s/it]\u001b[A"
     ]
    },
    {
     "name": "stdout",
     "output_type": "stream",
     "text": [
      "sigma = 256.0 , gamma = 1.4901161193847656e-08 , MSE = 13.671413118651804\n",
      "sigma = 362.03867196751236 , gamma = 9.094947017729282e-13 , MSE = 100.91950636394861\n",
      "sigma = 362.03867196751236 , gamma = 1.8189894035458565e-12 , MSE = 96.59952476400827\n",
      "sigma = 362.03867196751236 , gamma = 3.637978807091713e-12 , MSE = 157.25435463392424\n",
      "sigma = 362.03867196751236 , gamma = 7.275957614183426e-12 , MSE = 31.03659454169904\n",
      "sigma = 362.03867196751236 , gamma = 1.4551915228366852e-11 , MSE = 35.792846652086766\n",
      "sigma = 362.03867196751236 , gamma = 2.9103830456733704e-11 , MSE = 17.945409726269084\n",
      "sigma = 362.03867196751236 , gamma = 5.820766091346741e-11 , MSE = 14.62008095135749\n",
      "sigma = 362.03867196751236 , gamma = 1.1641532182693481e-10 , MSE = 17.144762295201666\n",
      "sigma = 362.03867196751236 , gamma = 2.3283064365386963e-10 , MSE = 217.98181266954242\n",
      "sigma = 362.03867196751236 , gamma = 4.656612873077393e-10 , MSE = 31.451907620406256\n",
      "sigma = 362.03867196751236 , gamma = 9.313225746154785e-10 , MSE = 26.798876620583155\n",
      "sigma = 362.03867196751236 , gamma = 1.862645149230957e-09 , MSE = 15.204571423918988\n",
      "sigma = 362.03867196751236 , gamma = 3.725290298461914e-09 , MSE = 19.713721701386273\n",
      "sigma = 362.03867196751236 , gamma = 7.450580596923828e-09 , MSE = 21.95977218621475\n"
     ]
    },
    {
     "name": "stderr",
     "output_type": "stream",
     "text": [
      "\n",
      " 31%|█████████████████████████▌                                                         | 4/13 [03:47<08:34, 57.11s/it]\u001b[A"
     ]
    },
    {
     "name": "stdout",
     "output_type": "stream",
     "text": [
      "sigma = 362.03867196751236 , gamma = 1.4901161193847656e-08 , MSE = 12.901752964312422\n",
      "sigma = 512.0 , gamma = 9.094947017729282e-13 , MSE = 25.31734268542386\n",
      "sigma = 512.0 , gamma = 1.8189894035458565e-12 , MSE = 1723.6089998613065\n",
      "sigma = 512.0 , gamma = 3.637978807091713e-12 , MSE = 980.0415913647678\n",
      "sigma = 512.0 , gamma = 7.275957614183426e-12 , MSE = 17.288466605196326\n",
      "sigma = 512.0 , gamma = 1.4551915228366852e-11 , MSE = 21.531474150126396\n",
      "sigma = 512.0 , gamma = 2.9103830456733704e-11 , MSE = 14.034649671956227\n",
      "sigma = 512.0 , gamma = 5.820766091346741e-11 , MSE = 14.445596640312203\n",
      "sigma = 512.0 , gamma = 1.1641532182693481e-10 , MSE = 73.20598575116067\n",
      "sigma = 512.0 , gamma = 2.3283064365386963e-10 , MSE = 16.400117742745998\n",
      "sigma = 512.0 , gamma = 4.656612873077393e-10 , MSE = 11.10017430398389\n",
      "sigma = 512.0 , gamma = 9.313225746154785e-10 , MSE = 9.178485222365964\n",
      "sigma = 512.0 , gamma = 1.862645149230957e-09 , MSE = 17.28233190102031\n",
      "sigma = 512.0 , gamma = 3.725290298461914e-09 , MSE = 12.22083180357566\n",
      "sigma = 512.0 , gamma = 7.450580596923828e-09 , MSE = 12.616108813984523\n"
     ]
    },
    {
     "name": "stderr",
     "output_type": "stream",
     "text": [
      "\n",
      " 38%|███████████████████████████████▉                                                   | 5/13 [04:46<07:42, 57.82s/it]\u001b[A"
     ]
    },
    {
     "name": "stdout",
     "output_type": "stream",
     "text": [
      "sigma = 512.0 , gamma = 1.4901161193847656e-08 , MSE = 13.81303345562998\n",
      "sigma = 724.0773439350247 , gamma = 9.094947017729282e-13 , MSE = 18.65527513253607\n",
      "sigma = 724.0773439350247 , gamma = 1.8189894035458565e-12 , MSE = 15.374478941837717\n",
      "sigma = 724.0773439350247 , gamma = 3.637978807091713e-12 , MSE = 13.320281159191769\n",
      "sigma = 724.0773439350247 , gamma = 7.275957614183426e-12 , MSE = 12.60440447849837\n",
      "sigma = 724.0773439350247 , gamma = 1.4551915228366852e-11 , MSE = 15.887103716276096\n",
      "sigma = 724.0773439350247 , gamma = 2.9103830456733704e-11 , MSE = 240.32540141298168\n",
      "sigma = 724.0773439350247 , gamma = 5.820766091346741e-11 , MSE = 63.401961372494455\n",
      "sigma = 724.0773439350247 , gamma = 1.1641532182693481e-10 , MSE = 20.227121773009703\n",
      "sigma = 724.0773439350247 , gamma = 2.3283064365386963e-10 , MSE = 15.617162669127953\n",
      "sigma = 724.0773439350247 , gamma = 4.656612873077393e-10 , MSE = 16.737331902693693\n",
      "sigma = 724.0773439350247 , gamma = 9.313225746154785e-10 , MSE = 13.941247720042217\n",
      "sigma = 724.0773439350247 , gamma = 1.862645149230957e-09 , MSE = 17.104844794622654\n",
      "sigma = 724.0773439350247 , gamma = 3.725290298461914e-09 , MSE = 12.62835477855506\n",
      "sigma = 724.0773439350247 , gamma = 7.450580596923828e-09 , MSE = 15.687597228349386\n"
     ]
    },
    {
     "name": "stderr",
     "output_type": "stream",
     "text": [
      "\n",
      " 46%|██████████████████████████████████████▎                                            | 6/13 [05:43<06:43, 57.58s/it]\u001b[A"
     ]
    },
    {
     "name": "stdout",
     "output_type": "stream",
     "text": [
      "sigma = 724.0773439350247 , gamma = 1.4901161193847656e-08 , MSE = 19.545305786622546\n",
      "sigma = 1024.0 , gamma = 9.094947017729282e-13 , MSE = 29.07352580020944\n",
      "sigma = 1024.0 , gamma = 1.8189894035458565e-12 , MSE = 12.975605577292887\n",
      "sigma = 1024.0 , gamma = 3.637978807091713e-12 , MSE = 13.091680815215842\n",
      "sigma = 1024.0 , gamma = 7.275957614183426e-12 , MSE = 12.359968893858518\n",
      "sigma = 1024.0 , gamma = 1.4551915228366852e-11 , MSE = 11.858407906015549\n",
      "sigma = 1024.0 , gamma = 2.9103830456733704e-11 , MSE = 25.583631343393783\n",
      "sigma = 1024.0 , gamma = 5.820766091346741e-11 , MSE = 12.322366867930167\n",
      "sigma = 1024.0 , gamma = 1.1641532182693481e-10 , MSE = 10.056287125006147\n",
      "sigma = 1024.0 , gamma = 2.3283064365386963e-10 , MSE = 14.462969937399825\n",
      "sigma = 1024.0 , gamma = 4.656612873077393e-10 , MSE = 11.623026878738688\n",
      "sigma = 1024.0 , gamma = 9.313225746154785e-10 , MSE = 12.43883581657624\n",
      "sigma = 1024.0 , gamma = 1.862645149230957e-09 , MSE = 12.739919060559544\n",
      "sigma = 1024.0 , gamma = 3.725290298461914e-09 , MSE = 19.653978775343646\n",
      "sigma = 1024.0 , gamma = 7.450580596923828e-09 , MSE = 20.8334960588571\n"
     ]
    },
    {
     "name": "stderr",
     "output_type": "stream",
     "text": [
      "\n",
      " 54%|████████████████████████████████████████████▋                                      | 7/13 [06:40<05:44, 57.36s/it]\u001b[A"
     ]
    },
    {
     "name": "stdout",
     "output_type": "stream",
     "text": [
      "sigma = 1024.0 , gamma = 1.4901161193847656e-08 , MSE = 23.2457564362605\n",
      "sigma = 1448.1546878700494 , gamma = 9.094947017729282e-13 , MSE = 16.327341074161698\n",
      "sigma = 1448.1546878700494 , gamma = 1.8189894035458565e-12 , MSE = 46.242011825789106\n",
      "sigma = 1448.1546878700494 , gamma = 3.637978807091713e-12 , MSE = 16.007641396744617\n",
      "sigma = 1448.1546878700494 , gamma = 7.275957614183426e-12 , MSE = 12.943938028046242\n",
      "sigma = 1448.1546878700494 , gamma = 1.4551915228366852e-11 , MSE = 13.770641210658491\n",
      "sigma = 1448.1546878700494 , gamma = 2.9103830456733704e-11 , MSE = 14.365746461097185\n",
      "sigma = 1448.1546878700494 , gamma = 5.820766091346741e-11 , MSE = 23.82338280172163\n",
      "sigma = 1448.1546878700494 , gamma = 1.1641532182693481e-10 , MSE = 14.79459139451597\n",
      "sigma = 1448.1546878700494 , gamma = 2.3283064365386963e-10 , MSE = 17.989556703005537\n",
      "sigma = 1448.1546878700494 , gamma = 4.656612873077393e-10 , MSE = 11.071321351314777\n",
      "sigma = 1448.1546878700494 , gamma = 9.313225746154785e-10 , MSE = 18.917484014290295\n",
      "sigma = 1448.1546878700494 , gamma = 1.862645149230957e-09 , MSE = 18.98273878107561\n",
      "sigma = 1448.1546878700494 , gamma = 3.725290298461914e-09 , MSE = 21.76546521224092\n",
      "sigma = 1448.1546878700494 , gamma = 7.450580596923828e-09 , MSE = 20.629134547699504\n"
     ]
    },
    {
     "name": "stderr",
     "output_type": "stream",
     "text": [
      "\n",
      " 62%|███████████████████████████████████████████████████                                | 8/13 [07:37<04:46, 57.24s/it]\u001b[A"
     ]
    },
    {
     "name": "stdout",
     "output_type": "stream",
     "text": [
      "sigma = 1448.1546878700494 , gamma = 1.4901161193847656e-08 , MSE = 24.180193776404828\n",
      "sigma = 2048.0 , gamma = 9.094947017729282e-13 , MSE = 38.962749923401034\n",
      "sigma = 2048.0 , gamma = 1.8189894035458565e-12 , MSE = 17.782028419701902\n",
      "sigma = 2048.0 , gamma = 3.637978807091713e-12 , MSE = 16.737258262264493\n",
      "sigma = 2048.0 , gamma = 7.275957614183426e-12 , MSE = 10.327626749583764\n",
      "sigma = 2048.0 , gamma = 1.4551915228366852e-11 , MSE = 10.579399342395774\n",
      "sigma = 2048.0 , gamma = 2.9103830456733704e-11 , MSE = 17.60788315969557\n",
      "sigma = 2048.0 , gamma = 5.820766091346741e-11 , MSE = 23.750804601664875\n",
      "sigma = 2048.0 , gamma = 1.1641532182693481e-10 , MSE = 13.819677413653341\n",
      "sigma = 2048.0 , gamma = 2.3283064365386963e-10 , MSE = 16.040198502015294\n",
      "sigma = 2048.0 , gamma = 4.656612873077393e-10 , MSE = 23.468093433932303\n",
      "sigma = 2048.0 , gamma = 9.313225746154785e-10 , MSE = 20.882131602268203\n",
      "sigma = 2048.0 , gamma = 1.862645149230957e-09 , MSE = 23.794955932513428\n",
      "sigma = 2048.0 , gamma = 3.725290298461914e-09 , MSE = 25.696640508793628\n",
      "sigma = 2048.0 , gamma = 7.450580596923828e-09 , MSE = 23.130187741795503\n"
     ]
    },
    {
     "name": "stderr",
     "output_type": "stream",
     "text": [
      "\n",
      " 69%|█████████████████████████████████████████████████████████▍                         | 9/13 [08:38<03:54, 58.50s/it]\u001b[A"
     ]
    },
    {
     "name": "stdout",
     "output_type": "stream",
     "text": [
      "sigma = 2048.0 , gamma = 1.4901161193847656e-08 , MSE = 24.17712487466117\n",
      "sigma = 2896.309375740099 , gamma = 9.094947017729282e-13 , MSE = 15.158364042501187\n",
      "sigma = 2896.309375740099 , gamma = 1.8189894035458565e-12 , MSE = 28.152523231204317\n",
      "sigma = 2896.309375740099 , gamma = 3.637978807091713e-12 , MSE = 19.85051903071486\n",
      "sigma = 2896.309375740099 , gamma = 7.275957614183426e-12 , MSE = 14.995469290099777\n",
      "sigma = 2896.309375740099 , gamma = 1.4551915228366852e-11 , MSE = 12.633613272054953\n",
      "sigma = 2896.309375740099 , gamma = 2.9103830456733704e-11 , MSE = 17.492048261457086\n",
      "sigma = 2896.309375740099 , gamma = 5.820766091346741e-11 , MSE = 17.48670311492061\n",
      "sigma = 2896.309375740099 , gamma = 1.1641532182693481e-10 , MSE = 17.453680170014806\n",
      "sigma = 2896.309375740099 , gamma = 2.3283064365386963e-10 , MSE = 21.19160406534612\n",
      "sigma = 2896.309375740099 , gamma = 4.656612873077393e-10 , MSE = 20.058404712042126\n",
      "sigma = 2896.309375740099 , gamma = 9.313225746154785e-10 , MSE = 21.3051008470376\n",
      "sigma = 2896.309375740099 , gamma = 1.862645149230957e-09 , MSE = 26.749170230367355\n",
      "sigma = 2896.309375740099 , gamma = 3.725290298461914e-09 , MSE = 26.31609317136087\n",
      "sigma = 2896.309375740099 , gamma = 7.450580596923828e-09 , MSE = 26.16832855064385\n"
     ]
    },
    {
     "name": "stderr",
     "output_type": "stream",
     "text": [
      "\n",
      " 77%|███████████████████████████████████████████████████████████████                   | 10/13 [09:41<02:59, 59.73s/it]\u001b[A"
     ]
    },
    {
     "name": "stdout",
     "output_type": "stream",
     "text": [
      "sigma = 2896.309375740099 , gamma = 1.4901161193847656e-08 , MSE = 24.729132392655494\n",
      "sigma = 4096.0 , gamma = 9.094947017729282e-13 , MSE = 13.574119524226608\n",
      "sigma = 4096.0 , gamma = 1.8189894035458565e-12 , MSE = 12.119742794248534\n",
      "sigma = 4096.0 , gamma = 3.637978807091713e-12 , MSE = 15.697813710480494\n",
      "sigma = 4096.0 , gamma = 7.275957614183426e-12 , MSE = 15.415712383730105\n",
      "sigma = 4096.0 , gamma = 1.4551915228366852e-11 , MSE = 14.495203796949596\n",
      "sigma = 4096.0 , gamma = 2.9103830456733704e-11 , MSE = 17.2376969311824\n",
      "sigma = 4096.0 , gamma = 5.820766091346741e-11 , MSE = 20.44824258669363\n",
      "sigma = 4096.0 , gamma = 1.1641532182693481e-10 , MSE = 20.987522989509497\n",
      "sigma = 4096.0 , gamma = 2.3283064365386963e-10 , MSE = 24.408701376908294\n",
      "sigma = 4096.0 , gamma = 4.656612873077393e-10 , MSE = 24.694924764560643\n",
      "sigma = 4096.0 , gamma = 9.313225746154785e-10 , MSE = 24.057660522714396\n",
      "sigma = 4096.0 , gamma = 1.862645149230957e-09 , MSE = 25.225113372351338\n",
      "sigma = 4096.0 , gamma = 3.725290298461914e-09 , MSE = 27.433220865547277\n",
      "sigma = 4096.0 , gamma = 7.450580596923828e-09 , MSE = 26.088539127259924\n"
     ]
    },
    {
     "name": "stderr",
     "output_type": "stream",
     "text": [
      "\n",
      " 85%|█████████████████████████████████████████████████████████████████████▍            | 11/13 [10:38<01:57, 58.89s/it]\u001b[A"
     ]
    },
    {
     "name": "stdout",
     "output_type": "stream",
     "text": [
      "sigma = 4096.0 , gamma = 1.4901161193847656e-08 , MSE = 26.388792925762743\n",
      "sigma = 5792.618751480198 , gamma = 9.094947017729282e-13 , MSE = 11.30014223235139\n",
      "sigma = 5792.618751480198 , gamma = 1.8189894035458565e-12 , MSE = 15.460007723643034\n",
      "sigma = 5792.618751480198 , gamma = 3.637978807091713e-12 , MSE = 16.996323454884042\n",
      "sigma = 5792.618751480198 , gamma = 7.275957614183426e-12 , MSE = 16.467627001267104\n",
      "sigma = 5792.618751480198 , gamma = 1.4551915228366852e-11 , MSE = 20.109062640444915\n",
      "sigma = 5792.618751480198 , gamma = 2.9103830456733704e-11 , MSE = 24.948828712611093\n",
      "sigma = 5792.618751480198 , gamma = 5.820766091346741e-11 , MSE = 22.54817192104247\n",
      "sigma = 5792.618751480198 , gamma = 1.1641532182693481e-10 , MSE = 23.068226395755477\n",
      "sigma = 5792.618751480198 , gamma = 2.3283064365386963e-10 , MSE = 26.139429575657413\n",
      "sigma = 5792.618751480198 , gamma = 4.656612873077393e-10 , MSE = 25.556606842372766\n",
      "sigma = 5792.618751480198 , gamma = 9.313225746154785e-10 , MSE = 30.29425229229807\n",
      "sigma = 5792.618751480198 , gamma = 1.862645149230957e-09 , MSE = 26.277487483819606\n",
      "sigma = 5792.618751480198 , gamma = 3.725290298461914e-09 , MSE = 25.923001254335286\n",
      "sigma = 5792.618751480198 , gamma = 7.450580596923828e-09 , MSE = 26.11763454239958\n"
     ]
    },
    {
     "name": "stderr",
     "output_type": "stream",
     "text": [
      "\n",
      " 92%|███████████████████████████████████████████████████████████████████████████▋      | 12/13 [11:35<00:58, 58.26s/it]\u001b[A"
     ]
    },
    {
     "name": "stdout",
     "output_type": "stream",
     "text": [
      "sigma = 5792.618751480198 , gamma = 1.4901161193847656e-08 , MSE = 29.276429530058998\n",
      "sigma = 8192.0 , gamma = 9.094947017729282e-13 , MSE = 17.500233520585223\n",
      "sigma = 8192.0 , gamma = 1.8189894035458565e-12 , MSE = 18.126730883025623\n",
      "sigma = 8192.0 , gamma = 3.637978807091713e-12 , MSE = 20.755639390182598\n",
      "sigma = 8192.0 , gamma = 7.275957614183426e-12 , MSE = 22.007816558627635\n",
      "sigma = 8192.0 , gamma = 1.4551915228366852e-11 , MSE = 22.435738902848563\n",
      "sigma = 8192.0 , gamma = 2.9103830456733704e-11 , MSE = 24.614644510615264\n",
      "sigma = 8192.0 , gamma = 5.820766091346741e-11 , MSE = 28.90906891348461\n",
      "sigma = 8192.0 , gamma = 1.1641532182693481e-10 , MSE = 24.68166982517599\n",
      "sigma = 8192.0 , gamma = 2.3283064365386963e-10 , MSE = 21.315200298294794\n",
      "sigma = 8192.0 , gamma = 4.656612873077393e-10 , MSE = 23.743907532407757\n",
      "sigma = 8192.0 , gamma = 9.313225746154785e-10 , MSE = 26.629031846882857\n",
      "sigma = 8192.0 , gamma = 1.862645149230957e-09 , MSE = 24.130287400762455\n",
      "sigma = 8192.0 , gamma = 3.725290298461914e-09 , MSE = 26.536353266464168\n",
      "sigma = 8192.0 , gamma = 7.450580596923828e-09 , MSE = 28.101557806399132\n"
     ]
    },
    {
     "name": "stderr",
     "output_type": "stream",
     "text": [
      "\n",
      "100%|██████████████████████████████████████████████████████████████████████████████████| 13/13 [12:31<00:00, 57.81s/it]\u001b[A"
     ]
    },
    {
     "name": "stdout",
     "output_type": "stream",
     "text": [
      "sigma = 8192.0 , gamma = 1.4901161193847656e-08 , MSE = 29.68658104086474\n"
     ]
    },
    {
     "name": "stderr",
     "output_type": "stream",
     "text": [
      "\n",
      " 95%|███████████████████████████████████████████████████████████████████████████    | 19/20 [4:06:37<12:35, 755.90s/it]\n",
      "  0%|                                                                                           | 0/13 [00:00<?, ?it/s]\u001b[A"
     ]
    },
    {
     "name": "stdout",
     "output_type": "stream",
     "text": [
      "[6.568859143068306, 13.260983860315767]\n",
      "sigma = 128.0 , gamma = 9.094947017729282e-13 , MSE = 2410.936989827856\n",
      "sigma = 128.0 , gamma = 1.8189894035458565e-12 , MSE = 616.964332780931\n",
      "sigma = 128.0 , gamma = 3.637978807091713e-12 , MSE = 1589.1271246523952\n",
      "sigma = 128.0 , gamma = 7.275957614183426e-12 , MSE = 511.05136663549865\n",
      "sigma = 128.0 , gamma = 1.4551915228366852e-11 , MSE = 1012.5974135274553\n",
      "sigma = 128.0 , gamma = 2.9103830456733704e-11 , MSE = 608.2172206929824\n",
      "sigma = 128.0 , gamma = 5.820766091346741e-11 , MSE = 493.8779945662889\n",
      "sigma = 128.0 , gamma = 1.1641532182693481e-10 , MSE = 387.16523395582306\n",
      "sigma = 128.0 , gamma = 2.3283064365386963e-10 , MSE = 181.19547211794404\n",
      "sigma = 128.0 , gamma = 4.656612873077393e-10 , MSE = 232.4329229759685\n",
      "sigma = 128.0 , gamma = 9.313225746154785e-10 , MSE = 55.30146448832312\n",
      "sigma = 128.0 , gamma = 1.862645149230957e-09 , MSE = 29.018126321218624\n",
      "sigma = 128.0 , gamma = 3.725290298461914e-09 , MSE = 46.04607907840573\n",
      "sigma = 128.0 , gamma = 7.450580596923828e-09 , MSE = 26.96686252370254\n"
     ]
    },
    {
     "name": "stderr",
     "output_type": "stream",
     "text": [
      "\n",
      "  8%|██████▍                                                                            | 1/13 [00:57<11:27, 57.28s/it]\u001b[A"
     ]
    },
    {
     "name": "stdout",
     "output_type": "stream",
     "text": [
      "sigma = 128.0 , gamma = 1.4901161193847656e-08 , MSE = 28.215304933971574\n",
      "sigma = 181.01933598375618 , gamma = 9.094947017729282e-13 , MSE = 1758.5867288549853\n",
      "sigma = 181.01933598375618 , gamma = 1.8189894035458565e-12 , MSE = 3314.3497087412557\n",
      "sigma = 181.01933598375618 , gamma = 3.637978807091713e-12 , MSE = 2215.0781946658904\n",
      "sigma = 181.01933598375618 , gamma = 7.275957614183426e-12 , MSE = 645.9288118652879\n",
      "sigma = 181.01933598375618 , gamma = 1.4551915228366852e-11 , MSE = 450.03242186858523\n",
      "sigma = 181.01933598375618 , gamma = 2.9103830456733704e-11 , MSE = 236.45850776255583\n",
      "sigma = 181.01933598375618 , gamma = 5.820766091346741e-11 , MSE = 80.30471763953797\n",
      "sigma = 181.01933598375618 , gamma = 1.1641532182693481e-10 , MSE = 60.384869674629314\n",
      "sigma = 181.01933598375618 , gamma = 2.3283064365386963e-10 , MSE = 54.56584235906722\n",
      "sigma = 181.01933598375618 , gamma = 4.656612873077393e-10 , MSE = 48.978486514077645\n",
      "sigma = 181.01933598375618 , gamma = 9.313225746154785e-10 , MSE = 25.8984173133431\n",
      "sigma = 181.01933598375618 , gamma = 1.862645149230957e-09 , MSE = 25.552617470259086\n",
      "sigma = 181.01933598375618 , gamma = 3.725290298461914e-09 , MSE = 20.260185570610552\n",
      "sigma = 181.01933598375618 , gamma = 7.450580596923828e-09 , MSE = 20.10236571495017\n"
     ]
    },
    {
     "name": "stderr",
     "output_type": "stream",
     "text": [
      "\n",
      " 15%|████████████▊                                                                      | 2/13 [01:54<10:27, 57.09s/it]\u001b[A"
     ]
    },
    {
     "name": "stdout",
     "output_type": "stream",
     "text": [
      "sigma = 181.01933598375618 , gamma = 1.4901161193847656e-08 , MSE = 17.1561910221077\n",
      "sigma = 256.0 , gamma = 9.094947017729282e-13 , MSE = 868.5509007984105\n",
      "sigma = 256.0 , gamma = 1.8189894035458565e-12 , MSE = 947.8251357307967\n",
      "sigma = 256.0 , gamma = 3.637978807091713e-12 , MSE = 184.31530857524373\n",
      "sigma = 256.0 , gamma = 7.275957614183426e-12 , MSE = 228.26950027659367\n",
      "sigma = 256.0 , gamma = 1.4551915228366852e-11 , MSE = 89.8739927065196\n",
      "sigma = 256.0 , gamma = 2.9103830456733704e-11 , MSE = 81.96375391292125\n",
      "sigma = 256.0 , gamma = 5.820766091346741e-11 , MSE = 48.908202451339534\n",
      "sigma = 256.0 , gamma = 1.1641532182693481e-10 , MSE = 34.92010699138045\n",
      "sigma = 256.0 , gamma = 2.3283064365386963e-10 , MSE = 29.85959102621207\n",
      "sigma = 256.0 , gamma = 4.656612873077393e-10 , MSE = 26.394181594652093\n",
      "sigma = 256.0 , gamma = 9.313225746154785e-10 , MSE = 15.834479472143613\n",
      "sigma = 256.0 , gamma = 1.862645149230957e-09 , MSE = 15.24466027724505\n",
      "sigma = 256.0 , gamma = 3.725290298461914e-09 , MSE = 21.810281192053075\n",
      "sigma = 256.0 , gamma = 7.450580596923828e-09 , MSE = 13.280725111688401\n"
     ]
    },
    {
     "name": "stderr",
     "output_type": "stream",
     "text": [
      "\n",
      " 23%|███████████████████▏                                                               | 3/13 [02:51<09:31, 57.16s/it]\u001b[A"
     ]
    },
    {
     "name": "stdout",
     "output_type": "stream",
     "text": [
      "sigma = 256.0 , gamma = 1.4901161193847656e-08 , MSE = 14.90794337341141\n",
      "sigma = 362.03867196751236 , gamma = 9.094947017729282e-13 , MSE = 228.90991102755953\n",
      "sigma = 362.03867196751236 , gamma = 1.8189894035458565e-12 , MSE = 228.40648137618595\n",
      "sigma = 362.03867196751236 , gamma = 3.637978807091713e-12 , MSE = 64.53862711921435\n",
      "sigma = 362.03867196751236 , gamma = 7.275957614183426e-12 , MSE = 1407.345013740792\n",
      "sigma = 362.03867196751236 , gamma = 1.4551915228366852e-11 , MSE = 32.238423200981096\n",
      "sigma = 362.03867196751236 , gamma = 2.9103830456733704e-11 , MSE = 54.248867436860834\n",
      "sigma = 362.03867196751236 , gamma = 5.820766091346741e-11 , MSE = 16.887747836503564\n",
      "sigma = 362.03867196751236 , gamma = 1.1641532182693481e-10 , MSE = 17.809761935511187\n",
      "sigma = 362.03867196751236 , gamma = 2.3283064365386963e-10 , MSE = 16.490346596043942\n",
      "sigma = 362.03867196751236 , gamma = 4.656612873077393e-10 , MSE = 21.14369697568103\n",
      "sigma = 362.03867196751236 , gamma = 9.313225746154785e-10 , MSE = 18.352733439776067\n",
      "sigma = 362.03867196751236 , gamma = 1.862645149230957e-09 , MSE = 14.239826560849172\n",
      "sigma = 362.03867196751236 , gamma = 3.725290298461914e-09 , MSE = 13.582646515793133\n",
      "sigma = 362.03867196751236 , gamma = 7.450580596923828e-09 , MSE = 15.282633782916168\n"
     ]
    },
    {
     "name": "stderr",
     "output_type": "stream",
     "text": [
      "\n",
      " 31%|█████████████████████████▌                                                         | 4/13 [03:49<08:37, 57.53s/it]\u001b[A"
     ]
    },
    {
     "name": "stdout",
     "output_type": "stream",
     "text": [
      "sigma = 362.03867196751236 , gamma = 1.4901161193847656e-08 , MSE = 16.409394360169625\n",
      "sigma = 512.0 , gamma = 9.094947017729282e-13 , MSE = 42.54701537364116\n",
      "sigma = 512.0 , gamma = 1.8189894035458565e-12 , MSE = 20.94323051482953\n",
      "sigma = 512.0 , gamma = 3.637978807091713e-12 , MSE = 34.35320307524116\n",
      "sigma = 512.0 , gamma = 7.275957614183426e-12 , MSE = 26.830069647946324\n",
      "sigma = 512.0 , gamma = 1.4551915228366852e-11 , MSE = 31.161042679191304\n",
      "sigma = 512.0 , gamma = 2.9103830456733704e-11 , MSE = 21.540473818778267\n",
      "sigma = 512.0 , gamma = 5.820766091346741e-11 , MSE = 16.660083849330704\n",
      "sigma = 512.0 , gamma = 1.1641532182693481e-10 , MSE = 46.81682487390473\n",
      "sigma = 512.0 , gamma = 2.3283064365386963e-10 , MSE = 15.548169748162417\n",
      "sigma = 512.0 , gamma = 4.656612873077393e-10 , MSE = 14.429683961865862\n",
      "sigma = 512.0 , gamma = 9.313225746154785e-10 , MSE = 14.168482904340134\n",
      "sigma = 512.0 , gamma = 1.862645149230957e-09 , MSE = 19.974190169856826\n",
      "sigma = 512.0 , gamma = 3.725290298461914e-09 , MSE = 14.207015969586141\n",
      "sigma = 512.0 , gamma = 7.450580596923828e-09 , MSE = 12.837421646804856\n"
     ]
    },
    {
     "name": "stderr",
     "output_type": "stream",
     "text": [
      "\n",
      " 38%|███████████████████████████████▉                                                   | 5/13 [04:45<07:36, 57.10s/it]\u001b[A"
     ]
    },
    {
     "name": "stdout",
     "output_type": "stream",
     "text": [
      "sigma = 512.0 , gamma = 1.4901161193847656e-08 , MSE = 12.705435363125414\n",
      "sigma = 724.0773439350247 , gamma = 9.094947017729282e-13 , MSE = 31.10206102172637\n",
      "sigma = 724.0773439350247 , gamma = 1.8189894035458565e-12 , MSE = 21.898394194717604\n",
      "sigma = 724.0773439350247 , gamma = 3.637978807091713e-12 , MSE = 14.767556270531978\n",
      "sigma = 724.0773439350247 , gamma = 7.275957614183426e-12 , MSE = 15.267745606038483\n",
      "sigma = 724.0773439350247 , gamma = 1.4551915228366852e-11 , MSE = 28.369811371346067\n",
      "sigma = 724.0773439350247 , gamma = 2.9103830456733704e-11 , MSE = 18.72194378369722\n",
      "sigma = 724.0773439350247 , gamma = 5.820766091346741e-11 , MSE = 13.160746515368112\n",
      "sigma = 724.0773439350247 , gamma = 1.1641532182693481e-10 , MSE = 16.2499524910148\n",
      "sigma = 724.0773439350247 , gamma = 2.3283064365386963e-10 , MSE = 12.826764822438747\n",
      "sigma = 724.0773439350247 , gamma = 4.656612873077393e-10 , MSE = 12.036934693348302\n",
      "sigma = 724.0773439350247 , gamma = 9.313225746154785e-10 , MSE = 11.05305972147283\n",
      "sigma = 724.0773439350247 , gamma = 1.862645149230957e-09 , MSE = 13.572513235642697\n",
      "sigma = 724.0773439350247 , gamma = 3.725290298461914e-09 , MSE = 13.57093405241486\n",
      "sigma = 724.0773439350247 , gamma = 7.450580596923828e-09 , MSE = 14.342242510298046\n"
     ]
    },
    {
     "name": "stderr",
     "output_type": "stream",
     "text": [
      "\n",
      " 46%|██████████████████████████████████████▎                                            | 6/13 [05:43<06:41, 57.38s/it]\u001b[A"
     ]
    },
    {
     "name": "stdout",
     "output_type": "stream",
     "text": [
      "sigma = 724.0773439350247 , gamma = 1.4901161193847656e-08 , MSE = 17.08840602445274\n",
      "sigma = 1024.0 , gamma = 9.094947017729282e-13 , MSE = 17.143812657170134\n",
      "sigma = 1024.0 , gamma = 1.8189894035458565e-12 , MSE = 14.958962105058996\n",
      "sigma = 1024.0 , gamma = 3.637978807091713e-12 , MSE = 18.059516612167055\n",
      "sigma = 1024.0 , gamma = 7.275957614183426e-12 , MSE = 15.649739451235964\n",
      "sigma = 1024.0 , gamma = 1.4551915228366852e-11 , MSE = 22.901702765330462\n",
      "sigma = 1024.0 , gamma = 2.9103830456733704e-11 , MSE = 15.532596081609645\n",
      "sigma = 1024.0 , gamma = 5.820766091346741e-11 , MSE = 12.823507201679655\n",
      "sigma = 1024.0 , gamma = 1.1641532182693481e-10 , MSE = 12.094220970725639\n",
      "sigma = 1024.0 , gamma = 2.3283064365386963e-10 , MSE = 17.56687975612248\n",
      "sigma = 1024.0 , gamma = 4.656612873077393e-10 , MSE = 21.219334361702188\n",
      "sigma = 1024.0 , gamma = 9.313225746154785e-10 , MSE = 12.422699443861934\n",
      "sigma = 1024.0 , gamma = 1.862645149230957e-09 , MSE = 11.284785994824748\n",
      "sigma = 1024.0 , gamma = 3.725290298461914e-09 , MSE = 16.351986533311347\n",
      "sigma = 1024.0 , gamma = 7.450580596923828e-09 , MSE = 17.413975684814886\n"
     ]
    },
    {
     "name": "stderr",
     "output_type": "stream",
     "text": [
      "\n",
      " 54%|████████████████████████████████████████████▋                                      | 7/13 [06:41<05:44, 57.35s/it]\u001b[A"
     ]
    },
    {
     "name": "stdout",
     "output_type": "stream",
     "text": [
      "sigma = 1024.0 , gamma = 1.4901161193847656e-08 , MSE = 23.826789133841935\n",
      "sigma = 1448.1546878700494 , gamma = 9.094947017729282e-13 , MSE = 15.384010653698954\n",
      "sigma = 1448.1546878700494 , gamma = 1.8189894035458565e-12 , MSE = 15.57623103996213\n",
      "sigma = 1448.1546878700494 , gamma = 3.637978807091713e-12 , MSE = 51.49541667348552\n",
      "sigma = 1448.1546878700494 , gamma = 7.275957614183426e-12 , MSE = 31.78289501376924\n",
      "sigma = 1448.1546878700494 , gamma = 1.4551915228366852e-11 , MSE = 14.366065944955205\n",
      "sigma = 1448.1546878700494 , gamma = 2.9103830456733704e-11 , MSE = 14.468920061891007\n",
      "sigma = 1448.1546878700494 , gamma = 5.820766091346741e-11 , MSE = 12.651877604315063\n",
      "sigma = 1448.1546878700494 , gamma = 1.1641532182693481e-10 , MSE = 13.636727426137792\n",
      "sigma = 1448.1546878700494 , gamma = 2.3283064365386963e-10 , MSE = 12.846450673360902\n",
      "sigma = 1448.1546878700494 , gamma = 4.656612873077393e-10 , MSE = 13.445351828170498\n",
      "sigma = 1448.1546878700494 , gamma = 9.313225746154785e-10 , MSE = 17.01042915655362\n",
      "sigma = 1448.1546878700494 , gamma = 1.862645149230957e-09 , MSE = 22.08799678575573\n",
      "sigma = 1448.1546878700494 , gamma = 3.725290298461914e-09 , MSE = 22.69024924164022\n",
      "sigma = 1448.1546878700494 , gamma = 7.450580596923828e-09 , MSE = 25.210705859543133\n"
     ]
    },
    {
     "name": "stderr",
     "output_type": "stream",
     "text": [
      "\n",
      " 62%|███████████████████████████████████████████████████                                | 8/13 [07:39<04:48, 57.63s/it]\u001b[A"
     ]
    },
    {
     "name": "stdout",
     "output_type": "stream",
     "text": [
      "sigma = 1448.1546878700494 , gamma = 1.4901161193847656e-08 , MSE = 20.438794928854694\n",
      "sigma = 2048.0 , gamma = 9.094947017729282e-13 , MSE = 14.794573230931354\n",
      "sigma = 2048.0 , gamma = 1.8189894035458565e-12 , MSE = 17.406335227508208\n",
      "sigma = 2048.0 , gamma = 3.637978807091713e-12 , MSE = 12.453172965244432\n",
      "sigma = 2048.0 , gamma = 7.275957614183426e-12 , MSE = 15.226685968407145\n",
      "sigma = 2048.0 , gamma = 1.4551915228366852e-11 , MSE = 12.617788390254857\n",
      "sigma = 2048.0 , gamma = 2.9103830456733704e-11 , MSE = 12.29190842039527\n",
      "sigma = 2048.0 , gamma = 5.820766091346741e-11 , MSE = 13.806469563239528\n",
      "sigma = 2048.0 , gamma = 1.1641532182693481e-10 , MSE = 11.724130365563976\n",
      "sigma = 2048.0 , gamma = 2.3283064365386963e-10 , MSE = 14.206557613572892\n",
      "sigma = 2048.0 , gamma = 4.656612873077393e-10 , MSE = 22.211811828871436\n",
      "sigma = 2048.0 , gamma = 9.313225746154785e-10 , MSE = 19.221951241483048\n",
      "sigma = 2048.0 , gamma = 1.862645149230957e-09 , MSE = 20.479179315451102\n",
      "sigma = 2048.0 , gamma = 3.725290298461914e-09 , MSE = 25.565428479297115\n",
      "sigma = 2048.0 , gamma = 7.450580596923828e-09 , MSE = 24.54885584054174\n"
     ]
    },
    {
     "name": "stderr",
     "output_type": "stream",
     "text": [
      "\n",
      " 69%|█████████████████████████████████████████████████████████▍                         | 9/13 [08:36<03:50, 57.59s/it]\u001b[A"
     ]
    },
    {
     "name": "stdout",
     "output_type": "stream",
     "text": [
      "sigma = 2048.0 , gamma = 1.4901161193847656e-08 , MSE = 22.887747536304367\n",
      "sigma = 2896.309375740099 , gamma = 9.094947017729282e-13 , MSE = 20.26216389323194\n",
      "sigma = 2896.309375740099 , gamma = 1.8189894035458565e-12 , MSE = 11.841485806175033\n",
      "sigma = 2896.309375740099 , gamma = 3.637978807091713e-12 , MSE = 11.020867676777808\n",
      "sigma = 2896.309375740099 , gamma = 7.275957614183426e-12 , MSE = 12.167106096676665\n",
      "sigma = 2896.309375740099 , gamma = 1.4551915228366852e-11 , MSE = 11.985096139025211\n",
      "sigma = 2896.309375740099 , gamma = 2.9103830456733704e-11 , MSE = 15.560583874027099\n",
      "sigma = 2896.309375740099 , gamma = 5.820766091346741e-11 , MSE = 13.001051437151386\n",
      "sigma = 2896.309375740099 , gamma = 1.1641532182693481e-10 , MSE = 17.86734448549701\n",
      "sigma = 2896.309375740099 , gamma = 2.3283064365386963e-10 , MSE = 18.162524806441365\n",
      "sigma = 2896.309375740099 , gamma = 4.656612873077393e-10 , MSE = 21.249215752421684\n",
      "sigma = 2896.309375740099 , gamma = 9.313225746154785e-10 , MSE = 22.02937210341171\n",
      "sigma = 2896.309375740099 , gamma = 1.862645149230957e-09 , MSE = 28.877717646396007\n",
      "sigma = 2896.309375740099 , gamma = 3.725290298461914e-09 , MSE = 21.79444009432373\n",
      "sigma = 2896.309375740099 , gamma = 7.450580596923828e-09 , MSE = 25.79906037931638\n"
     ]
    },
    {
     "name": "stderr",
     "output_type": "stream",
     "text": [
      "\n",
      " 77%|███████████████████████████████████████████████████████████████                   | 10/13 [09:34<02:52, 57.50s/it]\u001b[A"
     ]
    },
    {
     "name": "stdout",
     "output_type": "stream",
     "text": [
      "sigma = 2896.309375740099 , gamma = 1.4901161193847656e-08 , MSE = 24.710094142532576\n",
      "sigma = 4096.0 , gamma = 9.094947017729282e-13 , MSE = 15.295761634341897\n",
      "sigma = 4096.0 , gamma = 1.8189894035458565e-12 , MSE = 26.763810926127896\n",
      "sigma = 4096.0 , gamma = 3.637978807091713e-12 , MSE = 13.199400853106647\n",
      "sigma = 4096.0 , gamma = 7.275957614183426e-12 , MSE = 12.859036034956569\n",
      "sigma = 4096.0 , gamma = 1.4551915228366852e-11 , MSE = 14.359205695422256\n",
      "sigma = 4096.0 , gamma = 2.9103830456733704e-11 , MSE = 17.70970676194039\n",
      "sigma = 4096.0 , gamma = 5.820766091346741e-11 , MSE = 19.155016805632112\n",
      "sigma = 4096.0 , gamma = 1.1641532182693481e-10 , MSE = 23.941863045839057\n",
      "sigma = 4096.0 , gamma = 2.3283064365386963e-10 , MSE = 22.855351071871524\n",
      "sigma = 4096.0 , gamma = 4.656612873077393e-10 , MSE = 23.178788682042146\n",
      "sigma = 4096.0 , gamma = 9.313225746154785e-10 , MSE = 23.30311566322688\n",
      "sigma = 4096.0 , gamma = 1.862645149230957e-09 , MSE = 28.020668331535212\n",
      "sigma = 4096.0 , gamma = 3.725290298461914e-09 , MSE = 24.06962867975123\n",
      "sigma = 4096.0 , gamma = 7.450580596923828e-09 , MSE = 25.27065585514735\n"
     ]
    },
    {
     "name": "stderr",
     "output_type": "stream",
     "text": [
      "\n",
      " 85%|█████████████████████████████████████████████████████████████████████▍            | 11/13 [10:31<01:54, 57.45s/it]\u001b[A"
     ]
    },
    {
     "name": "stdout",
     "output_type": "stream",
     "text": [
      "sigma = 4096.0 , gamma = 1.4901161193847656e-08 , MSE = 28.876447858117178\n",
      "sigma = 5792.618751480198 , gamma = 9.094947017729282e-13 , MSE = 12.875734599809608\n",
      "sigma = 5792.618751480198 , gamma = 1.8189894035458565e-12 , MSE = 12.878089665730306\n",
      "sigma = 5792.618751480198 , gamma = 3.637978807091713e-12 , MSE = 17.255062698660275\n",
      "sigma = 5792.618751480198 , gamma = 7.275957614183426e-12 , MSE = 17.468072259649183\n",
      "sigma = 5792.618751480198 , gamma = 1.4551915228366852e-11 , MSE = 16.032552297641676\n",
      "sigma = 5792.618751480198 , gamma = 2.9103830456733704e-11 , MSE = 25.380073730656772\n",
      "sigma = 5792.618751480198 , gamma = 5.820766091346741e-11 , MSE = 22.59773568519625\n",
      "sigma = 5792.618751480198 , gamma = 1.1641532182693481e-10 , MSE = 24.32903289013069\n",
      "sigma = 5792.618751480198 , gamma = 2.3283064365386963e-10 , MSE = 27.033228919786772\n",
      "sigma = 5792.618751480198 , gamma = 4.656612873077393e-10 , MSE = 28.576989192293105\n",
      "sigma = 5792.618751480198 , gamma = 9.313225746154785e-10 , MSE = 22.9716530407477\n",
      "sigma = 5792.618751480198 , gamma = 1.862645149230957e-09 , MSE = 20.46118598397125\n",
      "sigma = 5792.618751480198 , gamma = 3.725290298461914e-09 , MSE = 23.61764415707863\n",
      "sigma = 5792.618751480198 , gamma = 7.450580596923828e-09 , MSE = 23.36609495824346\n"
     ]
    },
    {
     "name": "stderr",
     "output_type": "stream",
     "text": [
      "\n",
      " 92%|███████████████████████████████████████████████████████████████████████████▋      | 12/13 [11:28<00:57, 57.39s/it]\u001b[A"
     ]
    },
    {
     "name": "stdout",
     "output_type": "stream",
     "text": [
      "sigma = 5792.618751480198 , gamma = 1.4901161193847656e-08 , MSE = 21.73370408389811\n",
      "sigma = 8192.0 , gamma = 9.094947017729282e-13 , MSE = 17.646520198761372\n",
      "sigma = 8192.0 , gamma = 1.8189894035458565e-12 , MSE = 14.748708527116628\n",
      "sigma = 8192.0 , gamma = 3.637978807091713e-12 , MSE = 15.917353205813702\n",
      "sigma = 8192.0 , gamma = 7.275957614183426e-12 , MSE = 24.389462191530765\n",
      "sigma = 8192.0 , gamma = 1.4551915228366852e-11 , MSE = 21.29503408137101\n",
      "sigma = 8192.0 , gamma = 2.9103830456733704e-11 , MSE = 25.712783574874738\n",
      "sigma = 8192.0 , gamma = 5.820766091346741e-11 , MSE = 25.36054841172534\n",
      "sigma = 8192.0 , gamma = 1.1641532182693481e-10 , MSE = 26.7355806336907\n",
      "sigma = 8192.0 , gamma = 2.3283064365386963e-10 , MSE = 24.294022312005406\n",
      "sigma = 8192.0 , gamma = 4.656612873077393e-10 , MSE = 25.82200329497844\n",
      "sigma = 8192.0 , gamma = 9.313225746154785e-10 , MSE = 23.409656281480647\n",
      "sigma = 8192.0 , gamma = 1.862645149230957e-09 , MSE = 21.813976164267604\n",
      "sigma = 8192.0 , gamma = 3.725290298461914e-09 , MSE = 23.47923903674243\n",
      "sigma = 8192.0 , gamma = 7.450580596923828e-09 , MSE = 27.05205132619062\n"
     ]
    },
    {
     "name": "stderr",
     "output_type": "stream",
     "text": [
      "\n",
      "100%|██████████████████████████████████████████████████████████████████████████████████| 13/13 [12:25<00:00, 57.37s/it]\u001b[A"
     ]
    },
    {
     "name": "stdout",
     "output_type": "stream",
     "text": [
      "sigma = 8192.0 , gamma = 1.4901161193847656e-08 , MSE = 26.500276350251795\n"
     ]
    },
    {
     "name": "stderr",
     "output_type": "stream",
     "text": [
      "\n",
      "100%|███████████████████████████████████████████████████████████████████████████████| 20/20 [4:19:07<00:00, 777.40s/it]"
     ]
    },
    {
     "name": "stdout",
     "output_type": "stream",
     "text": [
      "[8.039548459309772, 13.115693862976954]\n",
      "Method                              MSE train    MSE test\n",
      "----------------------------------  -----------  -----------\n",
      "Naive Regression                    84.12±5.52   85.29±10.86\n",
      "Linear Regression (attribute 1)     70.82±4.43   74.36±9.00\n",
      "Linear Regression (attribute 2)     71.97±4.04   76.76±8.05\n",
      "Linear Regression (attribute 3)     65.31±4.65   63.77±9.40\n",
      "Linear Regression (attribute 4)     81.36±5.67   83.20±11.41\n",
      "Linear Regression (attribute 5)     69.27±4.76   68.79±9.50\n",
      "Linear Regression (attribute 6)     44.17±4.04   43.02±8.10\n",
      "Linear Regression (attribute 7)     71.10±4.95   75.54±10.04\n",
      "Linear Regression (attribute 8)     79.77±4.22   78.23±8.33\n",
      "Linear Regression (attribute 9)     72.94±5.18   71.04±10.43\n",
      "Linear Regression (attribute 10)    66.06±3.35   65.95±6.77\n",
      "Linear Regression (attribute 11)    62.05±4.70   64.31±9.50\n",
      "Linear Regression (attribute 12)    37.98±2.54   39.85±5.22\n",
      "Linear Regression (all attributes)  21.66±2.50   25.50±5.40\n",
      "Kernel Ridge Regression             8.94±1.62    12.65±1.79\n"
     ]
    },
    {
     "name": "stderr",
     "output_type": "stream",
     "text": [
      "\n"
     ]
    }
   ],
   "source": [
    "np.random.seed(0)\n",
    "\n",
    "data = []\n",
    "\n",
    "means, stds = evaluate_model(df, naive_regression, 20)\n",
    "data.append(['Naive Regression', f\"{'{:.2f}'.format(means[0],2)}±{'{:.2f}'.format(stds[0],2)}\", f\"{'{:.2f}'.format(means[1],2)}±{'{:.2f}'.format(stds[1],2)}\"])\n",
    "\n",
    "for i in range(len(df.columns[:-1])):\n",
    "    df_sub = df[[df.columns[i],'MEDV']].copy()\n",
    "    means, stds = evaluate_model(df_sub, linear_regression, 20)\n",
    "    data.append([f'Linear Regression (attribute {i+1})', f\"{'{:.2f}'.format(means[0],2)}±{'{:.2f}'.format(stds[0],2)}\", f\"{'{:.2f}'.format(means[1],2)}±{'{:.2f}'.format(stds[1],2)}\"])\n",
    "    \n",
    "means, stds = evaluate_model(df, linear_regression, 20)\n",
    "data.append(['Linear Regression (all attributes)', f\"{'{:.2f}'.format(means[0],2)}±{'{:.2f}'.format(stds[0],2)}\", f\"{'{:.2f}'.format(means[1],2)}±{'{:.2f}'.format(stds[1],2)}\"])\n",
    "\n",
    "means, stds = evaluate_model(df, kernelised_ridge_regression, 20)\n",
    "data.append(['Kernel Ridge Regression', f\"{'{:.2f}'.format(means[0],2)}±{'{:.2f}'.format(stds[0],2)}\", f\"{'{:.2f}'.format(means[1],2)}±{'{:.2f}'.format(stds[1],2)}\"])\n",
    "\n",
    "print(tabulate(data, headers=[\"Method\", \"MSE train\", \"MSE test\"]))"
   ]
  }
 ],
 "metadata": {
  "kernelspec": {
   "display_name": "Python 3",
   "language": "python",
   "name": "python3"
  },
  "language_info": {
   "codemirror_mode": {
    "name": "ipython",
    "version": 3
   },
   "file_extension": ".py",
   "mimetype": "text/x-python",
   "name": "python",
   "nbconvert_exporter": "python",
   "pygments_lexer": "ipython3",
   "version": "3.8.5"
  }
 },
 "nbformat": 4,
 "nbformat_minor": 4
}
