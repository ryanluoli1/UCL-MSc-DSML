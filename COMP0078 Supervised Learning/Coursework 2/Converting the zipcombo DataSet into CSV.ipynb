{
 "cells": [
  {
   "cell_type": "markdown",
   "metadata": {},
   "source": [
    "# Converting the zipcombo DataSet into CSV"
   ]
  },
  {
   "cell_type": "code",
   "execution_count": 45,
   "metadata": {},
   "outputs": [],
   "source": [
    "import numpy as np\n",
    "import pandas as pd\n",
    "\n",
    "import seaborn as sns\n",
    "import matplotlib.pyplot as plt"
   ]
  },
  {
   "cell_type": "code",
   "execution_count": 44,
   "metadata": {},
   "outputs": [],
   "source": [
    "file = open('zipcombo.dat', 'r')         #open the zipcombo.dat file\n",
    "\n",
    "data = np.array([])\n",
    "\n",
    "row = 0\n",
    "for line in file.readlines():            #each line corresponds to one sample\n",
    "    elements = line.split(\" \")           #feature are seperated by blanks\n",
    "    elements = elements[:-1]             #remove the \\n at the end\n",
    "    elements = np.array(elements, dtype=float)\n",
    "    data = np.append(data, elements)\n",
    "    row += 1\n",
    "file.close()                             #close the file\n",
    "\n",
    "col = len(elements)\n",
    "data = data.reshape(row, col)            #reshape the dataset\n",
    "df = pd.DataFrame(data=data)             #store the data in a dataframe\n",
    "df = df.rename(columns={0: 'label'})\n",
    "df.to_csv(index=False)\n",
    "df.to_csv('zipcombo.csv', index=False)   #save the dataframe as a csv file"
   ]
  }
 ],
 "metadata": {
  "kernelspec": {
   "display_name": "Python 3",
   "language": "python",
   "name": "python3"
  },
  "language_info": {
   "codemirror_mode": {
    "name": "ipython",
    "version": 3
   },
   "file_extension": ".py",
   "mimetype": "text/x-python",
   "name": "python",
   "nbconvert_exporter": "python",
   "pygments_lexer": "ipython3",
   "version": "3.8.5"
  }
 },
 "nbformat": 4,
 "nbformat_minor": 4
}
